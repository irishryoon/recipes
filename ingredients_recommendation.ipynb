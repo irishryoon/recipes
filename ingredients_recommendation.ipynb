{
 "cells": [
  {
   "cell_type": "markdown",
   "metadata": {},
   "source": [
    "# Cooking ingredients recommendation\n",
    "This notebook builds a recommendation system for cooking ingredients using. The end goal is to build a recommendation system that takes as input a list of existing ingredients and outputs a collection of ingredients that would go well with the existing ingredients. \n",
    "\n",
    "<b> Notebook contents </b>\n",
    "0. load and clean data  \n",
    "1. Preliminary analysis\n",
    "2. Non-negative matrix factorizations\n",
    "3. Word-embeddings\n",
    "4. Association rule mining    \n",
    "5. Future directions / To Do \n",
    "\n",
    "***NOTE:*** *This is project is in progress.*\n",
    "\n"
   ]
  },
  {
   "cell_type": "code",
   "execution_count": 1,
   "metadata": {},
   "outputs": [],
   "source": [
    "import sys\n",
    "sys.path.append('/usr/local/lib/python3.7/site-packages')"
   ]
  },
  {
   "cell_type": "code",
   "execution_count": 2,
   "metadata": {
    "colab": {},
    "colab_type": "code",
    "id": "SBNyXAdi--WO",
    "scrolled": true
   },
   "outputs": [],
   "source": [
    "import pandas as pd\n",
    "import numpy as np\n",
    "import re\n",
    "import random\n",
    "import ijson\n",
    "import ast \n",
    "import csv\n",
    "import statistics\n",
    "import time\n",
    "from itertools import combinations\n",
    "\n",
    "\n",
    "from sklearn.decomposition import NMF\n",
    "from sklearn.decomposition import PCA\n",
    "from collections import Counter \n",
    " \n",
    "import matplotlib.pyplot as plt\n",
    "from matplotlib import style\n",
    "plt.style.use('ggplot')\n",
    "\n",
    "import os\n",
    "import pickle\n",
    "import h5py\n",
    "import gensim\n",
    "from gensim.models import Word2Vec\n",
    "from gensim.models.nmf import Nmf\n",
    "from gensim.corpora import Dictionary\n",
    "\n",
    "from efficient_apriori import apriori"
   ]
  },
  {
   "cell_type": "markdown",
   "metadata": {
    "colab_type": "text",
    "heading_collapsed": true,
    "id": "yqeErat1o-kB"
   },
   "source": [
    "# 0. Load & clean data    "
   ]
  },
  {
   "cell_type": "markdown",
   "metadata": {
    "hidden": true
   },
   "source": [
    "* data: <a href=\"https://www.kaggle.com/kaggle/recipe-ingredients-dataset/\">recipe-ingredients dataset</a> from Kaggle. The dataset was part of a competition for predicting the cuisine type given ingredients list. \n",
    "* I chose this dataset because I wanted my recommender system to address questions like \"How do I cook my chicken in Indian style? Korean style?  \n",
    "* I used just the training data of this dataset. If one was interested in building a recommender system for ingredients without considering the cuisine, one could use both the training and testing set of the Kaggle dataset. One can also extend the dataset by combining with other sources of recipe data  \n",
    "* For example, the \"recipes\" notebook uses a different dataset. Note that that particular dataset requires more involved text cleaning process than the kaggle dataset\n",
    "\n",
    "<b> Contents </b>  \n",
    "(a) Cleanup text  \n",
    "(b) Remove \"stop words\"  \n",
    "(c) Create documents that contain both the list of ingredients and cuisine type  "
   ]
  },
  {
   "cell_type": "markdown",
   "metadata": {
    "hidden": true
   },
   "source": [
    "<b> (a) Cleanup text </b>  \n",
    "* Cleanups performed\n",
    "    * Remove parentheses and characters between parentheses. This removes quantity information. ex) \" (2 oz. ) tomato sauce\"\n",
    "    * Convert all strings into lowercase letters  \n",
    "    * Replace spaces with underscore _   \n",
    " \n",
    "* Remaining issues with the data after cleanup step\n",
    "    * Some ingredients contain brand names of the ingredients.  \n",
    "    * Some ingredients contain non-alphabet characters. Many of them seem to come from brand names.   \n",
    "    * Some ingredients contain cooking instructions. Example: \"spinach, thawed and squeezed dry\"  "
   ]
  },
  {
   "cell_type": "code",
   "execution_count": 2,
   "metadata": {
    "colab": {},
    "colab_type": "code",
    "hidden": true,
    "id": "I0gMrCjopD22"
   },
   "outputs": [],
   "source": [
    "# load data\n",
    "file_name = 'data/recipe-ingredients-dataset/train.json'\n",
    "\n",
    "with open(file_name, 'r') as f:\n",
    "    objects = ijson.items(f, 'item')\n",
    "    data = list(objects)\n",
    "\n",
    "df = pd.DataFrame(data)"
   ]
  },
  {
   "cell_type": "code",
   "execution_count": 3,
   "metadata": {
    "hidden": true
   },
   "outputs": [
    {
     "name": "stdout",
     "output_type": "stream",
     "text": [
      "Example ingredients\n",
      "['(    oz.) tomato sauce' '(   oz.) tomato paste'\n",
      " '(10 oz.) frozen chopped spinach'\n",
      " '(10 oz.) frozen chopped spinach, thawed and squeezed dry'\n",
      " '(14 oz.) sweetened condensed milk' '(14.5 oz.) diced tomatoes'\n",
      " '(15 oz.) refried beans' '1% low-fat buttermilk'\n",
      " '1% low-fat chocolate milk' '1% low-fat cottage cheese' '1% low-fat milk'\n",
      " '2 1/2 to 3 lb. chicken, cut into serving pieces'\n",
      " '2% low fat cheddar chees' '2% low-fat cottage cheese'\n",
      " '2% lowfat greek yogurt' '2% milk shredded mozzarella cheese'\n",
      " '2% reduced-fat milk' '25% less sodium chicken broth'\n",
      " '33% less sodium cooked deli ham' '33% less sodium cooked ham']\n",
      "['yolk' 'yoplait' 'young coconut meat' 'young leeks' 'young nettle'\n",
      " 'yu choy' 'yuca' 'yucca' 'yucca root' 'yukon gold' 'yukon gold potatoes'\n",
      " 'yuzu' 'yuzu juice' \"za'atar\" 'zest' 'zesty italian dressing' 'zinfandel'\n",
      " 'ziti' 'zucchini' 'zucchini blossoms']\n"
     ]
    }
   ],
   "source": [
    "# Look at data to figure out what kind of text cleaning we need to do\n",
    "\n",
    "ing_list = df['ingredients'].tolist()\n",
    "cuisine_list = df['cuisine'].tolist()\n",
    "\n",
    "if len(ing_list) == len(cuisine_list):\n",
    "    ingredients = [ing_list[i] + [cuisine_list[i]] for i in range(len(ing_list))]\n",
    "else:\n",
    "    print('error. Length of ingredients and cuisine does not match')\n",
    "\n",
    "print(\"Example ingredients\")\n",
    "ing_list = np.unique([item for recipe in ingredients for item in recipe ])\n",
    "print(ing_list[:20])\n",
    "print(ing_list[-20:])"
   ]
  },
  {
   "cell_type": "code",
   "execution_count": 4,
   "metadata": {
    "hidden": true
   },
   "outputs": [],
   "source": [
    "# Remove characters between (and including) parentheses\n",
    "# Turn all strings into lowercase  \n",
    "# Replace spaces with underscore. \n",
    "\n",
    "for i in df.index:\n",
    "    ing = df.at[i,'ingredients']\n",
    "    for j, item in enumerate(ing):\n",
    "        \n",
    "        # Replace all characters between parentheses\n",
    "        if  ('(' in item) or (')' in item):\n",
    "            item = re.sub('\\s*\\([^)]*\\)\\s*', '', item)\n",
    "            ing[j] = item\n",
    "        \n",
    "        # Turn all Upper case into lowercase\n",
    "        ing[j] = item.lower()\n",
    "        \n",
    "        # replace spaces with underscore \n",
    "        ing[j] = ing[j].replace(' ','_')\n",
    "        \n",
    "    df.at[i,'ingredients'] = ing"
   ]
  },
  {
   "cell_type": "markdown",
   "metadata": {
    "hidden": true
   },
   "source": [
    "<b> (b) Remove \"stop words\" </b> \n",
    "* stop words: ingredients that appear frequently throughout the documents.  \n",
    "* Based on the frequency of ingredients, I removed \"salt\" from every document."
   ]
  },
  {
   "cell_type": "code",
   "execution_count": 6,
   "metadata": {
    "hidden": true
   },
   "outputs": [],
   "source": [
    "# get the list of ingredients\n",
    "ing_list = df['ingredients'].tolist()\n",
    "ingredients_total = [item for sublist in ing_list for item in sublist]\n",
    "\n",
    "# count occurrence of ingredients\n",
    "ing_count = Counter(ingredients_total)\n",
    "\n",
    "# sort ingredients in order of decreasing frequency \n",
    "ing_by_count = [k for k, v in sorted(ing_count.items(), key = lambda item:item[1])]\n",
    "ing_by_count.reverse()"
   ]
  },
  {
   "cell_type": "code",
   "execution_count": 7,
   "metadata": {
    "hidden": true,
    "scrolled": true
   },
   "outputs": [
    {
     "data": {
      "image/png": "[encoded data removed]",
      "text/plain": [
       "<Figure size 432x288 with 1 Axes>"
      ]
     },
     "metadata": {
      "needs_background": "light"
     },
     "output_type": "display_data"
    }
   ],
   "source": [
    "# Visualize top N most frequently used ingredients\n",
    "N = 10\n",
    "\n",
    "n_documents = df.shape[0]\n",
    "frequent_ing = ing_by_count[:N]\n",
    "prob_ing = [ing_count[item]/n_documents for item in frequent_ing]\n",
    "\n",
    "plt.barh(frequent_ing[::-1], prob_ing[::-1])\n",
    "plt.xlabel('Portion of recipes with ingredient')\n",
    "plt.ylabel('Ingredients')\n",
    "plt.title('')\n",
    "plt.show()"
   ]
  },
  {
   "cell_type": "markdown",
   "metadata": {
    "hidden": true
   },
   "source": [
    "The above graph shows that more than 40% of documents contain the ingredient \"salt\". I decided to remove the ingredient \"salt\" from all documents."
   ]
  },
  {
   "cell_type": "code",
   "execution_count": 8,
   "metadata": {
    "hidden": true
   },
   "outputs": [],
   "source": [
    "# Remove the ingredient \"salt\"\n",
    "for i in range(df.shape[0]):\n",
    "    ing = df.at[i,'ingredients']\n",
    "    df.at[i,'ingredients'] = [item for item in ing if item != 'salt']"
   ]
  },
  {
   "cell_type": "markdown",
   "metadata": {
    "hidden": true
   },
   "source": [
    "<b>(c) Create documents that have both ingredients list and cuisine type </b>"
   ]
  },
  {
   "cell_type": "code",
   "execution_count": 9,
   "metadata": {
    "hidden": true
   },
   "outputs": [],
   "source": [
    "# get list of ingredients and list of cuisine\n",
    "ing_list = df['ingredients'].tolist()\n",
    "cuisine_list = df['cuisine'].tolist()\n",
    "\n",
    "if len(ing_list) == len(cuisine_list):\n",
    "    ingredients = [ing_list[i] + [cuisine_list[i]] for i in range(len(ing_list))]\n",
    "else:\n",
    "    print('error. Length of ingredients and cuisine does not match')    \n",
    "    \n",
    "# add cleaned up ingredients + cuisine to dataframe\n",
    "df['document'] = ingredients"
   ]
  },
  {
   "cell_type": "code",
   "execution_count": 10,
   "metadata": {
    "hidden": true
   },
   "outputs": [],
   "source": [
    "# add cleaned up ingredients + cuisine to dataframe\n",
    "df['document'] = ingredients\n",
    "df.to_csv('data/ingredient_recommendation/data.csv')"
   ]
  },
  {
   "cell_type": "code",
   "execution_count": 11,
   "metadata": {
    "hidden": true
   },
   "outputs": [
    {
     "data": {
      "text/html": [
       "<div>\n",
       "<style scoped>\n",
       "    .dataframe tbody tr th:only-of-type {\n",
       "        vertical-align: middle;\n",
       "    }\n",
       "\n",
       "    .dataframe tbody tr th {\n",
       "        vertical-align: top;\n",
       "    }\n",
       "\n",
       "    .dataframe thead th {\n",
       "        text-align: right;\n",
       "    }\n",
       "</style>\n",
       "<table border=\"1\" class=\"dataframe\">\n",
       "  <thead>\n",
       "    <tr style=\"text-align: right;\">\n",
       "      <th></th>\n",
       "      <th>id</th>\n",
       "      <th>cuisine</th>\n",
       "      <th>ingredients</th>\n",
       "      <th>document</th>\n",
       "    </tr>\n",
       "  </thead>\n",
       "  <tbody>\n",
       "    <tr>\n",
       "      <td>0</td>\n",
       "      <td>10259</td>\n",
       "      <td>greek</td>\n",
       "      <td>[romaine_lettuce, black_olives, grape_tomatoes...</td>\n",
       "      <td>[romaine_lettuce, black_olives, grape_tomatoes...</td>\n",
       "    </tr>\n",
       "    <tr>\n",
       "      <td>1</td>\n",
       "      <td>25693</td>\n",
       "      <td>southern_us</td>\n",
       "      <td>[plain_flour, ground_pepper, tomatoes, ground_...</td>\n",
       "      <td>[plain_flour, ground_pepper, tomatoes, ground_...</td>\n",
       "    </tr>\n",
       "    <tr>\n",
       "      <td>2</td>\n",
       "      <td>20130</td>\n",
       "      <td>filipino</td>\n",
       "      <td>[eggs, pepper, mayonaise, cooking_oil, green_c...</td>\n",
       "      <td>[eggs, pepper, mayonaise, cooking_oil, green_c...</td>\n",
       "    </tr>\n",
       "    <tr>\n",
       "      <td>3</td>\n",
       "      <td>22213</td>\n",
       "      <td>indian</td>\n",
       "      <td>[water, vegetable_oil, wheat]</td>\n",
       "      <td>[water, vegetable_oil, wheat, indian]</td>\n",
       "    </tr>\n",
       "    <tr>\n",
       "      <td>4</td>\n",
       "      <td>13162</td>\n",
       "      <td>indian</td>\n",
       "      <td>[black_pepper, shallots, cornflour, cayenne_pe...</td>\n",
       "      <td>[black_pepper, shallots, cornflour, cayenne_pe...</td>\n",
       "    </tr>\n",
       "  </tbody>\n",
       "</table>\n",
       "</div>"
      ],
      "text/plain": [
       "      id      cuisine                                        ingredients  \\\n",
       "0  10259        greek  [romaine_lettuce, black_olives, grape_tomatoes...   \n",
       "1  25693  southern_us  [plain_flour, ground_pepper, tomatoes, ground_...   \n",
       "2  20130     filipino  [eggs, pepper, mayonaise, cooking_oil, green_c...   \n",
       "3  22213       indian                      [water, vegetable_oil, wheat]   \n",
       "4  13162       indian  [black_pepper, shallots, cornflour, cayenne_pe...   \n",
       "\n",
       "                                            document  \n",
       "0  [romaine_lettuce, black_olives, grape_tomatoes...  \n",
       "1  [plain_flour, ground_pepper, tomatoes, ground_...  \n",
       "2  [eggs, pepper, mayonaise, cooking_oil, green_c...  \n",
       "3              [water, vegetable_oil, wheat, indian]  \n",
       "4  [black_pepper, shallots, cornflour, cayenne_pe...  "
      ]
     },
     "execution_count": 11,
     "metadata": {},
     "output_type": "execute_result"
    }
   ],
   "source": [
    "df.head()"
   ]
  },
  {
   "cell_type": "markdown",
   "metadata": {
    "heading_collapsed": true
   },
   "source": [
    "# 1. Preliminary analysis  "
   ]
  },
  {
   "cell_type": "markdown",
   "metadata": {
    "hidden": true
   },
   "source": [
    "(a) Preliminary analysis. Identify potential bias in dataset    \n",
    "(b) Split data into training, cross-validation, and testing set  \n",
    "(c) Define metrics for evaluating different models  "
   ]
  },
  {
   "cell_type": "markdown",
   "metadata": {
    "hidden": true
   },
   "source": [
    "<b> (a) Preliminary analysis </b>  \n",
    "\n",
    "* About 40,000 documents(recipes) involving 6700 ingredients  \n",
    "* Note the <b>potential bias</b>\n",
    "    * Our dataset is biased: Some cuisine (like Italian and Mexican cuisine) are more frequently represented than some others (like Russian and brazilian cuisinze).  \n",
    "    *  A recommender might recommend ingredients that go well together in mostly Italian and Mexican cuisine. \n",
    "    *  <b><font color='red'>To Do</font></b>: I might want to consider some tools for decreasing bias from my model. "
   ]
  },
  {
   "cell_type": "code",
   "execution_count": 12,
   "metadata": {
    "hidden": true
   },
   "outputs": [],
   "source": [
    "# load data\n",
    "df = pd.read_csv('data/ingredient_recommendation/data.csv')\n",
    "\n",
    "# Convert to format (list of lists)\n",
    "documents = [ast.literal_eval(df.document[idx]) for idx in range(df.shape[0])]"
   ]
  },
  {
   "cell_type": "code",
   "execution_count": 14,
   "metadata": {
    "hidden": true
   },
   "outputs": [
    {
     "name": "stdout",
     "output_type": "stream",
     "text": [
      "total number of recipes:  39774\n",
      "total number of ingredients:  6712\n"
     ]
    }
   ],
   "source": [
    "# number of documents and ingredients\n",
    "ing_list = np.unique([item for recipes in documents for item in recipes])\n",
    "\n",
    "print('total number of recipes: ', len(ingredients))\n",
    "print('total number of ingredients: ', len(np.unique(ing_list)))"
   ]
  },
  {
   "cell_type": "code",
   "execution_count": 15,
   "metadata": {
    "colab": {
     "base_uri": "https://localhost:8080/",
     "height": 282
    },
    "colab_type": "code",
    "hidden": true,
    "id": "0cBR0bcdtVnE",
    "outputId": "bf562660-d25a-4ca6-9af8-d8492936b3a8",
    "scrolled": true
   },
   "outputs": [
    {
     "data": {
      "image/png": "[encoded data removed]",
      "text/plain": [
       "<Figure size 432x288 with 1 Axes>"
      ]
     },
     "metadata": {
      "needs_background": "light"
     },
     "output_type": "display_data"
    },
    {
     "name": "stdout",
     "output_type": "stream",
     "text": [
      "maximum number of ingredients in a given recipe:  65\n",
      "minimum number of ingredients in a given recipe:  2\n"
     ]
    }
   ],
   "source": [
    "# Number of ingredients in each recipe\n",
    "ing_len = [len(x) for x in ingredients]\n",
    "\n",
    "plt.hist(ing_len)\n",
    "plt.title('histogram of number of ingredients in recipes')\n",
    "plt.show()\n",
    "print('maximum number of ingredients in a given recipe: ', max(ing_len))  \n",
    "print('minimum number of ingredients in a given recipe: ', min(ing_len))"
   ]
  },
  {
   "cell_type": "code",
   "execution_count": 16,
   "metadata": {
    "hidden": true,
    "scrolled": false
   },
   "outputs": [
    {
     "data": {
      "image/png": "[encoded data removed]",
      "text/plain": [
       "<Figure size 576x432 with 1 Axes>"
      ]
     },
     "metadata": {
      "needs_background": "light"
     },
     "output_type": "display_data"
    }
   ],
   "source": [
    "# Number of cuisine represented\n",
    "df['cuisine'].value_counts(ascending = True).plot(kind = 'barh', figsize=(8,6))\n",
    "plt.title('Frequency of cuisine in data')\n",
    "plt.show()"
   ]
  },
  {
   "cell_type": "markdown",
   "metadata": {
    "hidden": true
   },
   "source": [
    "<b> NOTE: POTENTIAL BIAS </b>\n",
    "* The above graph indicates that our dataset is biased -- Italian and Mexican cuisine are represented much more than other types of cuisine.   \n",
    "* One should be aware that any model trained on this dataset could potentially be biased."
   ]
  },
  {
   "cell_type": "markdown",
   "metadata": {
    "hidden": true
   },
   "source": [
    "<b> (B) Divide into training, cross-validation, and testing set </b>"
   ]
  },
  {
   "cell_type": "code",
   "execution_count": 17,
   "metadata": {
    "hidden": true
   },
   "outputs": [
    {
     "name": "stdout",
     "output_type": "stream",
     "text": [
      "total number of documents:  39774\n",
      "number of training set:  27841\n",
      "number of cross-validation set:  5966\n",
      "number of test set:  5967\n"
     ]
    }
   ],
   "source": [
    "# Divide into training (70%), cross-validation (15%), and testing set (15%)\n",
    "n_documents = df.shape[0]\n",
    "print('total number of documents: ', n_documents)\n",
    "\n",
    "total = list(range(n_documents))\n",
    "random.shuffle(total)\n",
    "\n",
    "train_size = int(n_documents * 0.7)\n",
    "cv_size = int(n_documents * 0.15)\n",
    "train_idx = total[:train_size]\n",
    "cv_idx = total[train_size:train_size + cv_size]\n",
    "test_idx = total[train_size + cv_size:]\n",
    "\n",
    "print('number of training set: ', len(train_idx))\n",
    "print('number of cross-validation set: ', len(cv_idx))\n",
    "print('number of test set: ', len(test_idx))\n",
    "\n",
    "train_idx.sort()\n",
    "cv_idx.sort()\n",
    "test_idx.sort()\n",
    "\n",
    "# save indices\n",
    "f = h5py.File('data/ingredient_recommendation/train_val_test.hdf5', 'w')\n",
    "f.create_dataset(\"train_idx\", data = train_idx)\n",
    "f.create_dataset(\"cv_idx\", data = cv_idx)\n",
    "f.create_dataset(\"test_idx\", data = test_idx)\n",
    "f.close()"
   ]
  },
  {
   "cell_type": "markdown",
   "metadata": {
    "hidden": true
   },
   "source": [
    "<b> (f) Define metric for evaluating different models</b>  \n",
    "* In order to compare the performance of multiple models, I decided on a common metric to evaluate the models.  \n",
    "* Use evaluation metric for classification models      \n",
    "* Precision, Recall, and F-scores \n",
    "    * Precision: Of all the predicted ingredients, how much were actually true ingredients? TP / (TP + FP)\n",
    "    * Recall: Of all the true ingredients, how much did we predict correctly? TP/(TP + FN)   \n",
    "    * F-score : (2 * recall * precision) / (recall + precision)    \n",
    "    \n",
    "* Possible option: Weigh the incorrect ingredients. For example, if an incorrect predicted ingredient is still considered \"similar\" to an existing ingredient (maybe using word embedding features), one can still account for the incorrect prediction as a true positive with a smaller weight than 1\n",
    "  "
   ]
  },
  {
   "cell_type": "code",
   "execution_count": 23,
   "metadata": {
    "hidden": true
   },
   "outputs": [],
   "source": [
    "def sample_ingredients(ing, n_samples):  \n",
    "    # For each recipe, sample \"n_samples\" number of ingredients randomly.\n",
    "    # (If a recipe involves fewer than \"n_samples\" ingredients, ignore that recipe)\n",
    "    # The sampled ingredients will function as the existing ingredients\n",
    "    # Goal of the model is to predict the remaining ingredients that\n",
    "    # have not been sampled\n",
    "    \n",
    "    \"\"\"\n",
    "    --- input ---\n",
    "    ing: (list of lists) Each item of ing is a list of ingredients \n",
    "           for a particular recipe\n",
    "    n_samples: (int) number of ingredients to be sampled\n",
    "   \n",
    "    --- output ---\n",
    "    existing_ing: (list of lists) Each item of sampled_ing is a list of \n",
    "            ingredients that have been sampled\n",
    "    missing_ing: (list of lists) Each item of remaining_ing is a list of ingredients\n",
    "            that have not been sampled\n",
    "    \"\"\"\n",
    "    \n",
    "    existing_ing = []\n",
    "    missing_ing = []\n",
    "    for recipe in ing:\n",
    "        if len(recipe) > n_samples:\n",
    "            # randomly select 5 ingredients\n",
    "            sampled = random.sample(recipe, n_samples)\n",
    "            remain = list(set(recipe)-set(sampled))\n",
    "\n",
    "            existing_ing.append(sampled)\n",
    "            missing_ing.append(remain)\n",
    "            \n",
    "    return existing_ing, missing_ing\n"
   ]
  },
  {
   "cell_type": "code",
   "execution_count": 75,
   "metadata": {
    "hidden": true
   },
   "outputs": [],
   "source": [
    "def compute_scores(predicted_ing, true_ing):\n",
    "    \"\"\"\n",
    "    predicted_ing: (list) of predicted ingredients from the model\n",
    "    true_ing: (list) of true ingredients that needed to be predicted\n",
    "    \"\"\"\n",
    "    \n",
    "    predicted_ing = set(predicted_ing)\n",
    "    true_ing = set(true_ing)\n",
    "\n",
    "    TP = len(predicted_ing.intersection(true_ing))\n",
    "\n",
    "    precision = TP / (len(predicted_ing))\n",
    "    recall = TP / len(true_ing)\n",
    "    \n",
    "    if recall != 0 and precision != 0:\n",
    "        F_score = (2 * recall * precision)/(precision + recall)\n",
    "    else:\n",
    "        F_score = 0\n",
    "    \n",
    "    return precision, recall, F_score\n"
   ]
  },
  {
   "cell_type": "code",
   "execution_count": 20,
   "metadata": {
    "hidden": true
   },
   "outputs": [
    {
     "name": "stdout",
     "output_type": "stream",
     "text": [
      "precision:  0.3333333333333333\n",
      "recall:  1.0\n",
      "F_score:  0.5\n"
     ]
    }
   ],
   "source": [
    "# example \n",
    "precision, recall, F_score = compute_scores(['onions', 'scallions', 'bread'],\n",
    "                                           ['scallions'])\n",
    "\n",
    "print('precision: ' , precision)\n",
    "print('recall: ', recall)\n",
    "print('F_score: ', F_score)"
   ]
  },
  {
   "cell_type": "markdown",
   "metadata": {
    "colab_type": "text",
    "heading_collapsed": true,
    "id": "o3wTw-y6na8V"
   },
   "source": [
    "# 2. Non-negative matrix factorization\n"
   ]
  },
  {
   "cell_type": "markdown",
   "metadata": {
    "hidden": true
   },
   "source": [
    "<b> Summary </b> \n",
    "* Since we are building a recommender, I first tried collaborative filtering via non-negative matrix factorization. \n",
    "* The latent variables (roughly) correspond to type of cuisine, such as baking, Italian food, Mexican food, ... .  \n",
    "* Non-negative matrix factorization requires the user to specify the number of latent variables (topics). I implemented two different ways of identifying the appropriate number of latent variables:\n",
    "    * I first selected the number of latent variables by evaluating the recommenders on a cross-validation set. The optimal number of latent variables was 6. \n",
    "    * However, this seemed like a very low number, since our dataset clearly contains more than 6 different types of cuisine. \n",
    "    * The \"optimal\" number of latent variables may be very low because of the bias in our dataset. \n",
    "    * I then considered NMF as a language model, and used the coherence score to select the number of latent variables.  \n",
    "    * The coherence score is maximized when we use 20 latent variables.\n",
    "\n",
    "<b> The idea behind non-negative matrix factorization (NMF) & recommender </b>  \n",
    "* Let V be a documents-ingredients matrix.\n",
    "    * Each row of V corresponds to a document.\n",
    "    * Each column of V corresponds to an ingredient.  \n",
    "    * V [ i ][ j ] = 1 if document \"i\" contains ingredient \"j\", and 0 otherwise. \n",
    "    \n",
    "* Given a matrix V, NMF factorizes V into non-negative matrices W and H such that $ W H \\approx V$. \n",
    "![](files/images/NMF_annotated.png)  \n",
    "\n",
    "* Each row of V is approximated by a linear combination of the rows of H. The coefficients of this linear combination is given by the rows of W.  \n",
    "* W is a (document) x (latent topic) matrix  \n",
    "* H is a (latent topic) x (ingredients) matrix   \n",
    "* The factorization $ W H \\approx V$ learns latent features underlying the interactions between recipes and ingredients.  \n",
    "* Given a list of ingredients (a row vector $r$ in V), use the approximated row vector $\\tilde r$ to recommend ingredients that have high entries in $\\tilde r$. "
   ]
  },
  {
   "cell_type": "markdown",
   "metadata": {
    "heading_collapsed": true,
    "hidden": true
   },
   "source": [
    "## 2(a) Prepare data and features"
   ]
  },
  {
   "cell_type": "code",
   "execution_count": 22,
   "metadata": {
    "hidden": true
   },
   "outputs": [],
   "source": [
    "# load data\n",
    "df = pd.read_csv('data/ingredient_recommendation/data.csv')\n",
    "cuisine = list(np.unique(df.cuisine))\n",
    "\n",
    "# Convert to correct format (list of lists)\n",
    "documents = [ast.literal_eval(df.document[idx]) for idx in range(df.shape[0])]"
   ]
  },
  {
   "cell_type": "code",
   "execution_count": 23,
   "metadata": {
    "hidden": true
   },
   "outputs": [],
   "source": [
    "# split to train and cv set\n",
    "n_documents = len(documents)\n",
    "document_idx = list(range(n_documents))\n",
    "random.shuffle(document_idx)\n",
    "\n",
    "cv_size = 0.3\n",
    "train_idx = document_idx[int(n_documents * cv_size):]\n",
    "train_doc = [documents[item] for item in train_idx]\n",
    "cv_idx = document_idx[:int(n_documents * cv_size)]\n",
    "cv_doc = [documents[item] for item in cv_idx]"
   ]
  },
  {
   "cell_type": "code",
   "execution_count": 24,
   "metadata": {
    "hidden": true,
    "scrolled": true
   },
   "outputs": [
    {
     "name": "stdout",
     "output_type": "stream",
     "text": [
      "number of ingredients:  6712\n",
      "number of documents:  39774\n",
      "Size of training set: 27842\n",
      "Size of CV set: 11932\n"
     ]
    }
   ],
   "source": [
    "# prepare (documents) x (ingredients) matrix V for NMF factorization\n",
    "\n",
    "# Find all the ingredients\n",
    "all_ingredients = list(set([item for sublist in documents for item in sublist]))\n",
    "\n",
    "n_ingredients = len(all_ingredients)\n",
    "n_documents = len(documents)\n",
    "\n",
    "print('number of ingredients: ', n_ingredients)\n",
    "print('number of documents: ', n_documents)\n",
    "print('Size of training set:', len(train_idx))\n",
    "print('Size of CV set:', len(cv_idx))\n",
    "\n",
    "# Encode ingredients\n",
    "idx_to_word = {idx:x for idx, x in enumerate(all_ingredients)}\n",
    "word_to_idx = {value:key for key, value in idx_to_word.items()}\n",
    "\n",
    "# create matrix V from the training set\n",
    "V = np.zeros((len(train_idx), n_ingredients))\n",
    "for i, doc in enumerate(train_doc):\n",
    "    for ing in doc:\n",
    "        j = word_to_idx[ing]\n",
    "        V[i,j] = 1"
   ]
  },
  {
   "cell_type": "code",
   "execution_count": 17,
   "metadata": {
    "hidden": true
   },
   "outputs": [
    {
     "name": "stdout",
     "output_type": "stream",
     "text": [
      "mean length of documents:  11.313923668728314\n",
      "median length of documents:  11.0\n"
     ]
    }
   ],
   "source": [
    "# choose number of ingredients to recommend\n",
    "documents_len = [len(item) for item in documents]\n",
    "\n",
    "print('mean length of documents: ', np.mean(documents_len))\n",
    "print('median length of documents: ', np.median(documents_len))"
   ]
  },
  {
   "cell_type": "markdown",
   "metadata": {
    "hidden": true
   },
   "source": [
    "* Let's recommend ingredients so that one ends up with a total of 11 ingredients.  \n",
    "* Since existing ingredients have 5 samples, let's recommend 6 ingredients."
   ]
  },
  {
   "cell_type": "code",
   "execution_count": 26,
   "metadata": {
    "hidden": true
   },
   "outputs": [],
   "source": [
    "# split each recipe in CV set into list of existing ingredients\n",
    "# and missing ingredients \n",
    "existing_ing, missing_ing = sample_ingredients(cv_doc, 5)"
   ]
  },
  {
   "cell_type": "markdown",
   "metadata": {
    "heading_collapsed": true,
    "hidden": true
   },
   "source": [
    "## 2(b) Perform NMF and build an example recommender"
   ]
  },
  {
   "cell_type": "markdown",
   "metadata": {
    "hidden": true
   },
   "source": [
    "* Note: We will use an arbitrary number of latent variables, say 50.  \n",
    "* Say we found non-negative matrices W and H such that $ W H \\approx V$  \n",
    "* There are two different types of recommenders one can build: a deterministic and probabilistic recommender:  \n",
    "    * <b> deterministic recommender </b> \n",
    "        * Given a list of ingredients, find the approximation of the document, as computed by $ W H $. Recommend ingredients with the highest coefficients in the resulting approximation.  \n",
    "        * Recommended ingredients may be too similar across documents.  \n",
    "        * Faster than the probabilistic recommender.  \n",
    "    * <b> probabilistic recommender </b> \n",
    "        * Use the coefficients of W and H to define probability distributions. \n",
    "        * Given a list of ingredients, sample to topic. Once the topic has been selected, sample the ingredients.  \n",
    "        * Introduces more variety to the recommender.  \n",
    "        * Slower than the deterministic recommender. \n",
    "* Because of computational speed, we'll use the <b>deterministic recommender</b>\n",
    "        "
   ]
  },
  {
   "cell_type": "code",
   "execution_count": 25,
   "metadata": {
    "hidden": true
   },
   "outputs": [
    {
     "data": {
      "text/plain": [
       "NMF(alpha=0.0, beta_loss='frobenius', init=None, l1_ratio=0.0, max_iter=200,\n",
       "    n_components=50, random_state=None, shuffle=False, solver='cd', tol=0.0001,\n",
       "    verbose=0)"
      ]
     },
     "execution_count": 25,
     "metadata": {},
     "output_type": "execute_result"
    }
   ],
   "source": [
    "# Find NMF with 50 latent variables\n",
    "model_50 = NMF(n_components = 50)\n",
    "model_50.fit(V)"
   ]
  },
  {
   "cell_type": "code",
   "execution_count": 69,
   "metadata": {
    "hidden": true
   },
   "outputs": [],
   "source": [
    "def recommender_NMF(model, existing_ing, idx_to_word, word_to_idx, cuisine, n):\n",
    "    # Deterministic recommender based on a factorized NMF model.\n",
    "    # Given a list of existing ingredients, compute V_approx from NMF\n",
    "    # For each document, recommend ingredients that \n",
    "    #    (1) are not present in the existing ingredients list\n",
    "    #    (2) are not cuisine types\n",
    "    #    (3) have high coefficients in the V_approx \n",
    "    \n",
    "    \"\"\"\n",
    "    --- input ---\n",
    "    model: trained NMF model (sklearn)\n",
    "    existing_ing: (list of lists) Each item is a list of existing ingredients \n",
    "                 for a particular recipe \n",
    "    idx_to_word: (dict) from index to ingredient\n",
    "    word_to_idx: (dict) from ingredient to index\n",
    "    cuisine: (list) of cuisine names\n",
    "    n: (int) number of ingredients to recommend\n",
    "    \n",
    "    --- output ---\n",
    "    recommend: (list of lists) Each item is a list of \"n\" ingredients recommended\n",
    "    \"\"\"   \n",
    "    \n",
    "    # get parameters\n",
    "    n_ingredients = len(idx_to_word)\n",
    "    \n",
    "    # convert existing list of ingredients into a list of indices \n",
    "    existing_idx = [[word_to_idx[item] for item in recipes] for recipes in existing_ing]\n",
    "    \n",
    "    # create matrix V from existing ingredients\n",
    "    V = np.zeros((len(existing_ing), n_ingredients))\n",
    "    for i, doc in enumerate(existing_ing):\n",
    "        for ing in doc:\n",
    "            j = word_to_idx[ing]\n",
    "            V[i,j] = 1\n",
    "            \n",
    "    # find approximation to V using NNM\n",
    "    H = model.components_\n",
    "    W = model.transform(V)\n",
    "    V_approx = np.matmul(W, H)\n",
    "    \n",
    "    # remove existing ingredients from V_approx (set entry to 0)\n",
    "    for i, doc in enumerate(existing_idx):\n",
    "        for item in doc:\n",
    "            V_approx[i, item] = 0\n",
    "\n",
    "    # remove items that are cuisine types (set entry to 0)\n",
    "    cuisine_idx = [word_to_idx[item] for item in cuisine]\n",
    "    V_approx[:,cuisine_idx] = 0\n",
    "\n",
    "    # find ingredients with high coefficients in V_approx \n",
    "    V_idx = np.argsort(V_approx, axis = 1)\n",
    "    V_recommend = V_idx[:,-n:].tolist()\n",
    "\n",
    "    # turn above into list of ingredients (recommended)\n",
    "    recommend = [[idx_to_word[idx] for idx in rec] for rec in V_recommend] \n",
    "    \n",
    "    return recommend"
   ]
  },
  {
   "cell_type": "code",
   "execution_count": 95,
   "metadata": {
    "hidden": true
   },
   "outputs": [],
   "source": [
    "def recommender_NMF_sample(model, existing_ing, idx_to_word, word_to_idx, cuisine, n):\n",
    "    # probabilistic recommender based on a factorized NMF model.\n",
    "    # The factorized NMF model results in a non-negative vector.\n",
    "    # We interpret this non-negative vector as defining a probability \n",
    "    # distribution over the ingredients.  \n",
    "    # Recommended ingredients are sampled according to this distribution\n",
    "    \n",
    "    \"\"\"\n",
    "    --- input ---\n",
    "    model: trained NMF model (sklearn)\n",
    "    existing_ing: (list of lists) Each item is a list of existing ingredients \n",
    "                 for a particular recipe \n",
    "    idx_to_word: (dict) from index to ingredient\n",
    "    word_to_idx: (dict) from ingredient to index\n",
    "    cuisine: (list) of cuisine names\n",
    "    n: (int) number of ingredients to recommend\n",
    "    \n",
    "    --- output ---\n",
    "    recommend_ing: (list of lists) Each item is a list of \"n\" ingredients recommended\n",
    "    \"\"\"   \n",
    "    \n",
    "    # get parameters and matrix H\n",
    "    n_ingredients = len(idx_to_word)\n",
    "    n_cuisine = len(cuisine)\n",
    "    H = model.components_\n",
    "\n",
    "    recommend_ing = []\n",
    "    \n",
    "    for doc in existing_ing:\n",
    "        doc_length = len(doc)\n",
    "        ing_list = doc.copy()\n",
    "        \n",
    "        while len(ing_list) < doc_length + n:\n",
    "            \n",
    "            # define vector of ingredients.\n",
    "            ing_vector = np.zeros((1,n_ingredients))\n",
    "            for item in ing_list:\n",
    "                idx = word_to_idx[item]\n",
    "                ing_vector[0, idx] = 1\n",
    "\n",
    "            # get vector approximation via NMF.\n",
    "            ing_W = model.transform(ing_vector)\n",
    "            approx = np.matmul(ing_W, H)\n",
    "\n",
    "            # find index of ingredients that can be recommended.\n",
    "            # This excludes existing ingredients in \"ing_list\" \n",
    "            # and cuisine types.\n",
    "            possible = [item for item in range(n_ingredients) \n",
    "                       if idx_to_word[item] not in ing_list \n",
    "                       if idx_to_word[item] not in cuisine]\n",
    "            \n",
    "            possible_words = [idx_to_word[item] for item in possible]\n",
    "            \n",
    "            # find probability distribution of ingredients\n",
    "            words_prob = [approx[0,item] for item in possible]\n",
    "            words_prob /= sum(words_prob)\n",
    "            \n",
    "            # sample ingredient\n",
    "            ing_sample = np.random.choice(possible_words, 1, p=words_prob)[0]\n",
    "            ing_list.append(ing_sample)\n",
    "        \n",
    "        # get list of recommended ingredients\n",
    "        recommend = [item for item in ing_list if item not in doc]\n",
    "        recommend_ing.append(recommend)\n",
    "        \n",
    "    return recommend_ing"
   ]
  },
  {
   "cell_type": "code",
   "execution_count": 97,
   "metadata": {
    "hidden": true
   },
   "outputs": [],
   "source": [
    "# get recommendations\n",
    "recommend = recommender_NMF(model_50, existing_ing, idx_to_word, word_to_idx, cuisine, 6)"
   ]
  },
  {
   "cell_type": "code",
   "execution_count": 99,
   "metadata": {
    "hidden": true
   },
   "outputs": [
    {
     "name": "stdout",
     "output_type": "stream",
     "text": [
      "==================== Example 4928 ====================\n",
      "---------- Existing ingredients ----------\n",
      "['fresh_thyme', 'coconut_milk', 'pig', 'cubed_pumpkin', 'water']\n",
      "---------- Recommended ingredients ----------\n",
      "['cilantro_leaves', 'lemongrass', 'brown_sugar', 'lime_juice', 'fresh_lime_juice', 'fish_sauce']\n",
      "---------- Missing ingredients ----------\n",
      "['green_onions', 'onions', 'okra', 'habanero_pepper', 'taro_leaf', 'garlic', 'blue_crabs', 'jamaican'] \n",
      "\n",
      "==================== Example 9923 ====================\n",
      "---------- Existing ingredients ----------\n",
      "['toasted_coconut', 'ground_coriander', 'coconut_milk', 'minced_garlic', 'lime_rind']\n",
      "---------- Recommended ingredients ----------\n",
      "['lime_juice', 'fresh_lime_juice', 'chopped_cilantro_fresh', 'fish_sauce', 'chopped_onion', 'ground_cumin']\n",
      "---------- Missing ingredients ----------\n",
      "['calamari', 'fish', 'indian', 'onions', 'light_brown_sugar', 'curry_powder', 'fresh_ginger', 'chopped_cilantro_fresh', 'peanut_oil', 'ground_black_pepper', 'chopped_fresh_mint', 'jalapeno_chilies', 'fresh_lime_juice', 'plum_tomatoes', 'cooked_rice'] \n",
      "\n",
      "==================== Example 3602 ====================\n",
      "---------- Existing ingredients ----------\n",
      "['cider_vinegar', 'vegetable_oil', 'southern_us', 'tomatoes', 'honey']\n",
      "---------- Recommended ingredients ----------\n",
      "['fresh_basil', 'worcestershire_sauce', 'hot_sauce', 'bacon', 'soy_sauce', 'buttermilk']\n",
      "---------- Missing ingredients ----------\n",
      "['mayonaise', 'boiling_potatoes', 'okra', 'cornmeal'] \n",
      "\n",
      "==================== Example 6955 ====================\n",
      "---------- Existing ingredients ----------\n",
      "['pepper', 'plum_tomatoes', 'olive_oil', 'bow-tie_pasta', 'italian']\n",
      "---------- Recommended ingredients ----------\n",
      "['balsamic_vinegar', 'italian_seasoning', 'dry_white_wine', 'flat_leaf_parsley', 'parmesan_cheese', 'fresh_basil']\n",
      "---------- Missing ingredients ----------\n",
      "['fresh_basil_leaves', 'garlic'] \n",
      "\n",
      "==================== Example 7202 ====================\n",
      "---------- Existing ingredients ----------\n",
      "['lemon_zest', 'buttermilk', 'white_cornmeal', 'southern_us', 'sugar']\n",
      "---------- Recommended ingredients ----------\n",
      "['vanilla_extract', 'bacon', 'peaches', 'yellow_corn_meal', 'baking_soda', 'baking_powder']\n",
      "---------- Missing ingredients ----------\n",
      "['butter', 'chopped_fresh_thyme', 'large_eggs', 'all-purpose_flour'] \n",
      "\n"
     ]
    }
   ],
   "source": [
    "# Show example recommendations \n",
    "for i in random.sample(range(len(existing_ing)),5):\n",
    "    print(\"==================== Example \"+ str(i) + \" ====================\" )\n",
    "    print(\"---------- Existing ingredients ----------\")\n",
    "    print(existing_ing[i])\n",
    "    print(\"---------- Recommended ingredients ----------\")\n",
    "    print(recommend[i])\n",
    "    print(\"---------- Missing ingredients ----------\")\n",
    "    print(missing_ing[i], '\\n')\n",
    "\n"
   ]
  },
  {
   "cell_type": "markdown",
   "metadata": {
    "heading_collapsed": true,
    "hidden": true
   },
   "source": [
    "## 2(c) Select number of latent variables"
   ]
  },
  {
   "cell_type": "markdown",
   "metadata": {
    "hidden": true
   },
   "source": [
    "* To use NMF models, one needs to specify the number of latent variables  \n",
    "* I used two different approaches to determine the appropriate number of latent variables\n",
    "\n",
    "i. cross-validation evaluation of recommender built on various number of latent variables  \n",
    "ii. coherence scores  \n",
    "\n",
    "* According to the cross-validation evaluation, the number of appropriate number of topics is 5. However, I thought that this number is too low, as our dataset clearly consists of more than 5 different types of cuisine.  \n",
    "* I then decided to choose the number of latent variables to be the number that leads to the highest coherence score. The optimal number of topics is 20. \n"
   ]
  },
  {
   "cell_type": "markdown",
   "metadata": {
    "heading_collapsed": true,
    "hidden": true
   },
   "source": [
    "### 1(c) i. Using recommender performance on cross-validation set"
   ]
  },
  {
   "cell_type": "code",
   "execution_count": 101,
   "metadata": {
    "hidden": true
   },
   "outputs": [],
   "source": [
    "# Evaluate NMF models of various topic numbers\n",
    "topic_numbers = list(range(1, 40))\n",
    "cv_scores = {}\n",
    "\n",
    "for k in topic_numbers:\n",
    "    \n",
    "    # Find NMF decompositions\n",
    "    model = NMF(n_components = k)\n",
    "    model.fit(V)\n",
    "\n",
    "    # make recommendations on cross validation set\n",
    "    recommend_ing = recommender_NMF(model, existing_ing, idx_to_word, word_to_idx, cuisine, 6)\n",
    "    \n",
    "    # compute scores\n",
    "    scores = [compute_scores(recommend_ing[i], missing_ing[i]) for i in range(len(missing_ing))]\n",
    "\n",
    "    precisions = [item[0] for item in scores] \n",
    "    recalls = [item[1] for item in scores]\n",
    "    Fscores = [item[2] for item in scores]\n",
    "    \n",
    "    cv_scores[k] = [statistics.mean(precisions), statistics.mean(recalls), statistics.mean(Fscores)]\n",
    "    \n",
    "# save\n",
    "f = open(\"models/NMF/NMF_CV.pkl\",\"wb\")\n",
    "pickle.dump(cv_scores,f)\n",
    "f.close()"
   ]
  },
  {
   "cell_type": "code",
   "execution_count": 102,
   "metadata": {
    "hidden": true,
    "scrolled": true
   },
   "outputs": [
    {
     "data": {
      "image/png": "[encoded data removed]",
      "text/plain": [
       "<Figure size 1080x360 with 3 Axes>"
      ]
     },
     "metadata": {
      "needs_background": "light"
     },
     "output_type": "display_data"
    }
   ],
   "source": [
    "# open CV scores\n",
    "#cv_scores = pickle.load( open( \"models/NMF/NMF_CV.pkl\", \"rb\" ) )\n",
    "\n",
    "fig, ax = plt.subplots(ncols = 3, figsize = (15, 5))\n",
    "\n",
    "ax[0].plot(topic_numbers, [cv_scores[item][0] for item in topic_numbers])\n",
    "ax[0].set_xlabel('number of topics')\n",
    "ax[0].set_ylabel('Precision')\n",
    "ax[0].set_title('Precision scores')\n",
    "\n",
    "ax[1].plot(topic_numbers, [cv_scores[item][1] for item in topic_numbers])\n",
    "ax[1].set_xlabel('number of topics')\n",
    "ax[1].set_ylabel('Recall')\n",
    "ax[1].set_title('Recall scores')\n",
    "\n",
    "ax[2].plot(topic_numbers, [cv_scores[item][2] for item in topic_numbers])\n",
    "ax[2].set_xlabel('number of topics')\n",
    "ax[2].set_ylabel('F-score')\n",
    "ax[2].set_title('F-scores')\n",
    "plt.show()"
   ]
  },
  {
   "cell_type": "markdown",
   "metadata": {
    "hidden": true
   },
   "source": [
    "F-score is maximized when number of topics is around 5 - 7.  \n",
    "Let's see some examples of the recommended ingredients"
   ]
  },
  {
   "cell_type": "code",
   "execution_count": 107,
   "metadata": {
    "hidden": true,
    "scrolled": false
   },
   "outputs": [
    {
     "name": "stdout",
     "output_type": "stream",
     "text": [
      "==================== Example 356 ====================\n",
      "---------- Existing ingredients ----------\n",
      "['ground_cumin', 'large_garlic_cloves', 'cayenne_pepper', 'carrots', 'yellow_onion']\n",
      "---------- Recommended ingredients ----------\n",
      "['onion_powder', 'chopped_cilantro_fresh', 'ground_coriander', 'paprika', 'tomato_paste', 'garlic_powder']\n",
      "---------- Missing ingredients ----------\n",
      "['low_sodium_chicken_broth', 'sour_cream', 'ground_coriander', 'extra-virgin_olive_oil', 'mexican', 'black_beans', 'oregano', 'fresh_lime_juice', 'chopped_cilantro_fresh'] \n",
      "\n",
      "==================== Example 4154 ====================\n",
      "---------- Existing ingredients ----------\n",
      "['light_coconut_milk', 'green_onions', 'sweet_potatoes', 'garlic_chili_sauce', 'fresh_lime_juice']\n",
      "---------- Recommended ingredients ----------\n",
      "['beansprouts', 'chopped_cilantro_fresh', 'coconut_milk', 'brown_sugar', 'sesame_oil', 'fish_sauce']\n",
      "---------- Missing ingredients ----------\n",
      "['fat_free_less_sodium_chicken_broth', 'lemongrass', 'olive_oil', 'peeled_fresh_ginger', 'red_bell_pepper', 'garlic_cloves', 'thai', 'lime_wedges', 'chopped_celery', 'snow_peas', 'cooked_chicken_breasts', 'chopped_cilantro_fresh'] \n",
      "\n",
      "==================== Example 7350 ====================\n",
      "---------- Existing ingredients ----------\n",
      "['corn_kernels', 'shredded_cheese', 'cilantro', 'purple_onion', 'romaine_lettuce']\n",
      "---------- Recommended ingredients ----------\n",
      "['lime_juice', 'red_wine_vinegar', 'cucumber', 'avocado', 'lime', 'jalapeno_chilies']\n",
      "---------- Missing ingredients ----------\n",
      "['large_shrimp', 'lime_juice', 'chili_powder', 'diced_tomatoes', 'hass_avocado', 'seedless_cucumber', 'black_beans', 'mexican', 'lime'] \n",
      "\n",
      "==================== Example 6099 ====================\n",
      "---------- Existing ingredients ----------\n",
      "['turbinado', 'green_onions', 'beef_tenderloin', 'fresh_chives', 'canola_oil']\n",
      "---------- Recommended ingredients ----------\n",
      "['shallots', 'sesame_seeds', 'shrimp', 'jalapeno_chilies', 'sesame_oil', 'kosher_salt']\n",
      "---------- Missing ingredients ----------\n",
      "['reduced_sodium_soy_sauce', 'sweet_soy_sauce', 'japanese', 'rice_vinegar', 'mirin', 'fresh_lemon_juice', 'freshly_ground_pepper', 'fresh_ginger', 'lemon', 'large_garlic_cloves'] \n",
      "\n",
      "==================== Example 4094 ====================\n",
      "---------- Existing ingredients ----------\n",
      "['black_beans', 'pumpkin', 'water', 'granulated_sugar', 'korean']\n",
      "---------- Recommended ingredients ----------\n",
      "['green_onions', 'scallions', 'vanilla_extract', 'ground_cinnamon', 'chili_powder', 'soy_sauce']\n",
      "---------- Missing ingredients ----------\n",
      "['brown_sugar', 'sweet_rice_flour'] \n",
      "\n"
     ]
    }
   ],
   "source": [
    "# Factorize matrix with 5 latent variables\n",
    "model_5 = NMF(n_components = 5)\n",
    "model_5.fit(V)\n",
    "\n",
    "# manually inspect some example recommendations\n",
    "recommend_ing = recommender_NMF(model_5, existing_ing[:5], idx_to_word, word_to_idx, cuisine, 6)\n",
    "\n",
    "# Show example recommendations \n",
    "for i in random.sample(range(len(existing_ing)),5):\n",
    "    print(\"==================== Example \"+ str(i) + \" ====================\" )\n",
    "    print(\"---------- Existing ingredients ----------\")\n",
    "    print(existing_ing[i])\n",
    "    print(\"---------- Recommended ingredients ----------\")\n",
    "    print(recommend[i])\n",
    "    print(\"---------- Missing ingredients ----------\")\n",
    "    print(missing_ing[i], '\\n')\n"
   ]
  },
  {
   "cell_type": "code",
   "execution_count": 111,
   "metadata": {
    "hidden": true,
    "scrolled": true
   },
   "outputs": [
    {
     "name": "stdout",
     "output_type": "stream",
     "text": [
      "===== EXAMPLE =====\n",
      " Existing ingredients:  ['korean', 'chicken']\n",
      " Recommended ingredients:  ['vegetable_oil', 'sesame_oil', 'garlic', 'sugar', 'soy_sauce', 'water'] \n",
      "\n",
      "===== EXAMPLE =====\n",
      " Existing ingredients:  ['thai', 'chicken']\n",
      " Recommended ingredients:  ['green_onions', 'garlic', 'sesame_oil', 'sugar', 'soy_sauce', 'water'] \n",
      "\n",
      "===== EXAMPLE =====\n",
      " Existing ingredients:  ['indian', 'chicken']\n",
      " Recommended ingredients:  ['carrots', 'tomatoes', 'water', 'pepper', 'garlic', 'onions'] \n",
      "\n"
     ]
    }
   ],
   "source": [
    "# some more examples\n",
    "examples = [['korean','chicken'], \n",
    "            ['thai','chicken'],\n",
    "            ['indian', 'chicken']]\n",
    "\n",
    "recommend_ing = recommender_NMF(model_5, examples, idx_to_word, word_to_idx, cuisine, 6)\n",
    "\n",
    "for i in range(len(examples)):\n",
    "    print(\"===== EXAMPLE =====\")\n",
    "    print(\" Existing ingredients: \", examples[i])\n",
    "    print(\" Recommended ingredients: \", recommend_ing[i], '\\n')\n"
   ]
  },
  {
   "cell_type": "markdown",
   "metadata": {
    "hidden": true
   },
   "source": [
    "<b> The need for a different number of latent variables </b>  \n",
    "* While the cross-validation evaluation method found the optimal number of topics to be 5, I thought that this number was too low.  \n",
    "* Our dataset clearly has more than 5 topics. Performing NMF with 5 latent oversimplifies the different types of cuisine we have.  \n",
    "* For example, the last cell shows the recommended ingredients for three different types of cuisine involving chicken. Note that basically identical ingredients are recommended for both Korean and Thai style cooking.  \n"
   ]
  },
  {
   "cell_type": "markdown",
   "metadata": {
    "heading_collapsed": true,
    "hidden": true
   },
   "source": [
    "### 1(c) ii. Using coherence scores\n",
    "* We'll select the number of latent variables to be the number of topics that maximizes coherence scores\n",
    "* For computing the coherence score, we'll use NMF via gensim"
   ]
  },
  {
   "cell_type": "code",
   "execution_count": 113,
   "metadata": {
    "hidden": true
   },
   "outputs": [],
   "source": [
    "# Prepare data for gensim\n",
    "\n",
    "# Create dictionary\n",
    "common_dictionary = Dictionary(documents)\n",
    "\n",
    "# Prepare BOW features for training set\n",
    "train_text = [documents[idx] for idx in train_idx]\n",
    "train_corpus = [common_dictionary.doc2bow(text) for text in train_text]  \n",
    "\n",
    "# Prepare CV set text for computing coherence scores\n",
    "#cv_text = [documents[idx] for idx in cv_idx]"
   ]
  },
  {
   "cell_type": "code",
   "execution_count": 353,
   "metadata": {
    "hidden": true
   },
   "outputs": [],
   "source": [
    "# compute coherence scores for NMF models of various topic numbers\n",
    "topic_numbers = list(range(1,100,4))\n",
    "scores = {}\n",
    "\n",
    "for k in topic_numbers:\n",
    "    # train NMF model \n",
    "    nmf = Nmf(train_corpus, id2word = common_dictionary, num_topics = k)\n",
    "   \n",
    "    # compute coherence on cv\n",
    "    cm = CoherenceModel(model=nmf, texts=cv_text, window_size = 60, coherence='c_uci')\n",
    "    coherence = cm.get_coherence() \n",
    "    scores[k] = coherence\n",
    "    \n",
    "# save\n",
    "f = open(\"models/NMF/NMF_coherence.pkl\",\"wb\")\n",
    "pickle.dump(scores,f)\n",
    "f.close()"
   ]
  },
  {
   "cell_type": "code",
   "execution_count": 354,
   "metadata": {
    "hidden": true
   },
   "outputs": [
    {
     "data": {
      "image/png": "[encoded data removed]",
      "text/plain": [
       "<Figure size 432x288 with 1 Axes>"
      ]
     },
     "metadata": {
      "needs_background": "light"
     },
     "output_type": "display_data"
    }
   ],
   "source": [
    "plt.plot(topic_numbers, [scores[item] for item in topic_numbers])\n",
    "plt.xlabel('number of topics')\n",
    "plt.ylabel('coherence score')\n",
    "plt.title('coherence scores')\n",
    "plt.show()"
   ]
  },
  {
   "cell_type": "markdown",
   "metadata": {
    "hidden": true
   },
   "source": [
    "Based on the above graph, the number of topics that leads to the highest coherence score is 20.  \n",
    "For fun, let's take a look at the topics learned by the 20 topics"
   ]
  },
  {
   "cell_type": "code",
   "execution_count": 114,
   "metadata": {
    "hidden": true
   },
   "outputs": [],
   "source": [
    "# load index for train, cv, test\n",
    "f = h5py.File('data/ingredient_recommendation/train_val_test.hdf5', 'r')\n",
    "train_idx = list(f.get(\"train_idx\"))\n",
    "cv_idx = list(f.get(\"cv_idx\"))\n",
    "test_idx = list(f.get(\"test_idx\"))\n",
    "f.close()\n",
    "\n",
    "# Prepare BOW features for training set\n",
    "train_text = [ingredients[idx] for idx in train_idx]\n",
    "train_corpus = [common_dictionary.doc2bow(text) for text in train_text]  "
   ]
  },
  {
   "cell_type": "code",
   "execution_count": 115,
   "metadata": {
    "hidden": true
   },
   "outputs": [],
   "source": [
    "# train NMF model \n",
    "gensim_nmf = Nmf(train_corpus, id2word = common_dictionary, num_topics = 20)"
   ]
  },
  {
   "cell_type": "code",
   "execution_count": 481,
   "metadata": {
    "hidden": true
   },
   "outputs": [
    {
     "data": {
      "image/png": "[encoded data removed]",
      "text/plain": [
       "<Figure size 1080x720 with 4 Axes>"
      ]
     },
     "metadata": {
      "needs_background": "light"
     },
     "output_type": "display_data"
    }
   ],
   "source": [
    "# Visualize topic representations for 4 (out of 20) topics\n",
    "fig, ax = plt.subplots(nrows = 2, ncols = 2, figsize = (15, 10))\n",
    "colors = [\"#00AFBB\", \"#FC4E07\", \"#f57a6c\", \"#E7B800\"]\n",
    "for i in range(4):\n",
    "    row = i // 2\n",
    "    col = i % 2\n",
    "    \n",
    "    topic_rep = gensim_nmf.show_topic(i)\n",
    "    words = [item[0] for item in topic_rep][::-1]\n",
    "    prob = [item[1] for item in topic_rep][::-1]\n",
    "    \n",
    "    ax[row][col].barh(words, prob, color = colors[i])\n",
    "    ax[row][col].tick_params(axis=\"y\", labelsize=14)\n",
    "    ax[row][col].set_xlabel('probability')\n",
    "    ax[row][col].set_title('Representations of topic '+ str(i))\n",
    "    \n",
    "fig.subplots_adjust(wspace=0.4, hspace = 0.3)\n",
    "plt.show()"
   ]
  },
  {
   "cell_type": "markdown",
   "metadata": {
    "hidden": true
   },
   "source": [
    "The above graph shows the top 10 most probable ingredients for 4 of the 20 topics learned by NMF. \n",
    "* Topic 1 seems to represent ingredients for baking / southern food  \n",
    "* Topic 2 seems to represent ingredients for east asian cuisine, excluding Chinese food  \n",
    "* Topic 3 seems to represent ingredients for Chinese cuisine  \n",
    "* Topic 4 seems to represent ingredients for Indian cuisine \n",
    "\n"
   ]
  },
  {
   "cell_type": "markdown",
   "metadata": {
    "heading_collapsed": true,
    "hidden": true
   },
   "source": [
    "## 2(d) Build a recommender"
   ]
  },
  {
   "cell_type": "code",
   "execution_count": 117,
   "metadata": {
    "hidden": true
   },
   "outputs": [
    {
     "data": {
      "text/plain": [
       "NMF(alpha=0.0, beta_loss='frobenius', init=None, l1_ratio=0.0, max_iter=200,\n",
       "    n_components=20, random_state=None, shuffle=False, solver='cd', tol=0.0001,\n",
       "    verbose=0)"
      ]
     },
     "execution_count": 117,
     "metadata": {},
     "output_type": "execute_result"
    }
   ],
   "source": [
    "# Find NMF with 20 latent variables\n",
    "model_20 = NMF(n_components = 20)\n",
    "model_20.fit(V)"
   ]
  },
  {
   "cell_type": "code",
   "execution_count": 118,
   "metadata": {
    "hidden": true
   },
   "outputs": [],
   "source": [
    "# get recommendations\n",
    "recommend = recommender_NMF(model_20, existing_ing, idx_to_word, word_to_idx, cuisine, 6)"
   ]
  },
  {
   "cell_type": "code",
   "execution_count": 119,
   "metadata": {
    "hidden": true
   },
   "outputs": [
    {
     "name": "stdout",
     "output_type": "stream",
     "text": [
      "==================== Example 9015 ====================\n",
      "---------- Existing ingredients ----------\n",
      "['salt_and_ground_black_pepper', 'pears', 'prosciutto', 'pizza_crust', 'cornmeal']\n",
      "---------- Recommended ingredients ----------\n",
      "['baking_powder', 'vegetable_oil', 'green_onions', 'grated_parmesan_cheese', 'milk', 'eggs']\n",
      "---------- Missing ingredients ----------\n",
      "['shredded_swiss_cheese', 'fresh_mozzarella', 'olive_oil', 'italian', 'garlic', 'all-purpose_flour'] \n",
      "\n",
      "==================== Example 8033 ====================\n",
      "---------- Existing ingredients ----------\n",
      "['saffron', 'chili_oil', 'tomatoes', 'sweet_mustard', 'onions']\n",
      "---------- Recommended ingredients ----------\n",
      "['tomato_paste', 'ground_cumin', 'chicken_broth', 'potatoes', 'green_bell_pepper', 'carrots']\n",
      "---------- Missing ingredients ----------\n",
      "['indian', 'green_chilies', 'coriander', 'cauliflower', 'extra-virgin_olive_oil', 'garam_masala', 'curry_leaves', 'water', 'garbanzo_beans'] \n",
      "\n",
      "==================== Example 487 ====================\n",
      "---------- Existing ingredients ----------\n",
      "['ricotta_cheese', 'lasagna_noodles', 'italian', 'marinara_sauce', 'goat_cheese']\n",
      "---------- Recommended ingredients ----------\n",
      "['mozzarella_cheese', 'parmesan_cheese', 'shredded_mozzarella_cheese', 'fresh_basil', 'extra-virgin_olive_oil', 'grated_parmesan_cheese']\n",
      "---------- Missing ingredients ----------\n",
      "['parmesan_cheese', 'eggplant', 'basil'] \n",
      "\n",
      "==================== Example 8614 ====================\n",
      "---------- Existing ingredients ----------\n",
      "['parmesan_cheese', 'pepper', 'fresh_mushrooms', 'sage_leaves', 'olive_oil']\n",
      "---------- Recommended ingredients ----------\n",
      "['dry_white_wine', 'chicken_broth', 'purple_onion', 'tomatoes', 'lemon_juice', 'fresh_parsley']\n",
      "---------- Missing ingredients ----------\n",
      "['dry_white_wine', 'arborio_rice', 'chopped_parsley', 'fat_skimmed_reduced_sodium_chicken_broth', 'fresh_thyme_leaves', 'italian', 'fresh_tarragon', 'finely_chopped_onion'] \n",
      "\n",
      "==================== Example 1468 ====================\n",
      "---------- Existing ingredients ----------\n",
      "['chickpeas', 'ground_cumin', 'golden_raisins', 'carrots', 'ground_lamb']\n",
      "---------- Recommended ingredients ----------\n",
      "['lime', 'garam_masala', 'tomatoes', 'chili_powder', 'fish_sauce', 'onions']\n",
      "---------- Missing ingredients ----------\n",
      "['onions', 'lower_sodium_chicken_broth', 'tomato_paste', 'ground_red_pepper', 'fresh_lemon_juice', 'ground_coriander', 'ground_cinnamon', 'extra-virgin_olive_oil', 'moroccan', 'grated_lemon_zest', 'chopped_cilantro_fresh'] \n",
      "\n"
     ]
    }
   ],
   "source": [
    "# Show example recommendations \n",
    "for i in random.sample(range(len(existing_ing)),5):\n",
    "    print(\"==================== Example \"+ str(i) + \" ====================\" )\n",
    "    print(\"---------- Existing ingredients ----------\")\n",
    "    print(existing_ing[i])\n",
    "    print(\"---------- Recommended ingredients ----------\")\n",
    "    print(recommend[i])\n",
    "    print(\"---------- Missing ingredients ----------\")\n",
    "    print(missing_ing[i], '\\n')"
   ]
  },
  {
   "cell_type": "code",
   "execution_count": 122,
   "metadata": {
    "hidden": true,
    "scrolled": true
   },
   "outputs": [
    {
     "data": {
      "image/png": "[encoded data removed]",
      "text/plain": [
       "<Figure size 720x216 with 3 Axes>"
      ]
     },
     "metadata": {
      "needs_background": "light"
     },
     "output_type": "display_data"
    },
    {
     "name": "stdout",
     "output_type": "stream",
     "text": [
      "Average precision on cross validation set:  0.111841131729261\n",
      "Average recall on cross validation set:  0.10258207928402006\n",
      "Average F-score on cross validation set:  0.0982910401011372\n"
     ]
    }
   ],
   "source": [
    "scores = [compute_scores(recommend[i], missing_ing[i]) for i in range(len(missing_ing))]\n",
    "\n",
    "precisions = [item[0] for item in scores] \n",
    "recalls = [item[1] for item in scores]\n",
    "Fscores = [item[2] for item in scores]\n",
    "\n",
    "fig, ax = plt.subplots(ncols = 3, figsize = (10,3))\n",
    "ax[0].hist(precisions)\n",
    "ax[0].set_title('histogram of precision')\n",
    "\n",
    "ax[1].hist(recalls)\n",
    "ax[1].set_title('histogram of recalls')\n",
    "\n",
    "ax[2].hist(Fscores)\n",
    "ax[2].set_title('histogram of F-scores')\n",
    "plt.show()\n",
    "\n",
    "print(\"Average precision on cross validation set: \", statistics.mean(precisions) )\n",
    "print(\"Average recall on cross validation set: \", statistics.mean(recalls) )\n",
    "print(\"Average F-score on cross validation set: \", statistics.mean(Fscores) )"
   ]
  },
  {
   "cell_type": "markdown",
   "metadata": {
    "hidden": true
   },
   "source": [
    "The model doesn't seem to perform very well as a recommendation system. See the following section for ideas for improvement."
   ]
  },
  {
   "cell_type": "markdown",
   "metadata": {
    "heading_collapsed": true,
    "hidden": true
   },
   "source": [
    "## 2(e) Ideas for improvement"
   ]
  },
  {
   "cell_type": "markdown",
   "metadata": {
    "hidden": true
   },
   "source": [
    "1. Selecting the number of latent variables\n",
    "    * Evaluation on cross-validation resulted in 6 latent variables. The coherence score resulted in 20 latent variables.\n",
    "    * Note that 20 is still a low number of latent variables. For example, one of the topics (topic 1) represented a mix of various east asian cuisine excluding Chinese cuisine. A recommender based on this model could recommend a mix of ingredients that do not necessarily go well together. \n",
    "    * Cross-validation for unsupervised learning models can be difficult. There are some other ways to perform cross-validation on NMF, as illustrated in this <a href=\"http://alexhwilliams.info/itsneuronalblog/2018/02/26/crossval/\">blog post</a>.    \n",
    "2. Tackling bias in dataset.  \n",
    "    * We can gather more data to create a more diverse dataset.  \n",
    "3. Sampling based recommender.  \n",
    "    * In order to add variety to the ingredients recommended, we can build a recommender that sample ingredients according to a probability distribution determined by NMF model. We will need more computing power for this to be feasible. \n",
    "    * Try cloud computing.  \n",
    "4. Differentiating unknown values from 0s.\n",
    "    * Given a list of ingredients, the list is represented by a row vector of 0s and 1s, where 1 is assigned if the ingredient is present.  \n",
    "    * While we use the 0s to indicate the fact that it is unknown whether the ingredient should be present or not, sklearn treats 0s as observed absence of an ingredient.   \n",
    "    * There are ways to perform NMF while differentiating missing / unknown values from 0s. One can write a custom SGD to optimize the cost function only based on the observed ingredients.  \n",
    "    * While differentiating the unknown values from 0s would be more accurate for our problem, I'm not sure if this will necessarily lead to a better performing recommender.  "
   ]
  },
  {
   "cell_type": "markdown",
   "metadata": {},
   "source": [
    "# 3. Word embeddings  "
   ]
  },
  {
   "cell_type": "markdown",
   "metadata": {},
   "source": [
    "<b> Why word embeddings? </b>  \n",
    "* Word analogy functionalities of word embeddings can be useful in understanding questions like \"what vegetable would go well with lamb?\". \n",
    "* I wanted to build a context-dependent recommender using word embeddings.\n",
    "\n",
    "<b> Three word embedding models </b>  \n",
    "I considered three word embedding models for building the recommender:\n",
    "1. Pretrained Word2Vec embedding  \n",
    "2. Word2Vec embedding with custom training  \n",
    "3. Word2Vec neural network with custom training  \n",
    "\n",
    "Note that Word2Vec embeddings are obtained while training a neural network to perform a supervised learning task. The third model uses the trained neural network itself to build the recommender.  \n",
    "\n",
    "<b> Summary </b>\n",
    "* Given a word, the most similar words are sometimes\n",
    "    * substitutes and similar ingredients\n",
    "    * complementary ingredients\n",
    "* For example, given the ingredient \"chicken\", the closest ingredients may be the following : garlic, onions, chicken stock, chicken broth, chicken breasts, sauce, pepper, .... \n",
    "    * While garlic and onions are considered good complementary ingredients, ingredients like chicken stock, chicken broth, chicken breasts similar items that we do not necessarily need. \n",
    "* An ingredient recommender will ideally return the complementary ingredients, and not necessarily the substitutes. This may be one of the reasons why a recommender based solely on word embedding might not perform very well.  \n",
    "* The third model, which uses the neural network itself to recommend ingredients, performs better than the recommender based on word embeddings. This might be because the neural network objective is aligned with the objective of the ingredient recommender.  \n",
    "\n",
    "\n",
    "\n",
    "<b> Idea behind Continuous-Bag-Of-Words model </b>   \n",
    "* Word2Vec embeddings are learned while training a neural network to perform a supervised learning task.  \n",
    "* In this project, I chose the Continuous-Bag-Of-Words (CBOW) model word embedding, which extracts word embeddings while training a neural network that predicts a target word given the context words.  \n",
    "* Say we are building a CBOW model that takes 4 context words (window size of 2) to predict a target word. \n",
    "* Given an example document \"lemon zest\", \"eggs\", \"vanilla extract\", \"sour cream\", \"sugar\" \"cream cheese\", the example text generates the following training data.\n",
    "\n",
    "Example document | Context | Target |  \n",
    "--- | --- | --- |\n",
    "<b>lemon zest</b>, <ins>eggs, vanilla extract</ins>, sour cream, sugar | <ins>eggs, vanilla</ins>| <b>lemon zest</b> | \n",
    "*lemon zest*, <b>eggs</b>,*vanilla extract, sour cream*, sugar  | *lemon zest, vanilla extract, sour cream* | <b>eggs</b> |\n",
    "*lemon zest, eggs,* <b>vanilla extract</b>, *sour cream, sugar* | *lemon zest, eggs, sour cream, sugar*  | <b>vanilla extract</b> |  \n",
    "lemon zest, *eggs, vanilla extract*, <b>sour cream</b>, *sugar* | *eggs, vanilla extract, sugar* | <b>sour cream</b>| \n",
    "lemon zest, eggs, *vanilla extract, sour cream*, <b>sugar</b> | *vanilla extract, sour cream*  | <b>sugar</b>| \n",
    "\n",
    "<b> NOTE: context of the CBOW model </b>  \n",
    "* In the CBOW model, the context consists of words that are in the neighborhood of the target word. \n",
    "* However, for the purpose of this project, the context should be a collection of ingredients that belong in the same recipe. The order of ingredients should not matter.  \n",
    "* In order to take this into account, I performed the following:\n",
    "    (1) permuted the order of ingredients in each document, or\n",
    "    (2) make the context to be the entire document (recipe)"
   ]
  },
  {
   "cell_type": "code",
   "execution_count": 9,
   "metadata": {},
   "outputs": [],
   "source": [
    "# load data\n",
    "df = pd.read_csv('data/ingredient_recommendation/data.csv')\n",
    "cuisine = list(np.unique(df.cuisine))\n",
    "\n",
    "# Convert to correct format (list of lists)\n",
    "documents = [ast.literal_eval(df.document[idx]) for idx in range(df.shape[0])]\n",
    "\n",
    "# randomly shuffle the order of ingredients in each document\n",
    "for item in documents:\n",
    "    random.shuffle(item)\n",
    "    \n",
    "# load train, cv, test data index\n",
    "f = h5py.File('data/ingredient_recommendation/train_val_test.hdf5', 'r')\n",
    "train_idx = list(f.get(\"train_idx\"))\n",
    "cv_idx = list(f.get(\"cv_idx\"))\n",
    "test_idx = list(f.get(\"test_idx\"))\n",
    "f.close()\n",
    "\n",
    "train_doc = [documents[i] for i in train_idx]\n",
    "cv_doc = [documents[i] for i in test_idx]"
   ]
  },
  {
   "cell_type": "markdown",
   "metadata": {
    "colab_type": "text",
    "heading_collapsed": true,
    "id": "8NbtLorVuwFi"
   },
   "source": [
    "## 3(a) Pretrained Word2Vec model"
   ]
  },
  {
   "cell_type": "markdown",
   "metadata": {
    "hidden": true
   },
   "source": [
    "<b> model </b>\n",
    "* pre-trained word2vec model from the <a href=\"https://code.google.com/archive/p/word2vec/\">Google News dataset</a>\n",
    "* The model contains 300-dimensional vectors for 3 million words and phrases  \n",
    "* You should download the pre-trained model in the <a href=\"https://code.google.com/archive/p/word2vec/\">Google Code Archive</a>\n",
    "\n",
    "<b> summary </b> \n",
    "* The pre-trained model takes a <b>long time to load the model</b>, probably because the model contains 3 million words and phrases. \n",
    "* The words are not clean: singular and plural nouns, as well as capitalized and lowercase words, are all embedded as separate vectors.   \n",
    "* The query results are not fit for ingredients recommendation. When we query with an ingredient & cuisine style, the pre-trained model returns dishes involving the ingredient and cuisine style, but not necessarily the ingredients. \n"
   ]
  },
  {
   "cell_type": "code",
   "execution_count": 3,
   "metadata": {
    "hidden": true
   },
   "outputs": [
    {
     "name": "stdout",
     "output_type": "stream",
     "text": [
      "time for loading pre-trained word2vec model: 29.680778 seconds\n"
     ]
    }
   ],
   "source": [
    "# load pre-trained word2vec model\n",
    "tic = time.time()\n",
    "path_googlenews = 'models/word2vec/GoogleNews-vectors-negative300.bin'\n",
    "pretrained_word2vec= gensim.models.KeyedVectors.load_word2vec_format(path_googlenews, binary=True) \n",
    "toc = time.time()\n",
    "duration = toc-tic\n",
    "print('time for loading pre-trained word2vec model: %f seconds' %duration)"
   ]
  },
  {
   "cell_type": "markdown",
   "metadata": {
    "hidden": true
   },
   "source": [
    "<b> Explore some example word analogies with pre-trained embedding </b>\n"
   ]
  },
  {
   "cell_type": "code",
   "execution_count": 6,
   "metadata": {
    "hidden": true,
    "scrolled": true
   },
   "outputs": [
    {
     "data": {
      "text/plain": [
       "[('asparagus', 0.7477847933769226),\n",
       " ('lamb', 0.7341278791427612),\n",
       " ('leeks', 0.6118133664131165),\n",
       " ('pears', 0.5814478993415833),\n",
       " ('artichokes', 0.5737591981887817),\n",
       " ('Asparagus', 0.570747971534729),\n",
       " ('lambs', 0.5622800588607788),\n",
       " ('lettuces', 0.5590056777000427),\n",
       " ('cauliflower', 0.556602954864502),\n",
       " ('grapes', 0.5431725978851318)]"
      ]
     },
     "execution_count": 6,
     "metadata": {},
     "output_type": "execute_result"
    }
   ],
   "source": [
    "# What vegetable would go well with lamb?\n",
    "# steak : asparagus = lamb : ?\n",
    "pretrained_word2vec.similar_by_vector(pretrained_word2vec['lamb']\n",
    "                                         + pretrained_word2vec['asparagus'] \n",
    "                                         - pretrained_word2vec['steak'],restrict_vocab=None)"
   ]
  },
  {
   "cell_type": "code",
   "execution_count": 7,
   "metadata": {
    "hidden": true,
    "scrolled": false
   },
   "outputs": [
    {
     "data": {
      "text/plain": [
       "[('indian', 0.7856177091598511),\n",
       " ('chicken', 0.6813027858734131),\n",
       " ('bhindi', 0.5753321051597595),\n",
       " ('chinese', 0.5726394653320312),\n",
       " ('kheema', 0.5670615434646606),\n",
       " ('murgh', 0.5662177801132202),\n",
       " ('pata', 0.5563851594924927),\n",
       " ('frijoles', 0.5535427331924438),\n",
       " ('karahi', 0.5507655143737793),\n",
       " ('baingan', 0.5482612252235413),\n",
       " ('thosai', 0.5467449426651001),\n",
       " ('indians', 0.5445945858955383),\n",
       " ('pakoda', 0.5417669415473938),\n",
       " ('india', 0.541608452796936),\n",
       " ('american', 0.5409203767776489)]"
      ]
     },
     "execution_count": 7,
     "metadata": {},
     "output_type": "execute_result"
    }
   ],
   "source": [
    "# What ingredients do I need if I want to cook Indian style chicken?\n",
    "pretrained_word2vec.similar_by_vector(pretrained_word2vec['chicken'] \n",
    "                                         + pretrained_word2vec['indian'],topn=15)\n"
   ]
  },
  {
   "cell_type": "markdown",
   "metadata": {
    "hidden": true
   },
   "source": [
    "The above word analogies show two problems with using the pretrained word2vec model.     \n",
    "   1. The words are not very clean. Singular and plural words are embedded as separate words. Similarly, lower case and capitalized words are embedded as separate words.   \n",
    "   2. When the word2vec model is queried for recommendations on 'Indian style chicken', the model returns a list of Indian dishes that involve chicken. However, it doesn't return the actual ingredients that one would need to create these dishes.\n"
   ]
  },
  {
   "cell_type": "markdown",
   "metadata": {
    "heading_collapsed": true
   },
   "source": [
    "## 3(b) custom-trained Word2Vec model"
   ]
  },
  {
   "cell_type": "markdown",
   "metadata": {
    "hidden": true
   },
   "source": [
    "* A Word2Vec model was trained on the ingredients data\n",
    "\n",
    "<b> Summary </b>\n",
    "* The resulting model is <b>fast</b> to train\n",
    "* The word-analogy results were more fit for our purpose.  \n",
    "* However, given an ingredient, the similar words were not necessarily complementary ingredients. Sometimes, the similar words were substitutes to the given ingredient.  "
   ]
  },
  {
   "cell_type": "code",
   "execution_count": 159,
   "metadata": {
    "hidden": true
   },
   "outputs": [
    {
     "data": {
      "image/png": "[encoded data removed]",
      "text/plain": [
       "<Figure size 432x288 with 1 Axes>"
      ]
     },
     "metadata": {
      "needs_background": "light"
     },
     "output_type": "display_data"
    },
    {
     "name": "stdout",
     "output_type": "stream",
     "text": [
      "maximum number of ingredients in a given recipe:  65\n",
      "minimum number of ingredients in a given recipe:  2\n"
     ]
    }
   ],
   "source": [
    "# Given a document and an ingredient, use all other ingredients in the same document as context\n",
    "\n",
    "# Number of ingredients in each recipe\n",
    "ing_len = [len(x) for x in documents]\n",
    "\n",
    "plt.hist(ing_len)\n",
    "plt.title('histogram of number of ingredients in recipes')\n",
    "plt.show()\n",
    "print('maximum number of ingredients in a given recipe: ', max(ing_len))  \n",
    "print('minimum number of ingredients in a given recipe: ', min(ing_len))"
   ]
  },
  {
   "cell_type": "code",
   "execution_count": 164,
   "metadata": {
    "colab": {},
    "colab_type": "code",
    "hidden": true,
    "id": "DFa5MRObtARX"
   },
   "outputs": [],
   "source": [
    "# train word2vec\n",
    "embedding_dim=300\n",
    "model=gensim.models.Word2Vec(documents, \n",
    "                             size=embedding_dim, \n",
    "                             window=33, \n",
    "                             min_count=0, \n",
    "                             iter = 10)"
   ]
  },
  {
   "cell_type": "code",
   "execution_count": 165,
   "metadata": {
    "hidden": true
   },
   "outputs": [
    {
     "name": "stdout",
     "output_type": "stream",
     "text": [
      "Ingredients that are most similar to chicken\n",
      "('chicken_breasts', 0.7559722065925598)\n",
      "('chicken_thighs', 0.7339152097702026)\n",
      "('boneless_chicken_breast', 0.6779407262802124)\n",
      "('boneless_skinless_chicken_breasts', 0.64495849609375)\n",
      "('chicken_pieces', 0.6433842182159424)\n",
      "('chicken_legs', 0.5989812612533569)\n",
      "('meat', 0.5918811559677124)\n",
      "('chicken_meat', 0.5782774686813354)\n",
      "('skinless_chicken_breasts', 0.5696227550506592)\n",
      "('boneless_chicken_skinless_thigh', 0.5435144305229187)\n",
      "('lamb_chops', 0.5178095102310181)\n",
      "('bay_leaves', 0.5152599215507507)\n",
      "('pork_butt', 0.5108005404472351)\n",
      "('boneless_skinless_chicken', 0.5052850246429443)\n",
      "('chuck_roast', 0.5030993223190308)\n"
     ]
    }
   ],
   "source": [
    "# what ingredients are most similar to a given ingredient?\n",
    "word = 'chicken'\n",
    "\n",
    "word_sim = model.wv.most_similar(word, topn = 15)\n",
    "print(\"Ingredients that are most similar to \"+ str(word))\n",
    "print(*word_sim, sep='\\n')"
   ]
  },
  {
   "cell_type": "markdown",
   "metadata": {
    "hidden": true
   },
   "source": [
    "<b> Note </b>\n",
    "* One can vary many of the parameters involved with training Word2Vec.  \n",
    "* I chose a window size of 33 so that every ingredient in a document can be considered as context.  \n",
    "* The number of iterations also makes a visible difference. Word2Vec models trained with high number of iterations will embed ingredients so that similar ingredients (substitutes) will be embedded as similar vectors. "
   ]
  },
  {
   "cell_type": "markdown",
   "metadata": {
    "hidden": true
   },
   "source": [
    "<b> Word analogies </b> \n",
    "* Let's say I'm cooking lamb, and I want to know what vegetable would go well with lamb. \n",
    "* I can use known protein-vegetable pairings, such as steak & asparagus, to ask the word embedding to solve the following word analogy problem  \n",
    "    <b>steak</b> is to <b>asparagus</b> as <b>lamb</b> is to <b>?</b>   \n",
    "    i.e., steak : asparagus = lamb : ?  \n",
    "* That is, we want to find the ingredient that best satisfies the following:  \n",
    "    wv['asparagus']-wv['steak'] = wv[?] - wv['lamb'], or\n",
    "    wv[?] = wv['lamb'] + wv['asparagus'] - wv['steak']\n",
    "    "
   ]
  },
  {
   "cell_type": "code",
   "execution_count": 79,
   "metadata": {
    "colab": {
     "base_uri": "https://localhost:8080/",
     "height": 390
    },
    "colab_type": "code",
    "hidden": true,
    "id": "p2In2rPbuwLR",
    "outputId": "731c9593-36c3-49db-cf06-bc415d927fd5"
   },
   "outputs": [
    {
     "data": {
      "text/plain": [
       "[('asparagus', 0.8026875257492065),\n",
       " ('florets', 0.7683296203613281),\n",
       " ('yellow_crookneck_squash', 0.7330018281936646),\n",
       " ('harissa_paste', 0.6923336982727051),\n",
       " ('fennel_bulb', 0.6366307735443115),\n",
       " ('brine_cured_green_olives', 0.6307729482650757),\n",
       " ('fronds', 0.6216326951980591),\n",
       " ('pinenuts', 0.620043158531189),\n",
       " ('spinach_leaves', 0.619823694229126),\n",
       " ('artichokes', 0.6192194223403931)]"
      ]
     },
     "execution_count": 79,
     "metadata": {},
     "output_type": "execute_result"
    }
   ],
   "source": [
    "model.wv.similar_by_vector(model.wv['lamb']+model.wv['asparagus']-model.wv['steak'],restrict_vocab=None)"
   ]
  },
  {
   "cell_type": "markdown",
   "metadata": {
    "hidden": true
   },
   "source": [
    "<b> Cooking in style </b>  \n",
    "* What if I wanted to cook a particular ingredient in a particular cuisine?  \n",
    "* For example, if I wished to cook chicken in an Indian style cuisine, what other ingredients would go well?"
   ]
  },
  {
   "cell_type": "code",
   "execution_count": 80,
   "metadata": {
    "colab": {
     "base_uri": "https://localhost:8080/",
     "height": 390
    },
    "colab_type": "code",
    "hidden": true,
    "id": "2bZMh2kPyJ90",
    "outputId": "ed7e2302-c778-47c6-e45f-951d597273ab",
    "scrolled": true
   },
   "outputs": [
    {
     "data": {
      "text/plain": [
       "[('indian', 0.9408016204833984),\n",
       " ('garam_masala', 0.6604063510894775),\n",
       " ('powdered_turmeric', 0.6591247916221619),\n",
       " ('yoghurt', 0.652044415473938),\n",
       " ('basmati_rice', 0.6508928537368774),\n",
       " ('plain_yogurt', 0.6484106779098511),\n",
       " ('natural_yogurt', 0.6417350769042969),\n",
       " ('ground_turmeric', 0.6345005035400391),\n",
       " ('whole_milk_yoghurt', 0.6327574253082275),\n",
       " ('fenugreek', 0.6308575868606567),\n",
       " ('tumeric', 0.6234149932861328),\n",
       " ('green_cardamom_pods', 0.6210233569145203),\n",
       " ('curry_leaves', 0.614196240901947),\n",
       " ('bengali_5_spice', 0.606643795967102),\n",
       " ('black_mustard_seeds', 0.6029819250106812)]"
      ]
     },
     "execution_count": 80,
     "metadata": {},
     "output_type": "execute_result"
    }
   ],
   "source": [
    "model.wv.similar_by_vector(model.wv['chicken'] + model.wv['indian'],topn=15)"
   ]
  },
  {
   "cell_type": "markdown",
   "metadata": {
    "hidden": true
   },
   "source": [
    "<b>Recommending new ingredients from existing ingredients </b>  \n",
    "* For example, let's say I want to cook my chicken in Korean style, and I have the following ingredients: chicken, onions, sesame seeds.  \n",
    "* Can the model recommend some other ingredients that would go well?  "
   ]
  },
  {
   "cell_type": "code",
   "execution_count": 81,
   "metadata": {
    "hidden": true,
    "scrolled": true
   },
   "outputs": [
    {
     "data": {
      "text/plain": [
       "[('korean', 0.8160548806190491),\n",
       " ('rice_wine', 0.6937564015388489),\n",
       " ('gochujang_base', 0.6881811618804932),\n",
       " ('sandwich_steak', 0.6599498987197876),\n",
       " ('cress', 0.6517894268035889),\n",
       " ('sesame_seeds', 0.639244794845581),\n",
       " ('peapods', 0.6373145580291748),\n",
       " ('soy_bean_paste', 0.6156319975852966),\n",
       " ('hot_bean_paste', 0.6145368814468384),\n",
       " ('gochugaru', 0.6096622943878174),\n",
       " ('kimchi', 0.6007468104362488),\n",
       " ('brown_rice_vinegar', 0.5979486703872681),\n",
       " ('fried_eggs', 0.5929040908813477),\n",
       " ('toasted_sesame_seeds', 0.5797392129898071),\n",
       " ('sesame_chili_oil', 0.5733048915863037)]"
      ]
     },
     "execution_count": 81,
     "metadata": {},
     "output_type": "execute_result"
    }
   ],
   "source": [
    "model.wv.similar_by_vector(model.wv['chicken'] + model.wv['korean']\n",
    "                           + model.wv['onions'] + model.wv['sesame_seeds'],topn=15)"
   ]
  },
  {
   "cell_type": "markdown",
   "metadata": {
    "hidden": true
   },
   "source": [
    "### Build a recommender\n",
    "* Train word2vec only on the training set\n",
    "* Evaluate performance of recommender on training set and CV set"
   ]
  },
  {
   "cell_type": "code",
   "execution_count": 137,
   "metadata": {
    "hidden": true
   },
   "outputs": [],
   "source": [
    "# train word2vec\n",
    "embedding_dim=300\n",
    "model=gensim.models.Word2Vec(train_doc, \n",
    "                             size=embedding_dim, \n",
    "                             window=5, \n",
    "                             min_count=0, \n",
    "                             iter = 10)"
   ]
  },
  {
   "cell_type": "code",
   "execution_count": 138,
   "metadata": {
    "hidden": true
   },
   "outputs": [],
   "source": [
    "def recommend_word2vec(model, existing_ing, cuisine, n):\n",
    "    # Recommend ingredients using Word2Vec embedding.  \n",
    "    # Given a list of existing ingredients, find the vector \"v\" representing the existing ingredients\n",
    "    # Recommend ingredients that are similar to this vector \"v\"\n",
    "    \n",
    "    # model: trained Word2Vec model\n",
    "    # existing_ing: (list of lists) Each item is a list of existing ingredients for a particular recipe \n",
    "    # cuisine: (list) of cuisine names \n",
    "    # recommend: (list of lists) Each item is a list of recommended ingredients\n",
    "    \n",
    "    recommend = []\n",
    "\n",
    "    for idx, document in enumerate(existing_ing):\n",
    "        \n",
    "        # turn existing ingredients into a word vector\n",
    "        # sum the vectors for all ingredients, only if the ingredient exists in the model\n",
    "        vec = sum([model.wv[item] for item in document if item in model.wv.vocab])\n",
    "        \n",
    "        # find similar ingredients\n",
    "        similar_ing = model.wv.similar_by_vector(vec,topn = n + len(document) + len(cuisine))\n",
    "        \n",
    "        # remove existing ingredients and cuisine names\n",
    "        rec_ing = [item[0] for item in similar_ing if item[0] not in document\n",
    "                  and item[0] not in cuisine]\n",
    "        recommend.append(rec_ing[:n])\n",
    "    return recommend"
   ]
  },
  {
   "cell_type": "markdown",
   "metadata": {
    "hidden": true
   },
   "source": [
    "<b> Make ingredient recommendations for training data </b> \n"
   ]
  },
  {
   "cell_type": "code",
   "execution_count": 142,
   "metadata": {
    "hidden": true
   },
   "outputs": [],
   "source": [
    "# get existing ingredients and the remaining ingredients to be predicted\n",
    "existing_ing, missing_ing = sample_ingredients(train_doc, 5)\n",
    "\n",
    "# predict remaining ingredients\n",
    "recommend = recommend_word2vec(model, existing_ing, cuisine, 6)"
   ]
  },
  {
   "cell_type": "code",
   "execution_count": 143,
   "metadata": {
    "hidden": true
   },
   "outputs": [
    {
     "name": "stdout",
     "output_type": "stream",
     "text": [
      "==================== Example 18565 ====================\n",
      "---------- Existing ingredients ----------\n",
      "['parmigiano_reggiano_cheese', 'onions', 'italian', 'freshly_ground_pepper', 'extra-virgin_olive_oil']\n",
      "---------- Recommended ingredients ----------\n",
      "['freshly_grated_parmesan', 'pecorino_romano_cheese', 'portabello_mushroom', 'italian_plum_tomatoes', 'pecorino_cheese', 'fresh_parsley_leaves']\n",
      "---------- Missing ingredients ----------\n",
      "['beans', 'thyme', 'white_wine', 'pearl_barley', 'unsalted_butter', 'escarole', 'vegetable_stock'] \n",
      "\n",
      "==================== Example 16816 ====================\n",
      "---------- Existing ingredients ----------\n",
      "['yukon_gold_potatoes', 'fennel', 'sea_salt', 'water', 'chicken_thighs']\n",
      "---------- Recommended ingredients ----------\n",
      "['coarse_sea_salt', 'spanish_chorizo', 'fish_fillets', 'turnips', 'lamb_shanks', 'veal_knuckle']\n",
      "---------- Missing ingredients ----------\n",
      "['freshly_ground_pepper', 'french', 'tomatoes', 'extra-virgin_olive_oil'] \n",
      "\n",
      "==================== Example 4765 ====================\n",
      "---------- Existing ingredients ----------\n",
      "['water', 'whole_milk', 'semisweet_chocolate', 'sugar', 'french']\n",
      "---------- Recommended ingredients ----------\n",
      "['port_wine', 'beaujolais', 'golden_delicious_apples', 'frangipane', 'marrons', 'crabapples']\n",
      "---------- Missing ingredients ----------\n",
      "['all-purpose_flour', 'unsalted_butter', 'large_egg_yolks', 'unsweetened_cocoa_powder', 'large_eggs'] \n",
      "\n",
      "==================== Example 4631 ====================\n",
      "---------- Existing ingredients ----------\n",
      "['grated_parmesan_cheese', 'fresh_parsley', 'heavy_cream', 'italian', 'garlic']\n",
      "---------- Recommended ingredients ----------\n",
      "['romano_cheese', 'sweet_italian_sausage', 'sausage_casings', 'freshly_grated_parmesan', 'sausage_meat', 'portabello_mushroom']\n",
      "---------- Missing ingredients ----------\n",
      "['butter'] \n",
      "\n",
      "==================== Example 4987 ====================\n",
      "---------- Existing ingredients ----------\n",
      "['dried_thyme', 'large_shrimp', 'fresh_lemon_juice', 'lemon', 'ground_black_pepper']\n",
      "---------- Recommended ingredients ----------\n",
      "['lemon_wedge', 'cracked_black_pepper', 'cajun-creole_seasoning_mix', 'small_red_potato', 'fillet_red_snapper', 'spanish_chorizo']\n",
      "---------- Missing ingredients ----------\n",
      "['worcestershire_sauce', 'butter', 'fresh_rosemary', 'ground_red_pepper', 'chopped_garlic', 'hot_pepper_sauce', 'cajun_creole'] \n",
      "\n"
     ]
    }
   ],
   "source": [
    "# Show example recommendations \n",
    "for i in random.sample(range(len(existing_ing)),5):\n",
    "    print(\"==================== Example \"+ str(i) + \" ====================\" )\n",
    "    print(\"---------- Existing ingredients ----------\")\n",
    "    print(existing_ing[i])\n",
    "    print(\"---------- Recommended ingredients ----------\")\n",
    "    print(recommend[i])\n",
    "    print(\"---------- Missing ingredients ----------\")\n",
    "    print(missing_ing[i], '\\n')"
   ]
  },
  {
   "cell_type": "code",
   "execution_count": 144,
   "metadata": {
    "hidden": true
   },
   "outputs": [
    {
     "data": {
      "image/png": "[encoded data removed]",
      "text/plain": [
       "<Figure size 720x216 with 3 Axes>"
      ]
     },
     "metadata": {
      "needs_background": "light"
     },
     "output_type": "display_data"
    },
    {
     "name": "stdout",
     "output_type": "stream",
     "text": [
      "Average precision on cross validation set:  0.024147221798586752\n",
      "Average recall on cross validation set:  0.022873992227487677\n",
      "Average F-score on cross validation set:  0.02132875529404803\n"
     ]
    }
   ],
   "source": [
    "scores = [compute_scores(recommend[i], missing_ing[i]) for i in range(len(missing_ing))]\n",
    "\n",
    "precisions = [item[0] for item in scores] \n",
    "recalls = [item[1] for item in scores]\n",
    "Fscores = [item[2] for item in scores]\n",
    "\n",
    "fig, ax = plt.subplots(ncols = 3, figsize = (10,3))\n",
    "ax[0].hist(precisions)\n",
    "ax[0].set_title('histogram of precision')\n",
    "\n",
    "ax[1].hist(recalls)\n",
    "ax[1].set_title('histogram of recalls')\n",
    "\n",
    "ax[2].hist(Fscores)\n",
    "ax[2].set_title('histogram of F-scores')\n",
    "plt.show()\n",
    "\n",
    "print(\"Average precision on cross validation set: \", statistics.mean(precisions) )\n",
    "print(\"Average recall on cross validation set: \", statistics.mean(recalls) )\n",
    "print(\"Average F-score on cross validation set: \", statistics.mean(Fscores) )"
   ]
  },
  {
   "cell_type": "markdown",
   "metadata": {
    "hidden": true
   },
   "source": [
    "<b> Make ingredient recommendations for CV set </b>"
   ]
  },
  {
   "cell_type": "code",
   "execution_count": 118,
   "metadata": {
    "hidden": true
   },
   "outputs": [],
   "source": [
    "# get existing ingredients and the remaining ingredients to be predicted\n",
    "existing_ing, missing_ing = sample_ingredients(cv_doc, 5)\n",
    "\n",
    "# predict remaining ingredients\n",
    "recommend = recommend_word2vec(model, existing_ing, cuisine, 6)"
   ]
  },
  {
   "cell_type": "code",
   "execution_count": null,
   "metadata": {
    "hidden": true
   },
   "outputs": [],
   "source": [
    "# Show example recommendations \n",
    "for i in random.sample(range(len(existing_ing)),5):\n",
    "    print(\"==================== Example \"+ str(i) + \" ====================\" )\n",
    "    print(\"---------- Existing ingredients ----------\")\n",
    "    print(existing_ing[i])\n",
    "    print(\"---------- Recommended ingredients ----------\")\n",
    "    print(recommend[i])\n",
    "    print(\"---------- Missing ingredients ----------\")\n",
    "    print(missing_ing[i], '\\n')"
   ]
  },
  {
   "cell_type": "code",
   "execution_count": 119,
   "metadata": {
    "hidden": true,
    "scrolled": false
   },
   "outputs": [
    {
     "data": {
      "image/png": "[encoded data removed]",
      "text/plain": [
       "<Figure size 720x216 with 3 Axes>"
      ]
     },
     "metadata": {
      "needs_background": "light"
     },
     "output_type": "display_data"
    },
    {
     "name": "stdout",
     "output_type": "stream",
     "text": [
      "Average precision on cross validation set:  0.021755883573418695\n",
      "Average recall on cross validation set:  0.019712194929087427\n",
      "Average F-score on cross validation set:  0.01884710582109211\n"
     ]
    }
   ],
   "source": [
    "scores = [compute_scores(recommend[i], missing_ing[i]) for i in range(len(missing_ing))]\n",
    "\n",
    "precisions = [item[0] for item in scores] \n",
    "recalls = [item[1] for item in scores]\n",
    "Fscores = [item[2] for item in scores]\n",
    "\n",
    "fig, ax = plt.subplots(ncols = 3, figsize = (10,3))\n",
    "ax[0].hist(precisions)\n",
    "ax[0].set_title('histogram of precision')\n",
    "\n",
    "ax[1].hist(recalls)\n",
    "ax[1].set_title('histogram of recalls')\n",
    "\n",
    "ax[2].hist(Fscores)\n",
    "ax[2].set_title('histogram of F-scores')\n",
    "plt.show()\n",
    "\n",
    "print(\"Average precision on cross validation set: \", statistics.mean(precisions) )\n",
    "print(\"Average recall on cross validation set: \", statistics.mean(recalls) )\n",
    "print(\"Average F-score on cross validation set: \", statistics.mean(Fscores) )"
   ]
  },
  {
   "cell_type": "markdown",
   "metadata": {
    "hidden": true
   },
   "source": [
    "<b> Summary </b> \n",
    "* Ingredient recommender based on similarites of word embeddings does not perform very well.  \n",
    "* I think this is because word embeddings assign similar vectors to similar (substitute) ingredients. \n",
    "* We want the ingredient recommender to recommend complementary ingredients instead of substitutes. "
   ]
  },
  {
   "cell_type": "markdown",
   "metadata": {
    "heading_collapsed": true
   },
   "source": [
    "## 3(c) Neural network from Word2Vec"
   ]
  },
  {
   "cell_type": "markdown",
   "metadata": {
    "hidden": true
   },
   "source": [
    "* Note that the Word2Vec model is trained through a neural network that performs the task of predicting a target word from its context.  \n",
    "* I will use the neural network itself to build the recommender. \n",
    "* I believe this recommender will perform decently since the neural network objective is aligned with the objective of the recommender"
   ]
  },
  {
   "cell_type": "code",
   "execution_count": 130,
   "metadata": {
    "hidden": true
   },
   "outputs": [],
   "source": [
    "def recommend_word2vec_NN(model, existing_ing, cuisine, n):\n",
    "    # Recommend ingredients using the neural network of the trained Word2Vec model.\n",
    "    # Given a list of existing ingredients, return ingredients that have the highest \n",
    "    # probabilities according to the underlying neural network.\n",
    "    \n",
    "    # model: trained Word2Vec model\n",
    "    # existing_ing: (list of lists) Each item is a list of existing ingredients for a particular recipe \n",
    "    # cuisine: (list) of cuisine names\n",
    "    # n: (int) number of ingredients to recommend\n",
    "    \n",
    "    recommend = []\n",
    "\n",
    "    for idx, doc in enumerate(existing_ing):\n",
    "\n",
    "        # recommend ingredients\n",
    "        prediction = model.predict_output_word(doc, topn = n + len(existing_ing) + len(cuisine))\n",
    "        prediction = [item[0] for item in prediction if (item[0] not in doc\n",
    "                                                    and item[0] not in cuisine)]\n",
    "        recommend.append(prediction[:n])\n",
    "        \n",
    "    return recommend"
   ]
  },
  {
   "cell_type": "code",
   "execution_count": 121,
   "metadata": {
    "hidden": true
   },
   "outputs": [],
   "source": [
    "# load train, cv, test data index\n",
    "f = h5py.File('data/ingredient_recommendation/train_val_test.hdf5', 'r')\n",
    "train_idx = list(f.get(\"train_idx\"))\n",
    "cv_idx = list(f.get(\"cv_idx\"))\n",
    "test_idx = list(f.get(\"test_idx\"))\n",
    "f.close()\n",
    "\n",
    "train_doc = [documents[i] for i in train_idx]\n",
    "cv_doc = [documents[i] for i in test_idx]"
   ]
  },
  {
   "cell_type": "code",
   "execution_count": 152,
   "metadata": {
    "hidden": true
   },
   "outputs": [],
   "source": [
    "# train model\n",
    "model = Word2Vec(train_doc, window = 33, compute_loss = True, iter = 10)\n",
    "# while the model computes the loss, its a cumulative loss\n",
    "# (not the loss from the most recent epoch)"
   ]
  },
  {
   "cell_type": "markdown",
   "metadata": {
    "hidden": true
   },
   "source": [
    "<b> Make ingredient recommendations for training data </b> \n"
   ]
  },
  {
   "cell_type": "code",
   "execution_count": 153,
   "metadata": {
    "hidden": true
   },
   "outputs": [],
   "source": [
    "# get existing ingredients and the remaining ingredients to be predicted\n",
    "existing_ing, missing_ing = sample_ingredients(train_doc, 5)\n",
    "\n",
    "# predict remaining ingredients\n",
    "recommend = recommend_word2vec_NN(model, existing_ing, cuisine, 6)"
   ]
  },
  {
   "cell_type": "code",
   "execution_count": 154,
   "metadata": {
    "hidden": true
   },
   "outputs": [
    {
     "name": "stdout",
     "output_type": "stream",
     "text": [
      "==================== Example 18924 ====================\n",
      "---------- Existing ingredients ----------\n",
      "['feta_cheese', 'salsa', 'tortillas', 'mexican', 'eggs']\n",
      "---------- Recommended ingredients ----------\n",
      "['shredded_cheese', 'flour_tortillas', 'black_olives', 'lettuce', 'avocado', 'refried_beans']\n",
      "---------- Missing ingredients ----------\n",
      "['avocado', 'refried_beans'] \n",
      "\n",
      "==================== Example 25597 ====================\n",
      "---------- Existing ingredients ----------\n",
      "['chickpeas', 'lemon', 'butter', 'noodles', 'eggs']\n",
      "---------- Recommended ingredients ----------\n",
      "['bread_crumbs', 'parsley', 'flour', 'lamb', 'spinach', 'saffron']\n",
      "---------- Missing ingredients ----------\n",
      "['canned_tomatoes', 'fresh_cilantro', 'black_pepper', 'celery', 'lentils', 'cinnamon', 'tumeric', 'onions', 'fresh_parsley', 'moroccan', 'ginger', 'lamb'] \n",
      "\n",
      "==================== Example 3685 ====================\n",
      "---------- Existing ingredients ----------\n",
      "['tumeric', 'chopped_cilantro', 'eggs', 'golden_raisins', 'leg_of_lamb']\n",
      "---------- Recommended ingredients ----------\n",
      "['garam_masala', 'plain_yogurt', 'ground_cardamom', 'ground_coriander', 'ground_turmeric', 'greek_yogurt']\n",
      "---------- Missing ingredients ----------\n",
      "['freshly_ground_pepper', 'spanish_onion', 'cinnamon_sticks', 'cilantro_sprigs', 'cumin_seed', 'saffron_threads', 'chicken_stock', 'blanched_almonds', 'indian', 'vegetable_oil', 'basmati_rice', 'cayenne_pepper', 'milk', 'garam_masala', 'plain_whole-milk_yogurt', 'large_garlic_cloves', 'fresh_ginger'] \n",
      "\n",
      "==================== Example 1210 ====================\n",
      "---------- Existing ingredients ----------\n",
      "['heavy_cream', 'half_&_half', 'cold_water', 'sugar', 'vanilla_extract']\n",
      "---------- Recommended ingredients ----------\n",
      "['whipping_cream', 'heavy_whipping_cream', 'unsweetened_cocoa_powder', 'egg_yolks', 'cream_of_tartar', 'corn_starch']\n",
      "---------- Missing ingredients ----------\n",
      "['italian', 'unflavored_gelatin'] \n",
      "\n",
      "==================== Example 12099 ====================\n",
      "---------- Existing ingredients ----------\n",
      "['crackers', 'vegetables', 'shredded_cheddar_cheese', 'tomatoes', 'cream_cheese']\n",
      "---------- Recommended ingredients ----------\n",
      "['flour_tortillas', 'taco_seasoning_mix', 'processed_cheese', 'sour_cream', 'shredded_lettuce', 'lettuce']\n",
      "---------- Missing ingredients ----------\n",
      "['baguette', 'southern_us', 'pecorino_romano_cheese', 'bacon', 'cooked_turkey', 'greek_style_plain_yogurt', 'grated_nutmeg'] \n",
      "\n"
     ]
    }
   ],
   "source": [
    "# Show example recommendations \n",
    "for i in random.sample(range(len(existing_ing)),5):\n",
    "    print(\"==================== Example \"+ str(i) + \" ====================\" )\n",
    "    print(\"---------- Existing ingredients ----------\")\n",
    "    print(existing_ing[i])\n",
    "    print(\"---------- Recommended ingredients ----------\")\n",
    "    print(recommend[i])\n",
    "    print(\"---------- Missing ingredients ----------\")\n",
    "    print(missing_ing[i], '\\n')"
   ]
  },
  {
   "cell_type": "code",
   "execution_count": 155,
   "metadata": {
    "hidden": true
   },
   "outputs": [
    {
     "data": {
      "image/png": "[encoded data removed]",
      "text/plain": [
       "<Figure size 720x216 with 3 Axes>"
      ]
     },
     "metadata": {
      "needs_background": "light"
     },
     "output_type": "display_data"
    },
    {
     "name": "stdout",
     "output_type": "stream",
     "text": [
      "Average precision on cross validation set:  0.10444308881093996\n",
      "Average recall on cross validation set:  0.10522471243622446\n",
      "Average F-score on cross validation set:  0.09475098836719886\n"
     ]
    }
   ],
   "source": [
    "scores = [compute_scores(recommend[i], missing_ing[i]) for i in range(len(missing_ing))]\n",
    "\n",
    "precisions = [item[0] for item in scores] \n",
    "recalls = [item[1] for item in scores]\n",
    "Fscores = [item[2] for item in scores]\n",
    "\n",
    "fig, ax = plt.subplots(ncols = 3, figsize = (10,3))\n",
    "ax[0].hist(precisions)\n",
    "ax[0].set_title('histogram of precision')\n",
    "\n",
    "ax[1].hist(recalls)\n",
    "ax[1].set_title('histogram of recalls')\n",
    "\n",
    "ax[2].hist(Fscores)\n",
    "ax[2].set_title('histogram of F-scores')\n",
    "plt.show()\n",
    "\n",
    "print(\"Average precision on cross validation set: \", statistics.mean(precisions) )\n",
    "print(\"Average recall on cross validation set: \", statistics.mean(recalls) )\n",
    "print(\"Average F-score on cross validation set: \", statistics.mean(Fscores) )"
   ]
  },
  {
   "cell_type": "markdown",
   "metadata": {
    "hidden": true
   },
   "source": [
    "<b> Make ingredient recommendations for CV set </b>"
   ]
  },
  {
   "cell_type": "code",
   "execution_count": 156,
   "metadata": {
    "hidden": true
   },
   "outputs": [],
   "source": [
    "# get existing ingredients and the remaining ingredients to be predicted\n",
    "existing_ing, missing_ing = sample_ingredients(cv_doc, 5)\n",
    "\n",
    "# predict remaining ingredients\n",
    "recommend = recommend_word2vec_NN(model, existing_ing, cuisine, 6)"
   ]
  },
  {
   "cell_type": "code",
   "execution_count": 157,
   "metadata": {
    "hidden": true
   },
   "outputs": [
    {
     "name": "stdout",
     "output_type": "stream",
     "text": [
      "==================== Example 465 ====================\n",
      "---------- Existing ingredients ----------\n",
      "['chili_powder', 'tomatoes', 'indian', 'roasted_peanuts', 'ginger']\n",
      "---------- Recommended ingredients ----------\n",
      "['coriander', 'cilantro_leaves', 'cumin_seed', 'cilantro', 'fresh_coriander', 'ground_cumin']\n",
      "---------- Missing ingredients ----------\n",
      "['grated_coconut', 'finely_chopped_onion', 'green_chilies', 'tumeric', 'roasted_sesame_seeds', 'ghee', 'pepper', 'garlic', 'coconut_milk', 'broccoli'] \n",
      "\n",
      "==================== Example 1025 ====================\n",
      "---------- Existing ingredients ----------\n",
      "['purple_onion', 'water', 'french', 'freshly_ground_pepper', 'fresh_dill']\n",
      "---------- Recommended ingredients ----------\n",
      "['red_wine_vinegar', 'fresh_lemon_juice', 'sherry_vinegar', 'dijon_mustard', 'white_wine_vinegar', 'baguette']\n",
      "---------- Missing ingredients ----------\n",
      "['fresh_lemon_juice', 'prepared_horseradish', 'fat_free_cream_cheese', 'pink_salmon'] \n",
      "\n",
      "==================== Example 3702 ====================\n",
      "---------- Existing ingredients ----------\n",
      "['bread_crumb_fresh', 'all-purpose_flour', 'large_eggs', 'hard-boiled_egg', 'sausage_meat']\n",
      "---------- Recommended ingredients ----------\n",
      "['whole_milk', 'unsalted_butter', 'baking_powder', 'parmigiano_reggiano_cheese', 'milk', 'buttermilk']\n",
      "---------- Missing ingredients ----------\n",
      "['dijon_mustard', 'fresh_chives', 'vegetable_oil', 'fresh_parsley', 'british'] \n",
      "\n",
      "==================== Example 3722 ====================\n",
      "---------- Existing ingredients ----------\n",
      "['coconut_milk', 'japanese', 'matcha_green_tea_powder', 'sugar', 'white_rice_flour']\n",
      "---------- Recommended ingredients ----------\n",
      "['mirin', 'sake', 'rice_vinegar', 'black_sesame_seeds', 'miso', 'dashi']\n",
      "---------- Missing ingredients ----------\n",
      "['baking_powder', 'butter'] \n",
      "\n",
      "==================== Example 4004 ====================\n",
      "---------- Existing ingredients ----------\n",
      "['almond_butter', 'pure_maple_syrup', 'thai', 'carrots', 'tamari_soy_sauce']\n",
      "---------- Recommended ingredients ----------\n",
      "['thai_fish_sauce', 'fish_sauce', 'coconut_milk', 'lemon_grass', 'thai_red_curry_paste', 'lemongrass']\n",
      "---------- Missing ingredients ----------\n",
      "['jalapeno_chilies', 'cashew_nuts', 'lime', 'red_cabbage', 'orange', 'lime_wedges', 'cauliflower_florets', 'kelp_noodles', 'beansprouts', 'scallions', 'tahini', 'cilantro', 'garlic', 'zucchini', 'water', 'ginger'] \n",
      "\n"
     ]
    }
   ],
   "source": [
    "# Show example recommendations \n",
    "for i in random.sample(range(len(existing_ing)),5):\n",
    "    print(\"==================== Example \"+ str(i) + \" ====================\" )\n",
    "    print(\"---------- Existing ingredients ----------\")\n",
    "    print(existing_ing[i])\n",
    "    print(\"---------- Recommended ingredients ----------\")\n",
    "    print(recommend[i])\n",
    "    print(\"---------- Missing ingredients ----------\")\n",
    "    print(missing_ing[i], '\\n')"
   ]
  },
  {
   "cell_type": "code",
   "execution_count": 158,
   "metadata": {
    "hidden": true,
    "scrolled": true
   },
   "outputs": [
    {
     "data": {
      "image/png": "[encoded data removed]",
      "text/plain": [
       "<Figure size 720x216 with 3 Axes>"
      ]
     },
     "metadata": {
      "needs_background": "light"
     },
     "output_type": "display_data"
    },
    {
     "name": "stdout",
     "output_type": "stream",
     "text": [
      "Average precision on cross validation set:  0.09641946766257632\n",
      "Average recall on cross validation set:  0.09776173096493276\n",
      "Average F-score on cross validation set:  0.08823825470838398\n"
     ]
    }
   ],
   "source": [
    "scores = [compute_scores(recommend[i], missing_ing[i]) for i in range(len(missing_ing))]\n",
    "\n",
    "precisions = [item[0] for item in scores] \n",
    "recalls = [item[1] for item in scores]\n",
    "Fscores = [item[2] for item in scores]\n",
    "\n",
    "fig, ax = plt.subplots(ncols = 3, figsize = (10,3))\n",
    "ax[0].hist(precisions)\n",
    "ax[0].set_title('histogram of precision')\n",
    "\n",
    "ax[1].hist(recalls)\n",
    "ax[1].set_title('histogram of recalls')\n",
    "\n",
    "ax[2].hist(Fscores)\n",
    "ax[2].set_title('histogram of F-scores')\n",
    "plt.show()\n",
    "\n",
    "print(\"Average precision on cross validation set: \", statistics.mean(precisions) )\n",
    "print(\"Average recall on cross validation set: \", statistics.mean(recalls) )\n",
    "print(\"Average F-score on cross validation set: \", statistics.mean(Fscores) )"
   ]
  },
  {
   "cell_type": "markdown",
   "metadata": {
    "hidden": true
   },
   "source": [
    "<b> Summary </b> \n",
    "* The recommender built on the underlying neural network of Word2Vec seems to perform decently.  \n",
    "* One can work on improving the recommender by exploring various structures of neural networks. "
   ]
  },
  {
   "cell_type": "markdown",
   "metadata": {
    "colab_type": "text",
    "heading_collapsed": true,
    "id": "lD_nTsPubRfn"
   },
   "source": [
    "# 4. Association rule mining"
   ]
  },
  {
   "cell_type": "markdown",
   "metadata": {
    "hidden": true
   },
   "source": [
    "* Association rule mining is a tool used in market basket analysis that seeks relationships between purchases.  \n",
    "* It finds rules of the form X => Y, which represents \"X implies Y\"\n",
    "* For example, the rule {onions, potatoes} => {burger} found in the sales data would indicate that if a customer buys both onions and potatoes, then they are also likely to buy hamburger meat.  \n",
    "* In this project, I used association rule mining to learn relationships among ingredients. For example, the rule {chicken, korean} => {seasame oil} would imply that if a recipe involves chicken and korean cuisine, then it is likely to also involve seasame oil as its ingredient. \n",
    "* Used Apriori algorithm to learn the rules."
   ]
  },
  {
   "cell_type": "markdown",
   "metadata": {
    "heading_collapsed": true,
    "hidden": true
   },
   "source": [
    "## 4.1 Implement the apriori algorithm"
   ]
  },
  {
   "cell_type": "markdown",
   "metadata": {
    "colab_type": "text",
    "hidden": true,
    "id": "kstM_jCMu75H"
   },
   "source": [
    "* The apriori algorithm learns all rules of form X => Y where\n",
    "    * X, Y are collections of items, called itemset.  \n",
    "    * X and Y are itemsets with frequency (support) greater than min_support\n",
    "    * The strength of the implication X => Y (as measured by confidence) is stronger than min_confidence  \n",
    "* Apriori algorithm requires the user to specify minimum support of itemsets to consider and minimum confidence of the rules. \n",
    "* In this section, I played around with different minimum support and minimum confidence values and learned the rules among ingredients using the apriori algorithm."
   ]
  },
  {
   "cell_type": "code",
   "execution_count": 305,
   "metadata": {
    "hidden": true
   },
   "outputs": [],
   "source": [
    "df = pd.read_csv('data/ingredient_recommendation/data.csv')\n",
    "cuisine = np.unique(df.cuisine)\n",
    "\n",
    "# note: ing_cuisine is now a string representation of list\n",
    "# need to convert back to list\n",
    "ingredients = [ast.literal_eval(df.ing_cuisine[idx]) for idx in range(df.shape[0])]\n",
    "\n",
    "# change data format to list of tuples for apriori algorithm \n",
    "ing_list = [tuple(item) for item in ingredients]"
   ]
  },
  {
   "cell_type": "code",
   "execution_count": 306,
   "metadata": {
    "colab": {},
    "colab_type": "code",
    "hidden": true,
    "id": "WFC53YRm8wDz"
   },
   "outputs": [],
   "source": [
    "# get the list of ingredients\n",
    "ingredients_total = [item for sublist in ing_list for item in sublist]\n",
    "\n",
    "# count occurrence of ingredients\n",
    "ing_count = Counter(ingredients_total)\n",
    "\n",
    "# sort ingredients in order of decreasing frequency \n",
    "ing_by_count = [k for k, v in sorted(ing_count.items(), key = lambda item:item[1])]\n",
    "ing_by_count.reverse()"
   ]
  },
  {
   "cell_type": "code",
   "execution_count": 307,
   "metadata": {
    "colab": {
     "base_uri": "https://localhost:8080/",
     "height": 352
    },
    "colab_type": "code",
    "hidden": true,
    "id": "wcuV9QtsCAsC",
    "outputId": "e1567f5a-7851-4f27-9a54-372429ca3281"
   },
   "outputs": [
    {
     "data": {
      "image/png": "[encoded data removed]",
      "text/plain": [
       "<Figure size 432x288 with 1 Axes>"
      ]
     },
     "metadata": {},
     "output_type": "display_data"
    }
   ],
   "source": [
    "#plot the support of 10 most frequently occurring ingredients\n",
    "plt.bar(ing_by_count[:10], [ing_count[item]/len(ing_list) for item in ing_by_count[:10]])\n",
    "plt.xticks(list(range(10)), ing_by_count[:10], ha = 'right', rotation=45)\n",
    "plt.title('Support of 10 most frequently occuring ingredients')\n",
    "plt.show()"
   ]
  },
  {
   "cell_type": "code",
   "execution_count": 308,
   "metadata": {
    "colab": {
     "base_uri": "https://localhost:8080/",
     "height": 415
    },
    "colab_type": "code",
    "hidden": true,
    "id": "MycMLorpCbON",
    "outputId": "dbb3ab7b-746f-4977-f901-2612de52f095"
   },
   "outputs": [
    {
     "data": {
      "image/png": "[encoded data removed]",
      "text/plain": [
       "<Figure size 432x288 with 1 Axes>"
      ]
     },
     "metadata": {},
     "output_type": "display_data"
    }
   ],
   "source": [
    "# plot the 10 most rarely occurring ingredients\n",
    "# use support, instead of frequency \n",
    "plt.bar(ing_by_count[-10:], [ing_count[item]/len(ing_list) for item in ing_by_count[-10:]])\n",
    "plt.xticks(list(range(10)), ing_by_count[-10:], ha = 'right', rotation=45)\n",
    "plt.title('Support of uncommon ingredients')\n",
    "plt.show()"
   ]
  },
  {
   "cell_type": "code",
   "execution_count": 309,
   "metadata": {
    "colab": {
     "base_uri": "https://localhost:8080/",
     "height": 336
    },
    "colab_type": "code",
    "hidden": true,
    "id": "FjF8kZHiFZG4",
    "outputId": "1f246524-b5bb-41d5-d6d0-f37f84f9a842"
   },
   "outputs": [
    {
     "data": {
      "image/png": "[encoded data removed]",
      "text/plain": [
       "<Figure size 432x288 with 1 Axes>"
      ]
     },
     "metadata": {},
     "output_type": "display_data"
    }
   ],
   "source": [
    "# support of ingredients that I think should be included\n",
    "my_ingredients = ['chicken','tofu','kimchi', 'gochujang base', 'korean', 'scallions', 'sesame seeds']\n",
    "plt.bar(my_ingredients, [ing_count[item]/len(ing_list) for item in my_ingredients])\n",
    "plt.xticks(list(range(len(my_ingredients))), my_ingredients, ha = 'right', rotation=45)\n",
    "plt.title('Support of some ingredients')\n",
    "plt.show()"
   ]
  },
  {
   "cell_type": "code",
   "execution_count": 310,
   "metadata": {
    "colab": {
     "base_uri": "https://localhost:8080/",
     "height": 54
    },
    "colab_type": "code",
    "hidden": true,
    "id": "JDpKICKWyTss",
    "outputId": "96e10563-1908-4f6c-b4fa-e96340ac4cae"
   },
   "outputs": [
    {
     "name": "stdout",
     "output_type": "stream",
     "text": [
      "['organic vegetable broth', 'salad greens', 'file powder', 'rocket leaves', 'ground round', 'cod fillets', 'colby jack cheese', 'pitted date', 'tapioca flour', 'frozen spinach', 'green bell pepper, slice', 'plain whole-milk yogurt', 'duck', 'softened butter', 'low-fat plain yogurt', 'dried tarragon leaves', 'cooked turkey', 'alfredo sauce', 'brewed coffee', 'hot italian sausages']\n"
     ]
    }
   ],
   "source": [
    "# what are some ingredients with a given support value?\n",
    "support = 0.001\n",
    "freq = support * len(ing_list)\n",
    "ingredients_support = [item for item in ing_by_count if ing_count[item] <= freq + 10 and ing_count[item] >= freq -10 ]\n",
    "print(ingredients_support[:20])"
   ]
  },
  {
   "cell_type": "code",
   "execution_count": 311,
   "metadata": {
    "hidden": true
   },
   "outputs": [],
   "source": [
    "# LEARNING THE RULES\n",
    "\n",
    "itemsets, rules = apriori(ing_list, min_support=0.001, min_confidence=0.3)\n",
    "with open(\"models/association_rule_mining/rules.txt\", \"wb\") as fp:\n",
    "    pickle.dump(rules, fp)"
   ]
  },
  {
   "cell_type": "markdown",
   "metadata": {
    "colab_type": "text",
    "heading_collapsed": true,
    "hidden": true,
    "id": "8_vbLKFV69KH"
   },
   "source": [
    "## 4.2 Query the rules "
   ]
  },
  {
   "cell_type": "code",
   "execution_count": 312,
   "metadata": {
    "colab": {},
    "colab_type": "code",
    "hidden": true,
    "id": "gzcdI4-hzV4b",
    "scrolled": true
   },
   "outputs": [
    {
     "name": "stdout",
     "output_type": "stream",
     "text": [
      "number of rules learned:  74470\n"
     ]
    }
   ],
   "source": [
    "# load the learned rules\n",
    "with open(\"models/association_rule_mining/rules.txt\", \"rb\") as fp:\n",
    "    rules = pickle.load(fp)\n",
    "    \n",
    "print('number of rules learned: ', len(rules))"
   ]
  },
  {
   "cell_type": "code",
   "execution_count": 313,
   "metadata": {
    "colab": {},
    "colab_type": "code",
    "hidden": true,
    "id": "eVvphmUz1_-n"
   },
   "outputs": [],
   "source": [
    "def get_rules(rules, query):\n",
    "    # Find all rules of the form \"query\" => ?\n",
    "\n",
    "    # query must have the format ('ingredient1', ) or ('ingredient1','ingredient2', ... ,)\n",
    "    # note that some rules will have multiple items in the right hand side. For simplicity, lets just\n",
    "    # use rules that return one value \n",
    "    query_rules = [item for item in rules if set(item.lhs) == set(query)]\n",
    "\n",
    "    # sorted ccording to decreasing lift values \n",
    "    query_rules = sorted(query_rules, key=lambda rule: rule.lift, reverse = True)\n",
    "    return query_rules   "
   ]
  },
  {
   "cell_type": "code",
   "execution_count": 315,
   "metadata": {
    "colab": {
     "base_uri": "https://localhost:8080/",
     "height": 235
    },
    "colab_type": "code",
    "hidden": true,
    "id": "1NRoPUtR5d93",
    "outputId": "2c8ec861-fba6-41b3-9be7-25603bed41fd"
   },
   "outputs": [
    {
     "name": "stdout",
     "output_type": "stream",
     "text": [
      "{gochujang base} -> {korean, onions} (conf: 0.338, supp: 0.001, lift: 64.638, conv: 1.503)\n",
      "{gochujang base} -> {korean, soy sauce} (conf: 0.556, supp: 0.002, lift: 51.822, conv: 2.230)\n",
      "{gochujang base} -> {korean, sesame oil} (conf: 0.521, supp: 0.002, lift: 51.432, conv: 2.067)\n",
      "{gochujang base} -> {garlic, korean} (conf: 0.373, supp: 0.001, lift: 48.994, conv: 1.583)\n",
      "{gochujang base} -> {korean, sesame oil, soy sauce} (conf: 0.345, supp: 0.001, lift: 48.670, conv: 1.516)\n",
      "{gochujang base} -> {green onions, korean} (conf: 0.352, supp: 0.001, lift: 47.798, conv: 1.532)\n",
      "{gochujang base} -> {korean} (conf: 0.958, supp: 0.003, lift: 45.896, conv: 23.173)\n",
      "{gochujang base} -> {sesame oil, soy sauce} (conf: 0.366, supp: 0.001, lift: 12.981, conv: 1.533)\n",
      "{gochujang base} -> {sesame oil} (conf: 0.542, supp: 0.002, lift: 12.164, conv: 2.087)\n",
      "{gochujang base} -> {soy sauce} (conf: 0.592, supp: 0.002, lift: 7.138, conv: 2.245)\n",
      "{gochujang base} -> {green onions} (conf: 0.352, supp: 0.001, lift: 4.550, conv: 1.424)\n",
      "{gochujang base} -> {garlic} (conf: 0.380, supp: 0.001, lift: 2.050, conv: 1.314)\n",
      "{gochujang base} -> {onions} (conf: 0.345, supp: 0.001, lift: 1.722, conv: 1.221)\n"
     ]
    }
   ],
   "source": [
    "query = ('gochujang base',)\n",
    "query_rules = get_rules(rules, query)\n",
    "for item in query_rules:\n",
    "    print(item)"
   ]
  },
  {
   "cell_type": "code",
   "execution_count": 316,
   "metadata": {
    "colab": {
     "base_uri": "https://localhost:8080/",
     "height": 84
    },
    "colab_type": "code",
    "hidden": true,
    "id": "3tg1G1g97Tqn",
    "outputId": "1601622d-daca-4e3b-f864-740fa28183d4"
   },
   "outputs": [
    {
     "name": "stdout",
     "output_type": "stream",
     "text": [
      "{chicken, soy sauce} -> {chinese} (conf: 0.372, supp: 0.001, lift: 5.534, conv: 1.485)\n",
      "{chicken, soy sauce} -> {garlic} (conf: 0.405, supp: 0.001, lift: 2.182, conv: 1.369)\n",
      "{chicken, soy sauce} -> {water} (conf: 0.331, supp: 0.001, lift: 1.763, conv: 1.214)\n",
      "{chicken, soy sauce} -> {salt} (conf: 0.479, supp: 0.001, lift: 1.056, conv: 1.049)\n"
     ]
    }
   ],
   "source": [
    "query = ('chicken','soy sauce')\n",
    "query_rules = get_rules(rules, query)\n",
    "for item in query_rules:\n",
    "    print(item)"
   ]
  },
  {
   "cell_type": "markdown",
   "metadata": {
    "heading_collapsed": true,
    "hidden": true
   },
   "source": [
    "## 4.3 Build a recommendation system"
   ]
  },
  {
   "cell_type": "markdown",
   "metadata": {
    "hidden": true
   },
   "source": [
    "* Input a list of existing ingredients.  \n",
    "* Recommender searches the learned rules to recommend ingredients, starting with the ingredient with highest lift.  \n",
    "* If the input list of existing ingredient doesn't exist as an itemset in the learned rules (this happens if the given input does not have enough support in the training dataset), then look for the largest subset of the existing ingredients that do exist as an itemset in the rules. Recommend from this largest subset. "
   ]
  },
  {
   "cell_type": "code",
   "execution_count": 317,
   "metadata": {
    "colab": {},
    "colab_type": "code",
    "hidden": true,
    "id": "P8En9bJU9qTY"
   },
   "outputs": [],
   "source": [
    "def get_rules(rules, query, lift_threshold = 1):\n",
    "    # Find all implication rules of the form \"query\" => RHS\n",
    "    # such that (i) RHS is a single ingredient and \n",
    "    #           (ii) lift value is greater than lift_threshold\n",
    "\n",
    "    # \"query\" format ('ingredient1', ) or ('ingredient1','ingredient2', ... ,)\n",
    "    query = tuple(query)    \n",
    "    \n",
    "    # get all rules \"query\" => RHS satisfying the conditions above\n",
    "    query_rules = [item for item in rules if set(item.lhs) == set(query) \n",
    "                   if item.lift > lift_threshold and len(item.rhs) == 1]\n",
    "\n",
    "    # sort rules according to decreasing lift values \n",
    "    query_rules = sorted(query_rules, key=lambda rule: rule.lift, reverse = True)\n",
    "    return query_rules   \n",
    "\n",
    "def recommend(list_ing, list_old, cuisine, rules):  \n",
    "    # Recommend ingredients to given list of ingredients.\n",
    "    # Given a list, attempt to find the largest subset of \"n\" elements such that\n",
    "    # the subset leads to a valid ingredient recommendataion. \n",
    "    # If such \"n\" is found, then try recommending ingredients \n",
    "    # for all \"n\"-element subset of list_ing\n",
    "    \n",
    "    \"\"\"\n",
    "    list_ing: current list of ingredients \n",
    "    list_old: List of ingredients (a subset of list_ing) that have previously\n",
    "            been used to ask for ingredient recommentations. \n",
    "            For first round of recommendations, list_old = []\n",
    "            We keep track of \"list_old\" so that we don't make duplicate\n",
    "            recommendations.\n",
    "    rules: rules learned from apriori algorithm\n",
    "    \"\"\"           \n",
    "\n",
    "    rules_lhs = {item.lhs for item in rules}\n",
    "    n = len(list_ing)\n",
    "    current_list = list_ing.copy()\n",
    "    new_ing = []\n",
    "\n",
    "    itemset_found = False\n",
    "    \n",
    "    while itemset_found == False and n > 0:\n",
    "        # find all itemsets of size n\n",
    "        comb = combinations(list_ing, n)\n",
    "\n",
    "        # check if any itemset of size n satifies the conditions\n",
    "        # (i) itemset isnt' a subset of list_old  \n",
    "        # (ii) itemset exists as a left hand side element in rules \n",
    "        for itemset in comb:\n",
    "            if (set(itemset).issubset(set(list_old)) == False) and (itemset in rules_lhs):\n",
    " \n",
    "                # check if the itemset leads to a new ingredient recommendation\n",
    "                query_rules = get_rules(rules, itemset)\n",
    "                recommendation = [item.rhs[0] for item in query_rules]\n",
    "                for ing in recommendation:\n",
    "                    # if there exists an ingredient that is new and is not a cuisine type\n",
    "                    # then this itemset just contributed a valid recommendation\n",
    "                    if (ing not in current_list) and (ing not in cuisine):\n",
    "                        current_list.append(ing)\n",
    "                        new_ing.append(ing)            \n",
    "                        itemset_found = True\n",
    "\n",
    "        n = n-1           \n",
    "    return new_ing\n",
    "\n",
    "def make_recommendations(list_ing, cuisine, rules):\n",
    "    # Make recommendations by calling the function \"recommend\" repeatedly.\n",
    "    # Stop making recommendations when there are a total of 15 ingredients \n",
    "    # or when the \"recommend\" function no longer suggests any recommendations\n",
    "    # whichever comes first.\n",
    "\n",
    "    list_old = []\n",
    "    while len(list_ing) <= 15:\n",
    "        new_ing = recommend(list_ing, list_old, cuisine, rules)\n",
    "        list_old = list_ing.copy()\n",
    "        list_ing += new_ing\n",
    "        if new_ing == []:\n",
    "            break\n",
    "            \n",
    "    return list_ing"
   ]
  },
  {
   "cell_type": "code",
   "execution_count": 318,
   "metadata": {
    "hidden": true
   },
   "outputs": [
    {
     "name": "stdout",
     "output_type": "stream",
     "text": [
      "number of rules learned:  74470\n"
     ]
    }
   ],
   "source": [
    "# load the learned rules\n",
    "with open(\"models/association_rule_mining/rules.txt\", \"rb\") as fp:\n",
    "    rules = pickle.load(fp)\n",
    "    \n",
    "print('number of rules learned: ', len(rules))"
   ]
  },
  {
   "cell_type": "code",
   "execution_count": 323,
   "metadata": {
    "colab": {
     "base_uri": "https://localhost:8080/",
     "height": 218
    },
    "colab_type": "code",
    "hidden": true,
    "id": "oBmsh6i6uxJd",
    "outputId": "3a6bad67-e19b-408f-848d-f28d4d3aa171"
   },
   "outputs": [
    {
     "data": {
      "text/plain": [
       "['pork',\n",
       " 'korean',\n",
       " 'soy sauce',\n",
       " 'garlic',\n",
       " 'onions',\n",
       " 'salt',\n",
       " 'sesame oil',\n",
       " 'green onions',\n",
       " 'sugar',\n",
       " 'pepper',\n",
       " 'olive oil',\n",
       " 'water',\n",
       " 'oil']"
      ]
     },
     "execution_count": 323,
     "metadata": {},
     "output_type": "execute_result"
    }
   ],
   "source": [
    "# ask the recommender for ingredients!\n",
    "list_ing = ['pork', 'korean']\n",
    "rules_lhs = {item.lhs for item in rules}\n",
    "make_recommendations(list_ing, cuisine, rules)"
   ]
  },
  {
   "cell_type": "code",
   "execution_count": 40,
   "metadata": {
    "hidden": true
   },
   "outputs": [],
   "source": [
    "ing_dictionary = Dictionary(ingredients)\n",
    "corpus = [ing_dictionary.doc2bow(item) for item in ingredients]"
   ]
  },
  {
   "cell_type": "markdown",
   "metadata": {},
   "source": [
    "# 5. Future directions / To Do\n",
    "\n",
    "* Other models to consider  \n",
    "    * max entropy model  \n",
    "    \n",
    "* To do for building recommender system  \n",
    "    * Use evaluation metric to find the best model \n",
    "    * Or, combine the models using ensemble learning techniques  \n",
    "    * Try using cloud computing\n",
    "    * Create the app  \n",
    "    * Use Docker containment for production  \n",
    "    "
   ]
  }
 ],
 "metadata": {
  "@webio": {
   "lastCommId": null,
   "lastKernelId": null
  },
  "accelerator": "GPU",
  "colab": {
   "collapsed_sections": [
    "8NbtLorVuwFi",
    "o3wTw-y6na8V",
    "_xJ1A1wubRsd",
    "NTJd4owFmJZ5",
    "jvYgfw6U--WS",
    "HZOxcKsk--Wg",
    "Cl0Nvd9EUYxs",
    "dio9K1a3YbJq",
    "9Uj03rp3--Xg",
    "U7KdNrk9--Xw",
    "SMFKl67x--YC",
    "xX8lM00e--Yu",
    "UbmCt1Wk--ZH",
    "VZAUNw9t4TNj",
    "TYOQ09iDqcQd",
    "FEoONi2ap1oc",
    "ra7XFlL0E_vz",
    "xM1SmBMykWcY"
   ],
   "machine_shape": "hm",
   "name": "recipes.ipynb",
   "provenance": []
  },
  "kernelspec": {
   "display_name": "Python 3",
   "language": "python",
   "name": "python3"
  },
  "language_info": {
   "codemirror_mode": {
    "name": "ipython",
    "version": 3
   },
   "file_extension": ".py",
   "mimetype": "text/x-python",
   "name": "python",
   "nbconvert_exporter": "python",
   "pygments_lexer": "ipython3",
   "version": "3.7.4"
  }
 },
 "nbformat": 4,
 "nbformat_minor": 1
}
