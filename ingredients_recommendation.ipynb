{
 "cells": [
  {
   "cell_type": "markdown",
   "metadata": {},
   "source": [
    "# Cooking ingredients recommendation\n",
    "This notebook builds a recommendation system for cooking ingredients using. The end goal is to build a recommendation system that takes as input a list of existing ingredients and outputs a collection of ingredients that would go well with the existing ingredients. \n",
    "\n",
    "<b> Notebook contents </b>\n",
    "0. load and clean data  \n",
    "1. Preliminary analysis\n",
    "2. Non-negative matrix factorizations\n",
    "3. Word-embeddings\n",
    "4. Association rule mining  \n",
    "5. Comparison of models\n",
    "6. Future directions / To Do \n",
    "\n",
    "***NOTE:*** *This is project is in progress.*\n",
    "\n"
   ]
  },
  {
   "cell_type": "code",
   "execution_count": 1,
   "metadata": {},
   "outputs": [],
   "source": [
    "import sys\n",
    "sys.path.append('/usr/local/lib/python3.7/site-packages')"
   ]
  },
  {
   "cell_type": "code",
   "execution_count": 1,
   "metadata": {},
   "outputs": [],
   "source": [
    "# conda environment \"recipes\"\n",
    "# Python standard libraries\n",
    "import ast \n",
    "import csv\n",
    "import os\n",
    "import pickle\n",
    "import random\n",
    "import re\n",
    "import statistics\n",
    "import time\n",
    "from collections import Counter \n",
    "from itertools import combinations\n",
    "\n"
   ]
  },
  {
   "cell_type": "code",
   "execution_count": 2,
   "metadata": {},
   "outputs": [],
   "source": [
    "import functions as fn"
   ]
  },
  {
   "cell_type": "code",
   "execution_count": 3,
   "metadata": {
    "colab": {},
    "colab_type": "code",
    "id": "SBNyXAdi--WO",
    "scrolled": true
   },
   "outputs": [],
   "source": [
    "\n",
    "\n",
    "# Third party imports \n",
    "import gensim\n",
    "import h5py\n",
    "import ijson\n",
    "import matplotlib.pyplot as plt\n",
    "import numpy as np\n",
    "import pandas as pd\n",
    "from efficient_apriori import apriori\n",
    "from gensim.models import Word2Vec\n",
    "from gensim.models.nmf import Nmf\n",
    "from gensim.corpora import Dictionary\n",
    "from matplotlib import style\n",
    "plt.style.use('ggplot')\n",
    "from sklearn.decomposition import NMF, PCA\n"
   ]
  },
  {
   "cell_type": "code",
   "execution_count": 4,
   "metadata": {},
   "outputs": [],
   "source": [
    "import tensorflow as tf"
   ]
  },
  {
   "cell_type": "code",
   "execution_count": 5,
   "metadata": {},
   "outputs": [],
   "source": [
    "from tensorflow.keras.callbacks import ModelCheckpoint, EarlyStopping\n",
    "from tensorflow.keras.preprocessing.text import Tokenizer\n",
    "from tensorflow.keras.preprocessing.sequence import pad_sequences\n",
    "from tensorflow.keras import Sequential\n",
    "from tensorflow.keras.layers import Embedding, Lambda, Dense\n",
    "import tensorflow.keras.backend as K"
   ]
  },
  {
   "cell_type": "code",
   "execution_count": 6,
   "metadata": {},
   "outputs": [],
   "source": [
    "from tensorflow import keras"
   ]
  },
  {
   "cell_type": "code",
   "execution_count": 7,
   "metadata": {},
   "outputs": [],
   "source": [
    "def sample_ingredients(ing, n_samples):  \n",
    "    # For each recipe, sample \"n_samples\" number of ingredients randomly.\n",
    "    # (If a recipe involves fewer than \"n_samples\" ingredients, ignore that recipe)\n",
    "    # The sampled ingredients will function as the existing ingredients\n",
    "    # Goal of the model is to predict the remaining ingredients that\n",
    "    # have not been sampled\n",
    "    \n",
    "    \"\"\"\n",
    "    --- input ---\n",
    "    ing: (list of lists) Each item of ing is a list of ingredients \n",
    "           for a particular recipe\n",
    "    n_samples: (int) number of ingredients to be sampled\n",
    "   \n",
    "    --- output ---\n",
    "    existing_ing: (list of lists) Each item of sampled_ing is a list of \n",
    "            ingredients that have been sampled\n",
    "    missing_ing: (list of lists) Each item of remaining_ing is a list of ingredients\n",
    "            that have not been sampled\n",
    "    \"\"\"\n",
    "    \n",
    "    existing_ing = []\n",
    "    missing_ing = []\n",
    "    indices = []\n",
    "    for idx, recipe in enumerate(ing):\n",
    "        if len(recipe) > n_samples:\n",
    "            # randomly select 5 ingredients\n",
    "            sampled = random.sample(recipe, n_samples)\n",
    "            remain = list(set(recipe)-set(sampled))\n",
    "\n",
    "            existing_ing.append(sampled)\n",
    "            missing_ing.append(remain)\n",
    "            indices.append(idx)\n",
    "    return existing_ing, missing_ing, indices\n"
   ]
  },
  {
   "cell_type": "code",
   "execution_count": 8,
   "metadata": {},
   "outputs": [],
   "source": [
    "def compute_scores(predicted_ing, true_ing):\n",
    "    \"\"\"\n",
    "    predicted_ing: (list) of predicted ingredients from the model\n",
    "    true_ing: (list) of true ingredients that needed to be predicted\n",
    "    \"\"\"\n",
    "    \n",
    "    predicted_ing = set(predicted_ing)\n",
    "    true_ing = set(true_ing)\n",
    "\n",
    "    TP = len(predicted_ing.intersection(true_ing))\n",
    "\n",
    "    if len(predicted_ing) != 0:\n",
    "        precision = TP / (len(predicted_ing))\n",
    "    else:\n",
    "        precision = 0 \n",
    "    recall = TP / len(true_ing)\n",
    "    \n",
    "    if recall != 0 and precision != 0:\n",
    "        F_score = (2 * recall * precision)/(precision + recall)\n",
    "    else:\n",
    "        F_score = 0\n",
    "    \n",
    "    return precision, recall, F_score\n"
   ]
  },
  {
   "cell_type": "code",
   "execution_count": 7,
   "metadata": {},
   "outputs": [
    {
     "name": "stdout",
     "output_type": "stream",
     "text": [
      "precision:  0.3333333333333333\n",
      "recall:  1.0\n",
      "F_score:  0.5\n"
     ]
    }
   ],
   "source": [
    "# example \n",
    "precision, recall, F_score = compute_scores(['onions', 'scallions', 'bread'],\n",
    "                                           ['scallions'])\n",
    "\n",
    "print('precision: ' , precision)\n",
    "print('recall: ', recall)\n",
    "print('F_score: ', F_score)"
   ]
  },
  {
   "cell_type": "markdown",
   "metadata": {},
   "source": [
    "# Multi-label classification via neural networks"
   ]
  },
  {
   "cell_type": "code",
   "execution_count": 9,
   "metadata": {},
   "outputs": [],
   "source": [
    "# load data\n",
    "df = pd.read_csv('data/ingredient_recommendation/data.csv')\n",
    "cuisine = list(np.unique(df.cuisine))\n",
    "\n",
    "# Convert to correct format (list of lists)\n",
    "documents = [ast.literal_eval(df.document[idx]) for idx in range(df.shape[0])]\n",
    "\n",
    "# randomly shuffle the order of ingredients in each document\n",
    "for item in documents:\n",
    "    random.shuffle(item)\n",
    "    \n",
    "# load train, cv, test data index\n",
    "f = h5py.File('data/ingredient_recommendation/train_val_test.hdf5', 'r')\n",
    "train_idx = list(f.get(\"train_idx\"))\n",
    "cv_idx = list(f.get(\"cv_idx\"))\n",
    "test_idx = list(f.get(\"test_idx\"))\n",
    "f.close()\n",
    "\n",
    "train_doc = [documents[i] for i in train_idx]\n",
    "cv_doc = [documents[i] for i in cv_idx]"
   ]
  },
  {
   "cell_type": "code",
   "execution_count": 11,
   "metadata": {},
   "outputs": [],
   "source": [
    "# tokenize\n",
    "#t=Tokenizer()  \n",
    "#t.fit_on_texts(documents)\n",
    "\n",
    "# save tokenizer\n",
    "#with open('models/multilabel_tokenizer.pickle', 'wb') as handle:\n",
    "#    pickle.dump(t, handle, protocol=pickle.HIGHEST_PROTOCOL)"
   ]
  },
  {
   "cell_type": "code",
   "execution_count": 10,
   "metadata": {},
   "outputs": [
    {
     "name": "stdout",
     "output_type": "stream",
     "text": [
      "number of words:  6712\n"
     ]
    }
   ],
   "source": [
    "# load tokenizer\n",
    "with open('models/multilabel_tokenizer.pickle', 'rb') as handle:\n",
    "    t = pickle.load(handle)\n",
    "\n",
    "encoded_recipes=t.texts_to_sequences(documents)\n",
    "\n",
    "# create reverse dictionary from index to words \n",
    "index_to_words=dict(map(reversed,t.word_index.items())) \n",
    "\n",
    "# number of words\n",
    "n_words = len(t.word_index)\n",
    "print('number of words: ', n_words)"
   ]
  },
  {
   "cell_type": "markdown",
   "metadata": {},
   "source": [
    "# Prepare dataset"
   ]
  },
  {
   "cell_type": "code",
   "execution_count": 83,
   "metadata": {},
   "outputs": [],
   "source": [
    "def create_Xy(doc, t, sample_size, n_repeat = 1):\n",
    "    # Given a list of documents, sample \"sample_size\" number of ingredients from each document. \n",
    "    # Create arrays X and y for neural network training and testing.\n",
    "    # If a document contains less than \"sample_size\" ingredients, then skip that document.\n",
    "    \n",
    "    \"\"\"\n",
    "    --- input ---\n",
    "    doc: (list of lists) Each doc[i] is a document given by a list of ingredients\n",
    "    t: (tokenizer)\n",
    "    sample_size: (int) number of ingredients to sample from each doc\n",
    "    n_repeat: (int) number of times to perform the sampling.\n",
    "    \n",
    "    --- output ---\n",
    "    X: (array) representing the ingredients sampled for each document\n",
    "        X[i][j] = 1 if sampled ingredients of doc[i] contains ingredient j (according to tokenizer t)\n",
    "    y: (array) representing the ingredients NOT sampled\n",
    "        y[i][j] = 1 if ingredient j is present in doc[i] but was not sampled\n",
    "    sample: (list of list) representing the ingredients sampled for each document.\n",
    "        sample[i] = [i_1, ... , i_k], where i_j is an ingredient sampled for doc[i]\n",
    "    target: (list of list) representing the ingredients in doc[i] that have not been sampled.\n",
    "        target[i] = [i_1, ... , i_m], where i_m is an ingredient that hasn't been sampled\n",
    "    \"\"\"\n",
    "    \n",
    "    sample = []\n",
    "    target = []\n",
    "    indices = []\n",
    "    n_doc = len(doc)\n",
    "    encoded_doc = t.texts_to_sequences(doc)\n",
    "    \n",
    "    for i in range(n_doc):\n",
    "        recipe = encoded_doc[i]\n",
    "        \n",
    "        # check that recipe contains more than \"sample_size\" ingredients\n",
    "        if len(recipe) > sample_size:\n",
    "            for j in range(n_repeat):\n",
    "                random.shuffle(recipe)\n",
    "\n",
    "                # split to sample & target\n",
    "                recipe_sample = recipe[:sample_size]\n",
    "                recipe_target = recipe[sample_size:]\n",
    "\n",
    "                # adjust index to start at 0. This is because tokenizer starts index at 0\n",
    "                recipe_sample = [item-1 for item in recipe_sample]\n",
    "                recipe_target = [item-1 for item in recipe_target]\n",
    "\n",
    "                # append\n",
    "                sample.append(recipe_sample)\n",
    "                target.append(recipe_target)\n",
    "                indices.append(i)\n",
    "            \n",
    "    # create array X, y\n",
    "    n_words = len(t.word_index)\n",
    "    \n",
    "    X = np.array(sample)\n",
    "    y = np.zeros((len(target), n_words))\n",
    "    \n",
    "    for data_idx, target_words in enumerate(target):\n",
    "        for word_idx in target_words:\n",
    "            y[data_idx, word_idx] = 1\n",
    "\n",
    "    return X, y, sample, target, indices"
   ]
  },
  {
   "cell_type": "code",
   "execution_count": 84,
   "metadata": {},
   "outputs": [
    {
     "data": {
      "text/html": [
       "<div>\n",
       "<style scoped>\n",
       "    .dataframe tbody tr th:only-of-type {\n",
       "        vertical-align: middle;\n",
       "    }\n",
       "\n",
       "    .dataframe tbody tr th {\n",
       "        vertical-align: top;\n",
       "    }\n",
       "\n",
       "    .dataframe thead th {\n",
       "        text-align: right;\n",
       "    }\n",
       "</style>\n",
       "<table border=\"1\" class=\"dataframe\">\n",
       "  <thead>\n",
       "    <tr style=\"text-align: right;\">\n",
       "      <th></th>\n",
       "      <th>id</th>\n",
       "      <th>cuisine</th>\n",
       "      <th>ingredients</th>\n",
       "      <th>document</th>\n",
       "    </tr>\n",
       "  </thead>\n",
       "  <tbody>\n",
       "    <tr>\n",
       "      <th>0</th>\n",
       "      <td>25295</td>\n",
       "      <td>french</td>\n",
       "      <td>['eggs', 'semisweet_chocolate', 'white_sugar',...</td>\n",
       "      <td>['eggs', 'semisweet_chocolate', 'white_sugar',...</td>\n",
       "    </tr>\n",
       "    <tr>\n",
       "      <th>1</th>\n",
       "      <td>4810</td>\n",
       "      <td>chinese</td>\n",
       "      <td>['spareribs', 'vegetable_oil', 'corn_starch', ...</td>\n",
       "      <td>['spareribs', 'vegetable_oil', 'corn_starch', ...</td>\n",
       "    </tr>\n",
       "    <tr>\n",
       "      <th>2</th>\n",
       "      <td>3128</td>\n",
       "      <td>korean</td>\n",
       "      <td>['soy_sauce', 'pork_loin', 'yellow_onion', 'mi...</td>\n",
       "      <td>['soy_sauce', 'pork_loin', 'yellow_onion', 'mi...</td>\n",
       "    </tr>\n",
       "    <tr>\n",
       "      <th>3</th>\n",
       "      <td>19484</td>\n",
       "      <td>mexican</td>\n",
       "      <td>['turbinado', 'kosher_salt', 'cod_fillets', 's...</td>\n",
       "      <td>['turbinado', 'kosher_salt', 'cod_fillets', 's...</td>\n",
       "    </tr>\n",
       "    <tr>\n",
       "      <th>4</th>\n",
       "      <td>49410</td>\n",
       "      <td>southern_us</td>\n",
       "      <td>['eggs', 'ground_black_pepper', 'paprika', 'sh...</td>\n",
       "      <td>['eggs', 'ground_black_pepper', 'paprika', 'sh...</td>\n",
       "    </tr>\n",
       "  </tbody>\n",
       "</table>\n",
       "</div>"
      ],
      "text/plain": [
       "      id      cuisine                                        ingredients  \\\n",
       "0  25295       french  ['eggs', 'semisweet_chocolate', 'white_sugar',...   \n",
       "1   4810      chinese  ['spareribs', 'vegetable_oil', 'corn_starch', ...   \n",
       "2   3128       korean  ['soy_sauce', 'pork_loin', 'yellow_onion', 'mi...   \n",
       "3  19484      mexican  ['turbinado', 'kosher_salt', 'cod_fillets', 's...   \n",
       "4  49410  southern_us  ['eggs', 'ground_black_pepper', 'paprika', 'sh...   \n",
       "\n",
       "                                            document  \n",
       "0  ['eggs', 'semisweet_chocolate', 'white_sugar',...  \n",
       "1  ['spareribs', 'vegetable_oil', 'corn_starch', ...  \n",
       "2  ['soy_sauce', 'pork_loin', 'yellow_onion', 'mi...  \n",
       "3  ['turbinado', 'kosher_salt', 'cod_fillets', 's...  \n",
       "4  ['eggs', 'ground_black_pepper', 'paprika', 'sh...  "
      ]
     },
     "execution_count": 84,
     "metadata": {},
     "output_type": "execute_result"
    }
   ],
   "source": [
    "# load balanced training set \n",
    "df_train = pd.read_csv('data/ingredient_recommendation/balanced_training.csv')\n",
    "df_train.drop(\"Unnamed: 0\", axis = 1, inplace = True)\n",
    "df_train.head()"
   ]
  },
  {
   "cell_type": "code",
   "execution_count": 88,
   "metadata": {},
   "outputs": [],
   "source": [
    "# get training documents\n",
    "train_doc = [ast.literal_eval(df_train.document[idx]) for idx in range(df_train.shape[0])]\n",
    "\n",
    "# Create X, y for training \n",
    "X_train, y_train, sample_train, target_train, indices_train = create_Xy(train_doc, t, 5, 5)\n",
    "\n",
    "# Create X_cv, y_cv for evaluation on cross-validation set\n",
    "X_cv, y_cv, sampled_cv, target_cv, indices_cv = create_Xy(cv_doc, t, 5, 1)"
   ]
  },
  {
   "cell_type": "code",
   "execution_count": 36,
   "metadata": {},
   "outputs": [],
   "source": [
    "class MetricsAtK:\n",
    "    def __init__(self, k):\n",
    "        self.k = k\n",
    "\n",
    "    def _prediction_tensor(self, y_pred):\n",
    "        # Given tensor y_pred of floats (predicted probabilities), \n",
    "        # return a tensor of same shape with 1 in locations with \"k\" top probabilities. \n",
    "        y_pred = tf.convert_to_tensor(y_pred)\n",
    "        topk_indices = tf.nn.top_k(y_pred, k = self.k, sorted = True).indices\n",
    "        ii, _ = tf.meshgrid(tf.range(tf.shape(y_pred)[0]), tf.range(6), indexing='ij')\n",
    "        index_tensor = tf.reshape(tf.stack([ii, topk_indices], axis=-1), shape=(-1, 2))\n",
    "        index_tensor = tf.cast(index_tensor, tf.int64)\n",
    "        n_nzero = tf.shape(index_tensor)[0]\n",
    "\n",
    "        sparse = tf.SparseTensor(indices = index_tensor, values=tf.ones(n_nzero), dense_shape=tf.shape(y_pred, out_type=tf.dtypes.int64))\n",
    "        sparse = tf.sparse.reorder(sparse)\n",
    "        pred = tf.sparse.to_dense(sparse)\n",
    "        pred = tf.cast(pred, tf.float32)\n",
    "\n",
    "        return pred\n",
    "\n",
    "    def _TP_at_k(self, y_true, y_pred):\n",
    "        y_true = tf.convert_to_tensor(y_true, dtype = tf.float32)\n",
    "        # compute true positives for each sample\n",
    "        pred = self._prediction_tensor(y_pred)\n",
    "\n",
    "        TP = K.sum(tf.multiply(pred, y_true), axis = 1)\n",
    "        TP = tf.cast(TP, tf.float32)\n",
    "        \n",
    "        return TP\n",
    "    \n",
    "    def precision_at_k(self, y_true, y_pred):\n",
    "        TP = self._TP_at_k(y_true, y_pred)\n",
    "        precisions = TP / self.k\n",
    "        \n",
    "        # compute median\n",
    "        mid = tf.shape(precisions)[0]//2 + 1\n",
    "        precision_median = tf.nn.top_k(precisions, mid).values[-1]\n",
    "        return precision_median\n",
    "    \n",
    "    def recall_at_k(self, y_true, y_pred):\n",
    "        TP = self._TP_at_k(y_true, y_pred)\n",
    "        y_true = tf.convert_to_tensor(y_true, dtype = tf.float32)\n",
    "        recalls = TP / K.sum(y_true, axis = 1)\n",
    "        \n",
    "        # compute median\n",
    "        mid = tf.shape(recalls)[0]//2 + 1\n",
    "        recall_median = tf.nn.top_k(recalls, mid).values[-1]\n",
    "        return recall_median\n",
    "    \n",
    "    def F1_at_k(self, y_true, y_pred):\n",
    "        TP = self._TP_at_k(y_true, y_pred)\n",
    "        y_true = tf.convert_to_tensor(y_true, dtype = tf.float32)\n",
    "        precisions = TP / self.k\n",
    "        recalls = TP / K.sum(y_true, axis = 1)\n",
    "        f1 = (2 * precisions * recalls) / (precisions + recalls + K.epsilon())\n",
    "        \n",
    "        # compute median\n",
    "        mid = tf.shape(f1)[0]//2 + 1\n",
    "        f1_median = tf.nn.top_k(f1, mid).values[-1]\n",
    "        return f1_median\n"
   ]
  },
  {
   "cell_type": "code",
   "execution_count": null,
   "metadata": {},
   "outputs": [],
   "source": [
    "# A custom callback that \n",
    "# (1) computes the precision, recall, F1 score on the entire CV set (not batch-wide average)\n",
    "# (2) performs early stopping while monitoring CV_F1 score \n",
    "\n",
    "class EarlyStoppingAtK(keras.callbacks.Callback):\n",
    "        \n",
    "    def __init__(self, X_val, y_val, metrics, patience = 0, verbose = 0):\n",
    "        super(keras.callbacks.Callback, self).__init__()\n",
    "        self.Xval = X_val\n",
    "        self.yval = y_val\n",
    "        self.metrics = metrics\n",
    "        self.precisions = []\n",
    "        self.recalls = []\n",
    "        self.F1scores = []\n",
    "        self.patience = patience\n",
    "        self.verbose = verbose\n",
    "        self.wait = 0 # number of epochs since the maximum F1 score\n",
    "        self.max = -np.Inf\n",
    "        self.best_weights = None\n",
    "        self.best_epoch = 0\n",
    "        \n",
    "    def on_epoch_end(self, epoch, logs={}):\n",
    "        X_val, y_val = self.Xval, self.yval\n",
    "        y_pred = np.asarray(self.model.predict(X_val))\n",
    "        \n",
    "        # evaluate CV set\n",
    "        p = self.metrics.precision_at_k(y_val, y_pred).numpy()\n",
    "        r = self.metrics.recall_at_k(y_val, y_pred).numpy()\n",
    "        fscore = self.metrics.F1_at_k(y_val, y_pred).numpy()\n",
    "        \n",
    "        self.precisions.append(p)\n",
    "        self.recalls.append(r)\n",
    "        self.F1scores.append(fscore)\n",
    "        print(\" Validation precision: %.4f, Validation recall: %.4f, Validation F1: %.4f\" %(p, r, fscore))\n",
    "        \n",
    "        # early stopping\n",
    "        # If current score is better than historic max\n",
    "        if fscore > self.max:\n",
    "            # update \n",
    "            self.max = fscore\n",
    "            self.wait = 0 \n",
    "            # Record the current weights\n",
    "            self.best_weights = self.model.get_weights()\n",
    "            self.best_epoch = epoch + 1\n",
    "        else:\n",
    "            self.wait += 1\n",
    "            if self.wait >= self.patience:\n",
    "                self.model.stop_training = True\n",
    "                print(\"\\n Early stopping at epoch \", epoch + 1)\n",
    "                \n",
    "                # restore weights from the best_weights\n",
    "                self.model.set_weights(self.best_weights)\n",
    "                print(\"\\n Restoring model weights to weights from epoch \", self.best_epoch)\n",
    "        return "
   ]
  },
  {
   "cell_type": "code",
   "execution_count": null,
   "metadata": {},
   "outputs": [],
   "source": [
    "def show_histograms(model, X_cv, y_cv):\n",
    "    # get 6 most probable ingredients \n",
    "    y_pred = model.predict(X_cv)\n",
    "    n_dataset = y_pred.shape[0]\n",
    "    pred = []\n",
    "    for i in range(n_dataset):\n",
    "        pred_ing = y_pred[i,:].argsort()[::-1][:6].tolist()\n",
    "        pred.append(pred_ing)\n",
    "\n",
    "    # for each document in CV set, create a list of missing ingredients (true ingredients)\n",
    "    missing_ing = []\n",
    "    for i in range(n_dataset):\n",
    "        missing_ing.append(np.nonzero(y_cv[i,:])[0].tolist())\n",
    "\n",
    "    ## compute precision, recall, F-score on the CV set \n",
    "    scores = [fn.compute_scores(pred[i], missing_ing[i]) for i in range(len(pred))]\n",
    "\n",
    "    precisions = [item[0] for item in scores] \n",
    "    recalls = [item[1] for item in scores]\n",
    "    Fscores = [item[2] for item in scores]\n",
    "\n",
    "    fig, ax = plt.subplots(ncols = 3, figsize = (10,3))\n",
    "    ax[0].hist(precisions)\n",
    "    ax[0].set_title('histogram of precision')\n",
    "\n",
    "    ax[1].hist(recalls)\n",
    "    ax[1].set_title('histogram of recalls')\n",
    "\n",
    "    ax[2].hist(Fscores)\n",
    "    ax[2].set_title('histogram of F-scores')\n",
    "    plt.show()\n",
    "\n",
    "    print(\"Median precision on CV set: \", statistics.median(precisions) )\n",
    "    print(\"Median recall on CV set: \", statistics.median(recalls) )\n",
    "    print(\"Median F-score on CV set: \", statistics.median(Fscores) )\n",
    "\n",
    "    print(\"Mean precision on CV set: \", statistics.mean(precisions) )\n",
    "    print(\"Mean recall on CV set: \", statistics.mean(recalls) )\n",
    "    print(\"Mean F-score on CV set: \", statistics.mean(Fscores) )\n",
    "\n",
    "    return \n",
    "    \n",
    "    "
   ]
  },
  {
   "cell_type": "markdown",
   "metadata": {},
   "source": [
    "## Model 1"
   ]
  },
  {
   "cell_type": "code",
   "execution_count": 89,
   "metadata": {
    "scrolled": true
   },
   "outputs": [
    {
     "name": "stdout",
     "output_type": "stream",
     "text": [
      "Model: \"model1\"\n",
      "_________________________________________________________________\n",
      "Layer (type)                 Output Shape              Param #   \n",
      "=================================================================\n",
      "Embedding (Embedding)        (None, 5, 100)            671200    \n",
      "_________________________________________________________________\n",
      "Mean (Lambda)                (None, 100)               0         \n",
      "_________________________________________________________________\n",
      "Dense (Dense)                (None, 6712)              677912    \n",
      "=================================================================\n",
      "Total params: 1,349,112\n",
      "Trainable params: 1,349,112\n",
      "Non-trainable params: 0\n",
      "_________________________________________________________________\n"
     ]
    }
   ],
   "source": [
    "# define model structure\n",
    "context_size = 5\n",
    "embed_size = 100\n",
    "\n",
    "model = Sequential(name = \"model1\")\n",
    "\n",
    "# embedding\n",
    "model.add(Embedding(n_words, embed_size, input_length = context_size, name = \"Embedding\"))\n",
    "\n",
    "# take the mean of vectors\n",
    "model.add(Lambda(lambda x: K.mean(x, axis=1), output_shape = (embed_size,), name = \"Mean\"))\n",
    "\n",
    "# last layer\n",
    "model.add(Dense(n_words, activation = 'sigmoid', name = \"Dense\"))\n",
    "\n",
    "#metrics = MetricsAtK(6, X_cv, y_cv)\n",
    "\n",
    "metrics = MetricsAtK(k = 6)\n",
    "model.compile(loss =  'binary_crossentropy', optimizer = 'adam', metrics = [metrics.precision_at_k,\n",
    "                                                                           metrics.recall_at_k,\n",
    "                                                                           metrics.F1_at_k])\n",
    "model.summary()"
   ]
  },
  {
   "cell_type": "code",
   "execution_count": 90,
   "metadata": {
    "scrolled": false
   },
   "outputs": [
    {
     "name": "stdout",
     "output_type": "stream",
     "text": [
      "Epoch 1/20\n",
      " Validation precision: 0.0000, Validation recall: 0.0000, Validation F1: 0.0000\n",
      "4098/4098 - 31s - loss: 0.0302 - precision_at_k: 0.0639 - recall_at_k: 0.0334 - F1_at_k: 0.0435 - val_loss: 0.0060 - val_precision_at_k: 0.0486 - val_recall_at_k: 0.0277 - val_F1_at_k: 0.0350\n",
      "Epoch 2/20\n",
      " Validation precision: 0.1667, Validation recall: 0.0909, Validation F1: 0.1176\n",
      "4098/4098 - 30s - loss: 0.0058 - precision_at_k: 0.0783 - recall_at_k: 0.0432 - F1_at_k: 0.0553 - val_loss: 0.0056 - val_precision_at_k: 0.1124 - val_recall_at_k: 0.0699 - val_F1_at_k: 0.0858\n",
      "Epoch 3/20\n",
      " Validation precision: 0.1667, Validation recall: 0.1429, Validation F1: 0.1538\n",
      "4098/4098 - 31s - loss: 0.0054 - precision_at_k: 0.1420 - recall_at_k: 0.1001 - F1_at_k: 0.1186 - val_loss: 0.0052 - val_precision_at_k: 0.1590 - val_recall_at_k: 0.1318 - val_F1_at_k: 0.1477\n",
      "Epoch 4/20\n",
      " Validation precision: 0.1667, Validation recall: 0.2000, Validation F1: 0.2000\n",
      "4098/4098 - 30s - loss: 0.0050 - precision_at_k: 0.1699 - recall_at_k: 0.1561 - F1_at_k: 0.1705 - val_loss: 0.0049 - val_precision_at_k: 0.1790 - val_recall_at_k: 0.1807 - val_F1_at_k: 0.1899\n",
      "Epoch 5/20\n",
      " Validation precision: 0.1667, Validation recall: 0.2000, Validation F1: 0.2000\n",
      "4098/4098 - 31s - loss: 0.0048 - precision_at_k: 0.1938 - recall_at_k: 0.1928 - F1_at_k: 0.2021 - val_loss: 0.0048 - val_precision_at_k: 0.1857 - val_recall_at_k: 0.1998 - val_F1_at_k: 0.2045\n",
      "Epoch 6/20\n",
      " Validation precision: 0.1667, Validation recall: 0.2000, Validation F1: 0.2222\n",
      "4098/4098 - 31s - loss: 0.0047 - precision_at_k: 0.2173 - recall_at_k: 0.2127 - F1_at_k: 0.2198 - val_loss: 0.0047 - val_precision_at_k: 0.2029 - val_recall_at_k: 0.2073 - val_F1_at_k: 0.2119\n",
      "Epoch 7/20\n",
      " Validation precision: 0.1667, Validation recall: 0.2222, Validation F1: 0.2222\n",
      "4098/4098 - 31s - loss: 0.0045 - precision_at_k: 0.2361 - recall_at_k: 0.2267 - F1_at_k: 0.2310 - val_loss: 0.0047 - val_precision_at_k: 0.2152 - val_recall_at_k: 0.2154 - val_F1_at_k: 0.2175\n",
      "Epoch 8/20\n",
      " Validation precision: 0.1667, Validation recall: 0.2222, Validation F1: 0.2222\n",
      "4098/4098 - 31s - loss: 0.0044 - precision_at_k: 0.2533 - recall_at_k: 0.2382 - F1_at_k: 0.2417 - val_loss: 0.0047 - val_precision_at_k: 0.2162 - val_recall_at_k: 0.2197 - val_F1_at_k: 0.2222\n",
      "Epoch 9/20\n",
      " Validation precision: 0.1667, Validation recall: 0.2222, Validation F1: 0.2222\n",
      "4098/4098 - 31s - loss: 0.0044 - precision_at_k: 0.2669 - recall_at_k: 0.2482 - F1_at_k: 0.2493 - val_loss: 0.0046 - val_precision_at_k: 0.2190 - val_recall_at_k: 0.2202 - val_F1_at_k: 0.2207\n",
      "Epoch 10/20\n",
      " Validation precision: 0.1667, Validation recall: 0.2222, Validation F1: 0.2222\n",
      "4098/4098 - 31s - loss: 0.0043 - precision_at_k: 0.2767 - recall_at_k: 0.2560 - F1_at_k: 0.2567 - val_loss: 0.0046 - val_precision_at_k: 0.2171 - val_recall_at_k: 0.2198 - val_F1_at_k: 0.2204\n",
      "Epoch 11/20\n",
      " Validation precision: 0.1667, Validation recall: 0.2222, Validation F1: 0.2222\n",
      "\n",
      " Early stopping at epoch  11\n",
      "\n",
      " Restoring model weights to weights from epoch  6\n",
      "4098/4098 - 31s - loss: 0.0042 - precision_at_k: 0.2861 - recall_at_k: 0.2645 - F1_at_k: 0.2623 - val_loss: 0.0046 - val_precision_at_k: 0.2124 - val_recall_at_k: 0.2208 - val_F1_at_k: 0.2214\n"
     ]
    }
   ],
   "source": [
    "# callbacks for early stopping and model saving\n",
    "# early stopping\n",
    "es = EarlyStoppingAtK(X_cv, y_cv, metrics, patience = 5)\n",
    "\n",
    "# save model\n",
    "mc = ModelCheckpoint('models/multilabel_NN/model1_{epoch:02d}.h5', save_freq = 'epoch', verbose = 0)\n",
    "\n",
    "# fit model\n",
    "history = model.fit(x = X_train, y = y_train, validation_data=(X_cv, y_cv), epochs = 20, verbose = 2, callbacks = [es, mc])\n",
    "\n",
    "model.save('models/multilabel_NN/model1.h5')"
   ]
  },
  {
   "cell_type": "code",
   "execution_count": 91,
   "metadata": {},
   "outputs": [
    {
     "data": {
      "image/png": "[encoded data removed]",
      "text/plain": [
       "<Figure size 1080x360 with 2 Axes>"
      ]
     },
     "metadata": {},
     "output_type": "display_data"
    }
   ],
   "source": [
    "# number of epochs determined by the following\n",
    "# plot the training and validation loss to determine if overfitting / underfitting \n",
    "\n",
    "train_loss = history.history['loss']\n",
    "val_loss = history.history['val_loss']\n",
    "train_F1 = history.history['F1_at_k']\n",
    "batch_val_F1 = history.history['val_F1_at_k']\n",
    "val_F1 = es.F1scores\n",
    "n_epochs = len(train_loss)\n",
    "\n",
    "fig, ax = plt.subplots(ncols = 2, figsize = (15,5))\n",
    "ax[0].plot(list(range(n_epochs)), train_loss, label ='train loss')\n",
    "ax[0].plot(list(range(n_epochs)), val_loss, label ='val loss')\n",
    "ax[0].set_xlabel('training epochs')\n",
    "ax[0].set_ylabel('loss')\n",
    "ax[0].legend()\n",
    "ax[1].plot(list(range(n_epochs)), train_F1, label ='train F1')\n",
    "ax[1].plot(list(range(n_epochs)), batch_val_F1, label ='batch val F1')\n",
    "ax[1].plot(list(range(n_epochs)), val_F1, label ='val F1')\n",
    "ax[1].set_xlabel('training epochs')\n",
    "ax[1].set_ylabel('F1')\n",
    "ax[1].legend()\n",
    "plt.show()"
   ]
  },
  {
   "cell_type": "code",
   "execution_count": 92,
   "metadata": {
    "scrolled": true
   },
   "outputs": [
    {
     "data": {
      "image/png": "[encoded data removed]",
      "text/plain": [
       "<Figure size 720x216 with 3 Axes>"
      ]
     },
     "metadata": {},
     "output_type": "display_data"
    },
    {
     "name": "stdout",
     "output_type": "stream",
     "text": [
      "Median precision on CV set:  0.16666666666666666\n",
      "Median recall on CV set:  0.2\n",
      "Median F-score on CV set:  0.2222222222222222\n",
      "Mean precision on CV set:  0.24142550911039656\n",
      "Mean recall on CV set:  0.2479735083150312\n",
      "Mean F-score on CV set:  0.22138768610365644\n"
     ]
    }
   ],
   "source": [
    "# load model with best performing validation_F1 score\n",
    "model = keras.models.load_model('models/multilabel_NN/model1.h5', custom_objects= {'precision_at_k':metrics.precision_at_k,\n",
    "                                                                                  'recall_at_k':metrics.recall_at_k,\n",
    "                                                                                  'F1_at_k': metrics.F1_at_k})\n",
    "show_histograms(model, X_cv, y_cv)"
   ]
  },
  {
   "cell_type": "markdown",
   "metadata": {},
   "source": [
    "## Play around with different architectures"
   ]
  },
  {
   "cell_type": "markdown",
   "metadata": {},
   "source": [
    "### model 2: larger embedding size  "
   ]
  },
  {
   "cell_type": "markdown",
   "metadata": {},
   "source": [
    "* The model performance on the validation set didn't improve. \n",
    "* We'll keep the structure of model 1, which has embedding dimension 100"
   ]
  },
  {
   "cell_type": "code",
   "execution_count": 93,
   "metadata": {},
   "outputs": [
    {
     "name": "stdout",
     "output_type": "stream",
     "text": [
      "Model: \"model2\"\n",
      "_________________________________________________________________\n",
      "Layer (type)                 Output Shape              Param #   \n",
      "=================================================================\n",
      "Embedding (Embedding)        (None, 5, 300)            2013600   \n",
      "_________________________________________________________________\n",
      "Mean (Lambda)                (None, 300)               0         \n",
      "_________________________________________________________________\n",
      "Dense (Dense)                (None, 6712)              2020312   \n",
      "=================================================================\n",
      "Total params: 4,033,912\n",
      "Trainable params: 4,033,912\n",
      "Non-trainable params: 0\n",
      "_________________________________________________________________\n"
     ]
    }
   ],
   "source": [
    "context_size = 5\n",
    "embed_size = 300\n",
    "\n",
    "model = Sequential(name = 'model2')\n",
    "\n",
    "# embedding\n",
    "model.add(Embedding(n_words, embed_size, input_length = context_size, name = \"Embedding\"))\n",
    "\n",
    "# Take the mean of vectors\n",
    "model.add(Lambda(lambda x: K.mean(x, axis=1), output_shape = (embed_size,), name = \"Mean\" ))\n",
    "# last layer\n",
    "model.add(Dense(n_words, activation = 'sigmoid', name = 'Dense'))\n",
    "\n",
    "metrics = MetricsAtK(k = 6)\n",
    "model.compile(loss = 'binary_crossentropy', optimizer = 'adam', metrics = [metrics.precision_at_k,\n",
    "                                                                           metrics.recall_at_k,\n",
    "                                                                           metrics.F1_at_k])\n",
    "\n",
    "model.summary()"
   ]
  },
  {
   "cell_type": "code",
   "execution_count": 94,
   "metadata": {},
   "outputs": [
    {
     "name": "stdout",
     "output_type": "stream",
     "text": [
      "Epoch 1/20\n",
      " Validation precision: 0.0000, Validation recall: 0.0000, Validation F1: 0.0000\n",
      "4098/4098 - 73s - loss: 0.0224 - precision_at_k: 0.0663 - recall_at_k: 0.0347 - F1_at_k: 0.0452 - val_loss: 0.0058 - val_precision_at_k: 0.0619 - val_recall_at_k: 0.0347 - val_F1_at_k: 0.0441\n",
      "Epoch 2/20\n",
      " Validation precision: 0.1667, Validation recall: 0.1429, Validation F1: 0.1538\n",
      "4098/4098 - 72s - loss: 0.0055 - precision_at_k: 0.1288 - recall_at_k: 0.0874 - F1_at_k: 0.1048 - val_loss: 0.0052 - val_precision_at_k: 0.1571 - val_recall_at_k: 0.1337 - val_F1_at_k: 0.1472\n",
      "Epoch 3/20\n",
      " Validation precision: 0.1667, Validation recall: 0.2000, Validation F1: 0.2000\n",
      "4098/4098 - 72s - loss: 0.0050 - precision_at_k: 0.1776 - recall_at_k: 0.1673 - F1_at_k: 0.1803 - val_loss: 0.0049 - val_precision_at_k: 0.1895 - val_recall_at_k: 0.1958 - val_F1_at_k: 0.2031\n",
      "Epoch 4/20\n",
      " Validation precision: 0.1667, Validation recall: 0.2000, Validation F1: 0.2222\n",
      "4098/4098 - 72s - loss: 0.0047 - precision_at_k: 0.2171 - recall_at_k: 0.2124 - F1_at_k: 0.2193 - val_loss: 0.0047 - val_precision_at_k: 0.2076 - val_recall_at_k: 0.2077 - val_F1_at_k: 0.2136\n",
      "Epoch 5/20\n",
      " Validation precision: 0.1667, Validation recall: 0.2222, Validation F1: 0.2222\n",
      "4098/4098 - 72s - loss: 0.0045 - precision_at_k: 0.2491 - recall_at_k: 0.2347 - F1_at_k: 0.2386 - val_loss: 0.0047 - val_precision_at_k: 0.2171 - val_recall_at_k: 0.2166 - val_F1_at_k: 0.2204\n",
      "Epoch 6/20\n",
      " Validation precision: 0.1667, Validation recall: 0.2222, Validation F1: 0.2222\n",
      "4098/4098 - 72s - loss: 0.0044 - precision_at_k: 0.2711 - recall_at_k: 0.2506 - F1_at_k: 0.2524 - val_loss: 0.0046 - val_precision_at_k: 0.2229 - val_recall_at_k: 0.2220 - val_F1_at_k: 0.2227\n",
      "Epoch 7/20\n",
      " Validation precision: 0.1667, Validation recall: 0.2222, Validation F1: 0.2222\n",
      "4098/4098 - 72s - loss: 0.0042 - precision_at_k: 0.2849 - recall_at_k: 0.2642 - F1_at_k: 0.2632 - val_loss: 0.0046 - val_precision_at_k: 0.2162 - val_recall_at_k: 0.2251 - val_F1_at_k: 0.2244\n",
      "Epoch 8/20\n",
      " Validation precision: 0.1667, Validation recall: 0.2222, Validation F1: 0.2222\n",
      "4098/4098 - 72s - loss: 0.0041 - precision_at_k: 0.2973 - recall_at_k: 0.2761 - F1_at_k: 0.2730 - val_loss: 0.0046 - val_precision_at_k: 0.2143 - val_recall_at_k: 0.2231 - val_F1_at_k: 0.2234\n",
      "Epoch 9/20\n",
      " Validation precision: 0.1667, Validation recall: 0.2222, Validation F1: 0.2222\n",
      "\n",
      " Early stopping at epoch  9\n",
      "\n",
      " Restoring model weights to weights from epoch  4\n",
      "4098/4098 - 72s - loss: 0.0040 - precision_at_k: 0.3070 - recall_at_k: 0.2856 - F1_at_k: 0.2823 - val_loss: 0.0046 - val_precision_at_k: 0.2200 - val_recall_at_k: 0.2228 - val_F1_at_k: 0.2235\n"
     ]
    }
   ],
   "source": [
    "# Fit model with callbacks\n",
    "# early stopping\n",
    "es = EarlyStoppingAtK(X_cv, y_cv, metrics, patience = 5)\n",
    "\n",
    "# save model\n",
    "mc = ModelCheckpoint('models/multilabel_NN/model2_{epoch:02d}.h5', save_freq = 'epoch', verbose = 0)\n",
    "\n",
    "# fit model\n",
    "history = model.fit(x = X_train, y = y_train, validation_data=(X_cv, y_cv), epochs = 20, verbose = 2, callbacks = [es, mc])\n",
    "\n",
    "model.save('models/multilabel_NN/model2.h5')"
   ]
  },
  {
   "cell_type": "code",
   "execution_count": 95,
   "metadata": {},
   "outputs": [
    {
     "data": {
      "image/png": "[encoded data removed]",
      "text/plain": [
       "<Figure size 1080x360 with 2 Axes>"
      ]
     },
     "metadata": {},
     "output_type": "display_data"
    }
   ],
   "source": [
    "# number of epochs determined by the following\n",
    "# plot the training and validation loss to determine if overfitting / underfitting \n",
    "\n",
    "train_loss = history.history['loss']\n",
    "val_loss = history.history['val_loss']\n",
    "train_F1 = history.history['F1_at_k']\n",
    "batch_val_F1 = history.history['val_F1_at_k']\n",
    "val_F1 = es.F1scores\n",
    "n_epochs = len(train_loss)\n",
    "\n",
    "fig, ax = plt.subplots(ncols = 2, figsize = (15,5))\n",
    "ax[0].plot(list(range(n_epochs)), train_loss, label ='train loss')\n",
    "ax[0].plot(list(range(n_epochs)), val_loss, label ='val loss')\n",
    "ax[0].set_xlabel('training epochs')\n",
    "ax[0].set_ylabel('loss')\n",
    "ax[0].legend()\n",
    "ax[1].plot(list(range(n_epochs)), train_F1, label ='train F1')\n",
    "ax[1].plot(list(range(n_epochs)), batch_val_F1, label ='batch val F1')\n",
    "ax[1].plot(list(range(n_epochs)), val_F1, label ='val F1')\n",
    "ax[1].set_xlabel('training epochs')\n",
    "ax[1].set_ylabel('F1')\n",
    "ax[1].legend()\n",
    "plt.show()"
   ]
  },
  {
   "cell_type": "code",
   "execution_count": 99,
   "metadata": {},
   "outputs": [
    {
     "name": "stdout",
     "output_type": "stream",
     "text": [
      "Validation set precision:  0.16666667\n",
      "Validation set recall:  0.2\n",
      "Validation set F1:  0.22222218\n"
     ]
    }
   ],
   "source": [
    "# evaluate \n",
    "y_pred = model.predict(X_cv)\n",
    "print(\"Validation set precision: \", metrics.precision_at_k(y_cv, y_pred).numpy())\n",
    "print(\"Validation set recall: \", metrics.recall_at_k(y_cv, y_pred).numpy())\n",
    "print(\"Validation set F1: \", metrics.F1_at_k(y_cv, y_pred).numpy())"
   ]
  },
  {
   "cell_type": "markdown",
   "metadata": {},
   "source": [
    "### model 3: Add hidden layer"
   ]
  },
  {
   "cell_type": "code",
   "execution_count": 107,
   "metadata": {
    "scrolled": true
   },
   "outputs": [
    {
     "name": "stdout",
     "output_type": "stream",
     "text": [
      "Model: \"model3\"\n",
      "_________________________________________________________________\n",
      "Layer (type)                 Output Shape              Param #   \n",
      "=================================================================\n",
      "Embedding (Embedding)        (None, 5, 500)            3356000   \n",
      "_________________________________________________________________\n",
      "Mean (Lambda)                (None, 500)               0         \n",
      "_________________________________________________________________\n",
      "Dense (Dense)                (None, 500)               250500    \n",
      "_________________________________________________________________\n",
      "dense_3 (Dense)              (None, 6712)              3362712   \n",
      "=================================================================\n",
      "Total params: 6,969,212\n",
      "Trainable params: 6,969,212\n",
      "Non-trainable params: 0\n",
      "_________________________________________________________________\n"
     ]
    }
   ],
   "source": [
    "# define model architecture\n",
    "context_size = 5\n",
    "embed_size = 500\n",
    "model = Sequential(name = 'model3')\n",
    "\n",
    "model.add(Embedding(n_words, embed_size, input_length = context_size, name = \"Embedding\"))\n",
    "model.add(Lambda(lambda x: K.mean(x, axis=1), output_shape = (embed_size,), name = \"Mean\" ))\n",
    "model.add(Dense(500, activation = 'sigmoid', name = \"Dense\"))\n",
    "model.add(Dense(n_words, activation = 'sigmoid'))\n",
    "\n",
    "metrics = MetricsAtK(k = 6)\n",
    "model.compile(loss = 'binary_crossentropy', optimizer = 'adam', metrics = [metrics.precision_at_k,\n",
    "                                                                           metrics.recall_at_k,\n",
    "                                                                           metrics.F1_at_k])\n",
    "model.summary()"
   ]
  },
  {
   "cell_type": "code",
   "execution_count": 108,
   "metadata": {
    "scrolled": true
   },
   "outputs": [
    {
     "name": "stdout",
     "output_type": "stream",
     "text": [
      "Epoch 1/50\n",
      " Validation precision: 0.1667, Validation recall: 0.0833, Validation F1: 0.1111\n",
      "4098/4098 - 117s - loss: 0.0069 - precision_at_k: 0.0574 - recall_at_k: 0.0307 - F1_at_k: 0.0397 - val_loss: 0.0055 - val_precision_at_k: 0.1000 - val_recall_at_k: 0.0613 - val_F1_at_k: 0.0758\n",
      "Epoch 2/50\n",
      " Validation precision: 0.1667, Validation recall: 0.1429, Validation F1: 0.1667\n",
      "4098/4098 - 117s - loss: 0.0053 - precision_at_k: 0.1391 - recall_at_k: 0.0988 - F1_at_k: 0.1164 - val_loss: 0.0050 - val_precision_at_k: 0.1629 - val_recall_at_k: 0.1443 - val_F1_at_k: 0.1581\n",
      "Epoch 3/50\n",
      " Validation precision: 0.1667, Validation recall: 0.2000, Validation F1: 0.2000\n",
      "4098/4098 - 117s - loss: 0.0049 - precision_at_k: 0.1735 - recall_at_k: 0.1648 - F1_at_k: 0.1778 - val_loss: 0.0048 - val_precision_at_k: 0.1714 - val_recall_at_k: 0.1845 - val_F1_at_k: 0.1919\n",
      "Epoch 4/50\n",
      " Validation precision: 0.1667, Validation recall: 0.2000, Validation F1: 0.2000\n",
      "4098/4098 - 117s - loss: 0.0047 - precision_at_k: 0.1941 - recall_at_k: 0.1961 - F1_at_k: 0.2043 - val_loss: 0.0047 - val_precision_at_k: 0.1838 - val_recall_at_k: 0.1967 - val_F1_at_k: 0.2009\n",
      "Epoch 5/50\n",
      " Validation precision: 0.1667, Validation recall: 0.2000, Validation F1: 0.2222\n",
      "4098/4098 - 117s - loss: 0.0045 - precision_at_k: 0.2175 - recall_at_k: 0.2150 - F1_at_k: 0.2212 - val_loss: 0.0047 - val_precision_at_k: 0.2000 - val_recall_at_k: 0.2059 - val_F1_at_k: 0.2106\n",
      "Epoch 6/50\n",
      " Validation precision: 0.1667, Validation recall: 0.2143, Validation F1: 0.2222\n",
      "4098/4098 - 117s - loss: 0.0044 - precision_at_k: 0.2395 - recall_at_k: 0.2311 - F1_at_k: 0.2343 - val_loss: 0.0046 - val_precision_at_k: 0.2048 - val_recall_at_k: 0.2127 - val_F1_at_k: 0.2142\n",
      "Epoch 7/50\n",
      " Validation precision: 0.1667, Validation recall: 0.2222, Validation F1: 0.2222\n",
      "4098/4098 - 116s - loss: 0.0043 - precision_at_k: 0.2571 - recall_at_k: 0.2436 - F1_at_k: 0.2450 - val_loss: 0.0046 - val_precision_at_k: 0.2029 - val_recall_at_k: 0.2201 - val_F1_at_k: 0.2204\n",
      "Epoch 8/50\n",
      " Validation precision: 0.1667, Validation recall: 0.2222, Validation F1: 0.2222\n",
      "4098/4098 - 117s - loss: 0.0042 - precision_at_k: 0.2730 - recall_at_k: 0.2543 - F1_at_k: 0.2546 - val_loss: 0.0046 - val_precision_at_k: 0.2114 - val_recall_at_k: 0.2195 - val_F1_at_k: 0.2207\n",
      "Epoch 9/50\n",
      " Validation precision: 0.1667, Validation recall: 0.2222, Validation F1: 0.2222\n",
      "4098/4098 - 117s - loss: 0.0041 - precision_at_k: 0.2876 - recall_at_k: 0.2640 - F1_at_k: 0.2640 - val_loss: 0.0046 - val_precision_at_k: 0.2067 - val_recall_at_k: 0.2183 - val_F1_at_k: 0.2211\n",
      "Epoch 10/50\n",
      " Validation precision: 0.1667, Validation recall: 0.2222, Validation F1: 0.2222\n",
      "\n",
      " Early stopping at epoch  10\n",
      "\n",
      " Restoring model weights to weights from epoch  5\n",
      "4098/4098 - 117s - loss: 0.0040 - precision_at_k: 0.2955 - recall_at_k: 0.2747 - F1_at_k: 0.2721 - val_loss: 0.0047 - val_precision_at_k: 0.2105 - val_recall_at_k: 0.2181 - val_F1_at_k: 0.2207\n"
     ]
    }
   ],
   "source": [
    "# Fit model with callbacks\n",
    "# early stopping\n",
    "es = EarlyStoppingAtK(X_cv, y_cv, metrics, patience = 5)\n",
    "\n",
    "# save model\n",
    "mc = ModelCheckpoint('models/multilabel_NN/model3_{epoch:02d}.h5', save_freq = 'epoch', verbose = 0)\n",
    "\n",
    "# fit model\n",
    "history = model.fit(x = X_train, y = y_train, validation_data=(X_cv, y_cv), epochs = 50, verbose = 2, callbacks = [es, mc])\n",
    "\n",
    "model.save('models/multilabel_NN/model3.h5')"
   ]
  },
  {
   "cell_type": "code",
   "execution_count": 109,
   "metadata": {},
   "outputs": [
    {
     "data": {
      "image/png": "[encoded data removed]",
      "text/plain": [
       "<Figure size 1080x360 with 2 Axes>"
      ]
     },
     "metadata": {},
     "output_type": "display_data"
    }
   ],
   "source": [
    "# number of epochs determined by the following\n",
    "# plot the training and validation loss to determine if overfitting / underfitting \n",
    "\n",
    "train_loss = history.history['loss']\n",
    "val_loss = history.history['val_loss']\n",
    "train_F1 = history.history['F1_at_k']\n",
    "batch_val_F1 = history.history['val_F1_at_k']\n",
    "val_F1 = es.F1scores\n",
    "n_epochs = len(train_loss)\n",
    "\n",
    "fig, ax = plt.subplots(ncols = 2, figsize = (15,5))\n",
    "ax[0].plot(list(range(n_epochs)), train_loss, label ='train loss')\n",
    "ax[0].plot(list(range(n_epochs)), val_loss, label ='val loss')\n",
    "ax[0].set_xlabel('training epochs')\n",
    "ax[0].set_ylabel('loss')\n",
    "ax[0].legend()\n",
    "ax[1].plot(list(range(n_epochs)), train_F1, label ='train F1')\n",
    "ax[1].plot(list(range(n_epochs)), batch_val_F1, label ='batch val F1')\n",
    "ax[1].plot(list(range(n_epochs)), val_F1, label ='val F1')\n",
    "ax[1].set_xlabel('training epochs')\n",
    "ax[1].set_ylabel('F1')\n",
    "ax[1].legend()\n",
    "plt.show()"
   ]
  },
  {
   "cell_type": "code",
   "execution_count": 110,
   "metadata": {
    "scrolled": true
   },
   "outputs": [
    {
     "name": "stdout",
     "output_type": "stream",
     "text": [
      "Validation set precision:  0.16666667\n",
      "Validation set recall:  0.2\n",
      "Validation set F1:  0.22222218\n"
     ]
    }
   ],
   "source": [
    "# evaluate \n",
    "y_pred = model.predict(X_cv)\n",
    "print(\"Validation set precision: \", metrics.precision_at_k(y_cv, y_pred).numpy())\n",
    "print(\"Validation set recall: \", metrics.recall_at_k(y_cv, y_pred).numpy())\n",
    "print(\"Validation set F1: \", metrics.F1_at_k(y_cv, y_pred).numpy())"
   ]
  },
  {
   "cell_type": "code",
   "execution_count": null,
   "metadata": {},
   "outputs": [],
   "source": [
    "# adding hidden layer & increasing embedding dimension doesn't improve the validation performance\n",
    "# so we'll return to the original model (model 1)"
   ]
  },
  {
   "cell_type": "markdown",
   "metadata": {},
   "source": [
    "## architecture without mean"
   ]
  },
  {
   "cell_type": "code",
   "execution_count": 112,
   "metadata": {},
   "outputs": [],
   "source": [
    "from tensorflow.keras.layers import Flatten"
   ]
  },
  {
   "cell_type": "code",
   "execution_count": 114,
   "metadata": {},
   "outputs": [
    {
     "name": "stdout",
     "output_type": "stream",
     "text": [
      "Model: \"model4\"\n",
      "_________________________________________________________________\n",
      "Layer (type)                 Output Shape              Param #   \n",
      "=================================================================\n",
      "Embedding (Embedding)        (None, 5, 100)            671200    \n",
      "_________________________________________________________________\n",
      "Flatten (Flatten)            (None, 500)               0         \n",
      "_________________________________________________________________\n",
      "Dense (Dense)                (None, 6712)              3362712   \n",
      "=================================================================\n",
      "Total params: 4,033,912\n",
      "Trainable params: 4,033,912\n",
      "Non-trainable params: 0\n",
      "_________________________________________________________________\n"
     ]
    }
   ],
   "source": [
    "# define model architecture\n",
    "context_size = 5\n",
    "embed_size = 500\n",
    "model = Sequential(name = 'model4')\n",
    "\n",
    "model.add(Embedding(n_words, embed_size, input_length = context_size, name = \"Embedding\"))\n",
    "model.add(Flatten(name = \"Flatten\"))\n",
    "model.add(Dense(n_words, activation = 'sigmoid', name = \"Dense\"))\n",
    "\n",
    "metrics = MetricsAtK(k = 6)\n",
    "model.compile(loss = 'binary_crossentropy', optimizer = 'adam', metrics = [metrics.precision_at_k,\n",
    "                                                                           metrics.recall_at_k,\n",
    "                                                                           metrics.F1_at_k])\n",
    "model.summary()"
   ]
  },
  {
   "cell_type": "code",
   "execution_count": 115,
   "metadata": {},
   "outputs": [
    {
     "name": "stdout",
     "output_type": "stream",
     "text": [
      "Epoch 1/20\n",
      " Validation precision: 0.1667, Validation recall: 0.0909, Validation F1: 0.1176\n",
      "4098/4098 - 31s - loss: 0.0201 - precision_at_k: 0.0713 - recall_at_k: 0.0384 - F1_at_k: 0.0496 - val_loss: 0.0057 - val_precision_at_k: 0.1095 - val_recall_at_k: 0.0664 - val_F1_at_k: 0.0820\n",
      "Epoch 2/20\n",
      " Validation precision: 0.1667, Validation recall: 0.1667, Validation F1: 0.1818\n",
      "4098/4098 - 30s - loss: 0.0053 - precision_at_k: 0.1530 - recall_at_k: 0.1182 - F1_at_k: 0.1362 - val_loss: 0.0050 - val_precision_at_k: 0.1695 - val_recall_at_k: 0.1656 - val_F1_at_k: 0.1765\n",
      "Epoch 3/20\n",
      " Validation precision: 0.1667, Validation recall: 0.2000, Validation F1: 0.2222\n",
      "4098/4098 - 30s - loss: 0.0048 - precision_at_k: 0.1983 - recall_at_k: 0.1958 - F1_at_k: 0.2049 - val_loss: 0.0048 - val_precision_at_k: 0.2000 - val_recall_at_k: 0.2059 - val_F1_at_k: 0.2105\n",
      "Epoch 4/20\n",
      " Validation precision: 0.1667, Validation recall: 0.2222, Validation F1: 0.2222\n",
      "4098/4098 - 30s - loss: 0.0045 - precision_at_k: 0.2443 - recall_at_k: 0.2335 - F1_at_k: 0.2369 - val_loss: 0.0047 - val_precision_at_k: 0.2124 - val_recall_at_k: 0.2141 - val_F1_at_k: 0.2169\n",
      "Epoch 5/20\n",
      " Validation precision: 0.1667, Validation recall: 0.2222, Validation F1: 0.2222\n",
      "4098/4098 - 30s - loss: 0.0043 - precision_at_k: 0.2738 - recall_at_k: 0.2540 - F1_at_k: 0.2550 - val_loss: 0.0047 - val_precision_at_k: 0.2086 - val_recall_at_k: 0.2137 - val_F1_at_k: 0.2142\n",
      "Epoch 6/20\n",
      " Validation precision: 0.1667, Validation recall: 0.2143, Validation F1: 0.2222\n",
      "4098/4098 - 30s - loss: 0.0041 - precision_at_k: 0.2947 - recall_at_k: 0.2710 - F1_at_k: 0.2694 - val_loss: 0.0048 - val_precision_at_k: 0.2124 - val_recall_at_k: 0.2117 - val_F1_at_k: 0.2149\n",
      "Epoch 7/20\n",
      " Validation precision: 0.1667, Validation recall: 0.2000, Validation F1: 0.2222\n",
      "4098/4098 - 30s - loss: 0.0039 - precision_at_k: 0.3065 - recall_at_k: 0.2854 - F1_at_k: 0.2812 - val_loss: 0.0048 - val_precision_at_k: 0.2057 - val_recall_at_k: 0.2103 - val_F1_at_k: 0.2147\n",
      "Epoch 8/20\n",
      " Validation precision: 0.1667, Validation recall: 0.2000, Validation F1: 0.2222\n",
      "\n",
      " Early stopping at epoch  8\n",
      "\n",
      " Restoring model weights to weights from epoch  3\n",
      "4098/4098 - 30s - loss: 0.0038 - precision_at_k: 0.3175 - recall_at_k: 0.2990 - F1_at_k: 0.2940 - val_loss: 0.0049 - val_precision_at_k: 0.1981 - val_recall_at_k: 0.2083 - val_F1_at_k: 0.2118\n"
     ]
    }
   ],
   "source": [
    "# Fit model with callbacks\n",
    "# early stopping\n",
    "es = EarlyStoppingAtK(X_cv, y_cv, metrics, patience = 5)\n",
    "\n",
    "# save model\n",
    "mc = ModelCheckpoint('models/multilabel_NN/model4_{epoch:02d}.h5', save_freq = 'epoch', verbose = 0)\n",
    "\n",
    "# fit model\n",
    "history = model.fit(x = X_train, y = y_train, validation_data=(X_cv, y_cv), epochs = 20, verbose = 2, callbacks = [es, mc])\n",
    "\n",
    "model.save('models/multilabel_NN/model4.h5')"
   ]
  },
  {
   "cell_type": "code",
   "execution_count": 116,
   "metadata": {},
   "outputs": [
    {
     "data": {
      "image/png": "[encoded data removed]",
      "text/plain": [
       "<Figure size 1080x360 with 2 Axes>"
      ]
     },
     "metadata": {},
     "output_type": "display_data"
    }
   ],
   "source": [
    "# number of epochs determined by the following\n",
    "# plot the training and validation loss to determine if overfitting / underfitting \n",
    "\n",
    "train_loss = history.history['loss']\n",
    "val_loss = history.history['val_loss']\n",
    "train_F1 = history.history['F1_at_k']\n",
    "batch_val_F1 = history.history['val_F1_at_k']\n",
    "val_F1 = es.F1scores\n",
    "n_epochs = len(train_loss)\n",
    "\n",
    "fig, ax = plt.subplots(ncols = 2, figsize = (15,5))\n",
    "ax[0].plot(list(range(n_epochs)), train_loss, label ='train loss')\n",
    "ax[0].plot(list(range(n_epochs)), val_loss, label ='val loss')\n",
    "ax[0].set_xlabel('training epochs')\n",
    "ax[0].set_ylabel('loss')\n",
    "ax[0].legend()\n",
    "ax[1].plot(list(range(n_epochs)), train_F1, label ='train F1')\n",
    "ax[1].plot(list(range(n_epochs)), batch_val_F1, label ='batch val F1')\n",
    "ax[1].plot(list(range(n_epochs)), val_F1, label ='val F1')\n",
    "ax[1].set_xlabel('training epochs')\n",
    "ax[1].set_ylabel('F1')\n",
    "ax[1].legend()\n",
    "plt.show()"
   ]
  },
  {
   "cell_type": "code",
   "execution_count": 117,
   "metadata": {
    "scrolled": true
   },
   "outputs": [
    {
     "name": "stdout",
     "output_type": "stream",
     "text": [
      "Validation set precision:  0.16666667\n",
      "Validation set recall:  0.2\n",
      "Validation set F1:  0.22222218\n"
     ]
    }
   ],
   "source": [
    "# evaluate \n",
    "y_pred = model.predict(X_cv)\n",
    "print(\"Validation set precision: \", metrics.precision_at_k(y_cv, y_pred).numpy())\n",
    "print(\"Validation set recall: \", metrics.recall_at_k(y_cv, y_pred).numpy())\n",
    "print(\"Validation set F1: \", metrics.F1_at_k(y_cv, y_pred).numpy())"
   ]
  },
  {
   "cell_type": "markdown",
   "metadata": {},
   "source": [
    "<b> Going back to architecture 0 </b>"
   ]
  },
  {
   "cell_type": "code",
   "execution_count": 119,
   "metadata": {},
   "outputs": [],
   "source": [
    "from tensorflow.keras.models import load_model\n",
    "from tensorflow.keras.optimizers import Adam"
   ]
  },
  {
   "cell_type": "markdown",
   "metadata": {},
   "source": [
    "Let's do hyperparameter tuning  \n",
    "1. Tune learning rate alpha\n",
    "2. Tune batch size"
   ]
  },
  {
   "cell_type": "code",
   "execution_count": 161,
   "metadata": {
    "scrolled": true
   },
   "outputs": [
    {
     "name": "stdout",
     "output_type": "stream",
     "text": [
      " Validation precision: 0.0000, Validation recall: 0.0000, Validation F1: 0.0000\n",
      " Validation precision: 0.1667, Validation recall: 0.1000, Validation F1: 0.1250\n",
      " Validation precision: 0.1667, Validation recall: 0.1429, Validation F1: 0.1538\n",
      " Validation precision: 0.1667, Validation recall: 0.1818, Validation F1: 0.1905\n",
      " Validation precision: 0.1667, Validation recall: 0.2000, Validation F1: 0.2000\n",
      " Validation precision: 0.1667, Validation recall: 0.2000, Validation F1: 0.2222\n",
      " Validation precision: 0.1667, Validation recall: 0.2000, Validation F1: 0.2222\n",
      " Validation precision: 0.1667, Validation recall: 0.2000, Validation F1: 0.2222\n",
      " Validation precision: 0.1667, Validation recall: 0.2000, Validation F1: 0.2222\n",
      " Validation precision: 0.1667, Validation recall: 0.2000, Validation F1: 0.2222\n",
      " Validation precision: 0.1667, Validation recall: 0.2000, Validation F1: 0.2105\n",
      "\n",
      " Early stopping at epoch  11\n",
      "\n",
      " Restoring model weights to weights from epoch  6\n",
      " Validation precision: 0.0000, Validation recall: 0.0000, Validation F1: 0.0000\n",
      " Validation precision: 0.0000, Validation recall: 0.0000, Validation F1: 0.0000\n",
      " Validation precision: 0.1667, Validation recall: 0.0909, Validation F1: 0.1176\n",
      " Validation precision: 0.1667, Validation recall: 0.1176, Validation F1: 0.1429\n",
      " Validation precision: 0.1667, Validation recall: 0.1667, Validation F1: 0.1667\n",
      " Validation precision: 0.1667, Validation recall: 0.2000, Validation F1: 0.2000\n",
      " Validation precision: 0.1667, Validation recall: 0.2000, Validation F1: 0.2000\n",
      " Validation precision: 0.1667, Validation recall: 0.2000, Validation F1: 0.2222\n",
      " Validation precision: 0.1667, Validation recall: 0.2000, Validation F1: 0.2222\n",
      " Validation precision: 0.1667, Validation recall: 0.2000, Validation F1: 0.2222\n",
      " Validation precision: 0.1667, Validation recall: 0.2143, Validation F1: 0.2222\n",
      " Validation precision: 0.1667, Validation recall: 0.2222, Validation F1: 0.2222\n",
      " Validation precision: 0.1667, Validation recall: 0.2222, Validation F1: 0.2222\n",
      "\n",
      " Early stopping at epoch  13\n",
      "\n",
      " Restoring model weights to weights from epoch  8\n",
      " Validation precision: 0.1667, Validation recall: 0.1333, Validation F1: 0.1538\n",
      " Validation precision: 0.1667, Validation recall: 0.2000, Validation F1: 0.2000\n",
      " Validation precision: 0.1667, Validation recall: 0.2000, Validation F1: 0.2000\n",
      " Validation precision: 0.1667, Validation recall: 0.2000, Validation F1: 0.2000\n",
      " Validation precision: 0.1667, Validation recall: 0.2000, Validation F1: 0.2000\n",
      " Validation precision: 0.1667, Validation recall: 0.1667, Validation F1: 0.1818\n",
      " Validation precision: 0.1667, Validation recall: 0.1818, Validation F1: 0.1818\n",
      "\n",
      " Early stopping at epoch  7\n",
      "\n",
      " Restoring model weights to weights from epoch  2\n",
      " Validation precision: 0.1667, Validation recall: 0.1429, Validation F1: 0.1538\n",
      " Validation precision: 0.1667, Validation recall: 0.2000, Validation F1: 0.2000\n",
      " Validation precision: 0.1667, Validation recall: 0.2000, Validation F1: 0.2000\n",
      " Validation precision: 0.1667, Validation recall: 0.2000, Validation F1: 0.2000\n",
      " Validation precision: 0.1667, Validation recall: 0.1818, Validation F1: 0.1905\n",
      " Validation precision: 0.1667, Validation recall: 0.1765, Validation F1: 0.1818\n",
      " Validation precision: 0.1667, Validation recall: 0.1667, Validation F1: 0.1818\n",
      "\n",
      " Early stopping at epoch  7\n",
      "\n",
      " Restoring model weights to weights from epoch  2\n",
      " Validation precision: 0.0000, Validation recall: 0.0000, Validation F1: 0.0000\n",
      " Validation precision: 0.0000, Validation recall: 0.0000, Validation F1: 0.0000\n",
      " Validation precision: 0.0000, Validation recall: 0.0000, Validation F1: 0.0000\n",
      " Validation precision: 0.1667, Validation recall: 0.0909, Validation F1: 0.1176\n",
      " Validation precision: 0.1667, Validation recall: 0.1250, Validation F1: 0.1429\n",
      " Validation precision: 0.1667, Validation recall: 0.1429, Validation F1: 0.1667\n",
      " Validation precision: 0.1667, Validation recall: 0.1667, Validation F1: 0.1818\n",
      " Validation precision: 0.1667, Validation recall: 0.2000, Validation F1: 0.2000\n",
      " Validation precision: 0.1667, Validation recall: 0.2000, Validation F1: 0.2000\n",
      " Validation precision: 0.1667, Validation recall: 0.2000, Validation F1: 0.2105\n",
      " Validation precision: 0.1667, Validation recall: 0.2000, Validation F1: 0.2222\n",
      " Validation precision: 0.1667, Validation recall: 0.2000, Validation F1: 0.2222\n",
      " Validation precision: 0.1667, Validation recall: 0.2143, Validation F1: 0.2222\n",
      " Validation precision: 0.1667, Validation recall: 0.2143, Validation F1: 0.2222\n",
      " Validation precision: 0.1667, Validation recall: 0.2143, Validation F1: 0.2222\n",
      " Validation precision: 0.1667, Validation recall: 0.2143, Validation F1: 0.2222\n",
      "\n",
      " Early stopping at epoch  16\n",
      "\n",
      " Restoring model weights to weights from epoch  11\n",
      " Validation precision: 0.0000, Validation recall: 0.0000, Validation F1: 0.0000\n",
      " Validation precision: 0.0000, Validation recall: 0.0000, Validation F1: 0.0000\n",
      " Validation precision: 0.1667, Validation recall: 0.0769, Validation F1: 0.1053\n",
      " Validation precision: 0.1667, Validation recall: 0.1111, Validation F1: 0.1429\n",
      " Validation precision: 0.1667, Validation recall: 0.1429, Validation F1: 0.1667\n",
      " Validation precision: 0.1667, Validation recall: 0.1818, Validation F1: 0.1818\n",
      " Validation precision: 0.1667, Validation recall: 0.2000, Validation F1: 0.2000\n",
      " Validation precision: 0.1667, Validation recall: 0.2000, Validation F1: 0.2105\n",
      " Validation precision: 0.1667, Validation recall: 0.2000, Validation F1: 0.2222\n",
      " Validation precision: 0.1667, Validation recall: 0.2105, Validation F1: 0.2222\n",
      " Validation precision: 0.1667, Validation recall: 0.2000, Validation F1: 0.2222\n",
      " Validation precision: 0.1667, Validation recall: 0.2222, Validation F1: 0.2222\n",
      " Validation precision: 0.1667, Validation recall: 0.2143, Validation F1: 0.2222\n",
      " Validation precision: 0.1667, Validation recall: 0.2000, Validation F1: 0.2222\n",
      "\n",
      " Early stopping at epoch  14\n",
      "\n",
      " Restoring model weights to weights from epoch  9\n",
      " Validation precision: 0.1667, Validation recall: 0.1429, Validation F1: 0.1538\n",
      " Validation precision: 0.1667, Validation recall: 0.2000, Validation F1: 0.2000\n",
      " Validation precision: 0.1667, Validation recall: 0.2000, Validation F1: 0.2000\n",
      " Validation precision: 0.1667, Validation recall: 0.2000, Validation F1: 0.2000\n",
      " Validation precision: 0.1667, Validation recall: 0.1818, Validation F1: 0.1905\n",
      " Validation precision: 0.1667, Validation recall: 0.1667, Validation F1: 0.1818\n",
      " Validation precision: 0.1667, Validation recall: 0.1765, Validation F1: 0.1818\n",
      "\n",
      " Early stopping at epoch  7\n",
      "\n",
      " Restoring model weights to weights from epoch  2\n",
      " Validation precision: 0.1667, Validation recall: 0.1429, Validation F1: 0.1667\n",
      " Validation precision: 0.1667, Validation recall: 0.2000, Validation F1: 0.2000\n",
      " Validation precision: 0.1667, Validation recall: 0.2000, Validation F1: 0.2000\n",
      " Validation precision: 0.1667, Validation recall: 0.1818, Validation F1: 0.2000\n",
      " Validation precision: 0.1667, Validation recall: 0.1765, Validation F1: 0.1818\n",
      " Validation precision: 0.1667, Validation recall: 0.1667, Validation F1: 0.1818\n",
      " Validation precision: 0.1667, Validation recall: 0.1667, Validation F1: 0.1818\n",
      "\n",
      " Early stopping at epoch  7\n",
      "\n",
      " Restoring model weights to weights from epoch  2\n",
      " Validation precision: 0.1667, Validation recall: 0.0909, Validation F1: 0.1176\n",
      " Validation precision: 0.1667, Validation recall: 0.1667, Validation F1: 0.1818\n",
      " Validation precision: 0.1667, Validation recall: 0.2000, Validation F1: 0.2000\n",
      " Validation precision: 0.1667, Validation recall: 0.2000, Validation F1: 0.2000\n",
      " Validation precision: 0.1667, Validation recall: 0.2000, Validation F1: 0.2000\n",
      " Validation precision: 0.1667, Validation recall: 0.2000, Validation F1: 0.2000\n",
      " Validation precision: 0.1667, Validation recall: 0.2000, Validation F1: 0.2000\n",
      " Validation precision: 0.1667, Validation recall: 0.2000, Validation F1: 0.2000\n",
      " Validation precision: 0.1667, Validation recall: 0.2000, Validation F1: 0.2000\n",
      "\n",
      " Early stopping at epoch  9\n",
      "\n",
      " Restoring model weights to weights from epoch  4\n",
      " Validation precision: 0.0000, Validation recall: 0.0000, Validation F1: 0.0000\n",
      " Validation precision: 0.0000, Validation recall: 0.0000, Validation F1: 0.0000\n",
      " Validation precision: 0.0000, Validation recall: 0.0000, Validation F1: 0.0000\n"
     ]
    },
    {
     "name": "stdout",
     "output_type": "stream",
     "text": [
      " Validation precision: 0.0000, Validation recall: 0.0000, Validation F1: 0.0000\n",
      " Validation precision: 0.1667, Validation recall: 0.0500, Validation F1: 0.0769\n",
      " Validation precision: 0.1667, Validation recall: 0.0909, Validation F1: 0.1176\n",
      " Validation precision: 0.1667, Validation recall: 0.1111, Validation F1: 0.1333\n",
      " Validation precision: 0.1667, Validation recall: 0.1250, Validation F1: 0.1538\n",
      " Validation precision: 0.1667, Validation recall: 0.1429, Validation F1: 0.1667\n",
      " Validation precision: 0.1667, Validation recall: 0.1667, Validation F1: 0.1818\n",
      " Validation precision: 0.1667, Validation recall: 0.1765, Validation F1: 0.1818\n",
      " Validation precision: 0.1667, Validation recall: 0.2000, Validation F1: 0.2000\n",
      " Validation precision: 0.1667, Validation recall: 0.2000, Validation F1: 0.2000\n",
      " Validation precision: 0.1667, Validation recall: 0.2000, Validation F1: 0.2000\n",
      " Validation precision: 0.1667, Validation recall: 0.2000, Validation F1: 0.2000\n",
      " Validation precision: 0.1667, Validation recall: 0.2000, Validation F1: 0.2000\n",
      " Validation precision: 0.1667, Validation recall: 0.2000, Validation F1: 0.2105\n",
      " Validation precision: 0.1667, Validation recall: 0.2000, Validation F1: 0.2222\n",
      " Validation precision: 0.1667, Validation recall: 0.2000, Validation F1: 0.2222\n",
      " Validation precision: 0.1667, Validation recall: 0.2000, Validation F1: 0.2222\n"
     ]
    }
   ],
   "source": [
    "# 1. tune learning rate alpha \n",
    "# train on a subset of X_train, y_train \n",
    "idx = random.sample(range(X_train.shape[0]),50000)\n",
    "X_sample = X_train[idx,:]\n",
    "y_sample = y_train[idx,:]\n",
    "alpha_history = []\n",
    "alpha_values = []\n",
    "val_precision = {}\n",
    "val_recall = {}\n",
    "val_f1 = {}\n",
    "\n",
    "for i in range(10):\n",
    "    # Sample parameter values from log scale, between 0.00001 to 0.1\n",
    "    alpha_log = np.random.uniform(np.log10(0.0003), np.log10(0.03), 1)[0]\n",
    "    alpha = round(10**alpha_log,6)\n",
    "\n",
    "    # Define model structure\n",
    "    context_size = 5\n",
    "    embed_size = 100\n",
    "    model = Sequential(name = \"model1\")\n",
    "    model.add(Embedding(n_words, embed_size, input_length = context_size, name = \"Embedding\"))\n",
    "    model.add(Lambda(lambda x: K.mean(x, axis=1), output_shape = (embed_size,), name = \"Mean\"))\n",
    "    model.add(Dense(n_words, activation = 'sigmoid', name = \"Dense\"))\n",
    "    opt = Adam(learning_rate = alpha )\n",
    "    metrics = MetricsAtK(k = 6)\n",
    "    model.compile(loss =  'binary_crossentropy', optimizer = opt, metrics = [metrics.precision_at_k,\n",
    "                                                                               metrics.recall_at_k,\n",
    "                                                                               metrics.F1_at_k])\n",
    "\n",
    "    # train \n",
    "    es = EarlyStoppingAtK(X_cv, y_cv, metrics, patience = 5)\n",
    "    history = model.fit(x = X_sample, y = y_sample, validation_data=(X_cv, y_cv), epochs = 20, verbose = 0, callbacks = [es])\n",
    "    alpha_history.append(history)\n",
    "    alpha_values.append(alpha)\n",
    "    \n",
    "    val_precision[i] = es.precisions\n",
    "    val_recall[i] = es.recalls\n",
    "    val_f1[i] = es.F1scores\n"
   ]
  },
  {
   "cell_type": "code",
   "execution_count": 174,
   "metadata": {},
   "outputs": [
    {
     "data": {
      "image/png": "[encoded data removed]",
      "text/plain": [
       "<Figure size 1080x360 with 3 Axes>"
      ]
     },
     "metadata": {},
     "output_type": "display_data"
    }
   ],
   "source": [
    "# plot loss curves\n",
    "fig, ax = plt.subplots(ncols = 3, figsize = (15, 5))\n",
    "alpha_sort = np.argsort(alpha_values)\n",
    "\n",
    "for i in range(10):\n",
    "    train_loss = alpha_history[alpha_sort[i]].history['loss']\n",
    "    ax[0].plot(train_loss, label=alpha_values[alpha_sort[i]])\n",
    "ax[0].set_ylabel('loss')\n",
    "ax[0].set_xlabel('epoch')\n",
    "ax[0].legend(loc = 'upper right')\n",
    "ax[0].set_title('training loss')\n",
    "\n",
    "for i in range(10):\n",
    "    cv_loss = alpha_history[alpha_sort[i]].history['val_loss']\n",
    "    ax[1].plot(cv_loss, label=alpha_values[alpha_sort[i]])\n",
    "ax[1].set_ylabel('loss')\n",
    "ax[1].set_xlabel('epoch')\n",
    "ax[1].legend(loc = 'upper right')\n",
    "ax[1].set_title('validation loss')\n",
    "\n",
    "for i in range(10):\n",
    "    f1 = val_f1[alpha_sort[i]]\n",
    "    ax[2].plot(f1, label=alpha_values[alpha_sort[i]])\n",
    "ax[2].set_ylabel('validation F1')\n",
    "ax[2].set_xlabel('epoch')\n",
    "ax[2].legend(loc = 'lower right')\n",
    "ax[2].set_title('validation F1')\n",
    "plt.show()"
   ]
  },
  {
   "cell_type": "code",
   "execution_count": null,
   "metadata": {},
   "outputs": [],
   "source": [
    "# why are the training loss increasing towards the end?\n",
    "# It's because I performed early stopping with some patience"
   ]
  },
  {
   "cell_type": "code",
   "execution_count": 178,
   "metadata": {},
   "outputs": [
    {
     "data": {
      "image/png": "[encoded data removed]",
      "text/plain": [
       "<Figure size 432x288 with 1 Axes>"
      ]
     },
     "metadata": {},
     "output_type": "display_data"
    }
   ],
   "source": [
    "# plot alpha values and val F1 score at the end of training\n",
    "\n",
    "alpha_sort = np.argsort(alpha_values)\n",
    "for i in range(10):\n",
    "    plt.scatter(alpha_values[alpha_sort[i]], val_f1[alpha_sort[i]][-1],\n",
    "               label = alpha_values[alpha_sort[i]])\n",
    "plt.xlim(0,0.025)\n",
    "plt.ylim(0,0.3)\n",
    "plt.xlabel('learning rate')\n",
    "plt.ylabel('validation F1')\n",
    "plt.legend(loc = 'upper right', bbox_to_anchor=(1.3, 1))\n",
    "plt.show()"
   ]
  },
  {
   "cell_type": "code",
   "execution_count": null,
   "metadata": {},
   "outputs": [],
   "source": [
    "# The above is showing us that the smaller learning rates will reach better Validation F1 performance\n",
    "\n",
    "# We'll thus choose the (largest) learning rate that whose validation loss doesn't increase too quickly\n",
    "# choose rate of 0.002"
   ]
  },
  {
   "cell_type": "markdown",
   "metadata": {},
   "source": [
    "hyperparameter tuning  -- tune batch size"
   ]
  },
  {
   "cell_type": "code",
   "execution_count": 180,
   "metadata": {},
   "outputs": [
    {
     "name": "stdout",
     "output_type": "stream",
     "text": [
      " Validation precision: 0.0000, Validation recall: 0.0000, Validation F1: 0.0000\n",
      " Validation precision: 0.1667, Validation recall: 0.1250, Validation F1: 0.1538\n",
      " Validation precision: 0.1667, Validation recall: 0.2000, Validation F1: 0.2000\n",
      " Validation precision: 0.1667, Validation recall: 0.2000, Validation F1: 0.2105\n",
      " Validation precision: 0.1667, Validation recall: 0.2000, Validation F1: 0.2222\n",
      " Validation precision: 0.1667, Validation recall: 0.2000, Validation F1: 0.2222\n",
      " Validation precision: 0.1667, Validation recall: 0.2000, Validation F1: 0.2222\n",
      " Validation precision: 0.1667, Validation recall: 0.2000, Validation F1: 0.2222\n",
      " Validation precision: 0.1667, Validation recall: 0.2000, Validation F1: 0.2222\n",
      " Validation precision: 0.1667, Validation recall: 0.2000, Validation F1: 0.2105\n",
      "\n",
      " Early stopping at epoch  10\n",
      "\n",
      " Restoring model weights to weights from epoch  5\n",
      " Validation precision: 0.0000, Validation recall: 0.0000, Validation F1: 0.0000\n",
      " Validation precision: 0.1667, Validation recall: 0.0667, Validation F1: 0.0952\n",
      " Validation precision: 0.1667, Validation recall: 0.1111, Validation F1: 0.1429\n",
      " Validation precision: 0.1667, Validation recall: 0.1667, Validation F1: 0.1818\n",
      " Validation precision: 0.1667, Validation recall: 0.2000, Validation F1: 0.2000\n",
      " Validation precision: 0.1667, Validation recall: 0.2000, Validation F1: 0.2105\n",
      " Validation precision: 0.1667, Validation recall: 0.2000, Validation F1: 0.2222\n",
      " Validation precision: 0.1667, Validation recall: 0.2000, Validation F1: 0.2222\n",
      " Validation precision: 0.1667, Validation recall: 0.2000, Validation F1: 0.2222\n",
      " Validation precision: 0.1667, Validation recall: 0.2143, Validation F1: 0.2222\n",
      " Validation precision: 0.1667, Validation recall: 0.2000, Validation F1: 0.2222\n",
      " Validation precision: 0.1667, Validation recall: 0.2000, Validation F1: 0.2222\n",
      "\n",
      " Early stopping at epoch  12\n",
      "\n",
      " Restoring model weights to weights from epoch  7\n",
      " Validation precision: 0.0000, Validation recall: 0.0000, Validation F1: 0.0000\n",
      " Validation precision: 0.0000, Validation recall: 0.0000, Validation F1: 0.0000\n",
      " Validation precision: 0.0000, Validation recall: 0.0000, Validation F1: 0.0000\n",
      " Validation precision: 0.1667, Validation recall: 0.0909, Validation F1: 0.1176\n",
      " Validation precision: 0.1667, Validation recall: 0.1111, Validation F1: 0.1333\n",
      " Validation precision: 0.1667, Validation recall: 0.1429, Validation F1: 0.1538\n",
      " Validation precision: 0.1667, Validation recall: 0.1667, Validation F1: 0.1818\n",
      " Validation precision: 0.1667, Validation recall: 0.2000, Validation F1: 0.2000\n",
      " Validation precision: 0.1667, Validation recall: 0.2000, Validation F1: 0.2000\n",
      " Validation precision: 0.1667, Validation recall: 0.2000, Validation F1: 0.2069\n",
      " Validation precision: 0.1667, Validation recall: 0.2000, Validation F1: 0.2105\n",
      " Validation precision: 0.1667, Validation recall: 0.2000, Validation F1: 0.2222\n",
      " Validation precision: 0.1667, Validation recall: 0.2000, Validation F1: 0.2222\n",
      " Validation precision: 0.1667, Validation recall: 0.2143, Validation F1: 0.2222\n",
      " Validation precision: 0.1667, Validation recall: 0.2143, Validation F1: 0.2222\n",
      " Validation precision: 0.1667, Validation recall: 0.2143, Validation F1: 0.2222\n",
      " Validation precision: 0.1667, Validation recall: 0.2143, Validation F1: 0.2222\n",
      "\n",
      " Early stopping at epoch  17\n",
      "\n",
      " Restoring model weights to weights from epoch  12\n",
      " Validation precision: 0.0000, Validation recall: 0.0000, Validation F1: 0.0000\n",
      " Validation precision: 0.0000, Validation recall: 0.0000, Validation F1: 0.0000\n",
      " Validation precision: 0.0000, Validation recall: 0.0000, Validation F1: 0.0000\n",
      " Validation precision: 0.0000, Validation recall: 0.0000, Validation F1: 0.0000\n",
      " Validation precision: 0.1667, Validation recall: 0.0769, Validation F1: 0.1053\n",
      " Validation precision: 0.1667, Validation recall: 0.1000, Validation F1: 0.1250\n",
      " Validation precision: 0.1667, Validation recall: 0.1111, Validation F1: 0.1333\n",
      " Validation precision: 0.1667, Validation recall: 0.1333, Validation F1: 0.1538\n",
      " Validation precision: 0.1667, Validation recall: 0.1429, Validation F1: 0.1667\n",
      " Validation precision: 0.1667, Validation recall: 0.1667, Validation F1: 0.1818\n",
      " Validation precision: 0.1667, Validation recall: 0.2000, Validation F1: 0.2000\n",
      " Validation precision: 0.1667, Validation recall: 0.2000, Validation F1: 0.2000\n",
      " Validation precision: 0.1667, Validation recall: 0.2000, Validation F1: 0.2000\n",
      " Validation precision: 0.1667, Validation recall: 0.2000, Validation F1: 0.2000\n",
      " Validation precision: 0.1667, Validation recall: 0.2000, Validation F1: 0.2105\n",
      " Validation precision: 0.1667, Validation recall: 0.2000, Validation F1: 0.2222\n",
      " Validation precision: 0.1667, Validation recall: 0.2000, Validation F1: 0.2222\n",
      " Validation precision: 0.1667, Validation recall: 0.2000, Validation F1: 0.2222\n",
      " Validation precision: 0.1667, Validation recall: 0.2143, Validation F1: 0.2222\n",
      " Validation precision: 0.1667, Validation recall: 0.2105, Validation F1: 0.2222\n",
      " Validation precision: 0.1667, Validation recall: 0.2143, Validation F1: 0.2222\n",
      "\n",
      " Early stopping at epoch  21\n",
      "\n",
      " Restoring model weights to weights from epoch  16\n",
      " Validation precision: 0.0000, Validation recall: 0.0000, Validation F1: 0.0000\n",
      " Validation precision: 0.0000, Validation recall: 0.0000, Validation F1: 0.0000\n",
      " Validation precision: 0.0000, Validation recall: 0.0000, Validation F1: 0.0000\n",
      " Validation precision: 0.0000, Validation recall: 0.0000, Validation F1: 0.0000\n",
      " Validation precision: 0.0000, Validation recall: 0.0000, Validation F1: 0.0000\n",
      " Validation precision: 0.1667, Validation recall: 0.0714, Validation F1: 0.1000\n",
      " Validation precision: 0.1667, Validation recall: 0.0909, Validation F1: 0.1176\n",
      " Validation precision: 0.1667, Validation recall: 0.1000, Validation F1: 0.1250\n",
      " Validation precision: 0.1667, Validation recall: 0.1176, Validation F1: 0.1429\n",
      " Validation precision: 0.1667, Validation recall: 0.1250, Validation F1: 0.1538\n",
      " Validation precision: 0.1667, Validation recall: 0.1429, Validation F1: 0.1667\n",
      " Validation precision: 0.1667, Validation recall: 0.1667, Validation F1: 0.1667\n",
      " Validation precision: 0.1667, Validation recall: 0.1667, Validation F1: 0.1818\n",
      " Validation precision: 0.1667, Validation recall: 0.2000, Validation F1: 0.2000\n",
      " Validation precision: 0.1667, Validation recall: 0.2000, Validation F1: 0.2000\n",
      " Validation precision: 0.1667, Validation recall: 0.2000, Validation F1: 0.2000\n",
      " Validation precision: 0.1667, Validation recall: 0.2000, Validation F1: 0.2105\n",
      " Validation precision: 0.1667, Validation recall: 0.2000, Validation F1: 0.2105\n",
      " Validation precision: 0.1667, Validation recall: 0.2000, Validation F1: 0.2222\n",
      " Validation precision: 0.1667, Validation recall: 0.2000, Validation F1: 0.2222\n",
      " Validation precision: 0.1667, Validation recall: 0.2000, Validation F1: 0.2222\n",
      " Validation precision: 0.1667, Validation recall: 0.2105, Validation F1: 0.2222\n",
      " Validation precision: 0.1667, Validation recall: 0.2143, Validation F1: 0.2222\n",
      " Validation precision: 0.1667, Validation recall: 0.2222, Validation F1: 0.2222\n",
      "\n",
      " Early stopping at epoch  24\n",
      "\n",
      " Restoring model weights to weights from epoch  19\n",
      " Validation precision: 0.0000, Validation recall: 0.0000, Validation F1: 0.0000\n",
      " Validation precision: 0.0000, Validation recall: 0.0000, Validation F1: 0.0000\n",
      " Validation precision: 0.0000, Validation recall: 0.0000, Validation F1: 0.0000\n",
      " Validation precision: 0.0000, Validation recall: 0.0000, Validation F1: 0.0000\n",
      " Validation precision: 0.0000, Validation recall: 0.0000, Validation F1: 0.0000\n",
      " Validation precision: 0.0000, Validation recall: 0.0000, Validation F1: 0.0000\n",
      "\n",
      " Early stopping at epoch  6\n",
      "\n",
      " Restoring model weights to weights from epoch  1\n"
     ]
    }
   ],
   "source": [
    "batch_size = [10, 20, 40, 60, 80, 100]\n",
    "\n",
    "# train on a subset of X_train, y_train\n",
    "idx = random.sample(range(X_train.shape[0]),50000)\n",
    "X_sample = X_train[idx,:]\n",
    "y_sample = y_train[idx,:]\n",
    "\n",
    "val_precision = {}\n",
    "val_recall = {}\n",
    "val_f1 = {}\n",
    "\n",
    "metrics = MetricsAtK(k = 6)\n",
    "\n",
    "for batch in batch_size:\n",
    "\n",
    "    # Define model structure\n",
    "    context_size = 5\n",
    "    embed_size = 100\n",
    "    model = Sequential(name = \"model1\")\n",
    "    model.add(Embedding(n_words, embed_size, input_length = context_size, name = \"Embedding\"))\n",
    "    model.add(Lambda(lambda x: K.mean(x, axis=1), output_shape = (embed_size,), name = \"Mean\"))\n",
    "    model.add(Dense(n_words, activation = 'sigmoid', name = \"Dense\"))\n",
    "    opt = Adam(learning_rate = 0.002)\n",
    "    model.compile(loss =  'binary_crossentropy', optimizer = opt, metrics = [metrics.precision_at_k,\n",
    "                                                                               metrics.recall_at_k,\n",
    "                                                                               metrics.F1_at_k])\n",
    "\n",
    "    # train \n",
    "    es = EarlyStoppingAtK(X_cv, y_cv, metrics, patience = 5)\n",
    "    history = model.fit(x = X_sample, y = y_sample, validation_data=(X_cv, y_cv), \n",
    "                        batch_size = batch,epochs = 50, verbose = 0, callbacks = [es])\n",
    "\n",
    "    val_precision[batch] = es.precisions\n",
    "    val_recall[batch] = es.recalls\n",
    "    val_f1[batch] = es.F1scores"
   ]
  },
  {
   "cell_type": "code",
   "execution_count": 185,
   "metadata": {},
   "outputs": [
    {
     "data": {
      "image/png": "[encoded data removed]",
      "text/plain": [
       "<Figure size 432x288 with 1 Axes>"
      ]
     },
     "metadata": {},
     "output_type": "display_data"
    }
   ],
   "source": [
    "for i in batch_size:\n",
    "    f1 = val_f1[i]\n",
    "    plt.plot(f1, label=i)\n",
    "plt.legend()\n",
    "plt.xlabel(\"epoch\")\n",
    "plt.ylabel(\"validation F1\")\n",
    "plt.title(\"validation F1\")\n",
    "plt.show()"
   ]
  },
  {
   "cell_type": "code",
   "execution_count": null,
   "metadata": {},
   "outputs": [],
   "source": [
    "# The above graph shows us that a wide range of batch sizes less than 100 would be appropriate. \n",
    "# we'll choose the default batch size of 32 "
   ]
  },
  {
   "cell_type": "markdown",
   "metadata": {},
   "source": [
    "# model performance on test set"
   ]
  },
  {
   "cell_type": "code",
   "execution_count": 186,
   "metadata": {},
   "outputs": [
    {
     "name": "stdout",
     "output_type": "stream",
     "text": [
      "Model: \"model\"\n",
      "_________________________________________________________________\n",
      "Layer (type)                 Output Shape              Param #   \n",
      "=================================================================\n",
      "Embedding (Embedding)        (None, 5, 100)            671200    \n",
      "_________________________________________________________________\n",
      "Mean (Lambda)                (None, 100)               0         \n",
      "_________________________________________________________________\n",
      "Dense (Dense)                (None, 6712)              677912    \n",
      "=================================================================\n",
      "Total params: 1,349,112\n",
      "Trainable params: 1,349,112\n",
      "Non-trainable params: 0\n",
      "_________________________________________________________________\n"
     ]
    }
   ],
   "source": [
    "# define model structure\n",
    "context_size = 5\n",
    "embed_size = 100\n",
    "\n",
    "model = Sequential(name = \"model\")\n",
    "\n",
    "# embedding\n",
    "model.add(Embedding(n_words, embed_size, input_length = context_size, name = \"Embedding\"))\n",
    "\n",
    "# take the mean of vectors\n",
    "model.add(Lambda(lambda x: K.mean(x, axis=1), output_shape = (embed_size,), name = \"Mean\"))\n",
    "\n",
    "# last layer\n",
    "model.add(Dense(n_words, activation = 'sigmoid', name = \"Dense\"))\n",
    "\n",
    "#metrics = MetricsAtK(6, X_cv, y_cv)\n",
    "\n",
    "metrics = MetricsAtK(k = 6)\n",
    "opt = Adam(learning_rate = 0.002 )\n",
    "model.compile(loss =  'binary_crossentropy', optimizer = opt, metrics = [metrics.precision_at_k,\n",
    "                                                                           metrics.recall_at_k,\n",
    "                                                                           metrics.F1_at_k])\n",
    "model.summary()"
   ]
  },
  {
   "cell_type": "code",
   "execution_count": 187,
   "metadata": {
    "scrolled": false
   },
   "outputs": [
    {
     "name": "stdout",
     "output_type": "stream",
     "text": [
      "Epoch 1/20\n",
      " Validation precision: 0.1667, Validation recall: 0.0588, Validation F1: 0.0870\n",
      "4098/4098 - 31s - loss: 0.0194 - precision_at_k: 0.0634 - recall_at_k: 0.0336 - F1_at_k: 0.0436 - val_loss: 0.0058 - val_precision_at_k: 0.0790 - val_recall_at_k: 0.0421 - val_F1_at_k: 0.0542\n",
      "Epoch 2/20\n",
      " Validation precision: 0.1667, Validation recall: 0.1429, Validation F1: 0.1667\n",
      "4098/4098 - 31s - loss: 0.0055 - precision_at_k: 0.1323 - recall_at_k: 0.0907 - F1_at_k: 0.1082 - val_loss: 0.0051 - val_precision_at_k: 0.1610 - val_recall_at_k: 0.1337 - val_F1_at_k: 0.1499\n",
      "Epoch 3/20\n",
      " Validation precision: 0.1667, Validation recall: 0.2000, Validation F1: 0.2000\n",
      "4098/4098 - 31s - loss: 0.0049 - precision_at_k: 0.1816 - recall_at_k: 0.1746 - F1_at_k: 0.1865 - val_loss: 0.0048 - val_precision_at_k: 0.1857 - val_recall_at_k: 0.1985 - val_F1_at_k: 0.2042\n",
      "Epoch 4/20\n",
      " Validation precision: 0.1667, Validation recall: 0.2222, Validation F1: 0.2222\n",
      "4098/4098 - 31s - loss: 0.0046 - precision_at_k: 0.2238 - recall_at_k: 0.2179 - F1_at_k: 0.2240 - val_loss: 0.0047 - val_precision_at_k: 0.2048 - val_recall_at_k: 0.2143 - val_F1_at_k: 0.2177\n",
      "Epoch 5/20\n",
      " Validation precision: 0.1667, Validation recall: 0.2222, Validation F1: 0.2222\n",
      "4098/4098 - 31s - loss: 0.0044 - precision_at_k: 0.2550 - recall_at_k: 0.2407 - F1_at_k: 0.2431 - val_loss: 0.0047 - val_precision_at_k: 0.2086 - val_recall_at_k: 0.2178 - val_F1_at_k: 0.2195\n",
      "Epoch 6/20\n",
      " Validation precision: 0.1667, Validation recall: 0.2222, Validation F1: 0.2222\n",
      "4098/4098 - 31s - loss: 0.0043 - precision_at_k: 0.2768 - recall_at_k: 0.2573 - F1_at_k: 0.2568 - val_loss: 0.0046 - val_precision_at_k: 0.2181 - val_recall_at_k: 0.2211 - val_F1_at_k: 0.2207\n",
      "Epoch 7/20\n",
      " Validation precision: 0.1667, Validation recall: 0.2222, Validation F1: 0.2222\n",
      "4098/4098 - 31s - loss: 0.0042 - precision_at_k: 0.2916 - recall_at_k: 0.2700 - F1_at_k: 0.2681 - val_loss: 0.0046 - val_precision_at_k: 0.2095 - val_recall_at_k: 0.2220 - val_F1_at_k: 0.2210\n",
      "Epoch 8/20\n",
      " Validation precision: 0.1667, Validation recall: 0.2222, Validation F1: 0.2222\n",
      "4098/4098 - 31s - loss: 0.0041 - precision_at_k: 0.3032 - recall_at_k: 0.2811 - F1_at_k: 0.2774 - val_loss: 0.0047 - val_precision_at_k: 0.2200 - val_recall_at_k: 0.2210 - val_F1_at_k: 0.2229\n",
      "Epoch 9/20\n",
      " Validation precision: 0.1667, Validation recall: 0.2222, Validation F1: 0.2222\n",
      "\n",
      " Early stopping at epoch  9\n",
      "\n",
      " Restoring model weights to weights from epoch  4\n",
      "4098/4098 - 31s - loss: 0.0040 - precision_at_k: 0.3103 - recall_at_k: 0.2901 - F1_at_k: 0.2849 - val_loss: 0.0047 - val_precision_at_k: 0.2133 - val_recall_at_k: 0.2204 - val_F1_at_k: 0.2215\n"
     ]
    }
   ],
   "source": [
    "# callbacks for early stopping and model saving\n",
    "# early stopping\n",
    "es = EarlyStoppingAtK(X_cv, y_cv, metrics, patience = 5)\n",
    "\n",
    "# save model\n",
    "mc = ModelCheckpoint('models/multilabel_NN/model_{epoch:02d}.h5', save_freq = 'epoch', verbose = 0)\n",
    "\n",
    "# fit model\n",
    "history = model.fit(x = X_train, y = y_train, validation_data=(X_cv, y_cv), \n",
    "                    batch_size = 32, epochs = 20, verbose = 2, callbacks = [es, mc])\n",
    "\n",
    "model.save('models/multilabel_NN/model.h5')"
   ]
  },
  {
   "cell_type": "code",
   "execution_count": 188,
   "metadata": {},
   "outputs": [
    {
     "data": {
      "image/png": "[encoded data removed]",
      "text/plain": [
       "<Figure size 1080x360 with 2 Axes>"
      ]
     },
     "metadata": {},
     "output_type": "display_data"
    }
   ],
   "source": [
    "# number of epochs determined by the following\n",
    "# plot the training and validation loss to determine if overfitting / underfitting \n",
    "\n",
    "train_loss = history.history['loss']\n",
    "val_loss = history.history['val_loss']\n",
    "train_F1 = history.history['F1_at_k']\n",
    "batch_val_F1 = history.history['val_F1_at_k']\n",
    "val_F1 = es.F1scores\n",
    "n_epochs = len(train_loss)\n",
    "\n",
    "fig, ax = plt.subplots(ncols = 2, figsize = (15,5))\n",
    "ax[0].plot(list(range(n_epochs)), train_loss, label ='train loss')\n",
    "ax[0].plot(list(range(n_epochs)), val_loss, label ='val loss')\n",
    "ax[0].set_xlabel('training epochs')\n",
    "ax[0].set_ylabel('loss')\n",
    "ax[0].legend()\n",
    "ax[1].plot(list(range(n_epochs)), train_F1, label ='train F1')\n",
    "ax[1].plot(list(range(n_epochs)), batch_val_F1, label ='batch val F1')\n",
    "ax[1].plot(list(range(n_epochs)), val_F1, label ='val F1')\n",
    "ax[1].set_xlabel('training epochs')\n",
    "ax[1].set_ylabel('F1')\n",
    "ax[1].legend()\n",
    "plt.show()"
   ]
  },
  {
   "cell_type": "code",
   "execution_count": 189,
   "metadata": {
    "scrolled": true
   },
   "outputs": [
    {
     "data": {
      "image/png": "[encoded data removed]",
      "text/plain": [
       "<Figure size 720x216 with 3 Axes>"
      ]
     },
     "metadata": {},
     "output_type": "display_data"
    },
    {
     "name": "stdout",
     "output_type": "stream",
     "text": [
      "Median precision on CV set:  0.16666666666666666\n",
      "Median recall on CV set:  0.2222222222222222\n",
      "Median F-score on CV set:  0.2222222222222222\n",
      "Mean precision on CV set:  0.2466654757651542\n",
      "Mean recall on CV set:  0.2541429914747929\n",
      "Mean F-score on CV set:  0.22661873785672978\n"
     ]
    }
   ],
   "source": [
    "# load model with best performing validation_F1 score\n",
    "model = keras.models.load_model('models/multilabel_NN/model.h5', custom_objects= {'precision_at_k':metrics.precision_at_k,\n",
    "                                                                                  'recall_at_k':metrics.recall_at_k,\n",
    "                                                                                  'F1_at_k': metrics.F1_at_k})\n",
    "show_histograms(model, X_cv, y_cv)"
   ]
  },
  {
   "cell_type": "code",
   "execution_count": 190,
   "metadata": {},
   "outputs": [],
   "source": [
    "y_pred = model.predict(X_cv)\n",
    "n_dataset = y_pred.shape[0]\n",
    "pred = []\n",
    "for i in range(n_dataset):\n",
    "    pred_ing = y_pred[i,:].argsort()[::-1][:6].tolist()\n",
    "    pred.append(pred_ing)\n",
    "\n",
    "# for each document in CV set, create a list of missing ingredients (true ingredients)\n",
    "missing_ing = []\n",
    "for i in range(n_dataset):\n",
    "    missing_ing.append(np.nonzero(y_cv[i,:])[0].tolist())\n",
    "\n",
    "## compute precision, recall, F-score on the CV set \n",
    "scores = [fn.compute_scores(pred[i], missing_ing[i]) for i in range(len(pred))]\n",
    "\n",
    "precisions = [item[0] for item in scores] \n",
    "recalls = [item[1] for item in scores]\n",
    "Fscores = [item[2] for item in scores]"
   ]
  },
  {
   "cell_type": "code",
   "execution_count": 191,
   "metadata": {
    "scrolled": true
   },
   "outputs": [
    {
     "name": "stdout",
     "output_type": "stream",
     "text": [
      " ********** Example recommendations with high F scores **********\n",
      "==================== Example with F-score: 0.83 ====================\n",
      "---------- Existing ingredients ---------- \n",
      " ['baking_soda', 'kosher_salt', 'sugar', 'whole_milk', 'buttermilk']\n",
      "---------- Missing ingredients ---------- \n",
      " ['all-purpose_flour', 'cornmeal', 'large_eggs', 'southern_us', 'baking_powder', 'unsalted_butter']\n",
      "---------- Recommended ingredients ---------- \n",
      " ['all-purpose_flour', 'southern_us', 'unsalted_butter', 'large_eggs', 'baking_powder', 'irish'] \n",
      "\n",
      "==================== Example with F-score: 0.80 ====================\n",
      "---------- Existing ingredients ---------- \n",
      " ['baking_soda', 'quick-cooking_oats', 'unsalted_butter', 'british', 'baking_powder']\n",
      "---------- Missing ingredients ---------- \n",
      " ['sugar', 'large_eggs', 'all-purpose_flour', 'buttermilk']\n",
      "---------- Recommended ingredients ---------- \n",
      " ['all-purpose_flour', 'sugar', 'large_eggs', 'buttermilk', 'eggs', 'baking_soda'] \n",
      "\n",
      "==================== Example with F-score: 0.77 ====================\n",
      "---------- Existing ingredients ---------- \n",
      " ['powdered_sugar', 'cooking_spray', 'sugar', 'dried_cranberries', 'irish']\n",
      "---------- Missing ingredients ---------- \n",
      " ['all-purpose_flour', 'low-fat_buttermilk', 'baking_powder', 'butter', 'baking_soda', 'large_eggs', 'grated_orange']\n",
      "---------- Recommended ingredients ---------- \n",
      " ['all-purpose_flour', 'baking_powder', 'butter', 'baking_soda', 'large_egg_whites', 'large_eggs'] \n",
      "\n",
      "==================== Example with F-score: 0.75 ====================\n",
      "---------- Existing ingredients ---------- \n",
      " ['quail_eggs', 'garlic', 'tomato_sauce', 'potatoes', 'raisins']\n",
      "---------- Missing ingredients ---------- \n",
      " ['ground_pork', 'water', 'filipino', 'fish_sauce', 'carrots', 'oil', 'frozen_sweet_peas', 'ketchup', 'pepper', 'onions']\n",
      "---------- Recommended ingredients ---------- \n",
      " ['onions', 'carrots', 'pepper', 'filipino', 'water', 'oil'] \n",
      "\n",
      "==================== Example with F-score: 0.73 ====================\n",
      "---------- Existing ingredients ---------- \n",
      " ['irish', 'unsalted_butter', 'buttermilk', 'baking_powder', 'caraway_seeds']\n",
      "---------- Missing ingredients ---------- \n",
      " ['baking_soda', 'raisins', 'sugar', 'all-purpose_flour', 'large_eggs']\n",
      "---------- Recommended ingredients ---------- \n",
      " ['all-purpose_flour', 'baking_soda', 'sugar', 'large_eggs', 'whole_wheat_flour', 'all_purpose_unbleached_flour'] \n",
      "\n",
      "==================== Example with F-score: 0.73 ====================\n",
      "---------- Existing ingredients ---------- \n",
      " ['vegetable_oil_spray', 'lemon-lime_soda', 'sugar', 'grate_lime_peel', 'powdered_sugar']\n",
      "---------- Missing ingredients ---------- \n",
      " ['large_eggs', 'all-purpose_flour', 'southern_us', 'grated_lemon_peel', 'unsalted_butter']\n",
      "---------- Recommended ingredients ---------- \n",
      " ['french', 'unsalted_butter', 'southern_us', 'all-purpose_flour', 'large_eggs', 'fresh_lemon_juice'] \n",
      "\n",
      "==================== Example with F-score: 0.73 ====================\n",
      "---------- Existing ingredients ---------- \n",
      " ['italian', 'white_sugar', 'milk', 'ricotta_cheese', 'confectioners_sugar']\n",
      "---------- Missing ingredients ---------- \n",
      " ['butter', 'baking_soda', 'eggs', 'all-purpose_flour', 'vanilla_extract']\n",
      "---------- Recommended ingredients ---------- \n",
      " ['all-purpose_flour', 'eggs', 'butter', 'vanilla_extract', 'active_dry_yeast', 'bread_flour'] \n",
      "\n",
      "==================== Example with F-score: 0.73 ====================\n",
      "---------- Existing ingredients ---------- \n",
      " ['pepper', 'italian', 'heavy_cream', 'spaghetti', 'dried_parsley']\n",
      "---------- Missing ingredients ---------- \n",
      " ['garlic', 'butter', 'chicken_broth', 'olive_oil', 'grated_parmesan_cheese']\n",
      "---------- Recommended ingredients ---------- \n",
      " ['garlic', 'grated_parmesan_cheese', 'olive_oil', 'butter', 'garlic_cloves', 'onions'] \n",
      "\n",
      "==================== Example with F-score: 0.73 ====================\n",
      "---------- Existing ingredients ---------- \n",
      " ['southern_us', 'cranberries', 'vanilla_extract', 'sugar', 'butter']\n",
      "---------- Missing ingredients ---------- \n",
      " ['milk', 'baking_powder', 'all-purpose_flour', 'fresh_ginger', 'large_eggs']\n",
      "---------- Recommended ingredients ---------- \n",
      " ['all-purpose_flour', 'milk', 'large_eggs', 'eggs', 'chopped_pecans', 'baking_powder'] \n",
      "\n",
      "==================== Example with F-score: 0.73 ====================\n",
      "---------- Existing ingredients ---------- \n",
      " ['long_grain_white_rice', 'cumin', 'mexican', 'chicken_stock', 'butter']\n",
      "---------- Missing ingredients ---------- \n",
      " ['tomato_paste', 'garlic', 'pepper', 'chili_powder', 'onions']\n",
      "---------- Recommended ingredients ---------- \n",
      " ['onions', 'pepper', 'garlic', 'olive_oil', 'chicken_broth', 'chili_powder'] \n",
      "\n"
     ]
    }
   ],
   "source": [
    "# print examples with high F scores \n",
    "highF = np.argsort(Fscores)[::-1][:10]\n",
    "print(\" ********** Example recommendations with high F scores **********\")\n",
    "for i in highF:\n",
    "    print(\"==================== Example with F-score: %0.2f ====================\"  %Fscores[i])\n",
    "    print(\"---------- Existing ingredients ---------- \\n\", [index_to_words[item+1] for item in sampled_cv[i]])\n",
    "    print(\"---------- Missing ingredients ---------- \\n\", [index_to_words[item+1] for item in target_cv[i]])\n",
    "    print(\"---------- Recommended ingredients ---------- \\n\", [index_to_words[item+1] for item in pred[i]] ,\"\\n\")"
   ]
  },
  {
   "cell_type": "code",
   "execution_count": 192,
   "metadata": {},
   "outputs": [
    {
     "name": "stdout",
     "output_type": "stream",
     "text": [
      " ********** Example recommendations with low F scores **********\n",
      "==================== Example with F-score: 0.00 ====================\n",
      "---------- Existing ingredients ---------- \n",
      " ['italian', 'olive_oil', 'potatoes', 'red_pepper_flakes', 'bacon']\n",
      "---------- Missing ingredients ---------- \n",
      " ['feta_cheese_crumbles', 'salt_and_ground_black_pepper', 'eggs', 'sweet_pepper']\n",
      "---------- Recommended ingredients ---------- \n",
      " ['onions', 'garlic', 'pepper', 'ground_black_pepper', 'water', 'garlic_cloves'] \n",
      "\n",
      "==================== Example with F-score: 0.00 ====================\n",
      "---------- Existing ingredients ---------- \n",
      " ['basil', 'puff_pastry', 'italian', 'part-skim_mozzarella_cheese', 'fresh_basil']\n",
      "---------- Missing ingredients ---------- \n",
      " ['cooking_spray']\n",
      "---------- Recommended ingredients ---------- \n",
      " ['olive_oil', 'grated_parmesan_cheese', 'garlic', 'fresh_basil', 'garlic_cloves', 'eggs'] \n",
      "\n",
      "==================== Example with F-score: 0.00 ====================\n",
      "---------- Existing ingredients ---------- \n",
      " ['sour_cream', 'jell-o_gelatin', 'frozen_whipped_topping', 'mini_marshmallows', 'southern_us']\n",
      "---------- Missing ingredients ---------- \n",
      " ['chopped_pecans', 'crushed_pineapples_in_juice']\n",
      "---------- Recommended ingredients ---------- \n",
      " ['eggs', 'large_eggs', 'butter', 'all-purpose_flour', 'sugar', 'unsalted_butter'] \n",
      "\n",
      "==================== Example with F-score: 0.00 ====================\n",
      "---------- Existing ingredients ---------- \n",
      " ['arrow_root', 'plain_yogurt', 'brazilian', 'water', 'parmesan_cheese']\n",
      "---------- Missing ingredients ---------- \n",
      " ['sunflower_oil', 'eggs']\n",
      "---------- Recommended ingredients ---------- \n",
      " ['garlic', 'onions', 'garlic_cloves', 'pepper', 'olive_oil', 'tomatoes'] \n",
      "\n",
      "==================== Example with F-score: 0.00 ====================\n",
      "---------- Existing ingredients ---------- \n",
      " ['triple_sec', 'tequila', 'lime', 'mexican', 'lime_juice']\n",
      "---------- Missing ingredients ---------- \n",
      " ['ice_cubes', 'fresh_lime_juice']\n",
      "---------- Recommended ingredients ---------- \n",
      " ['avocado', 'jalapeno_chilies', 'lime', 'cilantro', 'garlic', 'chopped_cilantro_fresh'] \n",
      "\n",
      "==================== Example with F-score: 0.00 ====================\n",
      "---------- Existing ingredients ---------- \n",
      " ['kosher_salt', 'chinese', 'chili_flakes', 'rice_vinegar', 'peanut_oil']\n",
      "---------- Missing ingredients ---------- \n",
      " ['chinese_five-spice_powder', 'garlic_cloves', 'hoisin_sauce', 'celery', 'chicken_wings']\n",
      "---------- Recommended ingredients ---------- \n",
      " ['soy_sauce', 'sesame_oil', 'corn_starch', 'garlic', 'scallions', 'sugar'] \n",
      "\n",
      "==================== Example with F-score: 0.00 ====================\n",
      "---------- Existing ingredients ---------- \n",
      " ['korean', 'red_pepper', 'garlic', 'napa_cabbage', 'sugar']\n",
      "---------- Missing ingredients ---------- \n",
      " ['spring_onions', 'fresh_ginger', 'kosher_salt', 'fish_sauce', 'daikon']\n",
      "---------- Recommended ingredients ---------- \n",
      " ['sesame_oil', 'soy_sauce', 'scallions', 'green_onions', 'ginger', 'onions'] \n",
      "\n",
      "==================== Example with F-score: 0.00 ====================\n",
      "---------- Existing ingredients ---------- \n",
      " ['red_preserved_bean_curd', 'honey', 'pork_neck', 'red_food_coloring', 'chinese']\n",
      "---------- Missing ingredients ---------- \n",
      " ['white_pepper', 'chinese_five-spice_powder', 'hoisin_sauce', 'light_soy_sauce']\n",
      "---------- Recommended ingredients ---------- \n",
      " ['soy_sauce', 'sesame_oil', 'water', 'corn_starch', 'sugar', 'ginger'] \n",
      "\n",
      "==================== Example with F-score: 0.00 ====================\n",
      "---------- Existing ingredients ---------- \n",
      " ['biscuits', 'white_chocolate', 'sugar', 'fresh_raspberries', 'heavy_whipping_cream']\n",
      "---------- Missing ingredients ---------- \n",
      " ['water', 'almond_extract', 'british', 'raspberry_jam', 'raspberries', 'sliced_almonds']\n",
      "---------- Recommended ingredients ---------- \n",
      " ['french', 'whipping_cream', 'southern_us', 'italian', 'vanilla_extract', 'semisweet_chocolate'] \n",
      "\n",
      "==================== Example with F-score: 0.00 ====================\n",
      "---------- Existing ingredients ---------- \n",
      " ['sugarcane_juice', 'rice', 'indian', 'cashew_nuts', 'ghee']\n",
      "---------- Missing ingredients ---------- \n",
      " ['moong_dal', 'dates', 'ground_cardamom']\n",
      "---------- Recommended ingredients ---------- \n",
      " ['onions', 'garam_masala', 'oil', 'green_chilies', 'cumin_seed', 'garlic'] \n",
      "\n"
     ]
    }
   ],
   "source": [
    "# print examples with low F scores \n",
    "lowF = np.argsort(Fscores)[:10]\n",
    "print(\" ********** Example recommendations with low F scores **********\")\n",
    "for i in lowF:\n",
    "    print(\"==================== Example with F-score: %0.2f ====================\"  %Fscores[i])\n",
    "    print(\"---------- Existing ingredients ---------- \\n\", [index_to_words[item+1] for item in sampled_cv[i]])\n",
    "    print(\"---------- Missing ingredients ---------- \\n\", [index_to_words[item+1] for item in target_cv[i]])\n",
    "    print(\"---------- Recommended ingredients ---------- \\n\", [index_to_words[item+1] for item in pred[i]] ,\"\\n\")"
   ]
  },
  {
   "cell_type": "code",
   "execution_count": null,
   "metadata": {},
   "outputs": [],
   "source": [
    "# are there any systematic underperformance for particular cuisine? "
   ]
  },
  {
   "cell_type": "code",
   "execution_count": 194,
   "metadata": {
    "scrolled": true
   },
   "outputs": [
    {
     "data": {
      "text/html": [
       "<div>\n",
       "<style scoped>\n",
       "    .dataframe tbody tr th:only-of-type {\n",
       "        vertical-align: middle;\n",
       "    }\n",
       "\n",
       "    .dataframe tbody tr th {\n",
       "        vertical-align: top;\n",
       "    }\n",
       "\n",
       "    .dataframe thead th {\n",
       "        text-align: right;\n",
       "    }\n",
       "</style>\n",
       "<table border=\"1\" class=\"dataframe\">\n",
       "  <thead>\n",
       "    <tr style=\"text-align: right;\">\n",
       "      <th></th>\n",
       "      <th>level_0</th>\n",
       "      <th>index</th>\n",
       "      <th>Unnamed: 0</th>\n",
       "      <th>id</th>\n",
       "      <th>cuisine</th>\n",
       "      <th>ingredients</th>\n",
       "      <th>document</th>\n",
       "      <th>precisions</th>\n",
       "      <th>recalls</th>\n",
       "      <th>Fscores</th>\n",
       "    </tr>\n",
       "  </thead>\n",
       "  <tbody>\n",
       "    <tr>\n",
       "      <th>0</th>\n",
       "      <td>0</td>\n",
       "      <td>1</td>\n",
       "      <td>1</td>\n",
       "      <td>25693</td>\n",
       "      <td>southern_us</td>\n",
       "      <td>['plain_flour', 'ground_pepper', 'tomatoes', '...</td>\n",
       "      <td>['plain_flour', 'ground_pepper', 'tomatoes', '...</td>\n",
       "      <td>0.333333</td>\n",
       "      <td>0.333333</td>\n",
       "      <td>0.333333</td>\n",
       "    </tr>\n",
       "    <tr>\n",
       "      <th>1</th>\n",
       "      <td>1</td>\n",
       "      <td>7</td>\n",
       "      <td>7</td>\n",
       "      <td>3735</td>\n",
       "      <td>italian</td>\n",
       "      <td>['sugar', 'pistachio_nuts', 'white_almond_bark...</td>\n",
       "      <td>['sugar', 'pistachio_nuts', 'white_almond_bark...</td>\n",
       "      <td>0.166667</td>\n",
       "      <td>0.166667</td>\n",
       "      <td>0.166667</td>\n",
       "    </tr>\n",
       "    <tr>\n",
       "      <th>2</th>\n",
       "      <td>2</td>\n",
       "      <td>15</td>\n",
       "      <td>15</td>\n",
       "      <td>24717</td>\n",
       "      <td>indian</td>\n",
       "      <td>['tumeric', 'vegetable_stock', 'tomatoes', 'ga...</td>\n",
       "      <td>['tumeric', 'vegetable_stock', 'tomatoes', 'ga...</td>\n",
       "      <td>0.333333</td>\n",
       "      <td>0.333333</td>\n",
       "      <td>0.333333</td>\n",
       "    </tr>\n",
       "    <tr>\n",
       "      <th>3</th>\n",
       "      <td>3</td>\n",
       "      <td>24</td>\n",
       "      <td>24</td>\n",
       "      <td>49136</td>\n",
       "      <td>italian</td>\n",
       "      <td>['marinara_sauce', 'flat_leaf_parsley', 'olive...</td>\n",
       "      <td>['marinara_sauce', 'flat_leaf_parsley', 'olive...</td>\n",
       "      <td>0.166667</td>\n",
       "      <td>0.200000</td>\n",
       "      <td>0.181818</td>\n",
       "    </tr>\n",
       "    <tr>\n",
       "      <th>4</th>\n",
       "      <td>4</td>\n",
       "      <td>38</td>\n",
       "      <td>38</td>\n",
       "      <td>17610</td>\n",
       "      <td>southern_us</td>\n",
       "      <td>['green_onions', 'cream_cheese', 'shredded_che...</td>\n",
       "      <td>['green_onions', 'cream_cheese', 'shredded_che...</td>\n",
       "      <td>0.000000</td>\n",
       "      <td>0.000000</td>\n",
       "      <td>0.000000</td>\n",
       "    </tr>\n",
       "  </tbody>\n",
       "</table>\n",
       "</div>"
      ],
      "text/plain": [
       "   level_0  index  Unnamed: 0     id      cuisine  \\\n",
       "0        0      1           1  25693  southern_us   \n",
       "1        1      7           7   3735      italian   \n",
       "2        2     15          15  24717       indian   \n",
       "3        3     24          24  49136      italian   \n",
       "4        4     38          38  17610  southern_us   \n",
       "\n",
       "                                         ingredients  \\\n",
       "0  ['plain_flour', 'ground_pepper', 'tomatoes', '...   \n",
       "1  ['sugar', 'pistachio_nuts', 'white_almond_bark...   \n",
       "2  ['tumeric', 'vegetable_stock', 'tomatoes', 'ga...   \n",
       "3  ['marinara_sauce', 'flat_leaf_parsley', 'olive...   \n",
       "4  ['green_onions', 'cream_cheese', 'shredded_che...   \n",
       "\n",
       "                                            document  precisions   recalls  \\\n",
       "0  ['plain_flour', 'ground_pepper', 'tomatoes', '...    0.333333  0.333333   \n",
       "1  ['sugar', 'pistachio_nuts', 'white_almond_bark...    0.166667  0.166667   \n",
       "2  ['tumeric', 'vegetable_stock', 'tomatoes', 'ga...    0.333333  0.333333   \n",
       "3  ['marinara_sauce', 'flat_leaf_parsley', 'olive...    0.166667  0.200000   \n",
       "4  ['green_onions', 'cream_cheese', 'shredded_che...    0.000000  0.000000   \n",
       "\n",
       "    Fscores  \n",
       "0  0.333333  \n",
       "1  0.166667  \n",
       "2  0.333333  \n",
       "3  0.181818  \n",
       "4  0.000000  "
      ]
     },
     "execution_count": 194,
     "metadata": {},
     "output_type": "execute_result"
    }
   ],
   "source": [
    "df_CV = df.loc[cv_idx]\n",
    "df_CV.reset_index(inplace = True)\n",
    "\n",
    "df_CV = df_CV.loc[indices_cv]\n",
    "df_CV.reset_index(inplace = True)\n",
    "\n",
    "df_CV[\"precisions\"] = precisions\n",
    "df_CV[\"recalls\"] = recalls\n",
    "df_CV[\"Fscores\"] = Fscores\n",
    "\n",
    "df_CV.head()"
   ]
  },
  {
   "cell_type": "code",
   "execution_count": 195,
   "metadata": {},
   "outputs": [
    {
     "data": {
      "text/html": [
       "<div>\n",
       "<style scoped>\n",
       "    .dataframe tbody tr th:only-of-type {\n",
       "        vertical-align: middle;\n",
       "    }\n",
       "\n",
       "    .dataframe tbody tr th {\n",
       "        vertical-align: top;\n",
       "    }\n",
       "\n",
       "    .dataframe thead th {\n",
       "        text-align: right;\n",
       "    }\n",
       "</style>\n",
       "<table border=\"1\" class=\"dataframe\">\n",
       "  <thead>\n",
       "    <tr style=\"text-align: right;\">\n",
       "      <th></th>\n",
       "      <th>precisions</th>\n",
       "      <th>recalls</th>\n",
       "      <th>Fscores</th>\n",
       "    </tr>\n",
       "    <tr>\n",
       "      <th>cuisine</th>\n",
       "      <th></th>\n",
       "      <th></th>\n",
       "      <th></th>\n",
       "    </tr>\n",
       "  </thead>\n",
       "  <tbody>\n",
       "    <tr>\n",
       "      <th>korean</th>\n",
       "      <td>0.333333</td>\n",
       "      <td>0.272727</td>\n",
       "      <td>0.285714</td>\n",
       "    </tr>\n",
       "    <tr>\n",
       "      <th>moroccan</th>\n",
       "      <td>0.333333</td>\n",
       "      <td>0.200000</td>\n",
       "      <td>0.250000</td>\n",
       "    </tr>\n",
       "    <tr>\n",
       "      <th>chinese</th>\n",
       "      <td>0.333333</td>\n",
       "      <td>0.222222</td>\n",
       "      <td>0.250000</td>\n",
       "    </tr>\n",
       "    <tr>\n",
       "      <th>filipino</th>\n",
       "      <td>0.166667</td>\n",
       "      <td>0.250000</td>\n",
       "      <td>0.250000</td>\n",
       "    </tr>\n",
       "    <tr>\n",
       "      <th>russian</th>\n",
       "      <td>0.333333</td>\n",
       "      <td>0.250000</td>\n",
       "      <td>0.250000</td>\n",
       "    </tr>\n",
       "    <tr>\n",
       "      <th>indian</th>\n",
       "      <td>0.333333</td>\n",
       "      <td>0.200000</td>\n",
       "      <td>0.245000</td>\n",
       "    </tr>\n",
       "    <tr>\n",
       "      <th>spanish</th>\n",
       "      <td>0.166667</td>\n",
       "      <td>0.250000</td>\n",
       "      <td>0.235294</td>\n",
       "    </tr>\n",
       "    <tr>\n",
       "      <th>irish</th>\n",
       "      <td>0.166667</td>\n",
       "      <td>0.250000</td>\n",
       "      <td>0.235294</td>\n",
       "    </tr>\n",
       "    <tr>\n",
       "      <th>italian</th>\n",
       "      <td>0.166667</td>\n",
       "      <td>0.250000</td>\n",
       "      <td>0.222222</td>\n",
       "    </tr>\n",
       "    <tr>\n",
       "      <th>southern_us</th>\n",
       "      <td>0.166667</td>\n",
       "      <td>0.250000</td>\n",
       "      <td>0.222222</td>\n",
       "    </tr>\n",
       "    <tr>\n",
       "      <th>cajun_creole</th>\n",
       "      <td>0.166667</td>\n",
       "      <td>0.179144</td>\n",
       "      <td>0.210526</td>\n",
       "    </tr>\n",
       "    <tr>\n",
       "      <th>vietnamese</th>\n",
       "      <td>0.166667</td>\n",
       "      <td>0.179144</td>\n",
       "      <td>0.205263</td>\n",
       "    </tr>\n",
       "    <tr>\n",
       "      <th>british</th>\n",
       "      <td>0.166667</td>\n",
       "      <td>0.200000</td>\n",
       "      <td>0.205263</td>\n",
       "    </tr>\n",
       "    <tr>\n",
       "      <th>thai</th>\n",
       "      <td>0.166667</td>\n",
       "      <td>0.200000</td>\n",
       "      <td>0.200000</td>\n",
       "    </tr>\n",
       "    <tr>\n",
       "      <th>jamaican</th>\n",
       "      <td>0.166667</td>\n",
       "      <td>0.214286</td>\n",
       "      <td>0.200000</td>\n",
       "    </tr>\n",
       "    <tr>\n",
       "      <th>mexican</th>\n",
       "      <td>0.166667</td>\n",
       "      <td>0.200000</td>\n",
       "      <td>0.200000</td>\n",
       "    </tr>\n",
       "    <tr>\n",
       "      <th>japanese</th>\n",
       "      <td>0.166667</td>\n",
       "      <td>0.200000</td>\n",
       "      <td>0.200000</td>\n",
       "    </tr>\n",
       "    <tr>\n",
       "      <th>greek</th>\n",
       "      <td>0.166667</td>\n",
       "      <td>0.235294</td>\n",
       "      <td>0.200000</td>\n",
       "    </tr>\n",
       "    <tr>\n",
       "      <th>french</th>\n",
       "      <td>0.166667</td>\n",
       "      <td>0.200000</td>\n",
       "      <td>0.200000</td>\n",
       "    </tr>\n",
       "    <tr>\n",
       "      <th>brazilian</th>\n",
       "      <td>0.166667</td>\n",
       "      <td>0.142857</td>\n",
       "      <td>0.166667</td>\n",
       "    </tr>\n",
       "  </tbody>\n",
       "</table>\n",
       "</div>"
      ],
      "text/plain": [
       "              precisions   recalls   Fscores\n",
       "cuisine                                     \n",
       "korean          0.333333  0.272727  0.285714\n",
       "moroccan        0.333333  0.200000  0.250000\n",
       "chinese         0.333333  0.222222  0.250000\n",
       "filipino        0.166667  0.250000  0.250000\n",
       "russian         0.333333  0.250000  0.250000\n",
       "indian          0.333333  0.200000  0.245000\n",
       "spanish         0.166667  0.250000  0.235294\n",
       "irish           0.166667  0.250000  0.235294\n",
       "italian         0.166667  0.250000  0.222222\n",
       "southern_us     0.166667  0.250000  0.222222\n",
       "cajun_creole    0.166667  0.179144  0.210526\n",
       "vietnamese      0.166667  0.179144  0.205263\n",
       "british         0.166667  0.200000  0.205263\n",
       "thai            0.166667  0.200000  0.200000\n",
       "jamaican        0.166667  0.214286  0.200000\n",
       "mexican         0.166667  0.200000  0.200000\n",
       "japanese        0.166667  0.200000  0.200000\n",
       "greek           0.166667  0.235294  0.200000\n",
       "french          0.166667  0.200000  0.200000\n",
       "brazilian       0.166667  0.142857  0.166667"
      ]
     },
     "execution_count": 195,
     "metadata": {},
     "output_type": "execute_result"
    }
   ],
   "source": [
    "# compute median scores for each cuisine\n",
    "df_CV[[\"cuisine\", \"precisions\", \"recalls\", \"Fscores\"]].groupby(\"cuisine\").median().sort_values(by='Fscores', ascending = False)"
   ]
  },
  {
   "cell_type": "markdown",
   "metadata": {
    "heading_collapsed": true
   },
   "source": [
    "# 5. Comparison of the models "
   ]
  },
  {
   "cell_type": "markdown",
   "metadata": {
    "hidden": true
   },
   "source": [
    "* Compare the performance of various models on the cross-validation set"
   ]
  },
  {
   "cell_type": "markdown",
   "metadata": {
    "hidden": true
   },
   "source": [
    "* Based on the performance of the recommenders on the cross-validation set, the recommender based on association rule mining performs the best.   \n",
    "* Note, however, that extracting the rules according to the apriori algorithm takes a long time. This may not be that big of an issue for the recommender once it learns all the rules from the training set.  \n",
    "* The recommender based on association rule mining takes longer to recommend ingredients than the other two recommenders. Again, this may not be that big of an issue for the application itself when users make a single query. "
   ]
  },
  {
   "cell_type": "code",
   "execution_count": null,
   "metadata": {
    "hidden": true
   },
   "outputs": [],
   "source": [
    "# So far, the models we looked at are the following\n",
    "# NMF-based recommender\n",
    "# word-embedding based recommender\n",
    "# association-rule mining based recommender\n",
    "\n",
    "# Let's compare the performance of these models using k-fold cross-validation\n",
    "# report the performance on the test set "
   ]
  },
  {
   "cell_type": "code",
   "execution_count": null,
   "metadata": {
    "hidden": true
   },
   "outputs": [],
   "source": [
    "# define the models to compare"
   ]
  },
  {
   "cell_type": "code",
   "execution_count": null,
   "metadata": {
    "hidden": true
   },
   "outputs": [],
   "source": [
    "# define the set to perform k-fold cross-validation on \n",
    "# For this step, combine the training and cv set\n",
    "\n",
    "# load train, cv, test data index\n",
    "f = h5py.File('data/ingredient_recommendation/train_val_test.hdf5', 'r')\n",
    "train_idx = list(f.get(\"train_idx\"))\n",
    "cv_idx = list(f.get(\"cv_idx\"))\n",
    "test_idx = list(f.get(\"test_idx\"))\n",
    "f.close()\n",
    "\n",
    "# define the data used for kfold cross-validation \n",
    "kfold_idx = train_idx + cv_idx\n",
    "kfold_doc = [documents[i] for i in kfold_idx]\n",
    "\n",
    "# perform 10 fold CV \n",
    "\n",
    "# get existing ingredients and the remaining ingredients to be predicted\n",
    "existing_ing, missing_ing = sample_ingredients(kfold_doc, 5)\n"
   ]
  },
  {
   "cell_type": "code",
   "execution_count": null,
   "metadata": {
    "hidden": true
   },
   "outputs": [],
   "source": [
    "# compare models"
   ]
  },
  {
   "cell_type": "code",
   "execution_count": null,
   "metadata": {
    "hidden": true
   },
   "outputs": [],
   "source": [
    "# report performance on the test set "
   ]
  },
  {
   "cell_type": "markdown",
   "metadata": {
    "heading_collapsed": true
   },
   "source": [
    "# 6. Future directions / To Do"
   ]
  },
  {
   "cell_type": "markdown",
   "metadata": {
    "hidden": true
   },
   "source": [
    "* Revisit the metric for evaluating the models. \n",
    "* Deal with bias in dataset by grabbing more data. \n",
    "* Consider combining multiple models.\n",
    "* Serendipity / diversity / novelty of the system?\n",
    "* Build app."
   ]
  },
  {
   "cell_type": "code",
   "execution_count": null,
   "metadata": {
    "hidden": true
   },
   "outputs": [],
   "source": []
  }
 ],
 "metadata": {
  "@webio": {
   "lastCommId": null,
   "lastKernelId": null
  },
  "accelerator": "GPU",
  "colab": {
   "collapsed_sections": [
    "8NbtLorVuwFi",
    "o3wTw-y6na8V",
    "_xJ1A1wubRsd",
    "NTJd4owFmJZ5",
    "jvYgfw6U--WS",
    "HZOxcKsk--Wg",
    "Cl0Nvd9EUYxs",
    "dio9K1a3YbJq",
    "9Uj03rp3--Xg",
    "U7KdNrk9--Xw",
    "SMFKl67x--YC",
    "xX8lM00e--Yu",
    "UbmCt1Wk--ZH",
    "VZAUNw9t4TNj",
    "TYOQ09iDqcQd",
    "FEoONi2ap1oc",
    "ra7XFlL0E_vz",
    "xM1SmBMykWcY"
   ],
   "machine_shape": "hm",
   "name": "recipes.ipynb",
   "provenance": []
  },
  "kernelspec": {
   "display_name": "Python 3",
   "language": "python",
   "name": "python3"
  },
  "language_info": {
   "codemirror_mode": {
    "name": "ipython",
    "version": 3
   },
   "file_extension": ".py",
   "mimetype": "text/x-python",
   "name": "python",
   "nbconvert_exporter": "python",
   "pygments_lexer": "ipython3",
   "version": "3.7.8"
  }
 },
 "nbformat": 4,
 "nbformat_minor": 1
}
