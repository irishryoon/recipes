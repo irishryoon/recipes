{
 "cells": [
  {
   "cell_type": "markdown",
   "metadata": {},
   "source": [
    "# Cooking ingredients recommendation\n",
    "This notebook builds a recommendation system for cooking ingredients using. The end goal is to build a recommendation system that takes as input a list of existing ingredients and outputs a collection of ingredients that would go well with the existing ingredients. \n",
    "\n",
    "<b> Notebook contents </b>\n",
    "0. load and clean data  \n",
    "1. Preliminary analysis\n",
    "2. Non-negative matrix factorizations\n",
    "3. Word-embeddings\n",
    "4. Neural network \n",
    "5. Association rule mining    \n",
    "6. Latent Dirichlet Allocations\n",
    "7. Future directions / To Do \n",
    "\n",
    "***NOTE:*** *This is project is in progress.*\n",
    "\n"
   ]
  },
  {
   "cell_type": "code",
   "execution_count": 1,
   "metadata": {
    "colab": {},
    "colab_type": "code",
    "id": "SBNyXAdi--WO",
    "scrolled": true
   },
   "outputs": [],
   "source": [
    "import pandas as pd\n",
    "import numpy as np\n",
    "import re\n",
    "import random\n",
    "import ijson\n",
    "import ast \n",
    "import csv\n",
    "import statistics\n",
    "from itertools import combinations\n",
    "\n",
    "\n",
    "from sklearn.decomposition import NMF\n",
    "from sklearn.decomposition import PCA\n",
    "from collections import Counter \n",
    " \n",
    "import matplotlib.pyplot as plt\n",
    "from matplotlib import style\n",
    "plt.style.use('ggplot')\n",
    "\n",
    "import os\n",
    "import pickle\n",
    "import h5py\n",
    "import gensim\n",
    "from gensim.models import Word2Vec\n",
    "from gensim.models.nmf import Nmf\n",
    "from gensim.corpora import Dictionary\n",
    "\n",
    "from efficient_apriori import apriori"
   ]
  },
  {
   "cell_type": "markdown",
   "metadata": {
    "colab_type": "text",
    "heading_collapsed": true,
    "id": "yqeErat1o-kB"
   },
   "source": [
    "# 0. Load & clean data    "
   ]
  },
  {
   "cell_type": "markdown",
   "metadata": {
    "hidden": true
   },
   "source": [
    "* data: <a href=\"https://www.kaggle.com/kaggle/recipe-ingredients-dataset/\">recipe-ingredients dataset</a> from Kaggle. The dataset was part of a competition for predicting the cuisine type given ingredients list. \n",
    "* I chose this dataset because I wanted my recommender system to address questions like \"How do I cook my chicken in Indian style? Korean style?  \n",
    "* I used just the training data of this dataset. If one was interested in building a recommender system for ingredients without considering the cuisine, one could use both the training and testing set of the Kaggle dataset. One can also extend the dataset by combining with other sources of recipe data  \n",
    "* For example, the \"recipes\" notebook uses a different dataset. Note that that particular dataset requires more involved text cleaning process than the kaggle dataset\n",
    "\n",
    "<b> Contents </b>  \n",
    "(a) Cleanup text  \n",
    "(b) Remove \"stop words\"  \n",
    "(c) Create documents that contain both the list of ingredients and cuisine type  "
   ]
  },
  {
   "cell_type": "markdown",
   "metadata": {
    "hidden": true
   },
   "source": [
    "<b> (a) Cleanup text </b>  \n",
    "* Cleanups performed\n",
    "    * Remove parentheses and characters between parentheses. This removes quantity information. ex) \" (2 oz. ) tomato sauce\"\n",
    "    * Convert all strings into lowercase letters  \n",
    "    * Replace spaces with underscore _   \n",
    " \n",
    "* Remaining issues with the data after cleanup step\n",
    "    * Some ingredients contain brand names of the ingredients.  \n",
    "    * Some ingredients contain non-alphabet characters. Many of them seem to come from brand names.   \n",
    "    * Some ingredients contain cooking instructions. Example: \"spinach, thawed and squeezed dry\"  "
   ]
  },
  {
   "cell_type": "code",
   "execution_count": 2,
   "metadata": {
    "colab": {},
    "colab_type": "code",
    "hidden": true,
    "id": "I0gMrCjopD22"
   },
   "outputs": [],
   "source": [
    "# load data\n",
    "file_name = 'data/recipe-ingredients-dataset/train.json'\n",
    "\n",
    "with open(file_name, 'r') as f:\n",
    "    objects = ijson.items(f, 'item')\n",
    "    data = list(objects)\n",
    "\n",
    "df = pd.DataFrame(data)"
   ]
  },
  {
   "cell_type": "code",
   "execution_count": 3,
   "metadata": {
    "hidden": true
   },
   "outputs": [
    {
     "name": "stdout",
     "output_type": "stream",
     "text": [
      "Example ingredients\n",
      "['(    oz.) tomato sauce' '(   oz.) tomato paste'\n",
      " '(10 oz.) frozen chopped spinach'\n",
      " '(10 oz.) frozen chopped spinach, thawed and squeezed dry'\n",
      " '(14 oz.) sweetened condensed milk' '(14.5 oz.) diced tomatoes'\n",
      " '(15 oz.) refried beans' '1% low-fat buttermilk'\n",
      " '1% low-fat chocolate milk' '1% low-fat cottage cheese' '1% low-fat milk'\n",
      " '2 1/2 to 3 lb. chicken, cut into serving pieces'\n",
      " '2% low fat cheddar chees' '2% low-fat cottage cheese'\n",
      " '2% lowfat greek yogurt' '2% milk shredded mozzarella cheese'\n",
      " '2% reduced-fat milk' '25% less sodium chicken broth'\n",
      " '33% less sodium cooked deli ham' '33% less sodium cooked ham']\n",
      "['yolk' 'yoplait' 'young coconut meat' 'young leeks' 'young nettle'\n",
      " 'yu choy' 'yuca' 'yucca' 'yucca root' 'yukon gold' 'yukon gold potatoes'\n",
      " 'yuzu' 'yuzu juice' \"za'atar\" 'zest' 'zesty italian dressing' 'zinfandel'\n",
      " 'ziti' 'zucchini' 'zucchini blossoms']\n"
     ]
    }
   ],
   "source": [
    "# Look at data to figure out what kind of text cleaning we need to do\n",
    "\n",
    "ing_list = df['ingredients'].tolist()\n",
    "cuisine_list = df['cuisine'].tolist()\n",
    "\n",
    "if len(ing_list) == len(cuisine_list):\n",
    "    ingredients = [ing_list[i] + [cuisine_list[i]] for i in range(len(ing_list))]\n",
    "else:\n",
    "    print('error. Length of ingredients and cuisine does not match')\n",
    "\n",
    "print(\"Example ingredients\")\n",
    "ing_list = np.unique([item for recipe in ingredients for item in recipe ])\n",
    "print(ing_list[:20])\n",
    "print(ing_list[-20:])"
   ]
  },
  {
   "cell_type": "code",
   "execution_count": 4,
   "metadata": {
    "hidden": true
   },
   "outputs": [],
   "source": [
    "# Remove characters between (and including) parentheses\n",
    "# Turn all strings into lowercase  \n",
    "# Replace spaces with underscore. \n",
    "\n",
    "for i in df.index:\n",
    "    ing = df.at[i,'ingredients']\n",
    "    for j, item in enumerate(ing):\n",
    "        \n",
    "        # Replace all characters between parentheses\n",
    "        if  ('(' in item) or (')' in item):\n",
    "            item = re.sub('\\s*\\([^)]*\\)\\s*', '', item)\n",
    "            ing[j] = item\n",
    "        \n",
    "        # Turn all Upper case into lowercase\n",
    "        ing[j] = item.lower()\n",
    "        \n",
    "        # replace spaces with underscore \n",
    "        ing[j] = ing[j].replace(' ','_')\n",
    "        \n",
    "    df.at[i,'ingredients'] = ing"
   ]
  },
  {
   "cell_type": "markdown",
   "metadata": {
    "hidden": true
   },
   "source": [
    "<b> (b) Remove \"stop words\" </b> \n",
    "* stop words: ingredients that appear frequently throughout the documents.  \n",
    "* Based on the frequency of ingredients, I removed \"salt\" from every document."
   ]
  },
  {
   "cell_type": "code",
   "execution_count": 6,
   "metadata": {
    "hidden": true
   },
   "outputs": [],
   "source": [
    "# get the list of ingredients\n",
    "ing_list = df['ingredients'].tolist()\n",
    "ingredients_total = [item for sublist in ing_list for item in sublist]\n",
    "\n",
    "# count occurrence of ingredients\n",
    "ing_count = Counter(ingredients_total)\n",
    "\n",
    "# sort ingredients in order of decreasing frequency \n",
    "ing_by_count = [k for k, v in sorted(ing_count.items(), key = lambda item:item[1])]\n",
    "ing_by_count.reverse()"
   ]
  },
  {
   "cell_type": "code",
   "execution_count": 7,
   "metadata": {
    "hidden": true,
    "scrolled": true
   },
   "outputs": [
    {
     "data": {
      "image/png": "[encoded data removed]",
      "text/plain": [
       "<Figure size 432x288 with 1 Axes>"
      ]
     },
     "metadata": {
      "needs_background": "light"
     },
     "output_type": "display_data"
    }
   ],
   "source": [
    "# Visualize top N most frequently used ingredients\n",
    "N = 10\n",
    "\n",
    "n_documents = df.shape[0]\n",
    "frequent_ing = ing_by_count[:N]\n",
    "prob_ing = [ing_count[item]/n_documents for item in frequent_ing]\n",
    "\n",
    "plt.barh(frequent_ing[::-1], prob_ing[::-1])\n",
    "plt.xlabel('Portion of recipes with ingredient')\n",
    "plt.ylabel('Ingredients')\n",
    "plt.title('')\n",
    "plt.show()"
   ]
  },
  {
   "cell_type": "markdown",
   "metadata": {
    "hidden": true
   },
   "source": [
    "The above graph shows that more than 40% of documents contain the ingredient \"salt\". I decided to remove the ingredient \"salt\" from all documents."
   ]
  },
  {
   "cell_type": "code",
   "execution_count": 8,
   "metadata": {
    "hidden": true
   },
   "outputs": [],
   "source": [
    "# Remove the ingredient \"salt\"\n",
    "for i in range(df.shape[0]):\n",
    "    ing = df.at[i,'ingredients']\n",
    "    df.at[i,'ingredients'] = [item for item in ing if item != 'salt']"
   ]
  },
  {
   "cell_type": "markdown",
   "metadata": {
    "hidden": true
   },
   "source": [
    "<b>(c) Create documents that have both ingredients list and cuisine type </b>"
   ]
  },
  {
   "cell_type": "code",
   "execution_count": 9,
   "metadata": {
    "hidden": true
   },
   "outputs": [],
   "source": [
    "# get list of ingredients and list of cuisine\n",
    "ing_list = df['ingredients'].tolist()\n",
    "cuisine_list = df['cuisine'].tolist()\n",
    "\n",
    "if len(ing_list) == len(cuisine_list):\n",
    "    ingredients = [ing_list[i] + [cuisine_list[i]] for i in range(len(ing_list))]\n",
    "else:\n",
    "    print('error. Length of ingredients and cuisine does not match')    \n",
    "    \n",
    "# add cleaned up ingredients + cuisine to dataframe\n",
    "df['document'] = ingredients"
   ]
  },
  {
   "cell_type": "code",
   "execution_count": 10,
   "metadata": {
    "hidden": true
   },
   "outputs": [],
   "source": [
    "# add cleaned up ingredients + cuisine to dataframe\n",
    "df['document'] = ingredients\n",
    "df.to_csv('data/ingredient_recommendation/data.csv')"
   ]
  },
  {
   "cell_type": "code",
   "execution_count": 11,
   "metadata": {
    "hidden": true
   },
   "outputs": [
    {
     "data": {
      "text/html": [
       "<div>\n",
       "<style scoped>\n",
       "    .dataframe tbody tr th:only-of-type {\n",
       "        vertical-align: middle;\n",
       "    }\n",
       "\n",
       "    .dataframe tbody tr th {\n",
       "        vertical-align: top;\n",
       "    }\n",
       "\n",
       "    .dataframe thead th {\n",
       "        text-align: right;\n",
       "    }\n",
       "</style>\n",
       "<table border=\"1\" class=\"dataframe\">\n",
       "  <thead>\n",
       "    <tr style=\"text-align: right;\">\n",
       "      <th></th>\n",
       "      <th>id</th>\n",
       "      <th>cuisine</th>\n",
       "      <th>ingredients</th>\n",
       "      <th>document</th>\n",
       "    </tr>\n",
       "  </thead>\n",
       "  <tbody>\n",
       "    <tr>\n",
       "      <td>0</td>\n",
       "      <td>10259</td>\n",
       "      <td>greek</td>\n",
       "      <td>[romaine_lettuce, black_olives, grape_tomatoes...</td>\n",
       "      <td>[romaine_lettuce, black_olives, grape_tomatoes...</td>\n",
       "    </tr>\n",
       "    <tr>\n",
       "      <td>1</td>\n",
       "      <td>25693</td>\n",
       "      <td>southern_us</td>\n",
       "      <td>[plain_flour, ground_pepper, tomatoes, ground_...</td>\n",
       "      <td>[plain_flour, ground_pepper, tomatoes, ground_...</td>\n",
       "    </tr>\n",
       "    <tr>\n",
       "      <td>2</td>\n",
       "      <td>20130</td>\n",
       "      <td>filipino</td>\n",
       "      <td>[eggs, pepper, mayonaise, cooking_oil, green_c...</td>\n",
       "      <td>[eggs, pepper, mayonaise, cooking_oil, green_c...</td>\n",
       "    </tr>\n",
       "    <tr>\n",
       "      <td>3</td>\n",
       "      <td>22213</td>\n",
       "      <td>indian</td>\n",
       "      <td>[water, vegetable_oil, wheat]</td>\n",
       "      <td>[water, vegetable_oil, wheat, indian]</td>\n",
       "    </tr>\n",
       "    <tr>\n",
       "      <td>4</td>\n",
       "      <td>13162</td>\n",
       "      <td>indian</td>\n",
       "      <td>[black_pepper, shallots, cornflour, cayenne_pe...</td>\n",
       "      <td>[black_pepper, shallots, cornflour, cayenne_pe...</td>\n",
       "    </tr>\n",
       "  </tbody>\n",
       "</table>\n",
       "</div>"
      ],
      "text/plain": [
       "      id      cuisine                                        ingredients  \\\n",
       "0  10259        greek  [romaine_lettuce, black_olives, grape_tomatoes...   \n",
       "1  25693  southern_us  [plain_flour, ground_pepper, tomatoes, ground_...   \n",
       "2  20130     filipino  [eggs, pepper, mayonaise, cooking_oil, green_c...   \n",
       "3  22213       indian                      [water, vegetable_oil, wheat]   \n",
       "4  13162       indian  [black_pepper, shallots, cornflour, cayenne_pe...   \n",
       "\n",
       "                                            document  \n",
       "0  [romaine_lettuce, black_olives, grape_tomatoes...  \n",
       "1  [plain_flour, ground_pepper, tomatoes, ground_...  \n",
       "2  [eggs, pepper, mayonaise, cooking_oil, green_c...  \n",
       "3              [water, vegetable_oil, wheat, indian]  \n",
       "4  [black_pepper, shallots, cornflour, cayenne_pe...  "
      ]
     },
     "execution_count": 11,
     "metadata": {},
     "output_type": "execute_result"
    }
   ],
   "source": [
    "df.head()"
   ]
  },
  {
   "cell_type": "markdown",
   "metadata": {},
   "source": [
    "# 1. Preliminary analysis  "
   ]
  },
  {
   "cell_type": "markdown",
   "metadata": {},
   "source": [
    "(a) Preliminary analysis. Identify potential bias in dataset    \n",
    "(b) Split data into training, cross-validation, and testing set  \n",
    "(c) Define metrics for evaluating different models  "
   ]
  },
  {
   "cell_type": "markdown",
   "metadata": {},
   "source": [
    "<b> (a) Preliminary analysis </b>  \n",
    "\n",
    "* About 40,000 documents(recipes) involving 6700 ingredients  \n",
    "* Note the <b>potential bias</b>\n",
    "    * Our dataset is biased: Some cuisine (like Italian and Mexican cuisine) are more frequently represented than some others (like Russian and brazilian cuisinze).  \n",
    "    *  A recommender might recommend ingredients that go well together in mostly Italian and Mexican cuisine. \n",
    "    *  <b><font color='red'>To Do</font></b>: I might want to consider some tools for decreasing bias from my model. "
   ]
  },
  {
   "cell_type": "code",
   "execution_count": 12,
   "metadata": {},
   "outputs": [],
   "source": [
    "# load data\n",
    "df = pd.read_csv('data/ingredient_recommendation/data.csv')\n",
    "\n",
    "# Convert to format (list of lists)\n",
    "documents = [ast.literal_eval(df.document[idx]) for idx in range(df.shape[0])]"
   ]
  },
  {
   "cell_type": "code",
   "execution_count": 14,
   "metadata": {},
   "outputs": [
    {
     "name": "stdout",
     "output_type": "stream",
     "text": [
      "total number of recipes:  39774\n",
      "total number of ingredients:  6712\n"
     ]
    }
   ],
   "source": [
    "# number of documents and ingredients\n",
    "ing_list = np.unique([item for recipes in documents for item in recipes])\n",
    "\n",
    "print('total number of recipes: ', len(ingredients))\n",
    "print('total number of ingredients: ', len(np.unique(ing_list)))"
   ]
  },
  {
   "cell_type": "code",
   "execution_count": 15,
   "metadata": {
    "colab": {
     "base_uri": "https://localhost:8080/",
     "height": 282
    },
    "colab_type": "code",
    "id": "0cBR0bcdtVnE",
    "outputId": "bf562660-d25a-4ca6-9af8-d8492936b3a8",
    "scrolled": true
   },
   "outputs": [
    {
     "data": {
      "image/png": "[encoded data removed]",
      "text/plain": [
       "<Figure size 432x288 with 1 Axes>"
      ]
     },
     "metadata": {
      "needs_background": "light"
     },
     "output_type": "display_data"
    },
    {
     "name": "stdout",
     "output_type": "stream",
     "text": [
      "maximum number of ingredients in a given recipe:  65\n",
      "minimum number of ingredients in a given recipe:  2\n"
     ]
    }
   ],
   "source": [
    "# Number of ingredients in each recipe\n",
    "ing_len = [len(x) for x in ingredients]\n",
    "\n",
    "plt.hist(ing_len)\n",
    "plt.title('histogram of number of ingredients in recipes')\n",
    "plt.show()\n",
    "print('maximum number of ingredients in a given recipe: ', max(ing_len))  \n",
    "print('minimum number of ingredients in a given recipe: ', min(ing_len))"
   ]
  },
  {
   "cell_type": "code",
   "execution_count": 16,
   "metadata": {
    "scrolled": false
   },
   "outputs": [
    {
     "data": {
      "image/png": "[encoded data removed]",
      "text/plain": [
       "<Figure size 576x432 with 1 Axes>"
      ]
     },
     "metadata": {
      "needs_background": "light"
     },
     "output_type": "display_data"
    }
   ],
   "source": [
    "# Number of cuisine represented\n",
    "df['cuisine'].value_counts(ascending = True).plot(kind = 'barh', figsize=(8,6))\n",
    "plt.title('Frequency of cuisine in data')\n",
    "plt.show()"
   ]
  },
  {
   "cell_type": "markdown",
   "metadata": {},
   "source": [
    "<b> NOTE: POTENTIAL BIAS </b>\n",
    "* The above graph indicates that our dataset is biased -- Italian and Mexican cuisine are represented much more than other types of cuisine.   \n",
    "* One should be aware that any model trained on this dataset could potentially be biased."
   ]
  },
  {
   "cell_type": "markdown",
   "metadata": {},
   "source": [
    "<b> (B) Divide into training, cross-validation, and testing set </b>"
   ]
  },
  {
   "cell_type": "code",
   "execution_count": 17,
   "metadata": {},
   "outputs": [
    {
     "name": "stdout",
     "output_type": "stream",
     "text": [
      "total number of documents:  39774\n",
      "number of training set:  27841\n",
      "number of cross-validation set:  5966\n",
      "number of test set:  5967\n"
     ]
    }
   ],
   "source": [
    "# Divide into training (70%), cross-validation (15%), and testing set (15%)\n",
    "n_documents = df.shape[0]\n",
    "print('total number of documents: ', n_documents)\n",
    "\n",
    "total = list(range(n_documents))\n",
    "random.shuffle(total)\n",
    "\n",
    "train_size = int(n_documents * 0.7)\n",
    "cv_size = int(n_documents * 0.15)\n",
    "train_idx = total[:train_size]\n",
    "cv_idx = total[train_size:train_size + cv_size]\n",
    "test_idx = total[train_size + cv_size:]\n",
    "\n",
    "print('number of training set: ', len(train_idx))\n",
    "print('number of cross-validation set: ', len(cv_idx))\n",
    "print('number of test set: ', len(test_idx))\n",
    "\n",
    "train_idx.sort()\n",
    "cv_idx.sort()\n",
    "test_idx.sort()\n",
    "\n",
    "# save indices\n",
    "f = h5py.File('data/ingredient_recommendation/train_val_test.hdf5', 'w')\n",
    "f.create_dataset(\"train_idx\", data = train_idx)\n",
    "f.create_dataset(\"cv_idx\", data = cv_idx)\n",
    "f.create_dataset(\"test_idx\", data = test_idx)\n",
    "f.close()"
   ]
  },
  {
   "cell_type": "markdown",
   "metadata": {},
   "source": [
    "<b> (f) Define metric for evaluating different models</b>  \n",
    "* In order to compare the performance of multiple models, I decided on a common metric to evaluate the models.  \n",
    "* Use evaluation metric for classification models      \n",
    "* Precision, Recall, and F-scores \n",
    "    * Precision: Of all the predicted ingredients, how much were actually true ingredients? TP / (TP + FP)\n",
    "    * Recall: Of all the true ingredients, how much did we predict correctly? TP/(TP + FN)   \n",
    "    * F-score : (2 * recall * precision) / (recall + precision)    \n",
    "    \n",
    "* Possible option: Weigh the incorrect ingredients. For example, if an incorrect predicted ingredient is still considered \"similar\" to an existing ingredient (maybe using word embedding features), one can still account for the incorrect prediction as a true positive with a smaller weight than 1\n",
    "  "
   ]
  },
  {
   "cell_type": "code",
   "execution_count": 18,
   "metadata": {},
   "outputs": [],
   "source": [
    "def sample_ingredients(ing, n_samples):  \n",
    "    # For each recipe, sample \"n_samples\" number of ingredients randomly.\n",
    "    # (If a recipe involves fewer than \"n_samples\" ingredients, ignore that recipe)\n",
    "    # The sampled ingredients will function as the existing ingredients\n",
    "    # Goal of the model is to predict the remaining ingredients that\n",
    "    # have not been sampled\n",
    "    \n",
    "    \"\"\"\n",
    "    --- input ---\n",
    "    ing: (list of lists) Each item of ing is a list of ingredients \n",
    "           for a particular recipe\n",
    "    n_samples: (int) number of ingredients to be sampled\n",
    "   \n",
    "    --- output ---\n",
    "    existing_ing: (list of lists) Each item of sampled_ing is a list of \n",
    "            ingredients that have been sampled\n",
    "    missing_ing: (list of lists) Each item of remaining_ing is a list of ingredients\n",
    "            that have not been sampled\n",
    "    \"\"\"\n",
    "    \n",
    "    existing_ing = []\n",
    "    missing_ing = []\n",
    "    for recipe in ing:\n",
    "        if len(recipe) > n_samples:\n",
    "            # randomly select 5 ingredients\n",
    "            sampled = random.sample(recipe, n_samples)\n",
    "            remain = list(set(recipe)-set(sampled))\n",
    "\n",
    "            existing_ing.append(sampled)\n",
    "            missing_ing.append(remain)\n",
    "            \n",
    "    return existing_ing, missing_ing\n"
   ]
  },
  {
   "cell_type": "code",
   "execution_count": 19,
   "metadata": {},
   "outputs": [],
   "source": [
    "def compute_scores(predicted_ing, true_ing):\n",
    "    \"\"\"\n",
    "    predicted_ing: (list) of predicted ingredients from the model\n",
    "    true_ing: (list) of true ingredients that needed to be predicted\n",
    "    \"\"\"\n",
    "    \n",
    "    predicted_ing = set(predicted_ing)\n",
    "    true_ing = set(true_ing)\n",
    "\n",
    "    TP = len(predicted_ing.intersection(true_ing))\n",
    "\n",
    "    precision = TP / (len(predicted_ing))\n",
    "    recall = TP / len(true_ing)\n",
    "    \n",
    "    if recall != 0 and precision != 0:\n",
    "        F_score = (2 * recall * precision)/(precision + recall)\n",
    "    else:\n",
    "        F_score = 0\n",
    "    \n",
    "    return precision, recall, F_score\n"
   ]
  },
  {
   "cell_type": "code",
   "execution_count": 20,
   "metadata": {},
   "outputs": [
    {
     "name": "stdout",
     "output_type": "stream",
     "text": [
      "precision:  0.3333333333333333\n",
      "recall:  1.0\n",
      "F_score:  0.5\n"
     ]
    }
   ],
   "source": [
    "# example \n",
    "precision, recall, F_score = compute_scores(['onions', 'scallions', 'bread'],\n",
    "                                           ['scallions'])\n",
    "\n",
    "print('precision: ' , precision)\n",
    "print('recall: ', recall)\n",
    "print('F_score: ', F_score)"
   ]
  },
  {
   "cell_type": "markdown",
   "metadata": {
    "colab_type": "text",
    "heading_collapsed": true,
    "id": "o3wTw-y6na8V"
   },
   "source": [
    "# 2. Non-negative matrix factorization\n"
   ]
  },
  {
   "cell_type": "markdown",
   "metadata": {
    "hidden": true
   },
   "source": [
    "<b> Summary </b> \n",
    "* Since we are building a recommender, I first tried collaborative filtering via non-negative matrix factorization. \n",
    "* The latent variables (roughly) correspond to type of cuisine, such as baking, Italian food, Mexican food, ... .  \n",
    "* Non-negative matrix factorization requires the user to specify the number of latent variables (topics). I implemented two different ways of identifying the appropriate number of latent variables:\n",
    "    * I first selected the number of latent variables by evaluating the recommenders on a cross-validation set. The optimal number of latent variables was 6. \n",
    "    * However, this seemed like a very low number, since our dataset clearly contains more than 6 different types of cuisine. \n",
    "    * The \"optimal\" number of latent variables may be very low because of the bias in our dataset. \n",
    "    * I then considered NMF as a language model, and used the coherence score to select the number of latent variables.  \n",
    "    * The coherence score is maximized when we use 20 latent variables.\n",
    "\n",
    "<b> The idea behind non-negative matrix factorization (NMF) & recommender </b>  \n",
    "* Let V be a documents-ingredients matrix.\n",
    "    * Each row of V corresponds to a document.\n",
    "    * Each column of V corresponds to an ingredient.  \n",
    "    * V [ i ][ j ] = 1 if document \"i\" contains ingredient \"j\", and 0 otherwise. \n",
    "    \n",
    "* Given a matrix V, NMF factorizes V into non-negative matrices W and H such that $ W H \\approx V$. \n",
    "![](files/images/NMF_annotated.png)  \n",
    "\n",
    "* Each row of V is approximated by a linear combination of the rows of H. The coefficients of this linear combination is given by the rows of W.  \n",
    "* W is a (document) x (latent topic) matrix  \n",
    "* H is a (latent topic) x (ingredients) matrix   \n",
    "* The factorization $ W H \\approx V$ learns latent features underlying the interactions between recipes and ingredients.  \n",
    "* Given a list of ingredients (a row vector $r$ in V), use the approximated row vector $\\tilde r$ to recommend ingredients that have high entries in $\\tilde r$. "
   ]
  },
  {
   "cell_type": "markdown",
   "metadata": {
    "heading_collapsed": true,
    "hidden": true
   },
   "source": [
    "## 2(a) Prepare data and features"
   ]
  },
  {
   "cell_type": "code",
   "execution_count": 22,
   "metadata": {
    "hidden": true
   },
   "outputs": [],
   "source": [
    "# load data\n",
    "df = pd.read_csv('data/ingredient_recommendation/data.csv')\n",
    "cuisine = list(np.unique(df.cuisine))\n",
    "\n",
    "# Convert to correct format (list of lists)\n",
    "documents = [ast.literal_eval(df.document[idx]) for idx in range(df.shape[0])]"
   ]
  },
  {
   "cell_type": "code",
   "execution_count": 23,
   "metadata": {
    "hidden": true
   },
   "outputs": [],
   "source": [
    "# split to train and cv set\n",
    "n_documents = len(documents)\n",
    "document_idx = list(range(n_documents))\n",
    "random.shuffle(document_idx)\n",
    "\n",
    "cv_size = 0.3\n",
    "train_idx = document_idx[int(n_documents * cv_size):]\n",
    "train_doc = [documents[item] for item in train_idx]\n",
    "cv_idx = document_idx[:int(n_documents * cv_size)]\n",
    "cv_doc = [documents[item] for item in cv_idx]"
   ]
  },
  {
   "cell_type": "code",
   "execution_count": 24,
   "metadata": {
    "hidden": true,
    "scrolled": true
   },
   "outputs": [
    {
     "name": "stdout",
     "output_type": "stream",
     "text": [
      "number of ingredients:  6712\n",
      "number of documents:  39774\n",
      "Size of training set: 27842\n",
      "Size of CV set: 11932\n"
     ]
    }
   ],
   "source": [
    "# prepare (documents) x (ingredients) matrix V for NMF factorization\n",
    "\n",
    "# Find all the ingredients\n",
    "all_ingredients = list(set([item for sublist in documents for item in sublist]))\n",
    "\n",
    "n_ingredients = len(all_ingredients)\n",
    "n_documents = len(documents)\n",
    "\n",
    "print('number of ingredients: ', n_ingredients)\n",
    "print('number of documents: ', n_documents)\n",
    "print('Size of training set:', len(train_idx))\n",
    "print('Size of CV set:', len(cv_idx))\n",
    "\n",
    "# Encode ingredients\n",
    "idx_to_word = {idx:x for idx, x in enumerate(all_ingredients)}\n",
    "word_to_idx = {value:key for key, value in idx_to_word.items()}\n",
    "\n",
    "# create matrix V from the training set\n",
    "V = np.zeros((len(train_idx), n_ingredients))\n",
    "for i, doc in enumerate(train_doc):\n",
    "    for ing in doc:\n",
    "        j = word_to_idx[ing]\n",
    "        V[i,j] = 1"
   ]
  },
  {
   "cell_type": "code",
   "execution_count": 17,
   "metadata": {
    "hidden": true
   },
   "outputs": [
    {
     "name": "stdout",
     "output_type": "stream",
     "text": [
      "mean length of documents:  11.313923668728314\n",
      "median length of documents:  11.0\n"
     ]
    }
   ],
   "source": [
    "# choose number of ingredients to recommend\n",
    "documents_len = [len(item) for item in documents]\n",
    "\n",
    "print('mean length of documents: ', np.mean(documents_len))\n",
    "print('median length of documents: ', np.median(documents_len))"
   ]
  },
  {
   "cell_type": "markdown",
   "metadata": {
    "hidden": true
   },
   "source": [
    "* Let's recommend ingredients so that one ends up with a total of 11 ingredients.  \n",
    "* Since existing ingredients have 5 samples, let's recommend 6 ingredients."
   ]
  },
  {
   "cell_type": "code",
   "execution_count": 26,
   "metadata": {
    "hidden": true
   },
   "outputs": [],
   "source": [
    "# split each recipe in CV set into list of existing ingredients\n",
    "# and missing ingredients \n",
    "existing_ing, missing_ing = sample_ingredients(cv_doc, 5)"
   ]
  },
  {
   "cell_type": "markdown",
   "metadata": {
    "heading_collapsed": true,
    "hidden": true
   },
   "source": [
    "## 2(b) Perform NMF and build an example recommender"
   ]
  },
  {
   "cell_type": "markdown",
   "metadata": {
    "hidden": true
   },
   "source": [
    "* Note: We will use an arbitrary number of latent variables, say 50.  \n",
    "* Say we found non-negative matrices W and H such that $ W H \\approx V$  \n",
    "* There are two different types of recommenders one can build: a deterministic and probabilistic recommender:  \n",
    "    * <b> deterministic recommender </b> \n",
    "        * Given a list of ingredients, find the approximation of the document, as computed by $ W H $. Recommend ingredients with the highest coefficients in the resulting approximation.  \n",
    "        * Recommended ingredients may be too similar across documents.  \n",
    "        * Faster than the probabilistic recommender.  \n",
    "    * <b> probabilistic recommender </b> \n",
    "        * Use the coefficients of W and H to define probability distributions. \n",
    "        * Given a list of ingredients, sample to topic. Once the topic has been selected, sample the ingredients.  \n",
    "        * Introduces more variety to the recommender.  \n",
    "        * Slower than the deterministic recommender. \n",
    "* Because of computational speed, we'll use the <b>deterministic recommender</b>\n",
    "        "
   ]
  },
  {
   "cell_type": "code",
   "execution_count": 25,
   "metadata": {
    "hidden": true
   },
   "outputs": [
    {
     "data": {
      "text/plain": [
       "NMF(alpha=0.0, beta_loss='frobenius', init=None, l1_ratio=0.0, max_iter=200,\n",
       "    n_components=50, random_state=None, shuffle=False, solver='cd', tol=0.0001,\n",
       "    verbose=0)"
      ]
     },
     "execution_count": 25,
     "metadata": {},
     "output_type": "execute_result"
    }
   ],
   "source": [
    "# Find NMF with 50 latent variables\n",
    "model_50 = NMF(n_components = 50)\n",
    "model_50.fit(V)"
   ]
  },
  {
   "cell_type": "code",
   "execution_count": 69,
   "metadata": {
    "hidden": true
   },
   "outputs": [],
   "source": [
    "def recommender_NMF(model, existing_ing, idx_to_word, word_to_idx, cuisine, n):\n",
    "    # Deterministic recommender based on a factorized NMF model.\n",
    "    # Given a list of existing ingredients, compute V_approx from NMF\n",
    "    # For each document, recommend ingredients that \n",
    "    #    (1) are not present in the existing ingredients list\n",
    "    #    (2) are not cuisine types\n",
    "    #    (3) have high coefficients in the V_approx \n",
    "    \n",
    "    \"\"\"\n",
    "    --- input ---\n",
    "    model: trained NMF model (sklearn)\n",
    "    existing_ing: (list of lists) Each item is a list of existing ingredients \n",
    "                 for a particular recipe \n",
    "    idx_to_word: (dict) from index to ingredient\n",
    "    word_to_idx: (dict) from ingredient to index\n",
    "    cuisine: (list) of cuisine names\n",
    "    n: (int) number of ingredients to recommend\n",
    "    \n",
    "    --- output ---\n",
    "    recommend: (list of lists) Each item is a list of \"n\" ingredients recommended\n",
    "    \"\"\"   \n",
    "    \n",
    "    # get parameters\n",
    "    n_ingredients = len(idx_to_word)\n",
    "    \n",
    "    # convert existing list of ingredients into a list of indices \n",
    "    existing_idx = [[word_to_idx[item] for item in recipes] for recipes in existing_ing]\n",
    "    \n",
    "    # create matrix V from existing ingredients\n",
    "    V = np.zeros((len(existing_ing), n_ingredients))\n",
    "    for i, doc in enumerate(existing_ing):\n",
    "        for ing in doc:\n",
    "            j = word_to_idx[ing]\n",
    "            V[i,j] = 1\n",
    "            \n",
    "    # find approximation to V using NNM\n",
    "    H = model.components_\n",
    "    W = model.transform(V)\n",
    "    V_approx = np.matmul(W, H)\n",
    "    \n",
    "    # remove existing ingredients from V_approx (set entry to 0)\n",
    "    for i, doc in enumerate(existing_idx):\n",
    "        for item in doc:\n",
    "            V_approx[i, item] = 0\n",
    "\n",
    "    # remove items that are cuisine types (set entry to 0)\n",
    "    cuisine_idx = [word_to_idx[item] for item in cuisine]\n",
    "    V_approx[:,cuisine_idx] = 0\n",
    "\n",
    "    # find ingredients with high coefficients in V_approx \n",
    "    V_idx = np.argsort(V_approx, axis = 1)\n",
    "    V_recommend = V_idx[:,-n:].tolist()\n",
    "\n",
    "    # turn above into list of ingredients (recommended)\n",
    "    recommend = [[idx_to_word[idx] for idx in rec] for rec in V_recommend] \n",
    "    \n",
    "    return recommend"
   ]
  },
  {
   "cell_type": "code",
   "execution_count": 95,
   "metadata": {
    "hidden": true
   },
   "outputs": [],
   "source": [
    "def recommender_NMF_sample(model, existing_ing, idx_to_word, word_to_idx, cuisine, n):\n",
    "    # probabilistic recommender based on a factorized NMF model.\n",
    "    # The factorized NMF model results in a non-negative vector.\n",
    "    # We interpret this non-negative vector as defining a probability \n",
    "    # distribution over the ingredients.  \n",
    "    # Recommended ingredients are sampled according to this distribution\n",
    "    \n",
    "    \"\"\"\n",
    "    --- input ---\n",
    "    model: trained NMF model (sklearn)\n",
    "    existing_ing: (list of lists) Each item is a list of existing ingredients \n",
    "                 for a particular recipe \n",
    "    idx_to_word: (dict) from index to ingredient\n",
    "    word_to_idx: (dict) from ingredient to index\n",
    "    cuisine: (list) of cuisine names\n",
    "    n: (int) number of ingredients to recommend\n",
    "    \n",
    "    --- output ---\n",
    "    recommend_ing: (list of lists) Each item is a list of \"n\" ingredients recommended\n",
    "    \"\"\"   \n",
    "    \n",
    "    # get parameters and matrix H\n",
    "    n_ingredients = len(idx_to_word)\n",
    "    n_cuisine = len(cuisine)\n",
    "    H = model.components_\n",
    "\n",
    "    recommend_ing = []\n",
    "    \n",
    "    for doc in existing_ing:\n",
    "        doc_length = len(doc)\n",
    "        ing_list = doc.copy()\n",
    "        \n",
    "        while len(ing_list) < doc_length + n:\n",
    "            \n",
    "            # define vector of ingredients.\n",
    "            ing_vector = np.zeros((1,n_ingredients))\n",
    "            for item in ing_list:\n",
    "                idx = word_to_idx[item]\n",
    "                ing_vector[0, idx] = 1\n",
    "\n",
    "            # get vector approximation via NMF.\n",
    "            ing_W = model.transform(ing_vector)\n",
    "            approx = np.matmul(ing_W, H)\n",
    "\n",
    "            # find index of ingredients that can be recommended.\n",
    "            # This excludes existing ingredients in \"ing_list\" \n",
    "            # and cuisine types.\n",
    "            possible = [item for item in range(n_ingredients) \n",
    "                       if idx_to_word[item] not in ing_list \n",
    "                       if idx_to_word[item] not in cuisine]\n",
    "            \n",
    "            possible_words = [idx_to_word[item] for item in possible]\n",
    "            \n",
    "            # find probability distribution of ingredients\n",
    "            words_prob = [approx[0,item] for item in possible]\n",
    "            words_prob /= sum(words_prob)\n",
    "            \n",
    "            # sample ingredient\n",
    "            ing_sample = np.random.choice(possible_words, 1, p=words_prob)[0]\n",
    "            ing_list.append(ing_sample)\n",
    "        \n",
    "        # get list of recommended ingredients\n",
    "        recommend = [item for item in ing_list if item not in doc]\n",
    "        recommend_ing.append(recommend)\n",
    "        \n",
    "    return recommend_ing"
   ]
  },
  {
   "cell_type": "code",
   "execution_count": 97,
   "metadata": {
    "hidden": true
   },
   "outputs": [],
   "source": [
    "# get recommendations\n",
    "recommend = recommender_NMF(model_50, existing_ing, idx_to_word, word_to_idx, cuisine, 6)"
   ]
  },
  {
   "cell_type": "code",
   "execution_count": 99,
   "metadata": {
    "hidden": true
   },
   "outputs": [
    {
     "name": "stdout",
     "output_type": "stream",
     "text": [
      "==================== Example 4928 ====================\n",
      "---------- Existing ingredients ----------\n",
      "['fresh_thyme', 'coconut_milk', 'pig', 'cubed_pumpkin', 'water']\n",
      "---------- Recommended ingredients ----------\n",
      "['cilantro_leaves', 'lemongrass', 'brown_sugar', 'lime_juice', 'fresh_lime_juice', 'fish_sauce']\n",
      "---------- Missing ingredients ----------\n",
      "['green_onions', 'onions', 'okra', 'habanero_pepper', 'taro_leaf', 'garlic', 'blue_crabs', 'jamaican'] \n",
      "\n",
      "==================== Example 9923 ====================\n",
      "---------- Existing ingredients ----------\n",
      "['toasted_coconut', 'ground_coriander', 'coconut_milk', 'minced_garlic', 'lime_rind']\n",
      "---------- Recommended ingredients ----------\n",
      "['lime_juice', 'fresh_lime_juice', 'chopped_cilantro_fresh', 'fish_sauce', 'chopped_onion', 'ground_cumin']\n",
      "---------- Missing ingredients ----------\n",
      "['calamari', 'fish', 'indian', 'onions', 'light_brown_sugar', 'curry_powder', 'fresh_ginger', 'chopped_cilantro_fresh', 'peanut_oil', 'ground_black_pepper', 'chopped_fresh_mint', 'jalapeno_chilies', 'fresh_lime_juice', 'plum_tomatoes', 'cooked_rice'] \n",
      "\n",
      "==================== Example 3602 ====================\n",
      "---------- Existing ingredients ----------\n",
      "['cider_vinegar', 'vegetable_oil', 'southern_us', 'tomatoes', 'honey']\n",
      "---------- Recommended ingredients ----------\n",
      "['fresh_basil', 'worcestershire_sauce', 'hot_sauce', 'bacon', 'soy_sauce', 'buttermilk']\n",
      "---------- Missing ingredients ----------\n",
      "['mayonaise', 'boiling_potatoes', 'okra', 'cornmeal'] \n",
      "\n",
      "==================== Example 6955 ====================\n",
      "---------- Existing ingredients ----------\n",
      "['pepper', 'plum_tomatoes', 'olive_oil', 'bow-tie_pasta', 'italian']\n",
      "---------- Recommended ingredients ----------\n",
      "['balsamic_vinegar', 'italian_seasoning', 'dry_white_wine', 'flat_leaf_parsley', 'parmesan_cheese', 'fresh_basil']\n",
      "---------- Missing ingredients ----------\n",
      "['fresh_basil_leaves', 'garlic'] \n",
      "\n",
      "==================== Example 7202 ====================\n",
      "---------- Existing ingredients ----------\n",
      "['lemon_zest', 'buttermilk', 'white_cornmeal', 'southern_us', 'sugar']\n",
      "---------- Recommended ingredients ----------\n",
      "['vanilla_extract', 'bacon', 'peaches', 'yellow_corn_meal', 'baking_soda', 'baking_powder']\n",
      "---------- Missing ingredients ----------\n",
      "['butter', 'chopped_fresh_thyme', 'large_eggs', 'all-purpose_flour'] \n",
      "\n"
     ]
    }
   ],
   "source": [
    "# Show example recommendations \n",
    "for i in random.sample(range(len(existing_ing)),5):\n",
    "    print(\"==================== Example \"+ str(i) + \" ====================\" )\n",
    "    print(\"---------- Existing ingredients ----------\")\n",
    "    print(existing_ing[i])\n",
    "    print(\"---------- Recommended ingredients ----------\")\n",
    "    print(recommend[i])\n",
    "    print(\"---------- Missing ingredients ----------\")\n",
    "    print(missing_ing[i], '\\n')\n",
    "\n"
   ]
  },
  {
   "cell_type": "markdown",
   "metadata": {
    "heading_collapsed": true,
    "hidden": true
   },
   "source": [
    "## 2(c) Select number of latent variables"
   ]
  },
  {
   "cell_type": "markdown",
   "metadata": {
    "hidden": true
   },
   "source": [
    "* To use NMF models, one needs to specify the number of latent variables  \n",
    "* I used two different approaches to determine the appropriate number of latent variables\n",
    "\n",
    "i. cross-validation evaluation of recommender built on various number of latent variables  \n",
    "ii. coherence scores  \n",
    "\n",
    "* According to the cross-validation evaluation, the number of appropriate number of topics is 5. However, I thought that this number is too low, as our dataset clearly consists of more than 5 different types of cuisine.  \n",
    "* I then decided to choose the number of latent variables to be the number that leads to the highest coherence score. The optimal number of topics is 20. \n"
   ]
  },
  {
   "cell_type": "markdown",
   "metadata": {
    "heading_collapsed": true,
    "hidden": true
   },
   "source": [
    "### 1(c) i. Using recommender performance on cross-validation set"
   ]
  },
  {
   "cell_type": "code",
   "execution_count": 101,
   "metadata": {
    "hidden": true
   },
   "outputs": [],
   "source": [
    "# Evaluate NMF models of various topic numbers\n",
    "topic_numbers = list(range(1, 40))\n",
    "cv_scores = {}\n",
    "\n",
    "for k in topic_numbers:\n",
    "    \n",
    "    # Find NMF decompositions\n",
    "    model = NMF(n_components = k)\n",
    "    model.fit(V)\n",
    "\n",
    "    # make recommendations on cross validation set\n",
    "    recommend_ing = recommender_NMF(model, existing_ing, idx_to_word, word_to_idx, cuisine, 6)\n",
    "    \n",
    "    # compute scores\n",
    "    scores = [compute_scores(recommend_ing[i], missing_ing[i]) for i in range(len(missing_ing))]\n",
    "\n",
    "    precisions = [item[0] for item in scores] \n",
    "    recalls = [item[1] for item in scores]\n",
    "    Fscores = [item[2] for item in scores]\n",
    "    \n",
    "    cv_scores[k] = [statistics.mean(precisions), statistics.mean(recalls), statistics.mean(Fscores)]\n",
    "    \n",
    "# save\n",
    "f = open(\"models/NMF/NMF_CV.pkl\",\"wb\")\n",
    "pickle.dump(cv_scores,f)\n",
    "f.close()"
   ]
  },
  {
   "cell_type": "code",
   "execution_count": 102,
   "metadata": {
    "hidden": true,
    "scrolled": true
   },
   "outputs": [
    {
     "data": {
      "image/png": "[encoded data removed]",
      "text/plain": [
       "<Figure size 1080x360 with 3 Axes>"
      ]
     },
     "metadata": {
      "needs_background": "light"
     },
     "output_type": "display_data"
    }
   ],
   "source": [
    "# open CV scores\n",
    "#cv_scores = pickle.load( open( \"models/NMF/NMF_CV.pkl\", \"rb\" ) )\n",
    "\n",
    "fig, ax = plt.subplots(ncols = 3, figsize = (15, 5))\n",
    "\n",
    "ax[0].plot(topic_numbers, [cv_scores[item][0] for item in topic_numbers])\n",
    "ax[0].set_xlabel('number of topics')\n",
    "ax[0].set_ylabel('Precision')\n",
    "ax[0].set_title('Precision scores')\n",
    "\n",
    "ax[1].plot(topic_numbers, [cv_scores[item][1] for item in topic_numbers])\n",
    "ax[1].set_xlabel('number of topics')\n",
    "ax[1].set_ylabel('Recall')\n",
    "ax[1].set_title('Recall scores')\n",
    "\n",
    "ax[2].plot(topic_numbers, [cv_scores[item][2] for item in topic_numbers])\n",
    "ax[2].set_xlabel('number of topics')\n",
    "ax[2].set_ylabel('F-score')\n",
    "ax[2].set_title('F-scores')\n",
    "plt.show()"
   ]
  },
  {
   "cell_type": "markdown",
   "metadata": {
    "hidden": true
   },
   "source": [
    "F-score is maximized when number of topics is around 5 - 7.  \n",
    "Let's see some examples of the recommended ingredients"
   ]
  },
  {
   "cell_type": "code",
   "execution_count": 107,
   "metadata": {
    "hidden": true,
    "scrolled": false
   },
   "outputs": [
    {
     "name": "stdout",
     "output_type": "stream",
     "text": [
      "==================== Example 356 ====================\n",
      "---------- Existing ingredients ----------\n",
      "['ground_cumin', 'large_garlic_cloves', 'cayenne_pepper', 'carrots', 'yellow_onion']\n",
      "---------- Recommended ingredients ----------\n",
      "['onion_powder', 'chopped_cilantro_fresh', 'ground_coriander', 'paprika', 'tomato_paste', 'garlic_powder']\n",
      "---------- Missing ingredients ----------\n",
      "['low_sodium_chicken_broth', 'sour_cream', 'ground_coriander', 'extra-virgin_olive_oil', 'mexican', 'black_beans', 'oregano', 'fresh_lime_juice', 'chopped_cilantro_fresh'] \n",
      "\n",
      "==================== Example 4154 ====================\n",
      "---------- Existing ingredients ----------\n",
      "['light_coconut_milk', 'green_onions', 'sweet_potatoes', 'garlic_chili_sauce', 'fresh_lime_juice']\n",
      "---------- Recommended ingredients ----------\n",
      "['beansprouts', 'chopped_cilantro_fresh', 'coconut_milk', 'brown_sugar', 'sesame_oil', 'fish_sauce']\n",
      "---------- Missing ingredients ----------\n",
      "['fat_free_less_sodium_chicken_broth', 'lemongrass', 'olive_oil', 'peeled_fresh_ginger', 'red_bell_pepper', 'garlic_cloves', 'thai', 'lime_wedges', 'chopped_celery', 'snow_peas', 'cooked_chicken_breasts', 'chopped_cilantro_fresh'] \n",
      "\n",
      "==================== Example 7350 ====================\n",
      "---------- Existing ingredients ----------\n",
      "['corn_kernels', 'shredded_cheese', 'cilantro', 'purple_onion', 'romaine_lettuce']\n",
      "---------- Recommended ingredients ----------\n",
      "['lime_juice', 'red_wine_vinegar', 'cucumber', 'avocado', 'lime', 'jalapeno_chilies']\n",
      "---------- Missing ingredients ----------\n",
      "['large_shrimp', 'lime_juice', 'chili_powder', 'diced_tomatoes', 'hass_avocado', 'seedless_cucumber', 'black_beans', 'mexican', 'lime'] \n",
      "\n",
      "==================== Example 6099 ====================\n",
      "---------- Existing ingredients ----------\n",
      "['turbinado', 'green_onions', 'beef_tenderloin', 'fresh_chives', 'canola_oil']\n",
      "---------- Recommended ingredients ----------\n",
      "['shallots', 'sesame_seeds', 'shrimp', 'jalapeno_chilies', 'sesame_oil', 'kosher_salt']\n",
      "---------- Missing ingredients ----------\n",
      "['reduced_sodium_soy_sauce', 'sweet_soy_sauce', 'japanese', 'rice_vinegar', 'mirin', 'fresh_lemon_juice', 'freshly_ground_pepper', 'fresh_ginger', 'lemon', 'large_garlic_cloves'] \n",
      "\n",
      "==================== Example 4094 ====================\n",
      "---------- Existing ingredients ----------\n",
      "['black_beans', 'pumpkin', 'water', 'granulated_sugar', 'korean']\n",
      "---------- Recommended ingredients ----------\n",
      "['green_onions', 'scallions', 'vanilla_extract', 'ground_cinnamon', 'chili_powder', 'soy_sauce']\n",
      "---------- Missing ingredients ----------\n",
      "['brown_sugar', 'sweet_rice_flour'] \n",
      "\n"
     ]
    }
   ],
   "source": [
    "# Factorize matrix with 5 latent variables\n",
    "model_5 = NMF(n_components = 5)\n",
    "model_5.fit(V)\n",
    "\n",
    "# manually inspect some example recommendations\n",
    "recommend_ing = recommender_NMF(model_5, existing_ing[:5], idx_to_word, word_to_idx, cuisine, 6)\n",
    "\n",
    "# Show example recommendations \n",
    "for i in random.sample(range(len(existing_ing)),5):\n",
    "    print(\"==================== Example \"+ str(i) + \" ====================\" )\n",
    "    print(\"---------- Existing ingredients ----------\")\n",
    "    print(existing_ing[i])\n",
    "    print(\"---------- Recommended ingredients ----------\")\n",
    "    print(recommend[i])\n",
    "    print(\"---------- Missing ingredients ----------\")\n",
    "    print(missing_ing[i], '\\n')\n"
   ]
  },
  {
   "cell_type": "code",
   "execution_count": 111,
   "metadata": {
    "hidden": true,
    "scrolled": true
   },
   "outputs": [
    {
     "name": "stdout",
     "output_type": "stream",
     "text": [
      "===== EXAMPLE =====\n",
      " Existing ingredients:  ['korean', 'chicken']\n",
      " Recommended ingredients:  ['vegetable_oil', 'sesame_oil', 'garlic', 'sugar', 'soy_sauce', 'water'] \n",
      "\n",
      "===== EXAMPLE =====\n",
      " Existing ingredients:  ['thai', 'chicken']\n",
      " Recommended ingredients:  ['green_onions', 'garlic', 'sesame_oil', 'sugar', 'soy_sauce', 'water'] \n",
      "\n",
      "===== EXAMPLE =====\n",
      " Existing ingredients:  ['indian', 'chicken']\n",
      " Recommended ingredients:  ['carrots', 'tomatoes', 'water', 'pepper', 'garlic', 'onions'] \n",
      "\n"
     ]
    }
   ],
   "source": [
    "# some more examples\n",
    "examples = [['korean','chicken'], \n",
    "            ['thai','chicken'],\n",
    "            ['indian', 'chicken']]\n",
    "\n",
    "recommend_ing = recommender_NMF(model_5, examples, idx_to_word, word_to_idx, cuisine, 6)\n",
    "\n",
    "for i in range(len(examples)):\n",
    "    print(\"===== EXAMPLE =====\")\n",
    "    print(\" Existing ingredients: \", examples[i])\n",
    "    print(\" Recommended ingredients: \", recommend_ing[i], '\\n')\n"
   ]
  },
  {
   "cell_type": "markdown",
   "metadata": {
    "hidden": true
   },
   "source": [
    "<b> The need for a different number of latent variables </b>  \n",
    "* While the cross-validation evaluation method found the optimal number of topics to be 5, I thought that this number was too low.  \n",
    "* Our dataset clearly has more than 5 topics. Performing NMF with 5 latent oversimplifies the different types of cuisine we have.  \n",
    "* For example, the last cell shows the recommended ingredients for three different types of cuisine involving chicken. Note that basically identical ingredients are recommended for both Korean and Thai style cooking.  \n"
   ]
  },
  {
   "cell_type": "markdown",
   "metadata": {
    "heading_collapsed": true,
    "hidden": true
   },
   "source": [
    "### 1(c) ii. Using coherence scores\n",
    "* We'll select the number of latent variables to be the number of topics that maximizes coherence scores\n",
    "* For computing the coherence score, we'll use NMF via gensim"
   ]
  },
  {
   "cell_type": "code",
   "execution_count": 113,
   "metadata": {
    "hidden": true
   },
   "outputs": [],
   "source": [
    "# Prepare data for gensim\n",
    "\n",
    "# Create dictionary\n",
    "common_dictionary = Dictionary(documents)\n",
    "\n",
    "# Prepare BOW features for training set\n",
    "train_text = [documents[idx] for idx in train_idx]\n",
    "train_corpus = [common_dictionary.doc2bow(text) for text in train_text]  \n",
    "\n",
    "# Prepare CV set text for computing coherence scores\n",
    "#cv_text = [documents[idx] for idx in cv_idx]"
   ]
  },
  {
   "cell_type": "code",
   "execution_count": 353,
   "metadata": {
    "hidden": true
   },
   "outputs": [],
   "source": [
    "# compute coherence scores for NMF models of various topic numbers\n",
    "topic_numbers = list(range(1,100,4))\n",
    "scores = {}\n",
    "\n",
    "for k in topic_numbers:\n",
    "    # train NMF model \n",
    "    nmf = Nmf(train_corpus, id2word = common_dictionary, num_topics = k)\n",
    "   \n",
    "    # compute coherence on cv\n",
    "    cm = CoherenceModel(model=nmf, texts=cv_text, window_size = 60, coherence='c_uci')\n",
    "    coherence = cm.get_coherence() \n",
    "    scores[k] = coherence\n",
    "    \n",
    "# save\n",
    "f = open(\"models/NMF/NMF_coherence.pkl\",\"wb\")\n",
    "pickle.dump(scores,f)\n",
    "f.close()"
   ]
  },
  {
   "cell_type": "code",
   "execution_count": 354,
   "metadata": {
    "hidden": true
   },
   "outputs": [
    {
     "data": {
      "image/png": "[encoded data removed]",
      "text/plain": [
       "<Figure size 432x288 with 1 Axes>"
      ]
     },
     "metadata": {
      "needs_background": "light"
     },
     "output_type": "display_data"
    }
   ],
   "source": [
    "plt.plot(topic_numbers, [scores[item] for item in topic_numbers])\n",
    "plt.xlabel('number of topics')\n",
    "plt.ylabel('coherence score')\n",
    "plt.title('coherence scores')\n",
    "plt.show()"
   ]
  },
  {
   "cell_type": "markdown",
   "metadata": {
    "hidden": true
   },
   "source": [
    "Based on the above graph, the number of topics that leads to the highest coherence score is 20.  \n",
    "For fun, let's take a look at the topics learned by the 20 topics"
   ]
  },
  {
   "cell_type": "code",
   "execution_count": 114,
   "metadata": {
    "hidden": true
   },
   "outputs": [],
   "source": [
    "# load index for train, cv, test\n",
    "f = h5py.File('data/ingredient_recommendation/train_val_test.hdf5', 'r')\n",
    "train_idx = list(f.get(\"train_idx\"))\n",
    "cv_idx = list(f.get(\"cv_idx\"))\n",
    "test_idx = list(f.get(\"test_idx\"))\n",
    "f.close()\n",
    "\n",
    "# Prepare BOW features for training set\n",
    "train_text = [ingredients[idx] for idx in train_idx]\n",
    "train_corpus = [common_dictionary.doc2bow(text) for text in train_text]  "
   ]
  },
  {
   "cell_type": "code",
   "execution_count": 115,
   "metadata": {
    "hidden": true
   },
   "outputs": [],
   "source": [
    "# train NMF model \n",
    "gensim_nmf = Nmf(train_corpus, id2word = common_dictionary, num_topics = 20)"
   ]
  },
  {
   "cell_type": "code",
   "execution_count": 481,
   "metadata": {
    "hidden": true
   },
   "outputs": [
    {
     "data": {
      "image/png": "[encoded data removed]",
      "text/plain": [
       "<Figure size 1080x720 with 4 Axes>"
      ]
     },
     "metadata": {
      "needs_background": "light"
     },
     "output_type": "display_data"
    }
   ],
   "source": [
    "# Visualize topic representations for 4 (out of 20) topics\n",
    "fig, ax = plt.subplots(nrows = 2, ncols = 2, figsize = (15, 10))\n",
    "colors = [\"#00AFBB\", \"#FC4E07\", \"#f57a6c\", \"#E7B800\"]\n",
    "for i in range(4):\n",
    "    row = i // 2\n",
    "    col = i % 2\n",
    "    \n",
    "    topic_rep = gensim_nmf.show_topic(i)\n",
    "    words = [item[0] for item in topic_rep][::-1]\n",
    "    prob = [item[1] for item in topic_rep][::-1]\n",
    "    \n",
    "    ax[row][col].barh(words, prob, color = colors[i])\n",
    "    ax[row][col].tick_params(axis=\"y\", labelsize=14)\n",
    "    ax[row][col].set_xlabel('probability')\n",
    "    ax[row][col].set_title('Representations of topic '+ str(i))\n",
    "    \n",
    "fig.subplots_adjust(wspace=0.4, hspace = 0.3)\n",
    "plt.show()"
   ]
  },
  {
   "cell_type": "markdown",
   "metadata": {
    "hidden": true
   },
   "source": [
    "The above graph shows the top 10 most probable ingredients for 4 of the 20 topics learned by NMF. \n",
    "* Topic 1 seems to represent ingredients for baking / southern food  \n",
    "* Topic 2 seems to represent ingredients for east asian cuisine, excluding Chinese food  \n",
    "* Topic 3 seems to represent ingredients for Chinese cuisine  \n",
    "* Topic 4 seems to represent ingredients for Indian cuisine \n",
    "\n"
   ]
  },
  {
   "cell_type": "markdown",
   "metadata": {
    "heading_collapsed": true,
    "hidden": true
   },
   "source": [
    "## 2(d) Build a recommender"
   ]
  },
  {
   "cell_type": "code",
   "execution_count": 117,
   "metadata": {
    "hidden": true
   },
   "outputs": [
    {
     "data": {
      "text/plain": [
       "NMF(alpha=0.0, beta_loss='frobenius', init=None, l1_ratio=0.0, max_iter=200,\n",
       "    n_components=20, random_state=None, shuffle=False, solver='cd', tol=0.0001,\n",
       "    verbose=0)"
      ]
     },
     "execution_count": 117,
     "metadata": {},
     "output_type": "execute_result"
    }
   ],
   "source": [
    "# Find NMF with 20 latent variables\n",
    "model_20 = NMF(n_components = 20)\n",
    "model_20.fit(V)"
   ]
  },
  {
   "cell_type": "code",
   "execution_count": 118,
   "metadata": {
    "hidden": true
   },
   "outputs": [],
   "source": [
    "# get recommendations\n",
    "recommend = recommender_NMF(model_20, existing_ing, idx_to_word, word_to_idx, cuisine, 6)"
   ]
  },
  {
   "cell_type": "code",
   "execution_count": 119,
   "metadata": {
    "hidden": true
   },
   "outputs": [
    {
     "name": "stdout",
     "output_type": "stream",
     "text": [
      "==================== Example 9015 ====================\n",
      "---------- Existing ingredients ----------\n",
      "['salt_and_ground_black_pepper', 'pears', 'prosciutto', 'pizza_crust', 'cornmeal']\n",
      "---------- Recommended ingredients ----------\n",
      "['baking_powder', 'vegetable_oil', 'green_onions', 'grated_parmesan_cheese', 'milk', 'eggs']\n",
      "---------- Missing ingredients ----------\n",
      "['shredded_swiss_cheese', 'fresh_mozzarella', 'olive_oil', 'italian', 'garlic', 'all-purpose_flour'] \n",
      "\n",
      "==================== Example 8033 ====================\n",
      "---------- Existing ingredients ----------\n",
      "['saffron', 'chili_oil', 'tomatoes', 'sweet_mustard', 'onions']\n",
      "---------- Recommended ingredients ----------\n",
      "['tomato_paste', 'ground_cumin', 'chicken_broth', 'potatoes', 'green_bell_pepper', 'carrots']\n",
      "---------- Missing ingredients ----------\n",
      "['indian', 'green_chilies', 'coriander', 'cauliflower', 'extra-virgin_olive_oil', 'garam_masala', 'curry_leaves', 'water', 'garbanzo_beans'] \n",
      "\n",
      "==================== Example 487 ====================\n",
      "---------- Existing ingredients ----------\n",
      "['ricotta_cheese', 'lasagna_noodles', 'italian', 'marinara_sauce', 'goat_cheese']\n",
      "---------- Recommended ingredients ----------\n",
      "['mozzarella_cheese', 'parmesan_cheese', 'shredded_mozzarella_cheese', 'fresh_basil', 'extra-virgin_olive_oil', 'grated_parmesan_cheese']\n",
      "---------- Missing ingredients ----------\n",
      "['parmesan_cheese', 'eggplant', 'basil'] \n",
      "\n",
      "==================== Example 8614 ====================\n",
      "---------- Existing ingredients ----------\n",
      "['parmesan_cheese', 'pepper', 'fresh_mushrooms', 'sage_leaves', 'olive_oil']\n",
      "---------- Recommended ingredients ----------\n",
      "['dry_white_wine', 'chicken_broth', 'purple_onion', 'tomatoes', 'lemon_juice', 'fresh_parsley']\n",
      "---------- Missing ingredients ----------\n",
      "['dry_white_wine', 'arborio_rice', 'chopped_parsley', 'fat_skimmed_reduced_sodium_chicken_broth', 'fresh_thyme_leaves', 'italian', 'fresh_tarragon', 'finely_chopped_onion'] \n",
      "\n",
      "==================== Example 1468 ====================\n",
      "---------- Existing ingredients ----------\n",
      "['chickpeas', 'ground_cumin', 'golden_raisins', 'carrots', 'ground_lamb']\n",
      "---------- Recommended ingredients ----------\n",
      "['lime', 'garam_masala', 'tomatoes', 'chili_powder', 'fish_sauce', 'onions']\n",
      "---------- Missing ingredients ----------\n",
      "['onions', 'lower_sodium_chicken_broth', 'tomato_paste', 'ground_red_pepper', 'fresh_lemon_juice', 'ground_coriander', 'ground_cinnamon', 'extra-virgin_olive_oil', 'moroccan', 'grated_lemon_zest', 'chopped_cilantro_fresh'] \n",
      "\n"
     ]
    }
   ],
   "source": [
    "# Show example recommendations \n",
    "for i in random.sample(range(len(existing_ing)),5):\n",
    "    print(\"==================== Example \"+ str(i) + \" ====================\" )\n",
    "    print(\"---------- Existing ingredients ----------\")\n",
    "    print(existing_ing[i])\n",
    "    print(\"---------- Recommended ingredients ----------\")\n",
    "    print(recommend[i])\n",
    "    print(\"---------- Missing ingredients ----------\")\n",
    "    print(missing_ing[i], '\\n')"
   ]
  },
  {
   "cell_type": "code",
   "execution_count": 122,
   "metadata": {
    "hidden": true,
    "scrolled": true
   },
   "outputs": [
    {
     "data": {
      "image/png": "[encoded data removed]",
      "text/plain": [
       "<Figure size 720x216 with 3 Axes>"
      ]
     },
     "metadata": {
      "needs_background": "light"
     },
     "output_type": "display_data"
    },
    {
     "name": "stdout",
     "output_type": "stream",
     "text": [
      "Average precision on cross validation set:  0.111841131729261\n",
      "Average recall on cross validation set:  0.10258207928402006\n",
      "Average F-score on cross validation set:  0.0982910401011372\n"
     ]
    }
   ],
   "source": [
    "scores = [compute_scores(recommend[i], missing_ing[i]) for i in range(len(missing_ing))]\n",
    "\n",
    "precisions = [item[0] for item in scores] \n",
    "recalls = [item[1] for item in scores]\n",
    "Fscores = [item[2] for item in scores]\n",
    "\n",
    "fig, ax = plt.subplots(ncols = 3, figsize = (10,3))\n",
    "ax[0].hist(precisions)\n",
    "ax[0].set_title('histogram of precision')\n",
    "\n",
    "ax[1].hist(recalls)\n",
    "ax[1].set_title('histogram of recalls')\n",
    "\n",
    "ax[2].hist(Fscores)\n",
    "ax[2].set_title('histogram of F-scores')\n",
    "plt.show()\n",
    "\n",
    "print(\"Average precision on cross validation set: \", statistics.mean(precisions) )\n",
    "print(\"Average recall on cross validation set: \", statistics.mean(recalls) )\n",
    "print(\"Average F-score on cross validation set: \", statistics.mean(Fscores) )"
   ]
  },
  {
   "cell_type": "markdown",
   "metadata": {
    "hidden": true
   },
   "source": [
    "The model doesn't seem to perform very well as a recommendation system. See the following section for ideas for improvement."
   ]
  },
  {
   "cell_type": "markdown",
   "metadata": {
    "heading_collapsed": true,
    "hidden": true
   },
   "source": [
    "## 2(e) Ideas for improvement"
   ]
  },
  {
   "cell_type": "markdown",
   "metadata": {
    "hidden": true
   },
   "source": [
    "1. Selecting the number of latent variables\n",
    "    * Evaluation on cross-validation resulted in 6 latent variables. The coherence score resulted in 20 latent variables.\n",
    "    * Note that 20 is still a low number of latent variables. For example, one of the topics (topic 1) represented a mix of various east asian cuisine excluding Chinese cuisine. A recommender based on this model could recommend a mix of ingredients that do not necessarily go well together. \n",
    "    * Cross-validation for unsupervised learning models can be difficult. There are some other ways to perform cross-validation on NMF, as illustrated in this <a href=\"http://alexhwilliams.info/itsneuronalblog/2018/02/26/crossval/\">blog post</a>.    \n",
    "2. Tackling bias in dataset.  \n",
    "    * We can gather more data to create a more diverse dataset.  \n",
    "3. Sampling based recommender.  \n",
    "    * In order to add variety to the ingredients recommended, we can build a recommender that sample ingredients according to a probability distribution determined by NMF model. We will need more computing power for this to be feasible. \n",
    "    * Try cloud computing.  \n",
    "4. Differentiating unknown values from 0s.\n",
    "    * Given a list of ingredients, the list is represented by a row vector of 0s and 1s, where 1 is assigned if the ingredient is present.  \n",
    "    * While we use the 0s to indicate the fact that it is unknown whether the ingredient should be present or not, sklearn treats 0s as observed absence of an ingredient.   \n",
    "    * There are ways to perform NMF while differentiating missing / unknown values from 0s. One can write a custom SGD to optimize the cost function only based on the observed ingredients.  \n",
    "    * While differentiating the unknown values from 0s would be more accurate for our problem, I'm not sure if this will necessarily lead to a better performing recommender.  "
   ]
  },
  {
   "cell_type": "markdown",
   "metadata": {},
   "source": [
    "# 3. Word embeddings  "
   ]
  },
  {
   "cell_type": "markdown",
   "metadata": {},
   "source": [
    "<b> Why word embeddings? </b>  \n",
    "I thought that the word analogies of word embeddings would be useful in understanding questions like \"what vegetable would go well with lamb?\". I was also inspired by other data scientists who used word embeddings for context-dependent recommenders. (Examples: <a href=\"https://towardsdatascience.com/using-word2vec-for-music-recommendations-bb9649ac2484\">music recommendation</a>, <a href=\"https://multithreaded.stitchfix.com/blog/2015/03/11/word-is-worth-a-thousand-vectors/\">stitch fix</a>, <a href=\"https://www.nature.com/articles/s41586-019-1335-8\">material science</a>, and <a href=\"http://mccormickml.com/2018/06/15/applying-word2vec-to-recommenders-and-advertising/\"> many others </a>)\n",
    "\n",
    "I investigated two possibilities with word embeddings. \n",
    " \n",
    "1. Can word analogies be useful in understanding questions like \"what vegetable would go well with lamb?\"  \n",
    "2. What is the relationship between ingredients that have similar vector representations? Are they substitutes? complementary? Depending on the answer to this question, I can then attempt to build a recommendation system from word embeddings\n",
    "\n",
    "In this section, I investigate the above two questions for Word2Vec and GloVe embeddings.  \n",
    "* I started with Word2Vec because more familiar with the model.  \n",
    "* However, for this particular project, I realized that GloVe may be better suited for this project.\n",
    "\n",
    "Some explanation for why I studied GloVe as well:\n",
    "\n",
    "Note that Word2Vec extracts embeddings from a neural network designed to perform a surrogate task. In the continuous-bag-of-words (CBOW) model, the surrogate tasks is to predict a word given the surrounding context words. The size of this context can be defined by the user. I wanted to remove this dependence on the size of the context because of the following reason:\n",
    "\n",
    "Say we have a recipe with 10 ingredients:[i0, i1, i2, ... , i9] \n",
    "If we chose a context size of 2 words to the left and right, then the surrogate task would attemt to solve the following task:\n",
    "    * From ingredients (i0, i1, i3, i4), predict i2\n",
    "    * From ingredients (i1, i2, i4, i5), predict i3, and so on.\n",
    "Thus, according to the model, ingredient i9 does not appear in the context of i0. However, we do want all ingredients belonging to the same recipe to be considered as being in the same context.  \n",
    "\n",
    "There are ways to work around this. (1) We can permute the order of ingredients in each recipe, and hope that we have a large enough training set. (2) We could also add to the training set some different permutations of the ingredients. (3) We could use GloVe.\n",
    "\n",
    "GloVe learns word embeddings based on the co-occurrence count of words. In this case, any two ingredients that appear together in the same recipe will be considered as co-occuring words. \n",
    "\n",
    "\n",
    "<b> Summary </b>\n",
    "* Given a word, the most similar words are sometimes\n",
    "    * substitutes and similar ingredients\n",
    "    * complementary ingredients\n",
    "* For example, when we ask for the closest ingredient to \"chicken\" (using the GloVe model), we get: garlic, onions, chicken stock, chicken broth, chicken breasts, sauce, pepper, .... \n",
    "    * While garlic and onions are considered good complementary ingredients, ingredients like chicken stock, chicken broth, chicken breasts similar items that we do not necessarily need. \n",
    "* We only want \"complementary ingredients\". \n",
    "\n"
   ]
  },
  {
   "cell_type": "markdown",
   "metadata": {
    "colab_type": "text",
    "id": "8NbtLorVuwFi"
   },
   "source": [
    "## 2(a) word embeddings: word2vec  "
   ]
  },
  {
   "cell_type": "markdown",
   "metadata": {},
   "source": [
    "I played around with three different kinds of word2vec models:  \n",
    "i) Pre-trained Word2Vec model    \n",
    "ii) A Worc2Vec model trained on our data\n",
    "\n",
    "I went through the three models for the following reasons: \n",
    "* I started with the pre-trained Word2Vec model from the Google News dataset. \n",
    "* While the pre-trained model has the advantage of easy use, it takes a <b>long time to load the model and to query</b> the embedding, probably because the model contains 3 millioin words and phrases.   \n",
    "* Furthermore, some queries resulted in words that are <b>irrelevant to cooking.</b> \n",
    "* For this project, I decided that training a Word2Vec model on just cooking-related terms would be (1) faster to use and (2) more relevant to our project.  \n",
    " \n",
    " \n",
    "* I then decided to train a Word2Vec model using recipe directions. \n",
    "* The resulting model was much faster to query than the pre-trained model, and the results were more cooking-specific.  "
   ]
  },
  {
   "cell_type": "code",
   "execution_count": 157,
   "metadata": {},
   "outputs": [],
   "source": [
    "# prepare data\n",
    "# load data\n",
    "df = pd.read_csv('data/ingredient_recommendation/data.csv')\n",
    "cuisine = list(np.unique(df.cuisine))\n",
    "\n",
    "# Convert to correct format (list of lists)\n",
    "documents = [ast.literal_eval(df.document[idx]) for idx in range(df.shape[0])]\n",
    "\n",
    "# randomly shuffle the order of ingredients in each document\n",
    "for item in documents:\n",
    "    random.shuffle(item)"
   ]
  },
  {
   "cell_type": "markdown",
   "metadata": {},
   "source": [
    "###  2(a) i) pre-trained word2vec model"
   ]
  },
  {
   "cell_type": "markdown",
   "metadata": {},
   "source": [
    "* pre-trained word2vec model from the <a href=\"https://code.google.com/archive/p/word2vec/\">Google News dataset</a>\n",
    "* The model contains 300-dimensional vectors for 3 million words and phrases  \n",
    "* You should download the pre-trained model in the <a href=\"https://code.google.com/archive/p/word2vec/\">Google Code Archive</a>"
   ]
  },
  {
   "cell_type": "code",
   "execution_count": 178,
   "metadata": {},
   "outputs": [
    {
     "ename": "FileNotFoundError",
     "evalue": "[Errno 2] No such file or directory: 'models/word2vec/GoogleNews-vectors-negative300.bin'",
     "output_type": "error",
     "traceback": [
      "\u001b[1;31m---------------------------------------------------------------------------\u001b[0m",
      "\u001b[1;31mFileNotFoundError\u001b[0m                         Traceback (most recent call last)",
      "\u001b[1;32m<ipython-input-178-ded7fb7371c0>\u001b[0m in \u001b[0;36m<module>\u001b[1;34m\u001b[0m\n\u001b[0;32m      1\u001b[0m \u001b[1;31m# load pre-trained word2vec model\u001b[0m\u001b[1;33m\u001b[0m\u001b[1;33m\u001b[0m\u001b[1;33m\u001b[0m\u001b[0m\n\u001b[0;32m      2\u001b[0m \u001b[0mpath_googlenews\u001b[0m \u001b[1;33m=\u001b[0m \u001b[1;34m'models/word2vec/GoogleNews-vectors-negative300.bin'\u001b[0m\u001b[1;33m\u001b[0m\u001b[1;33m\u001b[0m\u001b[0m\n\u001b[1;32m----> 3\u001b[1;33m \u001b[0mpretrained_word2vec\u001b[0m\u001b[1;33m=\u001b[0m \u001b[0mgensim\u001b[0m\u001b[1;33m.\u001b[0m\u001b[0mmodels\u001b[0m\u001b[1;33m.\u001b[0m\u001b[0mKeyedVectors\u001b[0m\u001b[1;33m.\u001b[0m\u001b[0mload_word2vec_format\u001b[0m\u001b[1;33m(\u001b[0m\u001b[0mpath_googlenews\u001b[0m\u001b[1;33m,\u001b[0m \u001b[0mbinary\u001b[0m\u001b[1;33m=\u001b[0m\u001b[1;32mTrue\u001b[0m\u001b[1;33m)\u001b[0m\u001b[1;33m\u001b[0m\u001b[1;33m\u001b[0m\u001b[0m\n\u001b[0m",
      "\u001b[1;32m~\\AppData\\Local\\Continuum\\anaconda3\\lib\\site-packages\\gensim\\models\\keyedvectors.py\u001b[0m in \u001b[0;36mload_word2vec_format\u001b[1;34m(cls, fname, fvocab, binary, encoding, unicode_errors, limit, datatype)\u001b[0m\n\u001b[0;32m   1547\u001b[0m         return _load_word2vec_format(\n\u001b[0;32m   1548\u001b[0m             \u001b[0mcls\u001b[0m\u001b[1;33m,\u001b[0m \u001b[0mfname\u001b[0m\u001b[1;33m,\u001b[0m \u001b[0mfvocab\u001b[0m\u001b[1;33m=\u001b[0m\u001b[0mfvocab\u001b[0m\u001b[1;33m,\u001b[0m \u001b[0mbinary\u001b[0m\u001b[1;33m=\u001b[0m\u001b[0mbinary\u001b[0m\u001b[1;33m,\u001b[0m \u001b[0mencoding\u001b[0m\u001b[1;33m=\u001b[0m\u001b[0mencoding\u001b[0m\u001b[1;33m,\u001b[0m \u001b[0municode_errors\u001b[0m\u001b[1;33m=\u001b[0m\u001b[0municode_errors\u001b[0m\u001b[1;33m,\u001b[0m\u001b[1;33m\u001b[0m\u001b[1;33m\u001b[0m\u001b[0m\n\u001b[1;32m-> 1549\u001b[1;33m             limit=limit, datatype=datatype)\n\u001b[0m\u001b[0;32m   1550\u001b[0m \u001b[1;33m\u001b[0m\u001b[0m\n\u001b[0;32m   1551\u001b[0m     \u001b[1;33m@\u001b[0m\u001b[0mclassmethod\u001b[0m\u001b[1;33m\u001b[0m\u001b[1;33m\u001b[0m\u001b[0m\n",
      "\u001b[1;32m~\\AppData\\Local\\Continuum\\anaconda3\\lib\\site-packages\\gensim\\models\\utils_any2vec.py\u001b[0m in \u001b[0;36m_load_word2vec_format\u001b[1;34m(cls, fname, fvocab, binary, encoding, unicode_errors, limit, datatype, binary_chunk_size)\u001b[0m\n\u001b[0;32m    273\u001b[0m \u001b[1;33m\u001b[0m\u001b[0m\n\u001b[0;32m    274\u001b[0m     \u001b[0mlogger\u001b[0m\u001b[1;33m.\u001b[0m\u001b[0minfo\u001b[0m\u001b[1;33m(\u001b[0m\u001b[1;34m\"loading projection weights from %s\"\u001b[0m\u001b[1;33m,\u001b[0m \u001b[0mfname\u001b[0m\u001b[1;33m)\u001b[0m\u001b[1;33m\u001b[0m\u001b[1;33m\u001b[0m\u001b[0m\n\u001b[1;32m--> 275\u001b[1;33m     \u001b[1;32mwith\u001b[0m \u001b[0mutils\u001b[0m\u001b[1;33m.\u001b[0m\u001b[0mopen\u001b[0m\u001b[1;33m(\u001b[0m\u001b[0mfname\u001b[0m\u001b[1;33m,\u001b[0m \u001b[1;34m'rb'\u001b[0m\u001b[1;33m)\u001b[0m \u001b[1;32mas\u001b[0m \u001b[0mfin\u001b[0m\u001b[1;33m:\u001b[0m\u001b[1;33m\u001b[0m\u001b[1;33m\u001b[0m\u001b[0m\n\u001b[0m\u001b[0;32m    276\u001b[0m         \u001b[0mheader\u001b[0m \u001b[1;33m=\u001b[0m \u001b[0mutils\u001b[0m\u001b[1;33m.\u001b[0m\u001b[0mto_unicode\u001b[0m\u001b[1;33m(\u001b[0m\u001b[0mfin\u001b[0m\u001b[1;33m.\u001b[0m\u001b[0mreadline\u001b[0m\u001b[1;33m(\u001b[0m\u001b[1;33m)\u001b[0m\u001b[1;33m,\u001b[0m \u001b[0mencoding\u001b[0m\u001b[1;33m=\u001b[0m\u001b[0mencoding\u001b[0m\u001b[1;33m)\u001b[0m\u001b[1;33m\u001b[0m\u001b[1;33m\u001b[0m\u001b[0m\n\u001b[0;32m    277\u001b[0m         \u001b[0mvocab_size\u001b[0m\u001b[1;33m,\u001b[0m \u001b[0mvector_size\u001b[0m \u001b[1;33m=\u001b[0m \u001b[1;33m(\u001b[0m\u001b[0mint\u001b[0m\u001b[1;33m(\u001b[0m\u001b[0mx\u001b[0m\u001b[1;33m)\u001b[0m \u001b[1;32mfor\u001b[0m \u001b[0mx\u001b[0m \u001b[1;32min\u001b[0m \u001b[0mheader\u001b[0m\u001b[1;33m.\u001b[0m\u001b[0msplit\u001b[0m\u001b[1;33m(\u001b[0m\u001b[1;33m)\u001b[0m\u001b[1;33m)\u001b[0m  \u001b[1;31m# throws for invalid file format\u001b[0m\u001b[1;33m\u001b[0m\u001b[1;33m\u001b[0m\u001b[0m\n",
      "\u001b[1;32m~\\AppData\\Local\\Continuum\\anaconda3\\lib\\site-packages\\smart_open\\smart_open_lib.py\u001b[0m in \u001b[0;36mopen\u001b[1;34m(uri, mode, buffering, encoding, errors, newline, closefd, opener, ignore_ext, transport_params)\u001b[0m\n\u001b[0;32m    187\u001b[0m         \u001b[0mbuffering\u001b[0m\u001b[1;33m=\u001b[0m\u001b[0mbuffering\u001b[0m\u001b[1;33m,\u001b[0m\u001b[1;33m\u001b[0m\u001b[1;33m\u001b[0m\u001b[0m\n\u001b[0;32m    188\u001b[0m         \u001b[0mencoding\u001b[0m\u001b[1;33m=\u001b[0m\u001b[0mencoding\u001b[0m\u001b[1;33m,\u001b[0m\u001b[1;33m\u001b[0m\u001b[1;33m\u001b[0m\u001b[0m\n\u001b[1;32m--> 189\u001b[1;33m         \u001b[0merrors\u001b[0m\u001b[1;33m=\u001b[0m\u001b[0merrors\u001b[0m\u001b[1;33m,\u001b[0m\u001b[1;33m\u001b[0m\u001b[1;33m\u001b[0m\u001b[0m\n\u001b[0m\u001b[0;32m    190\u001b[0m     )\n\u001b[0;32m    191\u001b[0m     \u001b[1;32mif\u001b[0m \u001b[0mfobj\u001b[0m \u001b[1;32mis\u001b[0m \u001b[1;32mnot\u001b[0m \u001b[1;32mNone\u001b[0m\u001b[1;33m:\u001b[0m\u001b[1;33m\u001b[0m\u001b[1;33m\u001b[0m\u001b[0m\n",
      "\u001b[1;32m~\\AppData\\Local\\Continuum\\anaconda3\\lib\\site-packages\\smart_open\\smart_open_lib.py\u001b[0m in \u001b[0;36m_shortcut_open\u001b[1;34m(uri, mode, ignore_ext, buffering, encoding, errors)\u001b[0m\n\u001b[0;32m    360\u001b[0m         \u001b[0mopen_kwargs\u001b[0m\u001b[1;33m[\u001b[0m\u001b[1;34m'errors'\u001b[0m\u001b[1;33m]\u001b[0m \u001b[1;33m=\u001b[0m \u001b[0merrors\u001b[0m\u001b[1;33m\u001b[0m\u001b[1;33m\u001b[0m\u001b[0m\n\u001b[0;32m    361\u001b[0m \u001b[1;33m\u001b[0m\u001b[0m\n\u001b[1;32m--> 362\u001b[1;33m     \u001b[1;32mreturn\u001b[0m \u001b[0m_builtin_open\u001b[0m\u001b[1;33m(\u001b[0m\u001b[0mlocal_path\u001b[0m\u001b[1;33m,\u001b[0m \u001b[0mmode\u001b[0m\u001b[1;33m,\u001b[0m \u001b[0mbuffering\u001b[0m\u001b[1;33m=\u001b[0m\u001b[0mbuffering\u001b[0m\u001b[1;33m,\u001b[0m \u001b[1;33m**\u001b[0m\u001b[0mopen_kwargs\u001b[0m\u001b[1;33m)\u001b[0m\u001b[1;33m\u001b[0m\u001b[1;33m\u001b[0m\u001b[0m\n\u001b[0m\u001b[0;32m    363\u001b[0m \u001b[1;33m\u001b[0m\u001b[0m\n\u001b[0;32m    364\u001b[0m \u001b[1;33m\u001b[0m\u001b[0m\n",
      "\u001b[1;31mFileNotFoundError\u001b[0m: [Errno 2] No such file or directory: 'models/word2vec/GoogleNews-vectors-negative300.bin'"
     ]
    }
   ],
   "source": [
    "# load pre-trained word2vec model\n",
    "path_googlenews = 'models/word2vec/GoogleNews-vectors-negative300.bin'\n",
    "pretrained_word2vec= gensim.models.KeyedVectors.load_word2vec_format(path_googlenews, binary=True) "
   ]
  },
  {
   "cell_type": "code",
   "execution_count": 5,
   "metadata": {},
   "outputs": [
    {
     "data": {
      "text/plain": [
       "[('steaks', 0.7992713451385498),\n",
       " ('filet_mignon', 0.7782121896743774),\n",
       " ('porterhouse', 0.7527751922607422),\n",
       " ('sirloin', 0.7395126819610596),\n",
       " ('prime_rib', 0.7364764213562012),\n",
       " ('filet', 0.7349370718002319),\n",
       " ('porterhouse_steak', 0.7305288314819336),\n",
       " ('tenderloin', 0.7280069589614868),\n",
       " ('roast_beef', 0.7186790108680725),\n",
       " ('rib_eye', 0.7158585786819458),\n",
       " ('ribeye_steak', 0.7071082592010498),\n",
       " ('sirloin_steak', 0.7050917744636536),\n",
       " ('ribeye', 0.701675295829773),\n",
       " ('hanger_steak', 0.6981855630874634),\n",
       " ('striploin', 0.6928503513336182)]"
      ]
     },
     "execution_count": 5,
     "metadata": {},
     "output_type": "execute_result"
    }
   ],
   "source": [
    "pretrained_word2vec.similar_by_word('steak',topn=15,restrict_vocab=None)"
   ]
  },
  {
   "cell_type": "markdown",
   "metadata": {},
   "source": [
    "### 2(a) iii) Train a word2vec model"
   ]
  },
  {
   "cell_type": "code",
   "execution_count": 171,
   "metadata": {},
   "outputs": [
    {
     "data": {
      "image/png": "[encoded data removed]",
      "text/plain": [
       "<Figure size 432x288 with 1 Axes>"
      ]
     },
     "metadata": {
      "needs_background": "light"
     },
     "output_type": "display_data"
    },
    {
     "name": "stdout",
     "output_type": "stream",
     "text": [
      "maximum number of ingredients in a given recipe:  65\n",
      "minimum number of ingredients in a given recipe:  2\n"
     ]
    }
   ],
   "source": [
    "# Given a document and an ingredient, use all other ingredients in the same document as context\n",
    "\n",
    "# Number of ingredients in each recipe\n",
    "ing_len = [len(x) for x in ingredients]\n",
    "\n",
    "plt.hist(ing_len)\n",
    "plt.title('histogram of number of ingredients in recipes')\n",
    "plt.show()\n",
    "print('maximum number of ingredients in a given recipe: ', max(ing_len))  \n",
    "print('minimum number of ingredients in a given recipe: ', min(ing_len))"
   ]
  },
  {
   "cell_type": "code",
   "execution_count": 172,
   "metadata": {
    "colab": {},
    "colab_type": "code",
    "id": "DFa5MRObtARX"
   },
   "outputs": [],
   "source": [
    "# train word2vec\n",
    "embedding_dim=300\n",
    "model=gensim.models.Word2Vec(documents, size=embedding_dim, window=64, min_count=0)"
   ]
  },
  {
   "cell_type": "code",
   "execution_count": 173,
   "metadata": {
    "colab": {
     "base_uri": "https://localhost:8080/",
     "height": 322
    },
    "colab_type": "code",
    "id": "KRWnNUr3txbR",
    "outputId": "2c967706-5eb9-4c57-8059-f483af4869d3",
    "scrolled": true
   },
   "outputs": [
    {
     "data": {
      "text/plain": [
       "[('liquid', 0.8937506675720215),\n",
       " ('refrigerated_biscuits', 0.8931505680084229),\n",
       " ('bihon', 0.8890092968940735),\n",
       " ('carne_seca', 0.8880493640899658),\n",
       " ('dumplings', 0.8871213793754578),\n",
       " ('soup', 0.8839828372001648),\n",
       " ('annatto', 0.8816198706626892),\n",
       " ('pork_sirloin_chops', 0.8783628940582275),\n",
       " ('chicken_base', 0.8753625154495239),\n",
       " ('pancit_canton', 0.8726178407669067),\n",
       " ('marmite', 0.872413158416748),\n",
       " ('pork_chops', 0.8696330785751343),\n",
       " ('organic_chicken', 0.8670274615287781),\n",
       " ('onion_soup_mix', 0.8662793040275574),\n",
       " ('catfish', 0.8659968376159668)]"
      ]
     },
     "execution_count": 173,
     "metadata": {},
     "output_type": "execute_result"
    }
   ],
   "source": [
    "model.wv.most_similar('steak',topn=15,restrict_vocab=None)"
   ]
  },
  {
   "cell_type": "code",
   "execution_count": 174,
   "metadata": {},
   "outputs": [
    {
     "data": {
      "text/plain": [
       "[('feet', 0.8354811072349548),\n",
       " ('spices', 0.8242486715316772),\n",
       " ('low_sodium_chicken_stock', 0.8213478326797485),\n",
       " ('bone-in_chicken', 0.8161294460296631),\n",
       " ('meat', 0.8145659565925598),\n",
       " ('pork_shoulder', 0.8142184019088745),\n",
       " ('chicken_thighs', 0.809796929359436),\n",
       " ('chuck', 0.8074085712432861),\n",
       " ('chicken_pieces', 0.802112877368927),\n",
       " ('diced_potatoes', 0.7993303537368774),\n",
       " ('stewing_beef', 0.7985884547233582),\n",
       " ('rice', 0.7953746318817139),\n",
       " ('himalayan_salt', 0.7937618494033813),\n",
       " ('chicken_stock', 0.7895725965499878),\n",
       " ('thyme', 0.7836822271347046)]"
      ]
     },
     "execution_count": 174,
     "metadata": {},
     "output_type": "execute_result"
    }
   ],
   "source": [
    "model.wv.most_similar('chicken', topn = 15)"
   ]
  },
  {
   "cell_type": "markdown",
   "metadata": {},
   "source": [
    "<b> Word analogies </b> \n",
    "* Let's say I'm cooking lamb, and I want to know what vegetable would go well with lamb. \n",
    "* I can use known protein-vegetable pairings, such as steak & asparagus, to ask the word embedding to solve the following word analogy problem  \n",
    "    <b>steak</b> is to <b>asparagus</b> as <b>lamb</b> is to <b>?</b>   \n",
    "    i.e., steak : asparagus = lamb : ?  \n",
    "* That is, we want to find the ingredient that best satisfies the following:  \n",
    "    wv['asparagus']-wv['steak'] = wv[?] - wv['lamb'], or\n",
    "    wv[?] = wv['lamb'] + wv['asparagus'] - wv['steak']\n",
    "    "
   ]
  },
  {
   "cell_type": "code",
   "execution_count": 175,
   "metadata": {
    "colab": {
     "base_uri": "https://localhost:8080/",
     "height": 390
    },
    "colab_type": "code",
    "id": "p2In2rPbuwLR",
    "outputId": "731c9593-36c3-49db-cf06-bc415d927fd5"
   },
   "outputs": [
    {
     "data": {
      "text/plain": [
       "[('fennel_bulb', 0.9200878143310547),\n",
       " ('yellow_crookneck_squash', 0.9186364412307739),\n",
       " ('fennel', 0.8993750810623169),\n",
       " ('hot_red_pepper_flakes', 0.8906301856040955),\n",
       " ('fronds', 0.885313868522644),\n",
       " ('florets', 0.8820755481719971),\n",
       " ('brine-cured_black_olives', 0.8779783248901367),\n",
       " ('nonfat_chicken_broth', 0.8712207078933716),\n",
       " ('asparagus', 0.8650274276733398),\n",
       " ('italian_parsley_leaves', 0.8641363382339478)]"
      ]
     },
     "execution_count": 175,
     "metadata": {},
     "output_type": "execute_result"
    }
   ],
   "source": [
    "model.wv.similar_by_vector(model.wv['lamb']+model.wv['asparagus']-model.wv['steak'],restrict_vocab=None)"
   ]
  },
  {
   "cell_type": "markdown",
   "metadata": {},
   "source": [
    "<b> Cooking in style </b>  \n",
    "* What if I wanted to cook a particular ingredient in a particular cuisine?  \n",
    "* For example, if I wished to cook chicken in an Indian style cuisine, what other ingredients would go well?"
   ]
  },
  {
   "cell_type": "code",
   "execution_count": 176,
   "metadata": {
    "colab": {
     "base_uri": "https://localhost:8080/",
     "height": 390
    },
    "colab_type": "code",
    "id": "2bZMh2kPyJ90",
    "outputId": "ed7e2302-c778-47c6-e45f-951d597273ab",
    "scrolled": true
   },
   "outputs": [
    {
     "data": {
      "text/plain": [
       "[('indian', 0.9711512327194214),\n",
       " ('garam_masala', 0.8860338926315308),\n",
       " ('ground_turmeric', 0.8840551376342773),\n",
       " ('curry_leaf', 0.8732288479804993),\n",
       " ('cumin_seed', 0.8500876426696777),\n",
       " ('tumeric', 0.8456149697303772),\n",
       " ('basmati_rice', 0.8206949234008789),\n",
       " ('legumes', 0.8155329823493958),\n",
       " ('low-fat_natural_yogurt', 0.8097508549690247),\n",
       " ('fenugreek', 0.8060717582702637),\n",
       " ('mustard_seeds', 0.8035770654678345),\n",
       " ('curry_leaves', 0.7989659905433655),\n",
       " ('fenugreek_leaves', 0.7989515662193298),\n",
       " ('black_mustard_seeds', 0.7975561618804932),\n",
       " ('fenugreek_seeds', 0.7969434261322021)]"
      ]
     },
     "execution_count": 176,
     "metadata": {},
     "output_type": "execute_result"
    }
   ],
   "source": [
    "model.wv.similar_by_vector(model.wv['chicken'] + model.wv['indian'],topn=15)\n"
   ]
  },
  {
   "cell_type": "markdown",
   "metadata": {},
   "source": [
    "<b>Recommending new ingredients from existing ingredients </b>  \n",
    "* For example, let's say I want to cook my chicken in Korean style, and I have the following ingredients: chicken, onions, sesame seeds.  \n",
    "* Can the model recommend some other ingredients that would go well?  "
   ]
  },
  {
   "cell_type": "code",
   "execution_count": 177,
   "metadata": {
    "scrolled": true
   },
   "outputs": [
    {
     "data": {
      "text/plain": [
       "[('sandwich_steak', 0.8764801621437073),\n",
       " ('gochujang_base', 0.8689554929733276),\n",
       " ('rice_wine', 0.84215247631073),\n",
       " ('sesame_oil', 0.8416028618812561),\n",
       " ('dried_kelp', 0.8391591906547546),\n",
       " ('chili_pepper_flakes', 0.8330817818641663),\n",
       " ('fried_eggs', 0.8319185972213745),\n",
       " ('soybean_paste', 0.8308249711990356),\n",
       " ('korean', 0.8302420377731323),\n",
       " ('asian_pear', 0.825729489326477),\n",
       " ('beef_ribs', 0.82475745677948),\n",
       " ('pear_juice', 0.8183329105377197),\n",
       " ('gluten_free_soy_sauce', 0.8052204847335815),\n",
       " ('sodium_free_chicken_broth', 0.8038865327835083),\n",
       " ('cress', 0.8031630516052246)]"
      ]
     },
     "execution_count": 177,
     "metadata": {},
     "output_type": "execute_result"
    }
   ],
   "source": [
    "model.wv.similar_by_vector(model.wv['chicken'] + model.wv['korean']\n",
    "                           + model.wv['onions'] + model.wv['sesame_seeds'],topn=15)"
   ]
  },
  {
   "cell_type": "markdown",
   "metadata": {},
   "source": [
    "* 'Other vegetables' is good for our diet but really not helpful right now..  \n",
    "* The other recommendations do seem helpful and in line with Korean style cuisine\n"
   ]
  },
  {
   "cell_type": "markdown",
   "metadata": {},
   "source": [
    "## 2(b) word embeddings using GloVe  "
   ]
  },
  {
   "cell_type": "markdown",
   "metadata": {},
   "source": [
    "* Similar to word2vec, but based on a co-occurence statistics  \n",
    "* Had to use these on my mac  \n",
    "* Note: training GloVe isn't done in this notebook\n",
    "* This section simply prepares the text for training and analyzes the result \n",
    "* Does GloVe depend on how close the words are? Or is it just about co-occurrence in the same document? "
   ]
  },
  {
   "cell_type": "code",
   "execution_count": 29,
   "metadata": {},
   "outputs": [],
   "source": [
    "from gensim.scripts.glove2word2vec import glove2word2vec\n",
    "from gensim.models.keyedvectors import KeyedVectors"
   ]
  },
  {
   "cell_type": "markdown",
   "metadata": {},
   "source": [
    "<b> Prepare text for training GloVe</b> \n",
    "* According to <a href=\"https://github.com/stanfordnlp/GloVe/tree/master/src\">GloVe README file</a>, we should prepare our text file according to the following. \n",
    "    * Prepare corpus as a single text file\n",
    "    * Words should  be separated by one or more spaces or tabs\n",
    "    * Multiple documents should be separated by new line characters. Cooccurrence contexts for words do not extend past newline characters"
   ]
  },
  {
   "cell_type": "code",
   "execution_count": 5,
   "metadata": {},
   "outputs": [
    {
     "name": "stdout",
     "output_type": "stream",
     "text": [
      "[['romaine lettuce', 'black olives', 'grape tomatoes', 'garlic', 'pepper', 'purple onion', 'seasoning', 'garbanzo beans', 'feta cheese crumbles', 'greek'], ['plain flour', 'ground pepper', 'salt', 'tomatoes', 'ground black pepper', 'thyme', 'eggs', 'green tomatoes', 'yellow corn meal', 'milk', 'vegetable oil', 'southern_us'], ['eggs', 'pepper', 'salt', 'mayonaise', 'cooking oil', 'green chilies', 'grilled chicken breasts', 'garlic powder', 'yellow onion', 'soy sauce', 'butter', 'chicken livers', 'filipino'], ['water', 'vegetable oil', 'wheat', 'salt', 'indian'], ['black pepper', 'shallots', 'cornflour', 'cayenne pepper', 'onions', 'garlic paste', 'milk', 'butter', 'salt', 'lemon juice', 'water', 'chili powder', 'passata', 'oil', 'ground cumin', 'boneless chicken skinless thigh', 'garam masala', 'double cream', 'natural yogurt', 'bay leaf', 'indian'], ['plain flour', 'sugar', 'butter', 'eggs', 'fresh ginger root', 'salt', 'ground cinnamon', 'milk', 'vanilla extract', 'ground ginger', 'powdered sugar', 'baking powder', 'jamaican'], ['olive oil', 'salt', 'medium shrimp', 'pepper', 'garlic', 'chopped cilantro', 'jalapeno chilies', 'flat leaf parsley', 'skirt steak', 'white vinegar', 'sea salt', 'bay leaf', 'chorizo sausage', 'spanish'], ['sugar', 'pistachio nuts', 'white almond bark', 'flour', 'vanilla extract', 'olive oil', 'almond extract', 'eggs', 'baking powder', 'dried cranberries', 'italian'], ['olive oil', 'purple onion', 'fresh pineapple', 'pork', 'poblano peppers', 'corn tortillas', 'cheddar cheese', 'ground black pepper', 'salt', 'iceberg lettuce', 'lime', 'jalapeno chilies', 'chopped cilantro fresh', 'mexican'], ['chopped tomatoes', 'fresh basil', 'garlic', 'extra-virgin olive oil', 'kosher salt', 'flat leaf parsley', 'italian']]\n"
     ]
    }
   ],
   "source": [
    "# print current format\n",
    "print(ing_cuisine[:10])"
   ]
  },
  {
   "cell_type": "code",
   "execution_count": 21,
   "metadata": {},
   "outputs": [],
   "source": [
    "# In Glove, spaces are used to separate words.\n",
    "# Ingredients that involve spaces should be adjusted\n",
    "\n",
    "# for each recipe, replace spaces with underscore, and join all ingredients into one string\n",
    "glove_training = []\n",
    "\n",
    "for recipe in ing_cuisine:\n",
    "    # replace spaces in ingredients with underscore\n",
    "    recipe_new = [item.replace(' ','_') for item in recipe]\n",
    "    \n",
    "    # join ingredients into a string and add newline character \n",
    "    glove_training.append(' '.join(recipe_new)+'\\n')"
   ]
  },
  {
   "cell_type": "code",
   "execution_count": 23,
   "metadata": {},
   "outputs": [],
   "source": [
    "f = open(\"model/glove/glove_training.txt\", \"w\")\n",
    "f.writelines(glove_training)\n",
    "f.close()"
   ]
  },
  {
   "cell_type": "code",
   "execution_count": 28,
   "metadata": {},
   "outputs": [
    {
     "name": "stdout",
     "output_type": "stream",
     "text": [
      "romaine_lettuce black_olives grape_tomatoes garlic pepper purple_onion seasoning garbanzo_beans feta_cheese_crumbles greek\n",
      "\n",
      "plain_flour ground_pepper salt tomatoes ground_black_pepper thyme eggs green_tomatoes yellow_corn_meal milk vegetable_oil southern_us\n",
      "\n"
     ]
    }
   ],
   "source": [
    "# Double check that we have the correct file format\n",
    "# the following should give ingredients of the first two cuisine\n",
    "#f = open('data/glove/glove_training.txt','r')\n",
    "#print(f.readline())\n",
    "#print(f.readline())\n",
    "#f.close()"
   ]
  },
  {
   "cell_type": "markdown",
   "metadata": {},
   "source": [
    "<b> Training on GloVe </b>  \n",
    "* Clone <a href=\"https://github.com/stanfordnlp/GloVe\">GloVe repository</a> \n",
    "* Run \"make\" \n",
    "* Copy the \"glove_training.txt\" file to the glove directory \n",
    "* Edit the \"demo.sh\" file:\n",
    "    * Remove the 9 lines after \"make\" starting with \"if\" and ending with \"fi\"  \n",
    "    * Edit right side of \"CORPUS=\" with file name \"glove_training.txt\"  \n",
    "* Run \"./demo.sh\" \n",
    "* The word vectors will be saved in the \"vectors.txt\" file. "
   ]
  },
  {
   "cell_type": "markdown",
   "metadata": {},
   "source": [
    "<b> GloVe results </b>  \n",
    "* Vocab size: 3357\n",
    "* Vector size: 50\n",
    "* Cost: 0.0325\n",
    "\n"
   ]
  },
  {
   "cell_type": "code",
   "execution_count": null,
   "metadata": {},
   "outputs": [],
   "source": [
    "# Note: GloVe returns the statistics of co-occurrence and the word embeddings\n",
    "# it doesn't return a model like word2vec that can be used to predict surrounding words\n",
    "# Just have to do the best with the embeddings themselves"
   ]
  },
  {
   "cell_type": "code",
   "execution_count": 30,
   "metadata": {},
   "outputs": [
    {
     "name": "stderr",
     "output_type": "stream",
     "text": [
      "/usr/local/lib/python2.7/site-packages/smart_open/smart_open_lib.py:398: UserWarning: This function is deprecated, use smart_open.open instead. See the migration notes for details: https://github.com/RaRe-Technologies/smart_open/blob/master/README.rst#migrating-to-the-new-open-function\n",
      "  'See the migration notes for details: %s' % _MIGRATION_NOTES_URL\n"
     ]
    },
    {
     "data": {
      "text/plain": [
       "(3358, 50)"
      ]
     },
     "execution_count": 30,
     "metadata": {},
     "output_type": "execute_result"
    }
   ],
   "source": [
    "# convert GloVe vector text format into word2vec text format\n",
    "# This way, we can use gensim to do word comparisons and analysis\n",
    "glove2word2vec(glove_input_file=\"model/glove/glove_vectors.txt\", \n",
    "               word2vec_output_file=\"model/glove/gensim_glove_vectors.txt\")"
   ]
  },
  {
   "cell_type": "code",
   "execution_count": 32,
   "metadata": {},
   "outputs": [],
   "source": [
    "glove_model = KeyedVectors.load_word2vec_format(\"model/glove/gensim_glove_vectors.txt\", binary=False)"
   ]
  },
  {
   "cell_type": "code",
   "execution_count": 35,
   "metadata": {},
   "outputs": [
    {
     "data": {
      "text/plain": [
       "[('cod', 0.6614221930503845),\n",
       " ('panko_breadcrumbs', 0.6294422149658203),\n",
       " ('pork_chops', 0.5919418334960938),\n",
       " ('tonkatsu_sauce', 0.5722765922546387),\n",
       " ('beaten_eggs', 0.5602886080741882),\n",
       " ('flour', 0.5539854764938354),\n",
       " ('frozen_peas_and_carrots', 0.49084463715553284),\n",
       " ('min', 0.4804944396018982),\n",
       " ('panko', 0.4743003249168396),\n",
       " ('chives', 0.4698525071144104),\n",
       " ('sweet_chili_sauce', 0.4662887454032898),\n",
       " ('ramen_noodles', 0.45906150341033936),\n",
       " ('ground_chicken', 0.44420695304870605),\n",
       " ('Chinese_rice_vinegar', 0.4360998868942261),\n",
       " ('chorizo', 0.43559232354164124)]"
      ]
     },
     "execution_count": 35,
     "metadata": {},
     "output_type": "execute_result"
    }
   ],
   "source": [
    "glove_model.most_similar('steak',topn=15,restrict_vocab=None)"
   ]
  },
  {
   "cell_type": "code",
   "execution_count": 39,
   "metadata": {},
   "outputs": [
    {
     "data": {
      "text/plain": [
       "[('garlic', 0.7296680808067322),\n",
       " ('onions', 0.6966990232467651),\n",
       " ('chicken_stock', 0.6510413885116577),\n",
       " ('chicken_broth', 0.6387048363685608),\n",
       " ('chicken_breasts', 0.626524806022644),\n",
       " ('sauce', 0.6245228052139282),\n",
       " ('pepper', 0.620618462562561),\n",
       " ('yellow_onion', 0.614948570728302),\n",
       " ('spices', 0.6102616190910339),\n",
       " ('rice', 0.6061379909515381),\n",
       " ('bay_leaves', 0.6036665439605713),\n",
       " ('cilantro', 0.6028690338134766),\n",
       " ('tomatoes', 0.6022893190383911),\n",
       " ('kosher_salt', 0.5862119197845459),\n",
       " ('bay_leaf', 0.5841464400291443)]"
      ]
     },
     "execution_count": 39,
     "metadata": {},
     "output_type": "execute_result"
    }
   ],
   "source": [
    "glove_model.most_similar('chicken',topn=15,restrict_vocab=None)"
   ]
  },
  {
   "cell_type": "code",
   "execution_count": 37,
   "metadata": {},
   "outputs": [
    {
     "data": {
      "text/plain": [
       "[('couscous', 0.6679390668869019),\n",
       " ('asparagus', 0.6486406326293945),\n",
       " ('spinach_leaves', 0.6287509799003601),\n",
       " ('tahini', 0.62239009141922),\n",
       " ('garbanzo_beans', 0.5981909036636353),\n",
       " ('fresh_lemon_juice', 0.5812668800354004),\n",
       " ('chickpeas', 0.5755916833877563),\n",
       " ('pinenuts', 0.5707820653915405),\n",
       " ('lemon_zest', 0.5574780702590942),\n",
       " ('orzo', 0.5545808672904968),\n",
       " ('grated_lemon_peel', 0.5538576245307922),\n",
       " ('lamb', 0.5468550324440002),\n",
       " ('chopped_fresh_mint', 0.542788565158844),\n",
       " ('preserved_lemon', 0.5352820158004761),\n",
       " ('arborio_rice', 0.5287206768989563)]"
      ]
     },
     "execution_count": 37,
     "metadata": {},
     "output_type": "execute_result"
    }
   ],
   "source": [
    "glove_model.similar_by_vector(glove_model['lamb'] + glove_model['asparagus']- glove_model['steak'],topn=15,restrict_vocab=None)\n"
   ]
  },
  {
   "cell_type": "code",
   "execution_count": 38,
   "metadata": {
    "scrolled": false
   },
   "outputs": [
    {
     "data": {
      "text/plain": [
       "[('korean', 0.8404902219772339),\n",
       " ('toasted_sesame_seeds', 0.7193809747695923),\n",
       " ('sesame_seeds', 0.713943362236023),\n",
       " ('Gochujang_base', 0.7067477703094482),\n",
       " ('sesame_oil', 0.702775239944458),\n",
       " ('soy_sauce', 0.6895512342453003),\n",
       " ('asian_pear', 0.67808997631073),\n",
       " ('kimchi', 0.6725336313247681),\n",
       " ('beef', 0.6577582955360413),\n",
       " ('green_onions', 0.655651330947876),\n",
       " ('ginger', 0.642991304397583),\n",
       " ('rice_wine', 0.6344742774963379),\n",
       " ('sauce', 0.6225952506065369),\n",
       " ('chicken', 0.6196356415748596),\n",
       " ('noodles', 0.6129593849182129)]"
      ]
     },
     "execution_count": 38,
     "metadata": {},
     "output_type": "execute_result"
    }
   ],
   "source": [
    "glove_model.similar_by_vector(glove_model['chicken'] + glove_model['korean'],topn=15)"
   ]
  },
  {
   "cell_type": "markdown",
   "metadata": {
    "heading_collapsed": true
   },
   "source": [
    "# 4. Continuous-Bag-Of-Words model"
   ]
  },
  {
   "cell_type": "markdown",
   "metadata": {
    "hidden": true
   },
   "source": [
    "* Note that Word2Vec embeddings are learned while training a neural network to perform a supervised learaning task.\n",
    "* In particular, the Continuous-Bag-Of-Words (CBOW) model word embeddings are obtained while training a model that predicts a target word given the context words.  \n",
    "* In this section, we train a CBOW model to predict an ingredient given other ingredients in the same recipe.   \n",
    "\n",
    "<b> Continuous-Bag-Of-Words model </b>  \n",
    "* Say we are building a CBOW model that takes 4 context words to predict a target word.  \n",
    "* In a CBOW \n",
    "* Given an example text \"this project builds an ingredient recommender\", the example text generates the following training data \n",
    "\n",
    "Example text | Context | Target |  \n",
    "--- | --- | --- |\n",
    "<b>this</b>  <font color='blue'>project builds</font> an ingredient recommender | <font color='blue'>project,builds</font> | <b>this</b> | \n",
    "<font color='blue'>this</font> <b>project</b> <font color='blue'>builds an</font> ingredient recommender | <font color='blue'>this, builds, an</font> | <b>project</b> |\n",
    "<font color='blue'>this project</font> <b>builds</b> <font color='blue'>an ingredient</font> recommender | <font color='blue'>this, project, an, ingredient</font>  | <b>builds</b> |  \n",
    "this <font color='blue'>project builds</font> <b>an</b> <font color='blue'>ingredient recommender</font> | <font color='blue'>project, builds, ingredient, recommender</font>  | <b>an</b>| \n",
    "this project <font color='blue'>builds an</font> <b>ingredient</b> <font color='blue'>recommender</font> | <font color='blue'>builds, an, recommender</font>  | <b>ingredient</b>| \n",
    "this project builds <font color='blue'>an ingredient</font> <b>recommender</b> | <font color='blue'>an, ingredient</font> | <b>recommender</b>| \n",
    "\n",
    "<b> CBOW model for predicting ingredients from \"context\" ingredients </b>  \n",
    "* In the CBOW model, the context consists of words that are in the neighborhood of the target word. \n",
    "* For ingredient recommendations, the context should be the collection of ingredients that belong in the same recipe as a given target ingredient.  \n",
    "* For example, let's say we are given a cheesecake recipe with the following ingredients: \"cream cheese\", \"eggs\",\"sugar\",\"vanilla extract\",\"lemon zest\",\"sour cream\". Given the target word \"cream cheese\", there are 5 choices for context of size 4:  \n",
    "    * \"eggs\", \"sugar\", \"vanilla extract\", \"lemon zest\" \n",
    "    * \"eggs\", \"sugar\", \"vanilla extract\", \"sour cream\"  \n",
    "    * \"eggs\", \"sugar\", \"lemon zest\", \"sour cream\"  \n",
    "    * \"eggs\", \"vanilla extract\", \"lemon zest\", \"sour cream\"  \n",
    "    * \"sugar\", \"vanilla extract\", \"lemon zest\", \"sour cream\"  \n",
    "* As this example shows, the context words are no longer the words in the neighborhood of a target word. Instead, context words are other ingredients that are used in the same recipe.  \n",
    "* In order to create training dataset whose conext is described above, I randomly permuted the order of the ingredients in each recipe. Let's say the ingredients now appear in the following order after random permutations: \"lemon zest\", \"eggs\", \"vanilla extract\", \"sour cream\", \"sugar\". Such list of ingredients generates the following training data: \n",
    "    \n",
    "    \n",
    "Example recipe | Context | Target |  \n",
    "--- | --- | --- |\n",
    "<b>lemon zest</b>,  <font color='blue'>eggs, vanilla extract,</font> sour cream, sugar | <font color='blue'>project,builds</font> | <b>this</b> | \n",
    "<font color='blue'>this</font> <b>project</b> <font color='blue'>builds an</font> ingredient recommender | <font color='blue'>this, builds, an</font> | <b>project</b> |\n",
    "<font color='blue'>this project</font> <b>builds</b> <font color='blue'>an ingredient</font> recommender | <font color='blue'>this, project, an, ingredient</font>  | <b>builds</b> |  \n",
    "this <font color='blue'>project builds</font> <b>an</b> <font color='blue'>ingredient recommender</font> | <font color='blue'>project, builds, ingredient, recommender</font>  | <b>an</b>| \n",
    "this project <font color='blue'>builds an</font> <b>ingredient</b> <font color='blue'>recommender</font> | <font color='blue'>builds, an, recommender</font>  | <b>ingredient</b>| \n",
    "this project builds <font color='blue'>an ingredient</font> <b>recommender</b> | <font color='blue'>an, ingredient</font> | <b>recommender</b>|    \n",
    "\n",
    "\n",
    "\n",
    "\n",
    "* While you can train a vanila neural network, we'll use the Word2Vec model provided by gensim since it is extremely easy to use  \n",
    "* I was concerned about the order of the words.\n",
    "    * The model itself isn't concerned with the order of words appearing in the neighborhood. \n",
    "    * A list of ingredients ofr a recipes should be best considered as an unordered set. \n",
    "    * However, this means that not all neighbor relations (that should be represented) won't exist"
   ]
  },
  {
   "cell_type": "markdown",
   "metadata": {
    "heading_collapsed": true,
    "hidden": true
   },
   "source": [
    "## 3.0 Example"
   ]
  },
  {
   "cell_type": "markdown",
   "metadata": {
    "hidden": true
   },
   "source": [
    "Decide on the appropriate window size"
   ]
  },
  {
   "cell_type": "code",
   "execution_count": 120,
   "metadata": {
    "hidden": true
   },
   "outputs": [
    {
     "data": {
      "image/png": "[encoded data removed]",
      "text/plain": [
       "<Figure size 432x288 with 1 Axes>"
      ]
     },
     "metadata": {
      "needs_background": "light"
     },
     "output_type": "display_data"
    },
    {
     "name": "stdout",
     "output_type": "stream",
     "text": [
      "maximum number of ingredients: 66\n",
      "minimum number of ingredients: 2\n"
     ]
    }
   ],
   "source": [
    "# what is the appropriate window size?\n",
    "ing_length = [len(item) for item in ingredients]\n",
    "plt.hist(ing_length)\n",
    "plt.title('Histogram of number of ingredients in recipes')\n",
    "plt.xlabel('number of ingredients')\n",
    "plt.ylabel('number of recipes')\n",
    "plt.show()\n",
    "\n",
    "print('maximum number of ingredients:', max(ing_length))\n",
    "print('minimum number of ingredients:', min(ing_length))"
   ]
  },
  {
   "cell_type": "code",
   "execution_count": 121,
   "metadata": {
    "hidden": true
   },
   "outputs": [],
   "source": [
    "# randomly shuffle each ingredient list\n",
    "for item in ingredients:\n",
    "    random.shuffle(item)\n"
   ]
  },
  {
   "cell_type": "code",
   "execution_count": 122,
   "metadata": {
    "hidden": true
   },
   "outputs": [],
   "source": [
    "# train model\n",
    "# Note: by default, the model will learn a CBOW model\n",
    "model = Word2Vec(ingredients, window = 30, compute_loss = True, iter = 10)\n"
   ]
  },
  {
   "cell_type": "code",
   "execution_count": 125,
   "metadata": {
    "hidden": true
   },
   "outputs": [
    {
     "data": {
      "text/plain": [
       "[('gochujang_base', 0.5995154),\n",
       " ('kimchi', 0.25676668),\n",
       " ('sweet_rice_flour', 0.021735124),\n",
       " ('rice_cakes', 0.015502382),\n",
       " ('asian_pear', 0.010976168),\n",
       " ('gochugaru', 0.009317414),\n",
       " ('pepper_flakes', 0.0063403742),\n",
       " ('sesame_seeds', 0.0051236637),\n",
       " ('beef_rib_short', 0.0041928226),\n",
       " ('korean_chile_flakes', 0.0038697268)]"
      ]
     },
     "execution_count": 125,
     "metadata": {},
     "output_type": "execute_result"
    }
   ],
   "source": [
    "# get probability distribution of center word given context words\n",
    "model.predict_output_word(['korean','chicken'], topn = 10)"
   ]
  },
  {
   "cell_type": "markdown",
   "metadata": {
    "hidden": true
   },
   "source": [
    "## 3.1 Model performance on training and cross validation data "
   ]
  },
  {
   "cell_type": "code",
   "execution_count": 388,
   "metadata": {
    "hidden": true
   },
   "outputs": [],
   "source": [
    "def sample_ingredients(ing, n_samples):  \n",
    "    # For each recipe, sample \"n_samples\" number of ingredients randomly.\n",
    "    # (If a recipe involves fewer than \"n_samples\" ingredients, ignore that recipe)\n",
    "    # The sampled ingredients will function as the existing ingredients\n",
    "    # Goal of the model is to predict the remaining ingredients that\n",
    "    # have not been sampled\n",
    "    \n",
    "    \"\"\"\n",
    "    --- input ---\n",
    "    ing: (list of lists) Each item of ing is a list of ingredients \n",
    "           for a particular recipe\n",
    "    n_samples: (int) number of ingredients to be sampled\n",
    "   \n",
    "    --- output ---\n",
    "    sampled_ing: (list of lists) Each item of sampled_ing is a list of \n",
    "            ingredients that have been sampled\n",
    "    remaining_ing: (list of lists) Each item of remaining_ing is a list of ingredients\n",
    "            that have not been sampled\n",
    "    \"\"\"\n",
    "    \n",
    "    sampled_ing = []\n",
    "    remaining_ing = []\n",
    "    for recipe in ing:\n",
    "        if len(recipe) > 5:\n",
    "            # randomly select 5 ingredients\n",
    "            sampled = random.sample(recipe, 5)\n",
    "            remain = list(set(recipe)-set(sampled))\n",
    "\n",
    "            sampled_ing.append(sampled)\n",
    "            remaining_ing.append(remain)\n",
    "            \n",
    "    return sampled_ing, remaining_ing\n",
    "\n",
    "def recommend_ingredients_word2vec(model, sampled_ing, remaining_ing):\n",
    "    # predict ingredients using the trained Word2Vec model\n",
    "    \n",
    "    # model: trained Word2Vec model\n",
    "    # sampled_ing: (list of lists) Each item of sampled_ing is a list of\n",
    "    # existing ingredients for a particular recipe \n",
    "    \n",
    "    predicted_ing = []\n",
    "\n",
    "    for idx, given_recipe in enumerate(sampled_ing):\n",
    "        # find number of ingredients to predict\n",
    "        n = len(sampled_ing[idx]) + len(remaining_ing[idx])  \n",
    "\n",
    "        # predict ingredients\n",
    "        prediction = model.predict_output_word(given_recipe, topn = n)\n",
    "        prediction = [item[0] for item in prediction if item[0] not in given_recipe]\n",
    "        predicted_ing.append(prediction)\n",
    "        \n",
    "    return predicted_ing"
   ]
  },
  {
   "cell_type": "code",
   "execution_count": 374,
   "metadata": {
    "hidden": true
   },
   "outputs": [],
   "source": [
    "# load train, cv, test data index\n",
    "f = h5py.File('data/ingredient_recommendation/train_val_test.hdf5', 'r')\n",
    "train_idx = list(f.get(\"train_idx\"))\n",
    "cv_idx = list(f.get(\"cv_idx\"))\n",
    "test_idx = list(f.get(\"test_idx\"))\n",
    "f.close()\n",
    "\n",
    "ing_train = [ingredients[i] for i in train_idx]\n",
    "ing_cv = [ingredients[i] for i in test_idx]"
   ]
  },
  {
   "cell_type": "code",
   "execution_count": 375,
   "metadata": {
    "hidden": true
   },
   "outputs": [],
   "source": [
    "# train model\n",
    "model = Word2Vec(ing_train, window = 5, compute_loss = True, iter = 10)\n",
    "# while the model computes the loss, its a cumulative loss\n",
    "# (not the loss from the most recent epoch)"
   ]
  },
  {
   "cell_type": "markdown",
   "metadata": {
    "hidden": true
   },
   "source": [
    "<b> Make ingredient recommendations for training data </b> \n"
   ]
  },
  {
   "cell_type": "code",
   "execution_count": 390,
   "metadata": {
    "hidden": true
   },
   "outputs": [],
   "source": [
    "# get existing ingredients and the remaining ingredients to be predicted\n",
    "sampled_ing, remaining_ing = sample_ingredients(ing_train, 5)\n",
    "\n",
    "# predict remaining ingredients\n",
    "predicted_ing = recommend_ingredients_word2vec(model, sampled_ing, remaining_ing)"
   ]
  },
  {
   "cell_type": "code",
   "execution_count": 391,
   "metadata": {
    "hidden": true
   },
   "outputs": [
    {
     "data": {
      "image/png": "[encoded data removed]",
      "text/plain": [
       "<Figure size 720x216 with 3 Axes>"
      ]
     },
     "metadata": {},
     "output_type": "display_data"
    },
    {
     "name": "stdout",
     "output_type": "stream",
     "text": [
      "Average precision on cross validation set:  0.09264691577092868\n",
      "Average recall on cross validation set:  0.1552812082699183\n",
      "Average F-score on cross validation set:  0.11364571115758526\n"
     ]
    }
   ],
   "source": [
    "scores = [compute_scores(predicted_ing[i], remaining_ing[i]) for i in range(len(remaining_ing))]\n",
    "\n",
    "precisions = [item[0] for item in scores] \n",
    "recalls = [item[1] for item in scores]\n",
    "Fscores = [item[2] for item in scores]\n",
    "\n",
    "fig, ax = plt.subplots(ncols = 3, figsize = (10,3))\n",
    "ax[0].hist(precisions)\n",
    "ax[0].set_title('histogram of precision')\n",
    "\n",
    "ax[1].hist(recalls)\n",
    "ax[1].set_title('histogram of recalls')\n",
    "\n",
    "ax[2].hist(Fscores)\n",
    "ax[2].set_title('histogram of F-scores')\n",
    "plt.show()\n",
    "\n",
    "print(\"Average precision on cross validation set: \", statistics.mean(precisions) )\n",
    "print(\"Average recall on cross validation set: \", statistics.mean(recalls) )\n",
    "print(\"Average F-score on cross validation set: \", statistics.mean(Fscores) )"
   ]
  },
  {
   "cell_type": "markdown",
   "metadata": {
    "hidden": true
   },
   "source": [
    "<b> Make ingredient recommendations for CV set </b>"
   ]
  },
  {
   "cell_type": "code",
   "execution_count": 378,
   "metadata": {
    "hidden": true
   },
   "outputs": [],
   "source": [
    "# get existing ingredients and the remaining ingredients to be predicted\n",
    "sampled_ing, remaining_ing = sample_ingredients(ing_cv, 5)\n",
    "\n",
    "# predict remaining ingredients\n",
    "predicted_ing = recommend_ingredients_word2vec(model, sampled_ing, remaining_ing)"
   ]
  },
  {
   "cell_type": "code",
   "execution_count": 387,
   "metadata": {
    "hidden": true,
    "scrolled": false
   },
   "outputs": [
    {
     "data": {
      "image/png": "[encoded data removed]",
      "text/plain": [
       "<Figure size 720x216 with 3 Axes>"
      ]
     },
     "metadata": {},
     "output_type": "display_data"
    },
    {
     "name": "stdout",
     "output_type": "stream",
     "text": [
      "Average precision on cross validation set:  0.08902909831564408\n",
      "Average recall on cross validation set:  0.1495653688075584\n",
      "Average F-score on cross validation set:  0.10914539821476701\n"
     ]
    }
   ],
   "source": [
    "scores = [compute_scores(predicted_ing[i], remaining_ing[i]) for i in range(len(remaining_ing))]\n",
    "\n",
    "precisions = [item[0] for item in scores] \n",
    "recalls = [item[1] for item in scores]\n",
    "Fscores = [item[2] for item in scores]\n",
    "\n",
    "fig, ax = plt.subplots(ncols = 3, figsize = (10,3))\n",
    "ax[0].hist(precisions)\n",
    "ax[0].set_title('histogram of precision')\n",
    "\n",
    "ax[1].hist(recalls)\n",
    "ax[1].set_title('histogram of recalls')\n",
    "\n",
    "ax[2].hist(Fscores)\n",
    "ax[2].set_title('histogram of F-scores')\n",
    "plt.show()\n",
    "\n",
    "print(\"Average precision on cross validation set: \", statistics.mean(precisions) )\n",
    "print(\"Average recall on cross validation set: \", statistics.mean(recalls) )\n",
    "print(\"Average F-score on cross validation set: \", statistics.mean(Fscores) )"
   ]
  },
  {
   "cell_type": "markdown",
   "metadata": {
    "colab_type": "text",
    "heading_collapsed": true,
    "id": "lD_nTsPubRfn"
   },
   "source": [
    "# 5. Association rule mining"
   ]
  },
  {
   "cell_type": "markdown",
   "metadata": {
    "hidden": true
   },
   "source": [
    "* Association rule mining is a tool used in market basket analysis that seeks relationships between purchases.  \n",
    "* It finds rules of the form X => Y, which represents \"X implies Y\"\n",
    "* For example, the rule {onions, potatoes} => {burger} found in the sales data would indicate that if a customer buys both onions and potatoes, then they are also likely to buy hamburger meat.  \n",
    "* In this project, I used association rule mining to learn relationships among ingredients. For example, the rule {chicken, korean} => {seasame oil} would imply that if a recipe involves chicken and korean cuisine, then it is likely to also involve seasame oil as its ingredient. \n",
    "* Used Apriori algorithm to learn the rules."
   ]
  },
  {
   "cell_type": "markdown",
   "metadata": {
    "heading_collapsed": true,
    "hidden": true
   },
   "source": [
    "## 4.1 Implement the apriori algorithm"
   ]
  },
  {
   "cell_type": "markdown",
   "metadata": {
    "colab_type": "text",
    "hidden": true,
    "id": "kstM_jCMu75H"
   },
   "source": [
    "* The apriori algorithm learns all rules of form X => Y where\n",
    "    * X, Y are collections of items, called itemset.  \n",
    "    * X and Y are itemsets with frequency (support) greater than min_support\n",
    "    * The strength of the implication X => Y (as measured by confidence) is stronger than min_confidence  \n",
    "* Apriori algorithm requires the user to specify minimum support of itemsets to consider and minimum confidence of the rules. \n",
    "* In this section, I played around with different minimum support and minimum confidence values and learned the rules among ingredients using the apriori algorithm."
   ]
  },
  {
   "cell_type": "code",
   "execution_count": 305,
   "metadata": {
    "hidden": true
   },
   "outputs": [],
   "source": [
    "df = pd.read_csv('data/ingredient_recommendation/data.csv')\n",
    "cuisine = np.unique(df.cuisine)\n",
    "\n",
    "# note: ing_cuisine is now a string representation of list\n",
    "# need to convert back to list\n",
    "ingredients = [ast.literal_eval(df.ing_cuisine[idx]) for idx in range(df.shape[0])]\n",
    "\n",
    "# change data format to list of tuples for apriori algorithm \n",
    "ing_list = [tuple(item) for item in ingredients]"
   ]
  },
  {
   "cell_type": "code",
   "execution_count": 306,
   "metadata": {
    "colab": {},
    "colab_type": "code",
    "hidden": true,
    "id": "WFC53YRm8wDz"
   },
   "outputs": [],
   "source": [
    "# get the list of ingredients\n",
    "ingredients_total = [item for sublist in ing_list for item in sublist]\n",
    "\n",
    "# count occurrence of ingredients\n",
    "ing_count = Counter(ingredients_total)\n",
    "\n",
    "# sort ingredients in order of decreasing frequency \n",
    "ing_by_count = [k for k, v in sorted(ing_count.items(), key = lambda item:item[1])]\n",
    "ing_by_count.reverse()"
   ]
  },
  {
   "cell_type": "code",
   "execution_count": 307,
   "metadata": {
    "colab": {
     "base_uri": "https://localhost:8080/",
     "height": 352
    },
    "colab_type": "code",
    "hidden": true,
    "id": "wcuV9QtsCAsC",
    "outputId": "e1567f5a-7851-4f27-9a54-372429ca3281"
   },
   "outputs": [
    {
     "data": {
      "image/png": "[encoded data removed]",
      "text/plain": [
       "<Figure size 432x288 with 1 Axes>"
      ]
     },
     "metadata": {},
     "output_type": "display_data"
    }
   ],
   "source": [
    "#plot the support of 10 most frequently occurring ingredients\n",
    "plt.bar(ing_by_count[:10], [ing_count[item]/len(ing_list) for item in ing_by_count[:10]])\n",
    "plt.xticks(list(range(10)), ing_by_count[:10], ha = 'right', rotation=45)\n",
    "plt.title('Support of 10 most frequently occuring ingredients')\n",
    "plt.show()"
   ]
  },
  {
   "cell_type": "code",
   "execution_count": 308,
   "metadata": {
    "colab": {
     "base_uri": "https://localhost:8080/",
     "height": 415
    },
    "colab_type": "code",
    "hidden": true,
    "id": "MycMLorpCbON",
    "outputId": "dbb3ab7b-746f-4977-f901-2612de52f095"
   },
   "outputs": [
    {
     "data": {
      "image/png": "[encoded data removed]",
      "text/plain": [
       "<Figure size 432x288 with 1 Axes>"
      ]
     },
     "metadata": {},
     "output_type": "display_data"
    }
   ],
   "source": [
    "# plot the 10 most rarely occurring ingredients\n",
    "# use support, instead of frequency \n",
    "plt.bar(ing_by_count[-10:], [ing_count[item]/len(ing_list) for item in ing_by_count[-10:]])\n",
    "plt.xticks(list(range(10)), ing_by_count[-10:], ha = 'right', rotation=45)\n",
    "plt.title('Support of uncommon ingredients')\n",
    "plt.show()"
   ]
  },
  {
   "cell_type": "code",
   "execution_count": 309,
   "metadata": {
    "colab": {
     "base_uri": "https://localhost:8080/",
     "height": 336
    },
    "colab_type": "code",
    "hidden": true,
    "id": "FjF8kZHiFZG4",
    "outputId": "1f246524-b5bb-41d5-d6d0-f37f84f9a842"
   },
   "outputs": [
    {
     "data": {
      "image/png": "[encoded data removed]",
      "text/plain": [
       "<Figure size 432x288 with 1 Axes>"
      ]
     },
     "metadata": {},
     "output_type": "display_data"
    }
   ],
   "source": [
    "# support of ingredients that I think should be included\n",
    "my_ingredients = ['chicken','tofu','kimchi', 'gochujang base', 'korean', 'scallions', 'sesame seeds']\n",
    "plt.bar(my_ingredients, [ing_count[item]/len(ing_list) for item in my_ingredients])\n",
    "plt.xticks(list(range(len(my_ingredients))), my_ingredients, ha = 'right', rotation=45)\n",
    "plt.title('Support of some ingredients')\n",
    "plt.show()"
   ]
  },
  {
   "cell_type": "code",
   "execution_count": 310,
   "metadata": {
    "colab": {
     "base_uri": "https://localhost:8080/",
     "height": 54
    },
    "colab_type": "code",
    "hidden": true,
    "id": "JDpKICKWyTss",
    "outputId": "96e10563-1908-4f6c-b4fa-e96340ac4cae"
   },
   "outputs": [
    {
     "name": "stdout",
     "output_type": "stream",
     "text": [
      "['organic vegetable broth', 'salad greens', 'file powder', 'rocket leaves', 'ground round', 'cod fillets', 'colby jack cheese', 'pitted date', 'tapioca flour', 'frozen spinach', 'green bell pepper, slice', 'plain whole-milk yogurt', 'duck', 'softened butter', 'low-fat plain yogurt', 'dried tarragon leaves', 'cooked turkey', 'alfredo sauce', 'brewed coffee', 'hot italian sausages']\n"
     ]
    }
   ],
   "source": [
    "# what are some ingredients with a given support value?\n",
    "support = 0.001\n",
    "freq = support * len(ing_list)\n",
    "ingredients_support = [item for item in ing_by_count if ing_count[item] <= freq + 10 and ing_count[item] >= freq -10 ]\n",
    "print(ingredients_support[:20])"
   ]
  },
  {
   "cell_type": "code",
   "execution_count": 311,
   "metadata": {
    "hidden": true
   },
   "outputs": [],
   "source": [
    "# LEARNING THE RULES\n",
    "\n",
    "itemsets, rules = apriori(ing_list, min_support=0.001, min_confidence=0.3)\n",
    "with open(\"models/association_rule_mining/rules.txt\", \"wb\") as fp:\n",
    "    pickle.dump(rules, fp)"
   ]
  },
  {
   "cell_type": "markdown",
   "metadata": {
    "colab_type": "text",
    "heading_collapsed": true,
    "hidden": true,
    "id": "8_vbLKFV69KH"
   },
   "source": [
    "## 4.2 Query the rules "
   ]
  },
  {
   "cell_type": "code",
   "execution_count": 312,
   "metadata": {
    "colab": {},
    "colab_type": "code",
    "hidden": true,
    "id": "gzcdI4-hzV4b",
    "scrolled": true
   },
   "outputs": [
    {
     "name": "stdout",
     "output_type": "stream",
     "text": [
      "number of rules learned:  74470\n"
     ]
    }
   ],
   "source": [
    "# load the learned rules\n",
    "with open(\"models/association_rule_mining/rules.txt\", \"rb\") as fp:\n",
    "    rules = pickle.load(fp)\n",
    "    \n",
    "print('number of rules learned: ', len(rules))"
   ]
  },
  {
   "cell_type": "code",
   "execution_count": 313,
   "metadata": {
    "colab": {},
    "colab_type": "code",
    "hidden": true,
    "id": "eVvphmUz1_-n"
   },
   "outputs": [],
   "source": [
    "def get_rules(rules, query):\n",
    "    # Find all rules of the form \"query\" => ?\n",
    "\n",
    "    # query must have the format ('ingredient1', ) or ('ingredient1','ingredient2', ... ,)\n",
    "    # note that some rules will have multiple items in the right hand side. For simplicity, lets just\n",
    "    # use rules that return one value \n",
    "    query_rules = [item for item in rules if set(item.lhs) == set(query)]\n",
    "\n",
    "    # sorted ccording to decreasing lift values \n",
    "    query_rules = sorted(query_rules, key=lambda rule: rule.lift, reverse = True)\n",
    "    return query_rules   "
   ]
  },
  {
   "cell_type": "code",
   "execution_count": 315,
   "metadata": {
    "colab": {
     "base_uri": "https://localhost:8080/",
     "height": 235
    },
    "colab_type": "code",
    "hidden": true,
    "id": "1NRoPUtR5d93",
    "outputId": "2c8ec861-fba6-41b3-9be7-25603bed41fd"
   },
   "outputs": [
    {
     "name": "stdout",
     "output_type": "stream",
     "text": [
      "{gochujang base} -> {korean, onions} (conf: 0.338, supp: 0.001, lift: 64.638, conv: 1.503)\n",
      "{gochujang base} -> {korean, soy sauce} (conf: 0.556, supp: 0.002, lift: 51.822, conv: 2.230)\n",
      "{gochujang base} -> {korean, sesame oil} (conf: 0.521, supp: 0.002, lift: 51.432, conv: 2.067)\n",
      "{gochujang base} -> {garlic, korean} (conf: 0.373, supp: 0.001, lift: 48.994, conv: 1.583)\n",
      "{gochujang base} -> {korean, sesame oil, soy sauce} (conf: 0.345, supp: 0.001, lift: 48.670, conv: 1.516)\n",
      "{gochujang base} -> {green onions, korean} (conf: 0.352, supp: 0.001, lift: 47.798, conv: 1.532)\n",
      "{gochujang base} -> {korean} (conf: 0.958, supp: 0.003, lift: 45.896, conv: 23.173)\n",
      "{gochujang base} -> {sesame oil, soy sauce} (conf: 0.366, supp: 0.001, lift: 12.981, conv: 1.533)\n",
      "{gochujang base} -> {sesame oil} (conf: 0.542, supp: 0.002, lift: 12.164, conv: 2.087)\n",
      "{gochujang base} -> {soy sauce} (conf: 0.592, supp: 0.002, lift: 7.138, conv: 2.245)\n",
      "{gochujang base} -> {green onions} (conf: 0.352, supp: 0.001, lift: 4.550, conv: 1.424)\n",
      "{gochujang base} -> {garlic} (conf: 0.380, supp: 0.001, lift: 2.050, conv: 1.314)\n",
      "{gochujang base} -> {onions} (conf: 0.345, supp: 0.001, lift: 1.722, conv: 1.221)\n"
     ]
    }
   ],
   "source": [
    "query = ('gochujang base',)\n",
    "query_rules = get_rules(rules, query)\n",
    "for item in query_rules:\n",
    "    print(item)"
   ]
  },
  {
   "cell_type": "code",
   "execution_count": 316,
   "metadata": {
    "colab": {
     "base_uri": "https://localhost:8080/",
     "height": 84
    },
    "colab_type": "code",
    "hidden": true,
    "id": "3tg1G1g97Tqn",
    "outputId": "1601622d-daca-4e3b-f864-740fa28183d4"
   },
   "outputs": [
    {
     "name": "stdout",
     "output_type": "stream",
     "text": [
      "{chicken, soy sauce} -> {chinese} (conf: 0.372, supp: 0.001, lift: 5.534, conv: 1.485)\n",
      "{chicken, soy sauce} -> {garlic} (conf: 0.405, supp: 0.001, lift: 2.182, conv: 1.369)\n",
      "{chicken, soy sauce} -> {water} (conf: 0.331, supp: 0.001, lift: 1.763, conv: 1.214)\n",
      "{chicken, soy sauce} -> {salt} (conf: 0.479, supp: 0.001, lift: 1.056, conv: 1.049)\n"
     ]
    }
   ],
   "source": [
    "query = ('chicken','soy sauce')\n",
    "query_rules = get_rules(rules, query)\n",
    "for item in query_rules:\n",
    "    print(item)"
   ]
  },
  {
   "cell_type": "markdown",
   "metadata": {
    "heading_collapsed": true,
    "hidden": true
   },
   "source": [
    "## 4.3 Build a recommendation system"
   ]
  },
  {
   "cell_type": "markdown",
   "metadata": {
    "hidden": true
   },
   "source": [
    "* Input a list of existing ingredients.  \n",
    "* Recommender searches the learned rules to recommend ingredients, starting with the ingredient with highest lift.  \n",
    "* If the input list of existing ingredient doesn't exist as an itemset in the learned rules (this happens if the given input does not have enough support in the training dataset), then look for the largest subset of the existing ingredients that do exist as an itemset in the rules. Recommend from this largest subset. "
   ]
  },
  {
   "cell_type": "code",
   "execution_count": 317,
   "metadata": {
    "colab": {},
    "colab_type": "code",
    "hidden": true,
    "id": "P8En9bJU9qTY"
   },
   "outputs": [],
   "source": [
    "def get_rules(rules, query, lift_threshold = 1):\n",
    "    # Find all implication rules of the form \"query\" => RHS\n",
    "    # such that (i) RHS is a single ingredient and \n",
    "    #           (ii) lift value is greater than lift_threshold\n",
    "\n",
    "    # \"query\" format ('ingredient1', ) or ('ingredient1','ingredient2', ... ,)\n",
    "    query = tuple(query)    \n",
    "    \n",
    "    # get all rules \"query\" => RHS satisfying the conditions above\n",
    "    query_rules = [item for item in rules if set(item.lhs) == set(query) \n",
    "                   if item.lift > lift_threshold and len(item.rhs) == 1]\n",
    "\n",
    "    # sort rules according to decreasing lift values \n",
    "    query_rules = sorted(query_rules, key=lambda rule: rule.lift, reverse = True)\n",
    "    return query_rules   \n",
    "\n",
    "def recommend(list_ing, list_old, cuisine, rules):  \n",
    "    # Recommend ingredients to given list of ingredients.\n",
    "    # Given a list, attempt to find the largest subset of \"n\" elements such that\n",
    "    # the subset leads to a valid ingredient recommendataion. \n",
    "    # If such \"n\" is found, then try recommending ingredients \n",
    "    # for all \"n\"-element subset of list_ing\n",
    "    \n",
    "    \"\"\"\n",
    "    list_ing: current list of ingredients \n",
    "    list_old: List of ingredients (a subset of list_ing) that have previously\n",
    "            been used to ask for ingredient recommentations. \n",
    "            For first round of recommendations, list_old = []\n",
    "            We keep track of \"list_old\" so that we don't make duplicate\n",
    "            recommendations.\n",
    "    rules: rules learned from apriori algorithm\n",
    "    \"\"\"           \n",
    "\n",
    "    rules_lhs = {item.lhs for item in rules}\n",
    "    n = len(list_ing)\n",
    "    current_list = list_ing.copy()\n",
    "    new_ing = []\n",
    "\n",
    "    itemset_found = False\n",
    "    \n",
    "    while itemset_found == False and n > 0:\n",
    "        # find all itemsets of size n\n",
    "        comb = combinations(list_ing, n)\n",
    "\n",
    "        # check if any itemset of size n satifies the conditions\n",
    "        # (i) itemset isnt' a subset of list_old  \n",
    "        # (ii) itemset exists as a left hand side element in rules \n",
    "        for itemset in comb:\n",
    "            if (set(itemset).issubset(set(list_old)) == False) and (itemset in rules_lhs):\n",
    " \n",
    "                # check if the itemset leads to a new ingredient recommendation\n",
    "                query_rules = get_rules(rules, itemset)\n",
    "                recommendation = [item.rhs[0] for item in query_rules]\n",
    "                for ing in recommendation:\n",
    "                    # if there exists an ingredient that is new and is not a cuisine type\n",
    "                    # then this itemset just contributed a valid recommendation\n",
    "                    if (ing not in current_list) and (ing not in cuisine):\n",
    "                        current_list.append(ing)\n",
    "                        new_ing.append(ing)            \n",
    "                        itemset_found = True\n",
    "\n",
    "        n = n-1           \n",
    "    return new_ing\n",
    "\n",
    "def make_recommendations(list_ing, cuisine, rules):\n",
    "    # Make recommendations by calling the function \"recommend\" repeatedly.\n",
    "    # Stop making recommendations when there are a total of 15 ingredients \n",
    "    # or when the \"recommend\" function no longer suggests any recommendations\n",
    "    # whichever comes first.\n",
    "\n",
    "    list_old = []\n",
    "    while len(list_ing) <= 15:\n",
    "        new_ing = recommend(list_ing, list_old, cuisine, rules)\n",
    "        list_old = list_ing.copy()\n",
    "        list_ing += new_ing\n",
    "        if new_ing == []:\n",
    "            break\n",
    "            \n",
    "    return list_ing"
   ]
  },
  {
   "cell_type": "code",
   "execution_count": 318,
   "metadata": {
    "hidden": true
   },
   "outputs": [
    {
     "name": "stdout",
     "output_type": "stream",
     "text": [
      "number of rules learned:  74470\n"
     ]
    }
   ],
   "source": [
    "# load the learned rules\n",
    "with open(\"models/association_rule_mining/rules.txt\", \"rb\") as fp:\n",
    "    rules = pickle.load(fp)\n",
    "    \n",
    "print('number of rules learned: ', len(rules))"
   ]
  },
  {
   "cell_type": "code",
   "execution_count": 323,
   "metadata": {
    "colab": {
     "base_uri": "https://localhost:8080/",
     "height": 218
    },
    "colab_type": "code",
    "hidden": true,
    "id": "oBmsh6i6uxJd",
    "outputId": "3a6bad67-e19b-408f-848d-f28d4d3aa171"
   },
   "outputs": [
    {
     "data": {
      "text/plain": [
       "['pork',\n",
       " 'korean',\n",
       " 'soy sauce',\n",
       " 'garlic',\n",
       " 'onions',\n",
       " 'salt',\n",
       " 'sesame oil',\n",
       " 'green onions',\n",
       " 'sugar',\n",
       " 'pepper',\n",
       " 'olive oil',\n",
       " 'water',\n",
       " 'oil']"
      ]
     },
     "execution_count": 323,
     "metadata": {},
     "output_type": "execute_result"
    }
   ],
   "source": [
    "# ask the recommender for ingredients!\n",
    "list_ing = ['pork', 'korean']\n",
    "rules_lhs = {item.lhs for item in rules}\n",
    "make_recommendations(list_ing, cuisine, rules)"
   ]
  },
  {
   "cell_type": "markdown",
   "metadata": {
    "heading_collapsed": true
   },
   "source": [
    "# 6. Latent Dirichlet Allocation"
   ]
  },
  {
   "cell_type": "code",
   "execution_count": 3,
   "metadata": {
    "hidden": true
   },
   "outputs": [],
   "source": [
    "# load data\n",
    "df = pd.read_csv('data/ingredient_recommendation/data.csv')\n",
    "cuisine = np.unique(df.cuisine)\n",
    "\n",
    "# note: ing_cuisine is now a string representation of list\n",
    "# need to convert back to list\n",
    "ingredients = [ast.literal_eval(df.ing_cuisine[idx]) for idx in range(df.shape[0])]\n"
   ]
  },
  {
   "cell_type": "code",
   "execution_count": 12,
   "metadata": {
    "hidden": true
   },
   "outputs": [
    {
     "name": "stderr",
     "output_type": "stream",
     "text": [
      "Using TensorFlow backend.\n"
     ]
    }
   ],
   "source": [
    "from gensim.models.ldamodel import LdaModel\n",
    "from keras.preprocessing.text import Tokenizer\n",
    "\n",
    "from gensim.test.utils import common_texts\n",
    "from gensim.corpora.dictionary import Dictionary"
   ]
  },
  {
   "cell_type": "code",
   "execution_count": 40,
   "metadata": {
    "hidden": true
   },
   "outputs": [],
   "source": [
    "ing_dictionary = Dictionary(ingredients)\n",
    "corpus = [ing_dictionary.doc2bow(item) for item in ingredients]"
   ]
  },
  {
   "cell_type": "code",
   "execution_count": 155,
   "metadata": {
    "hidden": true
   },
   "outputs": [],
   "source": [
    "# train LDA model \n",
    "lda = LdaModel(corpus, id2word = ing_dictionary, num_topics = 20)"
   ]
  },
  {
   "cell_type": "code",
   "execution_count": 158,
   "metadata": {
    "hidden": true
   },
   "outputs": [
    {
     "data": {
      "text/plain": [
       "[(0,\n",
       "  '0.056*\"italian\" + 0.049*\"salt\" + 0.044*\"garlic_cloves\" + 0.043*\"olive_oil\" + 0.032*\"ground_black_pepper\" + 0.028*\"dry_white_wine\" + 0.026*\"extra-virgin_olive_oil\" + 0.025*\"flat_leaf_parsley\" + 0.025*\"cooking_spray\" + 0.019*\"french\"'),\n",
       " (1,\n",
       "  '0.059*\"olive_oil\" + 0.049*\"salt\" + 0.045*\"italian\" + 0.039*\"greek\" + 0.030*\"garlic_cloves\" + 0.027*\"extra-virgin_olive_oil\" + 0.023*\"ground_black_pepper\" + 0.021*\"tomatoes\" + 0.021*\"purple_onion\" + 0.018*\"dried_oregano\"'),\n",
       " (2,\n",
       "  '0.147*\"italian\" + 0.063*\"grated_parmesan_cheese\" + 0.045*\"olive_oil\" + 0.031*\"garlic\" + 0.031*\"salt\" + 0.022*\"butter\" + 0.022*\"parmesan_cheese\" + 0.021*\"extra-virgin_olive_oil\" + 0.019*\"coarse_salt\" + 0.017*\"mozzarella_cheese\"'),\n",
       " (3,\n",
       "  '0.047*\"french\" + 0.038*\"salt\" + 0.035*\"fresh_lemon_juice\" + 0.028*\"butter\" + 0.025*\"dijon_mustard\" + 0.024*\"large_shrimp\" + 0.022*\"southern_us\" + 0.022*\"large_eggs\" + 0.021*\"ground_black_pepper\" + 0.020*\"cajun_creole\"'),\n",
       " (4,\n",
       "  '0.059*\"mayonaise\" + 0.031*\"southern_us\" + 0.020*\"lime\" + 0.020*\"fresh_mint\" + 0.018*\"mexican_oregano\" + 0.018*\"red_cabbage\" + 0.018*\"chili\" + 0.018*\"salsa_verde\" + 0.018*\"apple_cider_vinegar\" + 0.016*\"pork_sausages\"'),\n",
       " (5,\n",
       "  '0.047*\"garlic_powder\" + 0.046*\"dried_oregano\" + 0.034*\"salt\" + 0.031*\"tomato_sauce\" + 0.030*\"paprika\" + 0.028*\"ground_black_pepper\" + 0.026*\"ground_cumin\" + 0.025*\"mexican\" + 0.024*\"chopped_onion\" + 0.023*\"onion_powder\"'),\n",
       " (6,\n",
       "  '0.085*\"indian\" + 0.062*\"salt\" + 0.047*\"oil\" + 0.040*\"onions\" + 0.038*\"green_chilies\" + 0.034*\"clove\" + 0.032*\"chili_powder\" + 0.029*\"tomatoes\" + 0.029*\"garam_masala\" + 0.029*\"ground_turmeric\"'),\n",
       " (7,\n",
       "  '0.062*\"italian\" + 0.055*\"olive_oil\" + 0.035*\"extra-virgin_olive_oil\" + 0.030*\"salt\" + 0.025*\"fresh_basil\" + 0.025*\"garlic_cloves\" + 0.021*\"capers\" + 0.020*\"garlic\" + 0.018*\"balsamic_vinegar\" + 0.017*\"baguette\"'),\n",
       " (8,\n",
       "  '0.067*\"onions\" + 0.045*\"salt\" + 0.037*\"carrots\" + 0.034*\"garlic\" + 0.026*\"water\" + 0.025*\"celery\" + 0.024*\"cajun_creole\" + 0.022*\"olive_oil\" + 0.021*\"pepper\" + 0.021*\"bay_leaves\"'),\n",
       " (9,\n",
       "  '0.063*\"unsalted_butter\" + 0.052*\"all-purpose_flour\" + 0.047*\"salt\" + 0.046*\"sugar\" + 0.044*\"french\" + 0.036*\"large_eggs\" + 0.028*\"irish\" + 0.024*\"warm_water\" + 0.021*\"water\" + 0.021*\"milk\"'),\n",
       " (10,\n",
       "  '0.126*\"mexican\" + 0.035*\"salt\" + 0.031*\"jalapeno_chilies\" + 0.028*\"sour_cream\" + 0.025*\"avocado\" + 0.022*\"corn_tortillas\" + 0.022*\"chopped_cilantro_fresh\" + 0.021*\"ground_cumin\" + 0.021*\"black_beans\" + 0.021*\"flour_tortillas\"'),\n",
       " (11,\n",
       "  '0.067*\"southern_us\" + 0.063*\"salt\" + 0.058*\"all-purpose_flour\" + 0.054*\"sugar\" + 0.042*\"butter\" + 0.039*\"baking_powder\" + 0.032*\"milk\" + 0.032*\"eggs\" + 0.030*\"large_eggs\" + 0.027*\"vanilla_extract\"'),\n",
       " (12,\n",
       "  '0.088*\"japanese\" + 0.049*\"soy_sauce\" + 0.040*\"sugar\" + 0.031*\"mirin\" + 0.031*\"scallions\" + 0.025*\"carrots\" + 0.025*\"sesame_seeds\" + 0.023*\"korean\" + 0.022*\"sake\" + 0.020*\"sesame_oil\"'),\n",
       " (13,\n",
       "  '0.044*\"salt\" + 0.042*\"filipino\" + 0.039*\"water\" + 0.029*\"garlic\" + 0.024*\"onions\" + 0.021*\"spring_onions\" + 0.019*\"sugar\" + 0.017*\"soy_sauce\" + 0.016*\"cooking_oil\" + 0.016*\"ground_cloves\"'),\n",
       " (14,\n",
       "  '0.066*\"salt\" + 0.058*\"pepper\" + 0.047*\"onions\" + 0.035*\"butter\" + 0.023*\"potatoes\" + 0.023*\"flour\" + 0.023*\"eggs\" + 0.021*\"southern_us\" + 0.019*\"green_pepper\" + 0.019*\"garlic\"'),\n",
       " (15,\n",
       "  '0.028*\"garlic_cloves\" + 0.026*\"ground_white_pepper\" + 0.023*\"dry_white_wine\" + 0.021*\"arborio_rice\" + 0.020*\"salt\" + 0.020*\"spanish\" + 0.020*\"creole_seasoning\" + 0.018*\"olive_oil\" + 0.018*\"onions\" + 0.017*\"fresh_dill\"'),\n",
       " (16,\n",
       "  '0.056*\"indian\" + 0.037*\"ground_cumin\" + 0.034*\"salt\" + 0.028*\"ground_coriander\" + 0.026*\"moroccan\" + 0.026*\"cumin_seed\" + 0.026*\"onions\" + 0.024*\"tumeric\" + 0.023*\"water\" + 0.021*\"vegetable_oil\"'),\n",
       " (17,\n",
       "  '0.060*\"thai\" + 0.043*\"fish_sauce\" + 0.028*\"vietnamese\" + 0.026*\"sugar\" + 0.022*\"fresh_lime_juice\" + 0.021*\"garlic\" + 0.021*\"shallots\" + 0.021*\"coconut_milk\" + 0.019*\"lime\" + 0.017*\"lime_juice\"'),\n",
       " (18,\n",
       "  '0.052*\"salt\" + 0.044*\"chile_pepper\" + 0.039*\"plain_yogurt\" + 0.034*\"chiles\" + 0.032*\"green_chile\" + 0.030*\"long_grain_white_rice\" + 0.028*\"onions\" + 0.027*\"tortillas\" + 0.025*\"water\" + 0.025*\"cumin_seed\"'),\n",
       " (19,\n",
       "  '0.087*\"chinese\" + 0.071*\"soy_sauce\" + 0.045*\"sesame_oil\" + 0.043*\"corn_starch\" + 0.034*\"green_onions\" + 0.031*\"garlic\" + 0.030*\"sugar\" + 0.028*\"scallions\" + 0.027*\"water\" + 0.026*\"rice_vinegar\"')]"
      ]
     },
     "execution_count": 158,
     "metadata": {},
     "output_type": "execute_result"
    }
   ],
   "source": [
    "lda.show_topics(num_topics = 20)"
   ]
  },
  {
   "cell_type": "code",
   "execution_count": null,
   "metadata": {
    "hidden": true
   },
   "outputs": [],
   "source": [
    "# with 10 topics, they each correspond to a different type of cuisine, like \n",
    "# chinese, italian, ...,"
   ]
  },
  {
   "cell_type": "code",
   "execution_count": null,
   "metadata": {
    "hidden": true
   },
   "outputs": [],
   "source": [
    "# finding the right number of topics?"
   ]
  },
  {
   "cell_type": "code",
   "execution_count": 127,
   "metadata": {
    "hidden": true
   },
   "outputs": [],
   "source": [
    "from gensim.models import CoherenceModel"
   ]
  },
  {
   "cell_type": "code",
   "execution_count": 163,
   "metadata": {
    "hidden": true
   },
   "outputs": [],
   "source": [
    "# compute coherence scores for LDA models of various topic numbers\n",
    "\n",
    "topic_numbers = list(range(1,20))\n",
    "coherence_scores = {}\n",
    "\n",
    "for k in topic_numbers:\n",
    "    # train LDA model \n",
    "    lda = LdaModel(corpus, id2word = ing_dictionary, num_topics = k)\n",
    "    \n",
    "    # compute average coherence \n",
    "    cm = CoherenceModel(model=lda, corpus=corpus, coherence='u_mass')\n",
    "    coherence = cm.get_coherence() \n",
    "    coherence_scores[k]=coherence"
   ]
  },
  {
   "cell_type": "code",
   "execution_count": 169,
   "metadata": {
    "hidden": true
   },
   "outputs": [
    {
     "data": {
      "image/png": "[encoded data removed]",
      "text/plain": [
       "<Figure size 432x288 with 1 Axes>"
      ]
     },
     "metadata": {
      "needs_background": "light"
     },
     "output_type": "display_data"
    }
   ],
   "source": [
    "plt.plot(topic_numbers, [coherence_scores[item] for item in topic_numbers])\n",
    "plt.show()"
   ]
  },
  {
   "cell_type": "code",
   "execution_count": null,
   "metadata": {
    "hidden": true
   },
   "outputs": [],
   "source": [
    "# according to this internal metric, topic numbers of 6 or 8 would lead to\n",
    "# highest coherence"
   ]
  },
  {
   "cell_type": "code",
   "execution_count": 113,
   "metadata": {
    "hidden": true
   },
   "outputs": [],
   "source": [
    "def recommender_LDA(lda, ing_list, n_recommend, cuisine, ing_dictionary):\n",
    "    # given a list of ingredients, recommend ingredients \n",
    "    # generated from trained LDAA\n",
    "    \n",
    "    \"\"\"\n",
    "    lda: learned LDA model\n",
    "    ing_list: (list) of existing ingredients\n",
    "    n_recommend: (int) number of ingredients to recommend\n",
    "    cuisine: (list) of cuisine\n",
    "    ing_dictionary: (dict) used to encode words for LDA model \n",
    "    \"\"\"\n",
    "    \n",
    "    for i in range(n_recommend):\n",
    "        # encode current list of ingredients\n",
    "        current_recipe = ing_dictionary.doc2bow(ing_list)\n",
    "\n",
    "        # get distribution of \"topics\"\n",
    "        topics_vector = lda[current_recipe]  \n",
    "\n",
    "        # sample \"topic\" for current recipe\n",
    "        topics_list = [item[0] for item in topics_vector]\n",
    "        topics_prob = [item[1] for item in topics_vector]\n",
    "        topics_prob /= sum(topics_prob)\n",
    "        topic = np.random.choice(topics_list, 1, p=topics_prob)[0]\n",
    "\n",
    "        # get ingredients and their probabilities for sampled \"topic\"\n",
    "        topic_words =  lda.show_topic(topic, topn = None)\n",
    "\n",
    "        # remove cuisine type and current ingredients from words\n",
    "        topic_words = [item for item in topic_words \n",
    "                   if (item[0] not in cuisine) \n",
    "                   and (item[0] not in current_ing)]\n",
    "\n",
    "        # sample ingredients from these, according to the probabilities assigned\n",
    "        words_prob = [item[1] for item in topic_words]\n",
    "        words_prob /= sum(words_prob)\n",
    "\n",
    "        ing_sampled = np.random.choice([item[0] for item in topic_words], 1, p=words_prob)[0]\n",
    "        ing_list.append(ing_sampled)\n",
    "\n",
    "    return ing_list\n",
    "\n"
   ]
  },
  {
   "cell_type": "code",
   "execution_count": 117,
   "metadata": {
    "hidden": true
   },
   "outputs": [
    {
     "data": {
      "text/plain": [
       "['chicken',\n",
       " 'gochujang_base',\n",
       " 'rice_vinegar',\n",
       " 'seasoning',\n",
       " 'fresh_basil_leaves',\n",
       " 'pepper']"
      ]
     },
     "execution_count": 117,
     "metadata": {},
     "output_type": "execute_result"
    }
   ],
   "source": [
    "recommender_LDA(['chicken','gochujang_base'],4,cuisine,ing_dictionary)"
   ]
  },
  {
   "cell_type": "code",
   "execution_count": 170,
   "metadata": {
    "hidden": true
   },
   "outputs": [],
   "source": [
    "# Using sklearn\n",
    "from sklearn.decomposition import LatentDirichletAllocation\n"
   ]
  },
  {
   "cell_type": "code",
   "execution_count": 176,
   "metadata": {
    "hidden": true,
    "scrolled": true
   },
   "outputs": [],
   "source": [
    "# tokenize\n",
    "t=Tokenizer()  \n",
    "t.fit_on_texts(ingredients)\n",
    "encoded_recipes=t.texts_to_sequences(ingredients)\n",
    "\n",
    "# create reverse dictionary from index to words \n",
    "index_to_words=dict(map(reversed,t.word_index.items())) \n",
    "\n",
    "# Prepare data matrix X\n",
    "X = np.zeros((len(ingredients), len(t.word_index)))\n",
    "for idx, item in enumerate(encoded_recipes):\n",
    "    item = [x-1 for x in item]\n",
    "    X[idx, item] = 1"
   ]
  },
  {
   "cell_type": "code",
   "execution_count": 179,
   "metadata": {
    "hidden": true,
    "scrolled": true
   },
   "outputs": [
    {
     "data": {
      "text/plain": [
       "LatentDirichletAllocation(batch_size=128, doc_topic_prior=None,\n",
       "                          evaluate_every=-1, learning_decay=0.7,\n",
       "                          learning_method='batch', learning_offset=10.0,\n",
       "                          max_doc_update_iter=100, max_iter=10,\n",
       "                          mean_change_tol=0.001, n_components=10, n_jobs=None,\n",
       "                          perp_tol=0.1, random_state=None,\n",
       "                          topic_word_prior=None, total_samples=1000000.0,\n",
       "                          verbose=0)"
      ]
     },
     "execution_count": 179,
     "metadata": {},
     "output_type": "execute_result"
    }
   ],
   "source": [
    "lda = LatentDirichletAllocation(n_components = 10)\n",
    "lda.fit(X)"
   ]
  },
  {
   "cell_type": "code",
   "execution_count": 193,
   "metadata": {
    "hidden": true
   },
   "outputs": [],
   "source": [
    "topics = lda.components_ / lda.components_.sum(axis=1)[:, np.newaxis]"
   ]
  },
  {
   "cell_type": "code",
   "execution_count": 210,
   "metadata": {
    "hidden": true
   },
   "outputs": [
    {
     "name": "stdout",
     "output_type": "stream",
     "text": [
      "0 ['french', 'garlic_cloves', 'salt', 'olive_oil', 'extra-virgin_olive_oil', 'ground_black_pepper', 'fresh_lemon_juice', 'shallots', 'cooking_spray', 'dry_white_wine']\n",
      "1 ['onions', 'cajun_creole', 'salt', 'garlic', 'green_bell_pepper', 'water', 'chicken_broth', 'celery', 'pepper', 'shrimp']\n",
      "2 ['italian', 'olive_oil', 'salt', 'grated_parmesan_cheese', 'garlic', 'onions', 'garlic_cloves', 'ground_black_pepper', 'extra-virgin_olive_oil', 'pepper']\n",
      "3 ['soy_sauce', 'chinese', 'sesame_oil', 'sugar', 'garlic', 'water', 'salt', 'green_onions', 'corn_starch', 'japanese']\n",
      "4 ['salt', 'pepper', 'ground_black_pepper', 'greek', 'onions', 'paprika', 'olive_oil', 'garlic_powder', 'mayonaise', 'potatoes']\n",
      "5 ['sugar', 'unsalted_butter', 'salt', 'all-purpose_flour', 'large_eggs', 'french', 'water', 'italian', 'vanilla_extract', 'granulated_sugar']\n",
      "6 ['indian', 'salt', 'onions', 'ground_cumin', 'water', 'garam_masala', 'cumin_seed', 'ground_turmeric', 'garlic', 'moroccan']\n",
      "7 ['thai', 'fish_sauce', 'coconut_milk', 'vietnamese', 'fresh_lime_juice', 'lime', 'garlic', 'garlic_cloves', 'vegetable_oil', 'sugar']\n",
      "8 ['southern_us', 'salt', 'all-purpose_flour', 'butter', 'eggs', 'milk', 'baking_powder', 'sugar', 'large_eggs', 'buttermilk']\n",
      "9 ['mexican', 'salt', 'ground_cumin', 'jalapeno_chilies', 'chili_powder', 'onions', 'sour_cream', 'avocado', 'garlic', 'olive_oil']\n"
     ]
    }
   ],
   "source": [
    "# for each topic, print top 10 words\n",
    "for topic in range(10):\n",
    "    idx = np.argsort(topics[topic,:])[::-1][:10]\n",
    "    print(topic, [index_to_words[item+1] for item in idx])\n"
   ]
  },
  {
   "cell_type": "code",
   "execution_count": 215,
   "metadata": {
    "hidden": true
   },
   "outputs": [],
   "source": [
    "# To find the number of topics:\n",
    "# train LDA on various numbers of topics\n",
    "# evaluate perplexity on CV set\n",
    "\n",
    "# split into training and cv set\n",
    "from sklearn.model_selection import train_test_split\n",
    "X_train, X_test = train_test_split(X, test_size = 0.3)"
   ]
  },
  {
   "cell_type": "code",
   "execution_count": 216,
   "metadata": {
    "hidden": true
   },
   "outputs": [
    {
     "ename": "KeyboardInterrupt",
     "evalue": "",
     "output_type": "error",
     "traceback": [
      "\u001b[1;31m---------------------------------------------------------------------------\u001b[0m",
      "\u001b[1;31mKeyboardInterrupt\u001b[0m                         Traceback (most recent call last)",
      "\u001b[1;32m<ipython-input-216-9589c5df7856>\u001b[0m in \u001b[0;36m<module>\u001b[1;34m\u001b[0m\n\u001b[0;32m      6\u001b[0m     \u001b[1;31m# train LDA model\u001b[0m\u001b[1;33m\u001b[0m\u001b[1;33m\u001b[0m\u001b[1;33m\u001b[0m\u001b[0m\n\u001b[0;32m      7\u001b[0m     \u001b[0mlda\u001b[0m \u001b[1;33m=\u001b[0m \u001b[0mLatentDirichletAllocation\u001b[0m\u001b[1;33m(\u001b[0m\u001b[0mn_components\u001b[0m \u001b[1;33m=\u001b[0m \u001b[0mk\u001b[0m\u001b[1;33m)\u001b[0m\u001b[1;33m\u001b[0m\u001b[1;33m\u001b[0m\u001b[0m\n\u001b[1;32m----> 8\u001b[1;33m     \u001b[0mlda\u001b[0m\u001b[1;33m.\u001b[0m\u001b[0mfit\u001b[0m\u001b[1;33m(\u001b[0m\u001b[0mX_train\u001b[0m\u001b[1;33m)\u001b[0m\u001b[1;33m\u001b[0m\u001b[1;33m\u001b[0m\u001b[0m\n\u001b[0m\u001b[0;32m      9\u001b[0m \u001b[1;33m\u001b[0m\u001b[0m\n\u001b[0;32m     10\u001b[0m     \u001b[1;31m# compute perplexity on X_test\u001b[0m\u001b[1;33m\u001b[0m\u001b[1;33m\u001b[0m\u001b[1;33m\u001b[0m\u001b[0m\n",
      "\u001b[1;32m~\\AppData\\Local\\Continuum\\anaconda3\\lib\\site-packages\\sklearn\\decomposition\\online_lda.py\u001b[0m in \u001b[0;36mfit\u001b[1;34m(self, X, y)\u001b[0m\n\u001b[0;32m    552\u001b[0m                     \u001b[1;31m# batch update\u001b[0m\u001b[1;33m\u001b[0m\u001b[1;33m\u001b[0m\u001b[1;33m\u001b[0m\u001b[0m\n\u001b[0;32m    553\u001b[0m                     self._em_step(X, total_samples=n_samples,\n\u001b[1;32m--> 554\u001b[1;33m                                   batch_update=True, parallel=parallel)\n\u001b[0m\u001b[0;32m    555\u001b[0m \u001b[1;33m\u001b[0m\u001b[0m\n\u001b[0;32m    556\u001b[0m                 \u001b[1;31m# check perplexity\u001b[0m\u001b[1;33m\u001b[0m\u001b[1;33m\u001b[0m\u001b[1;33m\u001b[0m\u001b[0m\n",
      "\u001b[1;32m~\\AppData\\Local\\Continuum\\anaconda3\\lib\\site-packages\\sklearn\\decomposition\\online_lda.py\u001b[0m in \u001b[0;36m_em_step\u001b[1;34m(self, X, total_samples, batch_update, parallel)\u001b[0m\n\u001b[0;32m    435\u001b[0m         \u001b[1;31m# E-step\u001b[0m\u001b[1;33m\u001b[0m\u001b[1;33m\u001b[0m\u001b[1;33m\u001b[0m\u001b[0m\n\u001b[0;32m    436\u001b[0m         _, suff_stats = self._e_step(X, cal_sstats=True, random_init=True,\n\u001b[1;32m--> 437\u001b[1;33m                                      parallel=parallel)\n\u001b[0m\u001b[0;32m    438\u001b[0m \u001b[1;33m\u001b[0m\u001b[0m\n\u001b[0;32m    439\u001b[0m         \u001b[1;31m# M-step\u001b[0m\u001b[1;33m\u001b[0m\u001b[1;33m\u001b[0m\u001b[1;33m\u001b[0m\u001b[0m\n",
      "\u001b[1;32m~\\AppData\\Local\\Continuum\\anaconda3\\lib\\site-packages\\sklearn\\decomposition\\online_lda.py\u001b[0m in \u001b[0;36m_e_step\u001b[1;34m(self, X, cal_sstats, random_init, parallel)\u001b[0m\n\u001b[0;32m    388\u001b[0m                                               \u001b[0mself\u001b[0m\u001b[1;33m.\u001b[0m\u001b[0mmean_change_tol\u001b[0m\u001b[1;33m,\u001b[0m \u001b[0mcal_sstats\u001b[0m\u001b[1;33m,\u001b[0m\u001b[1;33m\u001b[0m\u001b[1;33m\u001b[0m\u001b[0m\n\u001b[0;32m    389\u001b[0m                                               random_state)\n\u001b[1;32m--> 390\u001b[1;33m             for idx_slice in gen_even_slices(X.shape[0], n_jobs))\n\u001b[0m\u001b[0;32m    391\u001b[0m \u001b[1;33m\u001b[0m\u001b[0m\n\u001b[0;32m    392\u001b[0m         \u001b[1;31m# merge result\u001b[0m\u001b[1;33m\u001b[0m\u001b[1;33m\u001b[0m\u001b[1;33m\u001b[0m\u001b[0m\n",
      "\u001b[1;32m~\\AppData\\Local\\Continuum\\anaconda3\\lib\\site-packages\\joblib\\parallel.py\u001b[0m in \u001b[0;36m__call__\u001b[1;34m(self, iterable)\u001b[0m\n\u001b[0;32m    919\u001b[0m             \u001b[1;31m# remaining jobs.\u001b[0m\u001b[1;33m\u001b[0m\u001b[1;33m\u001b[0m\u001b[1;33m\u001b[0m\u001b[0m\n\u001b[0;32m    920\u001b[0m             \u001b[0mself\u001b[0m\u001b[1;33m.\u001b[0m\u001b[0m_iterating\u001b[0m \u001b[1;33m=\u001b[0m \u001b[1;32mFalse\u001b[0m\u001b[1;33m\u001b[0m\u001b[1;33m\u001b[0m\u001b[0m\n\u001b[1;32m--> 921\u001b[1;33m             \u001b[1;32mif\u001b[0m \u001b[0mself\u001b[0m\u001b[1;33m.\u001b[0m\u001b[0mdispatch_one_batch\u001b[0m\u001b[1;33m(\u001b[0m\u001b[0miterator\u001b[0m\u001b[1;33m)\u001b[0m\u001b[1;33m:\u001b[0m\u001b[1;33m\u001b[0m\u001b[1;33m\u001b[0m\u001b[0m\n\u001b[0m\u001b[0;32m    922\u001b[0m                 \u001b[0mself\u001b[0m\u001b[1;33m.\u001b[0m\u001b[0m_iterating\u001b[0m \u001b[1;33m=\u001b[0m \u001b[0mself\u001b[0m\u001b[1;33m.\u001b[0m\u001b[0m_original_iterator\u001b[0m \u001b[1;32mis\u001b[0m \u001b[1;32mnot\u001b[0m \u001b[1;32mNone\u001b[0m\u001b[1;33m\u001b[0m\u001b[1;33m\u001b[0m\u001b[0m\n\u001b[0;32m    923\u001b[0m \u001b[1;33m\u001b[0m\u001b[0m\n",
      "\u001b[1;32m~\\AppData\\Local\\Continuum\\anaconda3\\lib\\site-packages\\joblib\\parallel.py\u001b[0m in \u001b[0;36mdispatch_one_batch\u001b[1;34m(self, iterator)\u001b[0m\n\u001b[0;32m    757\u001b[0m                 \u001b[1;32mreturn\u001b[0m \u001b[1;32mFalse\u001b[0m\u001b[1;33m\u001b[0m\u001b[1;33m\u001b[0m\u001b[0m\n\u001b[0;32m    758\u001b[0m             \u001b[1;32melse\u001b[0m\u001b[1;33m:\u001b[0m\u001b[1;33m\u001b[0m\u001b[1;33m\u001b[0m\u001b[0m\n\u001b[1;32m--> 759\u001b[1;33m                 \u001b[0mself\u001b[0m\u001b[1;33m.\u001b[0m\u001b[0m_dispatch\u001b[0m\u001b[1;33m(\u001b[0m\u001b[0mtasks\u001b[0m\u001b[1;33m)\u001b[0m\u001b[1;33m\u001b[0m\u001b[1;33m\u001b[0m\u001b[0m\n\u001b[0m\u001b[0;32m    760\u001b[0m                 \u001b[1;32mreturn\u001b[0m \u001b[1;32mTrue\u001b[0m\u001b[1;33m\u001b[0m\u001b[1;33m\u001b[0m\u001b[0m\n\u001b[0;32m    761\u001b[0m \u001b[1;33m\u001b[0m\u001b[0m\n",
      "\u001b[1;32m~\\AppData\\Local\\Continuum\\anaconda3\\lib\\site-packages\\joblib\\parallel.py\u001b[0m in \u001b[0;36m_dispatch\u001b[1;34m(self, batch)\u001b[0m\n\u001b[0;32m    714\u001b[0m         \u001b[1;32mwith\u001b[0m \u001b[0mself\u001b[0m\u001b[1;33m.\u001b[0m\u001b[0m_lock\u001b[0m\u001b[1;33m:\u001b[0m\u001b[1;33m\u001b[0m\u001b[1;33m\u001b[0m\u001b[0m\n\u001b[0;32m    715\u001b[0m             \u001b[0mjob_idx\u001b[0m \u001b[1;33m=\u001b[0m \u001b[0mlen\u001b[0m\u001b[1;33m(\u001b[0m\u001b[0mself\u001b[0m\u001b[1;33m.\u001b[0m\u001b[0m_jobs\u001b[0m\u001b[1;33m)\u001b[0m\u001b[1;33m\u001b[0m\u001b[1;33m\u001b[0m\u001b[0m\n\u001b[1;32m--> 716\u001b[1;33m             \u001b[0mjob\u001b[0m \u001b[1;33m=\u001b[0m \u001b[0mself\u001b[0m\u001b[1;33m.\u001b[0m\u001b[0m_backend\u001b[0m\u001b[1;33m.\u001b[0m\u001b[0mapply_async\u001b[0m\u001b[1;33m(\u001b[0m\u001b[0mbatch\u001b[0m\u001b[1;33m,\u001b[0m \u001b[0mcallback\u001b[0m\u001b[1;33m=\u001b[0m\u001b[0mcb\u001b[0m\u001b[1;33m)\u001b[0m\u001b[1;33m\u001b[0m\u001b[1;33m\u001b[0m\u001b[0m\n\u001b[0m\u001b[0;32m    717\u001b[0m             \u001b[1;31m# A job can complete so quickly than its callback is\u001b[0m\u001b[1;33m\u001b[0m\u001b[1;33m\u001b[0m\u001b[1;33m\u001b[0m\u001b[0m\n\u001b[0;32m    718\u001b[0m             \u001b[1;31m# called before we get here, causing self._jobs to\u001b[0m\u001b[1;33m\u001b[0m\u001b[1;33m\u001b[0m\u001b[1;33m\u001b[0m\u001b[0m\n",
      "\u001b[1;32m~\\AppData\\Local\\Continuum\\anaconda3\\lib\\site-packages\\joblib\\_parallel_backends.py\u001b[0m in \u001b[0;36mapply_async\u001b[1;34m(self, func, callback)\u001b[0m\n\u001b[0;32m    180\u001b[0m     \u001b[1;32mdef\u001b[0m \u001b[0mapply_async\u001b[0m\u001b[1;33m(\u001b[0m\u001b[0mself\u001b[0m\u001b[1;33m,\u001b[0m \u001b[0mfunc\u001b[0m\u001b[1;33m,\u001b[0m \u001b[0mcallback\u001b[0m\u001b[1;33m=\u001b[0m\u001b[1;32mNone\u001b[0m\u001b[1;33m)\u001b[0m\u001b[1;33m:\u001b[0m\u001b[1;33m\u001b[0m\u001b[1;33m\u001b[0m\u001b[0m\n\u001b[0;32m    181\u001b[0m         \u001b[1;34m\"\"\"Schedule a func to be run\"\"\"\u001b[0m\u001b[1;33m\u001b[0m\u001b[1;33m\u001b[0m\u001b[0m\n\u001b[1;32m--> 182\u001b[1;33m         \u001b[0mresult\u001b[0m \u001b[1;33m=\u001b[0m \u001b[0mImmediateResult\u001b[0m\u001b[1;33m(\u001b[0m\u001b[0mfunc\u001b[0m\u001b[1;33m)\u001b[0m\u001b[1;33m\u001b[0m\u001b[1;33m\u001b[0m\u001b[0m\n\u001b[0m\u001b[0;32m    183\u001b[0m         \u001b[1;32mif\u001b[0m \u001b[0mcallback\u001b[0m\u001b[1;33m:\u001b[0m\u001b[1;33m\u001b[0m\u001b[1;33m\u001b[0m\u001b[0m\n\u001b[0;32m    184\u001b[0m             \u001b[0mcallback\u001b[0m\u001b[1;33m(\u001b[0m\u001b[0mresult\u001b[0m\u001b[1;33m)\u001b[0m\u001b[1;33m\u001b[0m\u001b[1;33m\u001b[0m\u001b[0m\n",
      "\u001b[1;32m~\\AppData\\Local\\Continuum\\anaconda3\\lib\\site-packages\\joblib\\_parallel_backends.py\u001b[0m in \u001b[0;36m__init__\u001b[1;34m(self, batch)\u001b[0m\n\u001b[0;32m    547\u001b[0m         \u001b[1;31m# Don't delay the application, to avoid keeping the input\u001b[0m\u001b[1;33m\u001b[0m\u001b[1;33m\u001b[0m\u001b[1;33m\u001b[0m\u001b[0m\n\u001b[0;32m    548\u001b[0m         \u001b[1;31m# arguments in memory\u001b[0m\u001b[1;33m\u001b[0m\u001b[1;33m\u001b[0m\u001b[1;33m\u001b[0m\u001b[0m\n\u001b[1;32m--> 549\u001b[1;33m         \u001b[0mself\u001b[0m\u001b[1;33m.\u001b[0m\u001b[0mresults\u001b[0m \u001b[1;33m=\u001b[0m \u001b[0mbatch\u001b[0m\u001b[1;33m(\u001b[0m\u001b[1;33m)\u001b[0m\u001b[1;33m\u001b[0m\u001b[1;33m\u001b[0m\u001b[0m\n\u001b[0m\u001b[0;32m    550\u001b[0m \u001b[1;33m\u001b[0m\u001b[0m\n\u001b[0;32m    551\u001b[0m     \u001b[1;32mdef\u001b[0m \u001b[0mget\u001b[0m\u001b[1;33m(\u001b[0m\u001b[0mself\u001b[0m\u001b[1;33m)\u001b[0m\u001b[1;33m:\u001b[0m\u001b[1;33m\u001b[0m\u001b[1;33m\u001b[0m\u001b[0m\n",
      "\u001b[1;32m~\\AppData\\Local\\Continuum\\anaconda3\\lib\\site-packages\\joblib\\parallel.py\u001b[0m in \u001b[0;36m__call__\u001b[1;34m(self)\u001b[0m\n\u001b[0;32m    223\u001b[0m         \u001b[1;32mwith\u001b[0m \u001b[0mparallel_backend\u001b[0m\u001b[1;33m(\u001b[0m\u001b[0mself\u001b[0m\u001b[1;33m.\u001b[0m\u001b[0m_backend\u001b[0m\u001b[1;33m,\u001b[0m \u001b[0mn_jobs\u001b[0m\u001b[1;33m=\u001b[0m\u001b[0mself\u001b[0m\u001b[1;33m.\u001b[0m\u001b[0m_n_jobs\u001b[0m\u001b[1;33m)\u001b[0m\u001b[1;33m:\u001b[0m\u001b[1;33m\u001b[0m\u001b[1;33m\u001b[0m\u001b[0m\n\u001b[0;32m    224\u001b[0m             return [func(*args, **kwargs)\n\u001b[1;32m--> 225\u001b[1;33m                     for func, args, kwargs in self.items]\n\u001b[0m\u001b[0;32m    226\u001b[0m \u001b[1;33m\u001b[0m\u001b[0m\n\u001b[0;32m    227\u001b[0m     \u001b[1;32mdef\u001b[0m \u001b[0m__len__\u001b[0m\u001b[1;33m(\u001b[0m\u001b[0mself\u001b[0m\u001b[1;33m)\u001b[0m\u001b[1;33m:\u001b[0m\u001b[1;33m\u001b[0m\u001b[1;33m\u001b[0m\u001b[0m\n",
      "\u001b[1;32m~\\AppData\\Local\\Continuum\\anaconda3\\lib\\site-packages\\joblib\\parallel.py\u001b[0m in \u001b[0;36m<listcomp>\u001b[1;34m(.0)\u001b[0m\n\u001b[0;32m    223\u001b[0m         \u001b[1;32mwith\u001b[0m \u001b[0mparallel_backend\u001b[0m\u001b[1;33m(\u001b[0m\u001b[0mself\u001b[0m\u001b[1;33m.\u001b[0m\u001b[0m_backend\u001b[0m\u001b[1;33m,\u001b[0m \u001b[0mn_jobs\u001b[0m\u001b[1;33m=\u001b[0m\u001b[0mself\u001b[0m\u001b[1;33m.\u001b[0m\u001b[0m_n_jobs\u001b[0m\u001b[1;33m)\u001b[0m\u001b[1;33m:\u001b[0m\u001b[1;33m\u001b[0m\u001b[1;33m\u001b[0m\u001b[0m\n\u001b[0;32m    224\u001b[0m             return [func(*args, **kwargs)\n\u001b[1;32m--> 225\u001b[1;33m                     for func, args, kwargs in self.items]\n\u001b[0m\u001b[0;32m    226\u001b[0m \u001b[1;33m\u001b[0m\u001b[0m\n\u001b[0;32m    227\u001b[0m     \u001b[1;32mdef\u001b[0m \u001b[0m__len__\u001b[0m\u001b[1;33m(\u001b[0m\u001b[0mself\u001b[0m\u001b[1;33m)\u001b[0m\u001b[1;33m:\u001b[0m\u001b[1;33m\u001b[0m\u001b[1;33m\u001b[0m\u001b[0m\n",
      "\u001b[1;32m~\\AppData\\Local\\Continuum\\anaconda3\\lib\\site-packages\\sklearn\\decomposition\\online_lda.py\u001b[0m in \u001b[0;36m_update_doc_distribution\u001b[1;34m(X, exp_topic_word_distr, doc_topic_prior, max_iters, mean_change_tol, cal_sstats, random_state)\u001b[0m\n\u001b[0;32m     98\u001b[0m             \u001b[0mcnts\u001b[0m \u001b[1;33m=\u001b[0m \u001b[0mX_data\u001b[0m\u001b[1;33m[\u001b[0m\u001b[0mX_indptr\u001b[0m\u001b[1;33m[\u001b[0m\u001b[0midx_d\u001b[0m\u001b[1;33m]\u001b[0m\u001b[1;33m:\u001b[0m\u001b[0mX_indptr\u001b[0m\u001b[1;33m[\u001b[0m\u001b[0midx_d\u001b[0m \u001b[1;33m+\u001b[0m \u001b[1;36m1\u001b[0m\u001b[1;33m]\u001b[0m\u001b[1;33m]\u001b[0m\u001b[1;33m\u001b[0m\u001b[1;33m\u001b[0m\u001b[0m\n\u001b[0;32m     99\u001b[0m         \u001b[1;32melse\u001b[0m\u001b[1;33m:\u001b[0m\u001b[1;33m\u001b[0m\u001b[1;33m\u001b[0m\u001b[0m\n\u001b[1;32m--> 100\u001b[1;33m             \u001b[0mids\u001b[0m \u001b[1;33m=\u001b[0m \u001b[0mnp\u001b[0m\u001b[1;33m.\u001b[0m\u001b[0mnonzero\u001b[0m\u001b[1;33m(\u001b[0m\u001b[0mX\u001b[0m\u001b[1;33m[\u001b[0m\u001b[0midx_d\u001b[0m\u001b[1;33m,\u001b[0m \u001b[1;33m:\u001b[0m\u001b[1;33m]\u001b[0m\u001b[1;33m)\u001b[0m\u001b[1;33m[\u001b[0m\u001b[1;36m0\u001b[0m\u001b[1;33m]\u001b[0m\u001b[1;33m\u001b[0m\u001b[1;33m\u001b[0m\u001b[0m\n\u001b[0m\u001b[0;32m    101\u001b[0m             \u001b[0mcnts\u001b[0m \u001b[1;33m=\u001b[0m \u001b[0mX\u001b[0m\u001b[1;33m[\u001b[0m\u001b[0midx_d\u001b[0m\u001b[1;33m,\u001b[0m \u001b[0mids\u001b[0m\u001b[1;33m]\u001b[0m\u001b[1;33m\u001b[0m\u001b[1;33m\u001b[0m\u001b[0m\n\u001b[0;32m    102\u001b[0m \u001b[1;33m\u001b[0m\u001b[0m\n",
      "\u001b[1;32m~\\AppData\\Local\\Continuum\\anaconda3\\lib\\site-packages\\numpy\\core\\fromnumeric.py\u001b[0m in \u001b[0;36mnonzero\u001b[1;34m(a)\u001b[0m\n\u001b[0;32m   1776\u001b[0m \u001b[1;33m\u001b[0m\u001b[0m\n\u001b[0;32m   1777\u001b[0m     \"\"\"\n\u001b[1;32m-> 1778\u001b[1;33m     \u001b[1;32mreturn\u001b[0m \u001b[0m_wrapfunc\u001b[0m\u001b[1;33m(\u001b[0m\u001b[0ma\u001b[0m\u001b[1;33m,\u001b[0m \u001b[1;34m'nonzero'\u001b[0m\u001b[1;33m)\u001b[0m\u001b[1;33m\u001b[0m\u001b[1;33m\u001b[0m\u001b[0m\n\u001b[0m\u001b[0;32m   1779\u001b[0m \u001b[1;33m\u001b[0m\u001b[0m\n\u001b[0;32m   1780\u001b[0m \u001b[1;33m\u001b[0m\u001b[0m\n",
      "\u001b[1;32m~\\AppData\\Local\\Continuum\\anaconda3\\lib\\site-packages\\numpy\\core\\fromnumeric.py\u001b[0m in \u001b[0;36m_wrapfunc\u001b[1;34m(obj, method, *args, **kwds)\u001b[0m\n\u001b[0;32m     54\u001b[0m \u001b[1;32mdef\u001b[0m \u001b[0m_wrapfunc\u001b[0m\u001b[1;33m(\u001b[0m\u001b[0mobj\u001b[0m\u001b[1;33m,\u001b[0m \u001b[0mmethod\u001b[0m\u001b[1;33m,\u001b[0m \u001b[1;33m*\u001b[0m\u001b[0margs\u001b[0m\u001b[1;33m,\u001b[0m \u001b[1;33m**\u001b[0m\u001b[0mkwds\u001b[0m\u001b[1;33m)\u001b[0m\u001b[1;33m:\u001b[0m\u001b[1;33m\u001b[0m\u001b[1;33m\u001b[0m\u001b[0m\n\u001b[0;32m     55\u001b[0m     \u001b[1;32mtry\u001b[0m\u001b[1;33m:\u001b[0m\u001b[1;33m\u001b[0m\u001b[1;33m\u001b[0m\u001b[0m\n\u001b[1;32m---> 56\u001b[1;33m         \u001b[1;32mreturn\u001b[0m \u001b[0mgetattr\u001b[0m\u001b[1;33m(\u001b[0m\u001b[0mobj\u001b[0m\u001b[1;33m,\u001b[0m \u001b[0mmethod\u001b[0m\u001b[1;33m)\u001b[0m\u001b[1;33m(\u001b[0m\u001b[1;33m*\u001b[0m\u001b[0margs\u001b[0m\u001b[1;33m,\u001b[0m \u001b[1;33m**\u001b[0m\u001b[0mkwds\u001b[0m\u001b[1;33m)\u001b[0m\u001b[1;33m\u001b[0m\u001b[1;33m\u001b[0m\u001b[0m\n\u001b[0m\u001b[0;32m     57\u001b[0m \u001b[1;33m\u001b[0m\u001b[0m\n\u001b[0;32m     58\u001b[0m     \u001b[1;31m# An AttributeError occurs if the object does not have\u001b[0m\u001b[1;33m\u001b[0m\u001b[1;33m\u001b[0m\u001b[1;33m\u001b[0m\u001b[0m\n",
      "\u001b[1;31mKeyboardInterrupt\u001b[0m: "
     ]
    }
   ],
   "source": [
    "# compute coherence scores for LDA models of various topic numbers\n",
    "topic_numbers = list(range(1,20))\n",
    "scores = {}\n",
    "\n",
    "for k in topic_numbers:\n",
    "    # train LDA model \n",
    "    lda = LatentDirichletAllocation(n_components = k)\n",
    "    lda.fit(X_train)\n",
    "   \n",
    "    # compute perplexity on X_test\n",
    "    scores[k] = lda.perplexity(X_test)\n"
   ]
  },
  {
   "cell_type": "code",
   "execution_count": null,
   "metadata": {
    "hidden": true
   },
   "outputs": [],
   "source": [
    "plt.plot(topic_numbers, [scores[item] for item in topic_numbers])\n",
    "plt.show()"
   ]
  },
  {
   "cell_type": "code",
   "execution_count": null,
   "metadata": {
    "hidden": true
   },
   "outputs": [],
   "source": []
  },
  {
   "cell_type": "code",
   "execution_count": null,
   "metadata": {
    "hidden": true
   },
   "outputs": [],
   "source": []
  },
  {
   "cell_type": "markdown",
   "metadata": {
    "heading_collapsed": true
   },
   "source": [
    "# 7. Future directions / To Do\n",
    "\n",
    "* Other models to consider  \n",
    "    * max entropy model  \n",
    "    \n",
    "* To do for building recommender system  \n",
    "    * Use evaluation metric to find the best model \n",
    "    * Or, combine the models using ensemble learning techniques  \n",
    "    * Try using cloud computing\n",
    "    * Create the app  \n",
    "    * Use Docker containment for production  \n",
    "    "
   ]
  }
 ],
 "metadata": {
  "@webio": {
   "lastCommId": null,
   "lastKernelId": null
  },
  "accelerator": "GPU",
  "colab": {
   "collapsed_sections": [
    "8NbtLorVuwFi",
    "o3wTw-y6na8V",
    "_xJ1A1wubRsd",
    "NTJd4owFmJZ5",
    "jvYgfw6U--WS",
    "HZOxcKsk--Wg",
    "Cl0Nvd9EUYxs",
    "dio9K1a3YbJq",
    "9Uj03rp3--Xg",
    "U7KdNrk9--Xw",
    "SMFKl67x--YC",
    "xX8lM00e--Yu",
    "UbmCt1Wk--ZH",
    "VZAUNw9t4TNj",
    "TYOQ09iDqcQd",
    "FEoONi2ap1oc",
    "ra7XFlL0E_vz",
    "xM1SmBMykWcY"
   ],
   "machine_shape": "hm",
   "name": "recipes.ipynb",
   "provenance": []
  },
  "kernelspec": {
   "display_name": "Python 3",
   "language": "python",
   "name": "python3"
  },
  "language_info": {
   "codemirror_mode": {
    "name": "ipython",
    "version": 3
   },
   "file_extension": ".py",
   "mimetype": "text/x-python",
   "name": "python",
   "nbconvert_exporter": "python",
   "pygments_lexer": "ipython3",
   "version": "3.7.4"
  }
 },
 "nbformat": 4,
 "nbformat_minor": 1
}
