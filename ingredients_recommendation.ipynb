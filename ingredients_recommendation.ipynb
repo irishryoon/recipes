{
 "cells": [
  {
   "cell_type": "markdown",
   "metadata": {},
   "source": [
    "# Cooking ingredients recommendation\n",
    "This notebook builds a recommendation system for cooking ingredients using. The end goal is to build a recommendation system that takes as input a list of existing ingredients and outputs a collection of ingredients that would go well with the existing ingredients. \n",
    "\n",
    "<b> Notebook contents </b>\n",
    "0. load and clean data\n",
    "1. Collaborative filtering\n",
    "2. Word-embeddings\n",
    "3. Neural network \n",
    "4. Association rule mining   \n",
    "* Future directions / To Do \n",
    "\n",
    "***NOTE:*** *This is project is in progress.*\n",
    "\n"
   ]
  },
  {
   "cell_type": "code",
   "execution_count": 1,
   "metadata": {},
   "outputs": [],
   "source": [
    "import sys\n",
    "sys.path.append('/usr/local/lib/python2.7/site-packages/')\n",
    "sys.path.append('/usr/local/lib/python3.7/site-packages')"
   ]
  },
  {
   "cell_type": "code",
   "execution_count": 3,
   "metadata": {
    "colab": {},
    "colab_type": "code",
    "id": "SBNyXAdi--WO",
    "scrolled": true
   },
   "outputs": [],
   "source": [
    "import pandas as pd\n",
    "import numpy as np\n",
    "import regex as re\n",
    "import random\n",
    "import ijson\n",
    "#import tensorflow as tf\n",
    "import ast \n",
    "import csv\n",
    "from itertools import combinations\n",
    "\n",
    "#import mpld3 # for interactive matplotlib \n",
    "#from mpld3 import plugins\n",
    "from sklearn.decomposition import NMF\n",
    "#from symspellpy.symspellpy import SymSpell\n",
    "from sklearn.model_selection import train_test_split\n",
    "from sklearn.preprocessing import OneHotEncoder\n",
    "from sklearn.preprocessing import MultiLabelBinarizer #for vectorizing categorial features\n",
    "from sklearn.decomposition import PCA\n",
    "#from keras.preprocessing.text import Tokenizer\n",
    "#from tensorflow.keras.models import Sequential\n",
    "#from tensorflow.keras.layers import Dense, LSTM, Embedding\n",
    "#from tensorflow.keras.callbacks import CSVLogger\n",
    "from collections import Counter \n",
    " \n",
    "import matplotlib.pyplot as plt\n",
    "from matplotlib import style\n",
    "plt.style.use('ggplot')\n",
    "\n",
    "import os\n",
    "import pickle\n",
    "import h5py\n",
    "import gensim\n",
    "from gensim.models import Word2Vec\n",
    "\n",
    "from efficient_apriori import apriori"
   ]
  },
  {
   "cell_type": "markdown",
   "metadata": {
    "colab_type": "text",
    "id": "yqeErat1o-kB"
   },
   "source": [
    "# 0. Load & clean data    "
   ]
  },
  {
   "cell_type": "markdown",
   "metadata": {},
   "source": [
    "* While I found some sources for recipe data, I chose to work with the <a href=\"https://www.kaggle.com/kaggle/recipe-ingredients-dataset/\">recipe-ingredients dataset</a> from Kaggle.  \n",
    "* The dataset was provided as part of a competition for predicting the cuisine type given ingredients list. \n",
    "* I chose this dataset because I wanted to ask my recommender system questions like \"How do I cook my chicken in Indian style? Korean style?  \n",
    "* In particular, I used just the training data of this dataset. \n",
    "* If one was interested in building a recommender system for ingredients without considering the cuisine, one could use both the training and testing set of the Kaggle dataset. One can also extend the dataset by combining with other sources of recipe data  \n",
    "* For example, the \"recipes\" notebook uses a different dataset. Note that that particular dataset requires more involved text cleaning process than the kaggle dataset\n",
    "\n",
    "<b> Contents </b>  \n",
    "(a) Load data  \n",
    "(b) Text cleanup   \n",
    "(c) Preliminary analysis    \n",
    "(d) Split data into training, cross-validation, and testing set  \n",
    "(e) Define metrics for evaluating different models  \n"
   ]
  },
  {
   "cell_type": "markdown",
   "metadata": {},
   "source": [
    "<b> (a) Load data </b>"
   ]
  },
  {
   "cell_type": "code",
   "execution_count": 2,
   "metadata": {
    "colab": {},
    "colab_type": "code",
    "id": "I0gMrCjopD22"
   },
   "outputs": [],
   "source": [
    "file_name = 'data/recipe-ingredients-dataset/train.json'\n",
    "\n",
    "with open(file_name, 'r') as f:\n",
    "  objects = ijson.items(f, 'item')\n",
    "  data = list(objects)\n",
    "\n",
    "df = pd.DataFrame(data)"
   ]
  },
  {
   "cell_type": "markdown",
   "metadata": {},
   "source": [
    "<b> (b) Clean up text </b>  \n",
    "* Some issues with the given data:  \n",
    "    (1) Some ingredients contain additional information given in parentheses. Example: \" (2 oz. ) tomato sauce \"  \n",
    "    (2) Some ingredients have upper case letters, while most ingredients are written in lower case letters.  \n",
    "    (3) Some ingredients contain brand names of the ingredients.  \n",
    "    (4) Some ingredients contain non-alphabet characters. Many of them seem to come from brand names.   \n",
    "    (5) Some ingredients contain additional instructions. Example: \"spinach, thawed and squeezed dry\"  \n",
    "    \n",
    "* In this section, I addressed issues (1) and (2) by <b> removing any characters between parentheses, and turning all strings into lowercase letters. </b>      \n",
    "* I did not address issue (3) because removing brand names would be consuming process with little reward, given there aren't many ingredients containing brand names. One way to do this is to manually go through all ingredients that contain Upper case letters, determine whether they refer to generic ingredients or brand names, and remove brand names accordingly. Note: one would have to complete this step before addressing issue (2).  \n",
    "* Usually, I would remove non-alphabet characters for NLP tasks. However, since we are not doing any word/ character generation and non-alphabet characters seem to be associated with brand names, I decided that removing the non-alphabet characters wouldn't make much difference. \n",
    "* Addressing issue (5) would involve manually going through the data"
   ]
  },
  {
   "cell_type": "code",
   "execution_count": 3,
   "metadata": {},
   "outputs": [
    {
     "name": "stdout",
     "output_type": "stream",
     "text": [
      "Example ingredients\n",
      "['(    oz.) tomato sauce' '(   oz.) tomato paste'\n",
      " '(10 oz.) frozen chopped spinach'\n",
      " '(10 oz.) frozen chopped spinach, thawed and squeezed dry'\n",
      " '(14 oz.) sweetened condensed milk' '(14.5 oz.) diced tomatoes'\n",
      " '(15 oz.) refried beans' '1% low-fat buttermilk'\n",
      " '1% low-fat chocolate milk' '1% low-fat cottage cheese' '1% low-fat milk'\n",
      " '2 1/2 to 3 lb. chicken, cut into serving pieces'\n",
      " '2% low fat cheddar chees' '2% low-fat cottage cheese'\n",
      " '2% lowfat greek yogurt' '2% milk shredded mozzarella cheese'\n",
      " '2% reduced-fat milk' '25% less sodium chicken broth'\n",
      " '33% less sodium cooked deli ham' '33% less sodium cooked ham'\n",
      " '33% less sodium ham' '33% less sodium smoked fully cooked ham'\n",
      " '40% less sodium taco seasoning' '40% less sodium taco seasoning mix'\n",
      " '7 Up' '8 ounc ziti pasta, cook and drain' '95% lean ground beef'\n",
      " 'A Taste of Thai Rice Noodles' 'Accent Seasoning'\n",
      " 'Adobo All Purpose Seasoning' 'Alaskan king crab legs'\n",
      " 'Alexia Waffle Fries' 'Alfredo sauce' 'Amarena cherries'\n",
      " 'Amaretti Cookies' 'American cheese' 'Anaheim chile' 'Angostura bitters'\n",
      " 'Argo Corn Starch' 'Asian chili sauce' 'Asian sweet chili sauce'\n",
      " 'Azteca Flour Tortillas' 'BACARDIÂ® Mixers Margarita Mix'\n",
      " 'BACARDIÂ® Superior' \"BREAKSTONE'S Sour Cream\"\n",
      " 'Baileys Irish Cream Liqueur' 'Balsamico Bianco' 'Barilla Linguine'\n",
      " 'Barilla Oven-Ready Lasagne' 'Barilla Plus Pasta']\n",
      "['yellow chives' 'yellow corn' 'yellow corn meal'\n",
      " 'yellow crookneck squash' 'yellow curry paste' 'yellow food coloring'\n",
      " 'yellow heirloom tomatoes' 'yellow hominy' 'yellow lentils' 'yellow miso'\n",
      " 'yellow mustard' 'yellow mustard seeds' 'yellow onion' 'yellow peas'\n",
      " 'yellow peppers' 'yellow rice' 'yellow rock sugar' 'yellow split peas'\n",
      " 'yellow squash' 'yellow summer squash' 'yellow tomato' 'yellowfin'\n",
      " 'yellowfin tuna' 'yellowtail' 'yellowtail snapper fillets' 'yoghurt'\n",
      " 'yoghurt natural low fat' 'yogurt cheese' 'yogurt dressing'\n",
      " 'yogurt low fat' 'yolk' 'yoplait' 'young coconut meat' 'young leeks'\n",
      " 'young nettle' 'yu choy' 'yuca' 'yucca' 'yucca root' 'yukon gold'\n",
      " 'yukon gold potatoes' 'yuzu' 'yuzu juice' \"za'atar\" 'zest'\n",
      " 'zesty italian dressing' 'zinfandel' 'ziti' 'zucchini'\n",
      " 'zucchini blossoms']\n"
     ]
    }
   ],
   "source": [
    "# let's take a look at the list of ingredients to figure out\n",
    "# what kind of text cleaning is required\n",
    "\n",
    "ing_list = df['ingredients'].tolist()\n",
    "cuisine_list = df['cuisine'].tolist()\n",
    "\n",
    "if len(ing_list) == len(cuisine_list):\n",
    "    ingredients = [ing_list[i] + [cuisine_list[i]] for i in range(len(ing_list))]\n",
    "else:\n",
    "    print('error. Length of ingredients and cuisine does not match')\n",
    "\n",
    "print(\"Example ingredients\")\n",
    "ing_list = np.unique([item for recipe in ingredients for item in recipe ])\n",
    "print(ing_list[:50])\n",
    "print(ing_list[-50:])"
   ]
  },
  {
   "cell_type": "code",
   "execution_count": 4,
   "metadata": {},
   "outputs": [],
   "source": [
    "# Remove characters between (and including) parentheses\n",
    "# Turn all strings into lowercase\n",
    "\n",
    "for i in df.index:\n",
    "    ing = df.at[i,'ingredients']\n",
    "    for j, item in enumerate(ing):\n",
    "        # Replace all characters between parentheses\n",
    "        if  ('(' in item) or (')' in item):\n",
    "            item = re.sub('\\s*\\([^)]*\\)\\s*', '', item)\n",
    "            ing[j] = item\n",
    "        \n",
    "        # Turn all Upper case into lowercase\n",
    "        ing[j] = item.lower()\n",
    "        \n",
    "    df.at[i,'ingredients'] = ing"
   ]
  },
  {
   "cell_type": "code",
   "execution_count": 5,
   "metadata": {},
   "outputs": [
    {
     "name": "stdout",
     "output_type": "stream",
     "text": [
      "Example ingredients\n",
      "['1% low-fat buttermilk' '1% low-fat chocolate milk'\n",
      " '1% low-fat cottage cheese' '1% low-fat milk'\n",
      " '2 1/2 to 3 lb. chicken, cut into serving pieces'\n",
      " '2% low fat cheddar chees' '2% low-fat cottage cheese'\n",
      " '2% lowfat greek yogurt' '2% milk shredded mozzarella cheese'\n",
      " '2% reduced-fat milk' '25% less sodium chicken broth'\n",
      " '33% less sodium cooked deli ham' '33% less sodium cooked ham'\n",
      " '33% less sodium ham' '33% less sodium smoked fully cooked ham'\n",
      " '40% less sodium taco seasoning' '40% less sodium taco seasoning mix'\n",
      " '7 up' '8 ounc ziti pasta, cook and drain' '95% lean ground beef'\n",
      " 'a taste of thai rice noodles' 'abalone' 'abbamele' 'absinthe'\n",
      " 'abura age' 'acai juice' 'accent' 'accent seasoning' 'accompaniment'\n",
      " 'achiote' 'achiote paste' 'achiote powder' 'acini di pepe' 'ackee'\n",
      " 'acorn squash' 'active dry yeast' 'adobo' 'adobo all purpose seasoning'\n",
      " 'adobo sauce' 'adobo seasoning' 'adobo style seasoning' 'adzuki beans'\n",
      " 'agar' 'agar agar flakes' 'agave nectar' 'agave tequila'\n",
      " 'aged balsamic vinegar' 'aged cheddar cheese' 'aged gouda'\n",
      " 'aged manchego cheese']\n",
      "['yellow food coloring' 'yellow heirloom tomatoes' 'yellow hominy'\n",
      " 'yellow lentils' 'yellow miso' 'yellow mustard' 'yellow mustard seeds'\n",
      " 'yellow onion' 'yellow peas' 'yellow peppers' 'yellow rice'\n",
      " 'yellow rock sugar' 'yellow split peas' 'yellow squash'\n",
      " 'yellow summer squash' 'yellow tomato' 'yellowfin' 'yellowfin tuna'\n",
      " 'yellowtail' 'yellowtail snapper fillets' 'yoghurt'\n",
      " 'yoghurt natural low fat' 'yogurt cheese' 'yogurt dressing'\n",
      " 'yogurt low fat' 'yolk' 'yoplait'\n",
      " 'yoplaitâ® greek 100 blackberry pie yogurt'\n",
      " 'yoplaitâ® greek 2% caramel yogurt' 'young coconut meat' 'young leeks'\n",
      " 'young nettle' 'yu choy' 'yuca' 'yucca' 'yucca root' 'yukon gold'\n",
      " 'yukon gold potatoes' 'yuzu' 'yuzu juice' 'yuzukosho' \"za'atar\"\n",
      " 'zatarains creole seasoning' 'zatarainâ€™s jambalaya mix' 'zest'\n",
      " 'zesty italian dressing' 'zinfandel' 'ziti' 'zucchini'\n",
      " 'zucchini blossoms']\n"
     ]
    }
   ],
   "source": [
    "ing_list = df['ingredients'].tolist()\n",
    "cuisine_list = df['cuisine'].tolist()\n",
    "\n",
    "if len(ing_list) == len(cuisine_list):\n",
    "    ingredients = [ing_list[i] + [cuisine_list[i]] for i in range(len(ing_list))]\n",
    "else:\n",
    "    print('error. Length of ingredients and cuisine does not match')\n",
    "  \n",
    "print(\"Example ingredients\")\n",
    "ing_list = np.unique([item for recipe in ingredients for item in recipe ])\n",
    "print(ing_list[:50])\n",
    "print(ing_list[-50:])"
   ]
  },
  {
   "cell_type": "code",
   "execution_count": 161,
   "metadata": {},
   "outputs": [],
   "source": [
    "# add cleaned up ingredients + cuisine to dataframe\n",
    "df['ing_cuisine'] = ingredients\n",
    "df.to_csv('data/ingredient_recommendation/data.csv')"
   ]
  },
  {
   "cell_type": "code",
   "execution_count": 160,
   "metadata": {},
   "outputs": [
    {
     "data": {
      "text/html": [
       "<div>\n",
       "<style scoped>\n",
       "    .dataframe tbody tr th:only-of-type {\n",
       "        vertical-align: middle;\n",
       "    }\n",
       "\n",
       "    .dataframe tbody tr th {\n",
       "        vertical-align: top;\n",
       "    }\n",
       "\n",
       "    .dataframe thead th {\n",
       "        text-align: right;\n",
       "    }\n",
       "</style>\n",
       "<table border=\"1\" class=\"dataframe\">\n",
       "  <thead>\n",
       "    <tr style=\"text-align: right;\">\n",
       "      <th></th>\n",
       "      <th>id</th>\n",
       "      <th>cuisine</th>\n",
       "      <th>ingredients</th>\n",
       "      <th>ing_cuisine</th>\n",
       "    </tr>\n",
       "  </thead>\n",
       "  <tbody>\n",
       "    <tr>\n",
       "      <td>0</td>\n",
       "      <td>10259</td>\n",
       "      <td>greek</td>\n",
       "      <td>[romaine lettuce, black olives, grape tomatoes...</td>\n",
       "      <td>[romaine lettuce, black olives, grape tomatoes...</td>\n",
       "    </tr>\n",
       "    <tr>\n",
       "      <td>1</td>\n",
       "      <td>25693</td>\n",
       "      <td>southern_us</td>\n",
       "      <td>[plain flour, ground pepper, salt, tomatoes, g...</td>\n",
       "      <td>[plain flour, ground pepper, salt, tomatoes, g...</td>\n",
       "    </tr>\n",
       "    <tr>\n",
       "      <td>2</td>\n",
       "      <td>20130</td>\n",
       "      <td>filipino</td>\n",
       "      <td>[eggs, pepper, salt, mayonaise, cooking oil, g...</td>\n",
       "      <td>[eggs, pepper, salt, mayonaise, cooking oil, g...</td>\n",
       "    </tr>\n",
       "    <tr>\n",
       "      <td>3</td>\n",
       "      <td>22213</td>\n",
       "      <td>indian</td>\n",
       "      <td>[water, vegetable oil, wheat, salt]</td>\n",
       "      <td>[water, vegetable oil, wheat, salt, indian]</td>\n",
       "    </tr>\n",
       "    <tr>\n",
       "      <td>4</td>\n",
       "      <td>13162</td>\n",
       "      <td>indian</td>\n",
       "      <td>[black pepper, shallots, cornflour, cayenne pe...</td>\n",
       "      <td>[black pepper, shallots, cornflour, cayenne pe...</td>\n",
       "    </tr>\n",
       "  </tbody>\n",
       "</table>\n",
       "</div>"
      ],
      "text/plain": [
       "      id      cuisine                                        ingredients  \\\n",
       "0  10259        greek  [romaine lettuce, black olives, grape tomatoes...   \n",
       "1  25693  southern_us  [plain flour, ground pepper, salt, tomatoes, g...   \n",
       "2  20130     filipino  [eggs, pepper, salt, mayonaise, cooking oil, g...   \n",
       "3  22213       indian                [water, vegetable oil, wheat, salt]   \n",
       "4  13162       indian  [black pepper, shallots, cornflour, cayenne pe...   \n",
       "\n",
       "                                         ing_cuisine  \n",
       "0  [romaine lettuce, black olives, grape tomatoes...  \n",
       "1  [plain flour, ground pepper, salt, tomatoes, g...  \n",
       "2  [eggs, pepper, salt, mayonaise, cooking oil, g...  \n",
       "3        [water, vegetable oil, wheat, salt, indian]  \n",
       "4  [black pepper, shallots, cornflour, cayenne pe...  "
      ]
     },
     "execution_count": 160,
     "metadata": {},
     "output_type": "execute_result"
    }
   ],
   "source": [
    "df.head()"
   ]
  },
  {
   "cell_type": "markdown",
   "metadata": {},
   "source": [
    "<b> (c) Preliminary analysis </b>  \n",
    "\n",
    "* About 40,000 recipes involving 6700 ingredients  \n",
    "* Note that some cuisine (like Italian and Mexican cuisine) are more frequently represented than some others (like Russian and brazilian cuisinze).  \n",
    "    * I should keep in mind <b>the potential bias</b> this creates: Our recommendation system might recommend ingredients that go well together in mostly Italian and Mexican cuisine. \n",
    "    *  <b><font color='red'>To Do</font></b>: I might want to consider some tools for decreasing bias from my model. "
   ]
  },
  {
   "cell_type": "code",
   "execution_count": 152,
   "metadata": {},
   "outputs": [
    {
     "name": "stdout",
     "output_type": "stream",
     "text": [
      "total number of recipes:  39774\n",
      "total number of ingredients:  6713\n"
     ]
    }
   ],
   "source": [
    "ing_list = np.unique([item for recipes in ingredients for item in recipes])\n",
    "\n",
    "print('total number of recipes: ', len(ingredients))\n",
    "print('total number of ingredients: ', len(np.unique(ing_list)))"
   ]
  },
  {
   "cell_type": "code",
   "execution_count": 154,
   "metadata": {
    "colab": {
     "base_uri": "https://localhost:8080/",
     "height": 282
    },
    "colab_type": "code",
    "id": "0cBR0bcdtVnE",
    "outputId": "bf562660-d25a-4ca6-9af8-d8492936b3a8",
    "scrolled": true
   },
   "outputs": [
    {
     "data": {
      "image/png": "[encoded data removed]",
      "text/plain": [
       "<Figure size 432x288 with 1 Axes>"
      ]
     },
     "metadata": {
      "needs_background": "light"
     },
     "output_type": "display_data"
    },
    {
     "name": "stdout",
     "output_type": "stream",
     "text": [
      "maximum number of ingredients in a given recipe:  66\n",
      "minimum number of ingredients in a given recipe:  2\n"
     ]
    }
   ],
   "source": [
    "# Number of ingredients in each recipe\n",
    "ing_len = [len(x) for x in ingredients]\n",
    "\n",
    "plt.hist(ing_len)\n",
    "plt.title('histogram of number of ingredients in recipes')\n",
    "plt.show()\n",
    "print('maximum number of ingredients in a given recipe: ', max(ing_len))  \n",
    "print('minimum number of ingredients in a given recipe: ', min(ing_len))"
   ]
  },
  {
   "cell_type": "code",
   "execution_count": 156,
   "metadata": {},
   "outputs": [
    {
     "data": {
      "image/png": "[encoded data removed]",
      "text/plain": [
       "<Figure size 576x432 with 1 Axes>"
      ]
     },
     "metadata": {
      "needs_background": "light"
     },
     "output_type": "display_data"
    }
   ],
   "source": [
    "# Number of cuisine represented\n",
    "cuisine_count = {}\n",
    "for item in np.unique(cuisine):\n",
    "    cuisine_count[item] = cuisine.count(item)\n",
    "\n",
    "df['cuisine'].value_counts(ascending = True).plot(kind = 'barh', figsize=(8,6))\n",
    "plt.title('Frequency of cuisine in data')\n",
    "plt.show()"
   ]
  },
  {
   "cell_type": "markdown",
   "metadata": {},
   "source": [
    "<b> (d) Divide into training, cross-validation, and testing set </b>"
   ]
  },
  {
   "cell_type": "code",
   "execution_count": 176,
   "metadata": {},
   "outputs": [
    {
     "name": "stdout",
     "output_type": "stream",
     "text": [
      "total number of recipes:  39774\n",
      "number of training set:  27841\n",
      "number of cross-validation set:  5966\n",
      "number of test set:  5967\n"
     ]
    }
   ],
   "source": [
    "# Divide into training (70%), cross-validation (15%), and testing set (15%)\n",
    "n_recipes = df.shape[0]\n",
    "print('total number of recipes: ', n_recipes)\n",
    "\n",
    "total = list(range(n_recipes))\n",
    "random.shuffle(total)\n",
    "\n",
    "train_size = int(n_recipes * 0.7)\n",
    "cv_size = int(n_recipes * 0.15)\n",
    "train_idx = total[:train_size]\n",
    "cv_idx = total[train_size:train_size + cv_size]\n",
    "test_idx = total[train_size + cv_size:]\n",
    "\n",
    "print('number of training set: ', len(train_idx))\n",
    "print('number of cross-validation set: ', len(cv_idx))\n",
    "print('number of test set: ', len(test_idx))\n",
    "\n",
    "train_idx.sort()\n",
    "cv_idx.sort()\n",
    "test_idx.sort()\n",
    "\n",
    "# save indices\n",
    "f = h5py.File('data/ingredient_recommendation/train_val_test.hdf5', 'w')\n",
    "f.create_dataset(\"train_idx\", data = train_idx)\n",
    "f.create_dataset(\"cv_idx\", data = cv_idx)\n",
    "f.create_dataset(\"test_idx\", data = test_idx)\n",
    "f.close()\n",
    "\n",
    "# to load\n",
    "#f = h5py.File('data/ingredient_recommendation/train_val_test.hdf5', 'r')\n",
    "#train_idx = list(f.get(\"train_idx\"))\n",
    "#cv_idx = list(f.get(\"cv_idx\"))\n",
    "#test_idx = list(f.get(\"test_idx\"))\n",
    "#f.close()"
   ]
  },
  {
   "cell_type": "markdown",
   "metadata": {},
   "source": [
    "<b> (e) Define metric for evaluating different models</b>  \n",
    "* Use evaluation metric for classification models      \n",
    "* Precision, Recall, and F-scores \n",
    "    * Precision: Of all the predicted ingredients, how much were actually true ingredients? TP / (TP + FP)\n",
    "    * Recall: Of all the true ingredients, how much did we predict correctly? TP/(TP + FN)   \n",
    "    * F-score : (2 * recall * precision) / (recall + precision)    \n",
    "    \n",
    "* Possible option: Weigh the incorrect ingredients. For example, if an incorrect predicted ingredient is still considered \"similar\" to an existing ingredient (maybe using word embedding features), one can still account for the incorrect prediction as a true positive with a smaller weight than 1\n",
    "  "
   ]
  },
  {
   "cell_type": "code",
   "execution_count": 26,
   "metadata": {},
   "outputs": [],
   "source": [
    "def compute_scores(predicted_ing, true_ing):\n",
    "    \"\"\"\n",
    "    predicted_ing: (set) of predicted ingredients from the model\n",
    "    true_ing: (set) of true ingredients that needed to be predicted\n",
    "    \"\"\"\n",
    "\n",
    "    TP = len(predicted_ing.intersection(true_ing))\n",
    "\n",
    "    precision = TP / (len(predicted_ing))\n",
    "    recall = TP / len(true_ing)\n",
    "    F_score = (2 * recall * precision)/(precision + recall)\n",
    "    \n",
    "    return precision, recall, F_score\n"
   ]
  },
  {
   "cell_type": "code",
   "execution_count": 27,
   "metadata": {},
   "outputs": [
    {
     "name": "stdout",
     "output_type": "stream",
     "text": [
      "precision:  0.3333333333333333\n",
      "recall:  1.0\n",
      "F_score:  0.5\n"
     ]
    }
   ],
   "source": [
    "# example \n",
    "precision, recall, F_score = compute_scores(set(['onions', 'scallions', 'bread']),\n",
    "                                           set(['scallions']))\n",
    "\n",
    "print('precision: ' , precision)\n",
    "print('recall: ', recall)\n",
    "print('F_score: ', F_score)"
   ]
  },
  {
   "cell_type": "markdown",
   "metadata": {
    "colab_type": "text",
    "id": "o3wTw-y6na8V"
   },
   "source": [
    "# 1. Collaborative filtering  \n"
   ]
  },
  {
   "cell_type": "markdown",
   "metadata": {},
   "source": [
    "<b> Summary </b> \n",
    "* Used non-negative matrix factorization.  \n",
    "* Latent variables (roughly) correspond to type of cuisine, such as baking, Italin food, Mexican food, ... .  \n",
    "* Built a recommendation system from the matrix factorization.  \n",
    "* Solution to cold-start problem: Found recipes that are most similar to given list of ingredients. Returned ingredients recommended to these similar recipes.  \n",
    "\n",
    "<b> To do </b> \n",
    "* Cross validation to choose the number of latent factors: It turns out, there is a way to do some form of cross-validation with unsupervised learning models, as shown in this <a href=\"http://alexhwilliams.info/itsneuronalblog/\">blog post</a>   \n",
    "\n",
    "<b> The idea behind non-negative matrix factorization (NMF) </b>\n",
    "* Given a matrix V, NMF factorizes V into non-negative matrices W and H such that $ W H \\approx V$. \n",
    "![From wikipedia](files/images/NMF.png)  \n",
    "\n",
    "\n",
    "* One can describe each column of V as a linear combination of columns of W. The coefficients of this linear combination is given by the columns of H. \n",
    "\n",
    "* Idea: The factorization $ W H \\approx V$ learns latent features underlying the interactions beetween recipes and ingredients.\n",
    "\n",
    "* In this project, consider V as the ingredients-recipe matrix. \n",
    "    * Each column of V corresponds to a recipe.  \n",
    "    * Each row of V corresponds to an ingredient.  \n",
    "    * V [ i ][ j ] = 1 if ingredient *i* is present in recipe *j*, and 0 otherwise\n",
    "* Non-negative matrix factorization will attempt to find matrices W and H such that  \n",
    "$W H \\approx V$\n"
   ]
  },
  {
   "cell_type": "markdown",
   "metadata": {},
   "source": [
    "<b> Create matrix V </b>  \n",
    "* columns: recipes  \n",
    "* rows: ingredients  \n",
    "* V [ i ][ j ] = 1 if ingredient *i* is present in recipe *j*, and 0 otherwise"
   ]
  },
  {
   "cell_type": "code",
   "execution_count": 30,
   "metadata": {
    "colab": {},
    "colab_type": "code",
    "id": "9ghkkFkYnetA"
   },
   "outputs": [
    {
     "name": "stdout",
     "output_type": "stream",
     "text": [
      "number of ingredients:  6734\n",
      "number of recipes:  39774\n"
     ]
    }
   ],
   "source": [
    "# Find all the ingredients\n",
    "ingredients_total = [item for sublist in ingredients for item in sublist]\n",
    "ingredients_total = list(set(ingredients_total))\n",
    "\n",
    "n_ingredients = len(ingredients_total)\n",
    "n_recipes = len(ingredients)\n",
    "\n",
    "print('number of ingredients: ', n_ingredients)\n",
    "print('number of recipes: ', n_recipes)\n",
    "\n",
    "# Assign row values to each ingredient\n",
    "ing_dict = {idx:x for idx, x in enumerate(ingredients_total)}\n",
    "ing_dict_reverse = {value:key for key, value in ing_dict.items()}\n",
    "\n",
    "# create matrix V\n",
    "V = np.zeros((n_ingredients, n_recipes))\n",
    "for i, recipe in enumerate(ingredients):\n",
    "    for ing in recipe:\n",
    "        j = ing_dict_reverse[ing]\n",
    "        V[j,i] = 1"
   ]
  },
  {
   "cell_type": "markdown",
   "metadata": {},
   "source": [
    "<b> Latent variables </b>  \n",
    "For fun, let's see what the latent variables represent when we do a matrix factorization with 10 latent variables "
   ]
  },
  {
   "cell_type": "code",
   "execution_count": null,
   "metadata": {},
   "outputs": [],
   "source": [
    "model = NMF(n_components=10)\n",
    "W = model.fit_transform(V)\n",
    "H = model.components_"
   ]
  },
  {
   "cell_type": "code",
   "execution_count": 142,
   "metadata": {},
   "outputs": [
    {
     "name": "stdout",
     "output_type": "stream",
     "text": [
      "***LATENT COMPONENT 0***\n",
      "salt\n",
      "pepper\n",
      "black pepper\n",
      "eggs\n",
      "flour\n",
      "garlic powder\n",
      "lemon juice\n",
      "oil\n",
      "greek\n",
      "cooking spray\n",
      "***LATENT COMPONENT 1***\n",
      "all-purpose flour\n",
      "southern_us\n",
      "butter\n",
      "sugar\n",
      "large eggs\n",
      "baking powder\n",
      "unsalted butter\n",
      "milk\n",
      "eggs\n",
      "vanilla extract\n",
      "***LATENT COMPONENT 2***\n",
      "italian\n",
      "olive oil\n",
      "grated parmesan cheese\n",
      "fresh basil\n",
      "dry white wine\n",
      "dried oregano\n",
      "fresh parsley\n",
      "flat leaf parsley\n",
      "extra-virgin olive oil\n",
      "tomatoes\n",
      "***LATENT COMPONENT 3***\n",
      "soy sauce\n",
      "chinese\n",
      "sugar\n",
      "sesame oil\n",
      "green onions\n",
      "corn starch\n",
      "garlic\n",
      "vegetable oil\n",
      "scallions\n",
      "rice vinegar\n",
      "***LATENT COMPONENT 4***\n",
      "mexican\n",
      "ground cumin\n",
      "chili powder\n",
      "sour cream\n",
      "jalapeno chilies\n",
      "avocado\n",
      "corn tortillas\n",
      "salsa\n",
      "chopped cilantro fresh\n",
      "black beans\n",
      "***LATENT COMPONENT 5***\n",
      "garlic cloves\n",
      "extra-virgin olive oil\n",
      "olive oil\n",
      "onions\n",
      "cooking spray\n",
      "fresh lemon juice\n",
      "red bell pepper\n",
      "chopped onion\n",
      "black pepper\n",
      "carrots\n",
      "***LATENT COMPONENT 6***\n",
      "onions\n",
      "garlic\n",
      "carrots\n",
      "olive oil\n",
      "pepper\n",
      "green bell pepper\n",
      "cajun_creole\n",
      "celery\n",
      "chicken broth\n",
      "tomatoes\n",
      "***LATENT COMPONENT 7***\n",
      "water\n",
      "carrots\n",
      "sugar\n",
      "filipino\n",
      "japanese\n",
      "oil\n",
      "chopped onion\n",
      "corn starch\n",
      "white sugar\n",
      "fish sauce\n",
      "***LATENT COMPONENT 8***\n",
      "ground black pepper\n",
      "kosher salt\n",
      "extra-virgin olive oil\n",
      "french\n",
      "cayenne pepper\n",
      "fresh lemon juice\n",
      "garlic\n",
      "unsalted butter\n",
      "flat leaf parsley\n",
      "purple onion\n",
      "***LATENT COMPONENT 9***\n",
      "indian\n",
      "garam masala\n",
      "ground cumin\n",
      "ground turmeric\n",
      "cumin seed\n",
      "vegetable oil\n",
      "tomatoes\n",
      "chili powder\n",
      "ginger\n",
      "oil\n"
     ]
    }
   ],
   "source": [
    "# For each component return 10 most representative ingredients\n",
    "for i in range(10):\n",
    "    indices = np.argsort(W[:,i])[::-1][:10]\n",
    "    print('***LATENT COMPONENT ' + str(i) + '***')\n",
    "    for item in indices:\n",
    "        print(ing_dict[item])"
   ]
  },
  {
   "cell_type": "markdown",
   "metadata": {},
   "source": [
    "Indeed, the latent variables correspond to different types of cuisine.    \n",
    "For example, latent variable 1 represents ingredients used for baking.  \n",
    "Latent variable 2 represents ingredients used for Italian food.  \n",
    "Latent variable 3 represents ingredients used for Chinese food.  \n",
    "Latent variable 4 represents ingredients used for Mexican food.  "
   ]
  },
  {
   "cell_type": "markdown",
   "metadata": {},
   "source": [
    "<b> Perform NMF</b>  "
   ]
  },
  {
   "cell_type": "code",
   "execution_count": 144,
   "metadata": {
    "colab": {},
    "colab_type": "code",
    "id": "sjkDC9qEwHE1"
   },
   "outputs": [],
   "source": [
    "model = NMF(n_components=300)\n",
    "W = model.fit_transform(V)\n",
    "H = model.components_\n",
    "\n",
    "#print(model.reconstruction_err_)"
   ]
  },
  {
   "cell_type": "code",
   "execution_count": 158,
   "metadata": {},
   "outputs": [],
   "source": [
    "f = h5py.File(\"models/NMF/NMF_300.hdf5\", \"w\")\n",
    "f.create_dataset('V', data = V)\n",
    "f.create_dataset('W', data = W)\n",
    "f.create_dataset('H', data = H)\n",
    "f.close()"
   ]
  },
  {
   "cell_type": "markdown",
   "metadata": {},
   "source": [
    "<b> Perform recommendation </b>  \n",
    "* One of the problems with collaborative filtering is the cold-start problem.  \n",
    "* In this project, the most relevant cold-start problem is when a new user is added.  When a new user comes with a few existing ingredients and ask for recommendations, there are two problems to address:   \n",
    "    (1) How to provide a recommendation to the user?   \n",
    "    (2) How to update the matrix factorization, without having to redo the entire factorization all over again?  \n",
    "    \n",
    "In this section, I'm mostly concerned with problem (1). There are some active research going on regarding online updating of matrix factorizations to address problem (2).   \n",
    "\n",
    "While there are multiple tactics for addressing new user problems, I chose to find other users/ recipes that are similar to the new user. I then used the factorized matrices to recommend ingredients "
   ]
  },
  {
   "cell_type": "markdown",
   "metadata": {},
   "source": [
    "<b> Recommendation to an existing recipe </b>"
   ]
  },
  {
   "cell_type": "code",
   "execution_count": 167,
   "metadata": {
    "colab": {},
    "colab_type": "code",
    "id": "e-BJnUb9GMks"
   },
   "outputs": [],
   "source": [
    "f = h5py.File('models/NMF/NMF_300.hdf5', 'r')\n",
    "V = np.array(f.get('V'))\n",
    "W = np.array(f.get('W'))\n",
    "H = np.array(f.get('H'))\n",
    "f.close()\n",
    "\n",
    "V_approx =np.matmul(W,H)"
   ]
  },
  {
   "cell_type": "code",
   "execution_count": 168,
   "metadata": {
    "scrolled": true
   },
   "outputs": [
    {
     "name": "stdout",
     "output_type": "stream",
     "text": [
      "*** EXISTING INGREDIENTS ***\n",
      "pork loin\n",
      "roasted peanuts\n",
      "chopped cilantro fresh\n",
      "hoisin sauce\n",
      "creamy peanut butter\n",
      "chopped fresh mint\n",
      "thai basil\n",
      "rice\n",
      "medium shrimp\n",
      "water\n",
      "rice noodles\n",
      "beansprouts\n",
      "thai\n",
      "*** RECOMMENDED INGREDIENTS ***\n",
      "thai\n",
      "water\n",
      "chopped cilantro fresh\n",
      "rice\n",
      "medium shrimp\n",
      "beansprouts\n",
      "chopped fresh mint\n",
      "hoisin sauce\n",
      "peanuts\n",
      "rice noodles\n",
      "chinese five-spice powder\n",
      "lemongrass\n",
      "roasted peanuts\n",
      "unsweetened coconut milk\n",
      "rice vermicelli\n",
      "Thai fish sauce\n",
      "Thai red curry paste\n",
      "ground lamb\n",
      "creamy peanut butter\n",
      "english cucumber\n"
     ]
    }
   ],
   "source": [
    "# Let's compare the recommendations to existing recipes \n",
    "recipe_num = 20\n",
    "\n",
    "print(\"*** EXISTING INGREDIENTS ***\")\n",
    "for item in ingredients[recipe_num]:\n",
    "    print(item)\n",
    "    \n",
    "# print the top 20 recommended ingredients\n",
    "\n",
    "print(\"*** RECOMMENDED INGREDIENTS ***\")\n",
    "recommend = np.argsort(V_approx[:,recipe_num])[::-1]\n",
    "for item in recommend[:20]:\n",
    "    print(ing_dict[item])"
   ]
  },
  {
   "cell_type": "markdown",
   "metadata": {},
   "source": [
    "<b> Recommendation to a new user </b>  \n",
    "\n",
    "For example, let's say a new user joins. The new user knows that he wants to cook some Korean style chicken, and he knows he wants to use chicken, sesame seeds, and scallions. \n"
   ]
  },
  {
   "cell_type": "code",
   "execution_count": 169,
   "metadata": {},
   "outputs": [],
   "source": [
    "# new user with existing ingredients and preferred cuisine style\n",
    "user_ing = ['korean', 'chicken', 'sesame seeds', 'scallions']\n",
    "\n",
    "# define new user vector\n",
    "new_user = np.zeros((n_ingredients,1))\n",
    "for item in user_ing:\n",
    "    idx = ing_dict_reverse[item]\n",
    "    new_user[idx, 0] = 1"
   ]
  },
  {
   "cell_type": "markdown",
   "metadata": {},
   "source": [
    "Compute cosine similarity between new user vector and all recipes"
   ]
  },
  {
   "cell_type": "code",
   "execution_count": 170,
   "metadata": {},
   "outputs": [],
   "source": [
    "# compute dot product between new user and recipes\n",
    "sim = np.matmul(V.T, new_user)\n",
    "\n",
    "# compute magnitude of each recipe vector and new user vector\n",
    "norm_recipes = np.sqrt(np.sum(np.square(V), axis = 0))\n",
    "norm_user = np.sqrt(np.sum(np.square(new_user)))\n",
    "\n",
    "# find the normalizing factor for each recipe\n",
    "norm = np.reciprocal((norm_recipes * norm_user).reshape(-1,1))\n",
    "\n",
    "# compute cosine similarity\n",
    "cosine_similarity = np.multiply(sim, norm).flatten()"
   ]
  },
  {
   "cell_type": "markdown",
   "metadata": {},
   "source": [
    "* Find 10 most similar recipes. \n",
    "* Collect 10 recommended ingredients for each recipes. \n",
    "* From the collection of recommended ingredients, return ingredients from most frequently recommended to least frequently recommended"
   ]
  },
  {
   "cell_type": "code",
   "execution_count": 171,
   "metadata": {
    "colab": {},
    "colab_type": "code",
    "id": "cOb5DishKNBQ"
   },
   "outputs": [],
   "source": [
    "# sort based on similarity score \n",
    "sim_sort = np.argsort(cosine_similarity)\n",
    "\n",
    "# Find recommended ingredients\n",
    "recommend = [] \n",
    "\n",
    "# Find 10 most similar recipes\n",
    "for item in sim_sort[-10:]:\n",
    "    rec = np.argsort(V_approx[:,item])\n",
    "    \n",
    "    # Find 10 ingredients to recommend\n",
    "    for i in rec[-10:]:\n",
    "        recommend.append(ing_dict[i])"
   ]
  },
  {
   "cell_type": "code",
   "execution_count": 172,
   "metadata": {
    "colab": {},
    "colab_type": "code",
    "id": "Zv72mxZfU5Fz"
   },
   "outputs": [
    {
     "name": "stdout",
     "output_type": "stream",
     "text": [
      "Recommended ingredients: \n",
      "Gochujang base\n",
      "kimchi\n",
      "soy sauce\n",
      "sesame oil\n",
      "rice wine\n",
      "vegetable oil\n",
      "garlic cloves\n",
      "water\n",
      "napa cabbage\n",
      "chopped garlic\n"
     ]
    }
   ],
   "source": [
    "# sort the recommended ingredients according to frequency of recommendation\n",
    "sorted_rec = sorted(recommend ,key=recommend.count, reverse = True)\n",
    "rec = [] \n",
    "\n",
    "for item in sorted_rec:\n",
    "    if (item not in rec) and (item not in user_ing):\n",
    "        rec.append(item)\n",
    "\n",
    "# print 10 ingredients to recommend\n",
    "print(\"Recommended ingredients: \")\n",
    "for i in range(10):\n",
    "    print(rec[i])\n",
    "        \n"
   ]
  },
  {
   "cell_type": "markdown",
   "metadata": {},
   "source": [
    "# 2. Word embeddings  "
   ]
  },
  {
   "cell_type": "markdown",
   "metadata": {},
   "source": [
    "(a) Word2Vec   \n",
    "(b) GloVe  \n",
    "\n",
    "<b> Why word embeddings? </b>  \n",
    "I thought that the word analogies of word embeddings would be useful in understanding questions like \"what vegetable would go well with lamb?\". I was also inspired by other data scientists who used word embeddings for context-dependent recommenders. (Examples: <a href=\"https://towardsdatascience.com/using-word2vec-for-music-recommendations-bb9649ac2484\">music recommendation</a>, <a href=\"https://multithreaded.stitchfix.com/blog/2015/03/11/word-is-worth-a-thousand-vectors/\">stitch fix</a>, <a href=\"https://www.nature.com/articles/s41586-019-1335-8\">material science</a>, and <a href=\"http://mccormickml.com/2018/06/15/applying-word2vec-to-recommenders-and-advertising/\"> many others </a>)\n",
    "\n",
    "I investigated two possibilities with word embeddings. \n",
    " \n",
    "1. Can word analogies be useful in understanding questions like \"what vegetable would go well with lamb?\"  \n",
    "2. What is the relationship between ingredients that have similar vector representations? Are they substitutes? complementary? Depending on the answer to this question, I can then attempt to build a recommendation system from word embeddings\n",
    "\n",
    "In this section, I investigate the above two questions for Word2Vec and GloVe embeddings.  \n",
    "* I started with Word2Vec because more familiar with the model.  \n",
    "* However, for this particular project, I realized that GloVe may be better suited for this project.\n",
    "\n",
    "Some explanation for why I studied GloVe as well:\n",
    "\n",
    "Note that Word2Vec extracts embeddings from a neural network designed to perform a surrogate task. In the continuous-bag-of-words (CBOW) model, the surrogate tasks is to predict a word given the surrounding context words. The size of this context can be defined by the user. I wanted to remove this dependence on the size of the context because of the following reason:\n",
    "\n",
    "Say we have a recipe with 10 ingredients:[i0, i1, i2, ... , i9] \n",
    "If we chose a context size of 2 words to the left and right, then the surrogate task would attemt to solve the following task:\n",
    "    * From ingredients (i0, i1, i3, i4), predict i2\n",
    "    * From ingredients (i1, i2, i4, i5), predict i3, and so on.\n",
    "Thus, according to the model, ingredient i9 does not appear in the context of i0. However, we do want all ingredients belonging to the same recipe to be considered as being in the same context.  \n",
    "\n",
    "There are ways to work around this. (1) We can permute the order of ingredients in each recipe, and hope that we have a large enough training set. (2) We could also add to the training set some different permutations of the ingredients. (3) We could use GloVe.\n",
    "\n",
    "GloVe learns word embeddings based on the co-occurrence count of words. In this case, any two ingredients that appear together in the same recipe will be considered as co-occuring words. \n",
    "\n",
    "\n",
    "<b> Summary </b>\n",
    "* Given a word, the most similar words are sometimes\n",
    "    * substitutes and similar ingredients\n",
    "    * complementary ingredients\n",
    "* For example, when we ask for the closest ingredient to \"chicken\" (using the GloVe model), we get: garlic, onions, chicken stock, chicken broth, chicken breasts, sauce, pepper, .... \n",
    "    * While garlic and onions are considered good complementary ingredients, ingredients like chicken stock, chicken broth, chicken breasts similar items that we do not necessarily need. \n",
    "* We only want \"complementary ingredients\". \n",
    "\n"
   ]
  },
  {
   "cell_type": "markdown",
   "metadata": {
    "colab_type": "text",
    "id": "8NbtLorVuwFi"
   },
   "source": [
    "## 2(a) word embeddings: word2vec  "
   ]
  },
  {
   "cell_type": "markdown",
   "metadata": {},
   "source": [
    "I played around with three different kinds of word2vec models:  \n",
    "i) Pre-trained Word2Vec model    \n",
    "ii) A Worc2Vec model trained on our data\n",
    "\n",
    "I went through the three models for the following reasons: \n",
    "* I started with the pre-trained Word2Vec model from the Google News dataset. \n",
    "* While the pre-trained model has the advantage of easy use, it takes a long time to load the model and to query the embedding, probably because the model contains 3 millioin words and phrases.   \n",
    "* Furthermore, some queries resulted in words that are irrelevant to cooking. \n",
    "* For this project, I decided that training a Word2Vec model on just cooking-related terms would be (1) faster to use and (2) more relevant to our project.  \n",
    " \n",
    " \n",
    "* I then decided to train a Word2Vec model using recipe directions. \n",
    "* The resulting model was much faster to query than the pre-trained model, and the results were more cooking-specific.  "
   ]
  },
  {
   "cell_type": "markdown",
   "metadata": {},
   "source": [
    "###  2(a) i) pre-trained word2vec model"
   ]
  },
  {
   "cell_type": "markdown",
   "metadata": {},
   "source": [
    "* pre-trained word2vec model from the <a href=\"https://code.google.com/archive/p/word2vec/\">Google News dataset</a>\n",
    "* The model contains 300-dimensional vectors for 3 million words and phrases  \n",
    "* You should download the pre-trained model in the <a href=\"https://code.google.com/archive/p/word2vec/\">Google Code Archive</a>"
   ]
  },
  {
   "cell_type": "code",
   "execution_count": 7,
   "metadata": {},
   "outputs": [],
   "source": [
    "# load pre-trained word2vec model\n",
    "path_googlenews = 'models/word2vec/GoogleNews-vectors-negative300.bin'\n",
    "pretrained_word2vec= gensim.models.KeyedVectors.load_word2vec_format(path_googlenews, binary=True) "
   ]
  },
  {
   "cell_type": "code",
   "execution_count": 5,
   "metadata": {},
   "outputs": [
    {
     "data": {
      "text/plain": [
       "[('steaks', 0.7992713451385498),\n",
       " ('filet_mignon', 0.7782121896743774),\n",
       " ('porterhouse', 0.7527751922607422),\n",
       " ('sirloin', 0.7395126819610596),\n",
       " ('prime_rib', 0.7364764213562012),\n",
       " ('filet', 0.7349370718002319),\n",
       " ('porterhouse_steak', 0.7305288314819336),\n",
       " ('tenderloin', 0.7280069589614868),\n",
       " ('roast_beef', 0.7186790108680725),\n",
       " ('rib_eye', 0.7158585786819458),\n",
       " ('ribeye_steak', 0.7071082592010498),\n",
       " ('sirloin_steak', 0.7050917744636536),\n",
       " ('ribeye', 0.701675295829773),\n",
       " ('hanger_steak', 0.6981855630874634),\n",
       " ('striploin', 0.6928503513336182)]"
      ]
     },
     "execution_count": 5,
     "metadata": {},
     "output_type": "execute_result"
    }
   ],
   "source": [
    "pretrained_word2vec.similar_by_word('steak',topn=15,restrict_vocab=None)"
   ]
  },
  {
   "cell_type": "markdown",
   "metadata": {},
   "source": [
    "### 2(a) iii) Train a word2vec model"
   ]
  },
  {
   "cell_type": "code",
   "execution_count": 3,
   "metadata": {
    "colab": {},
    "colab_type": "code",
    "id": "DFa5MRObtARX"
   },
   "outputs": [],
   "source": [
    "# train word2vec\n",
    "embedding_dim=300\n",
    "model=gensim.models.Word2Vec(ingredients, size=embedding_dim, window=30, min_count=0)"
   ]
  },
  {
   "cell_type": "code",
   "execution_count": 4,
   "metadata": {
    "colab": {
     "base_uri": "https://localhost:8080/",
     "height": 322
    },
    "colab_type": "code",
    "id": "KRWnNUr3txbR",
    "outputId": "2c967706-5eb9-4c57-8059-f483af4869d3",
    "scrolled": true
   },
   "outputs": [
    {
     "data": {
      "text/plain": [
       "[('pork chops', 0.9173249006271362),\n",
       " ('chili pepper flakes', 0.9021896123886108),\n",
       " ('soup', 0.8890161514282227),\n",
       " ('shrimp shells', 0.8835002779960632),\n",
       " (\"Frank'sÂ® RedHotÂ® Original Cayenne Pepper Sauce\", 0.8797524571418762),\n",
       " ('mixed vegetables', 0.8683021068572998),\n",
       " ('sauce', 0.86557537317276),\n",
       " ('fish balls', 0.8647212982177734),\n",
       " (\"tony chachere's seasoning\", 0.8566193580627441),\n",
       " ('cabbage leaves', 0.8564741611480713),\n",
       " ('frozen broccoli florets', 0.8563554286956787),\n",
       " ('kinchay', 0.8525336980819702),\n",
       " ('buns', 0.8517208695411682),\n",
       " ('boneless chicken breast', 0.8515726923942566),\n",
       " ('chuno sauce', 0.8510098457336426)]"
      ]
     },
     "execution_count": 4,
     "metadata": {},
     "output_type": "execute_result"
    }
   ],
   "source": [
    "model.wv.most_similar('steak',topn=15,restrict_vocab=None)"
   ]
  },
  {
   "cell_type": "code",
   "execution_count": 24,
   "metadata": {},
   "outputs": [
    {
     "data": {
      "text/plain": [
       "[('basmati', 0.8501617908477783),\n",
       " ('homemade stock', 0.8499741554260254),\n",
       " ('red kidney beans', 0.8388198614120483),\n",
       " ('spices', 0.8258204460144043),\n",
       " ('rice', 0.8199082016944885),\n",
       " ('hot pepper', 0.8172221183776855),\n",
       " ('pork shoulder', 0.8009617328643799),\n",
       " ('imitation seafood', 0.8001091480255127),\n",
       " ('chicken thighs', 0.7935663461685181),\n",
       " ('bay leaves', 0.7888513207435608),\n",
       " ('meat', 0.7874410152435303),\n",
       " ('chicken stock', 0.7855333089828491),\n",
       " ('sablefish', 0.7811201810836792),\n",
       " ('bell pepper', 0.778683066368103),\n",
       " ('chuck', 0.7778372764587402)]"
      ]
     },
     "execution_count": 24,
     "metadata": {},
     "output_type": "execute_result"
    }
   ],
   "source": [
    "model.wv.most_similar('chicken', topn = 15)"
   ]
  },
  {
   "cell_type": "markdown",
   "metadata": {},
   "source": [
    "<b> Word analogies </b> \n",
    "* Let's say I'm cooking lamb, and I want to know what vegetable would go well with lamb. \n",
    "* I can use known protein-vegetable pairings, such as steak & asparagus, to ask the word embedding to solve the following word analogy problem  \n",
    "    <b>steak</b> is to <b>asparagus</b> as <b>lamb</b> is to <b>?</b>   \n",
    "    i.e., steak : asparagus = lamb : ?  \n",
    "* That is, we want to find the ingredient that best satisfies the following:  \n",
    "    wv['asparagus']-wv['steak'] = wv[?] - wv['lamb'], or\n",
    "    wv[?] = wv['lamb'] + wv['asparagus'] - wv['steak']\n",
    "    "
   ]
  },
  {
   "cell_type": "code",
   "execution_count": 23,
   "metadata": {
    "colab": {
     "base_uri": "https://localhost:8080/",
     "height": 390
    },
    "colab_type": "code",
    "id": "p2In2rPbuwLR",
    "outputId": "731c9593-36c3-49db-cf06-bc415d927fd5"
   },
   "outputs": [
    {
     "data": {
      "text/plain": [
       "[('yellow crookneck squash', 0.9291372299194336),\n",
       " ('fennel bulb', 0.9225113391876221),\n",
       " ('fennel', 0.9141095876693726),\n",
       " ('nonfat chicken broth', 0.8998813033103943),\n",
       " ('asparagus', 0.8944079875946045),\n",
       " ('Italian parsley leaves', 0.8843654990196228),\n",
       " ('florets', 0.873955488204956),\n",
       " ('striped bass', 0.8687739968299866),\n",
       " ('fresh rosemary', 0.8651928901672363),\n",
       " ('hot red pepper flakes', 0.8642042875289917)]"
      ]
     },
     "execution_count": 23,
     "metadata": {},
     "output_type": "execute_result"
    }
   ],
   "source": [
    "model.wv.similar_by_vector(model.wv['lamb']+model.wv['asparagus']-model.wv['steak'],restrict_vocab=None)"
   ]
  },
  {
   "cell_type": "markdown",
   "metadata": {},
   "source": [
    "<b> Cooking in style </b>  \n",
    "* What if I wanted to cook a particular ingredient in a particular cuisine?  \n",
    "* For example, if I wished to cook chicken in an Indian style cuisine, what other ingredients would go well?"
   ]
  },
  {
   "cell_type": "code",
   "execution_count": 27,
   "metadata": {
    "colab": {
     "base_uri": "https://localhost:8080/",
     "height": 390
    },
    "colab_type": "code",
    "id": "2bZMh2kPyJ90",
    "outputId": "ed7e2302-c778-47c6-e45f-951d597273ab",
    "scrolled": true
   },
   "outputs": [
    {
     "data": {
      "text/plain": [
       "[('indian', 0.9673752784729004),\n",
       " ('garam masala', 0.927364706993103),\n",
       " ('ground turmeric', 0.9177412986755371),\n",
       " ('tumeric', 0.9012154340744019),\n",
       " ('cumin seed', 0.8709600567817688),\n",
       " ('basmati rice', 0.8704847097396851),\n",
       " ('mild curry powder', 0.8595356941223145),\n",
       " ('calabash', 0.856178343296051),\n",
       " ('ground tumeric', 0.8478215932846069),\n",
       " ('yoghurt', 0.8407273292541504),\n",
       " ('curry leaves', 0.8394922614097595),\n",
       " ('fenugreek', 0.839362621307373),\n",
       " ('mustard seeds', 0.835870087146759),\n",
       " ('yellow split peas', 0.833548903465271),\n",
       " ('black mustard seeds', 0.8307055830955505)]"
      ]
     },
     "execution_count": 27,
     "metadata": {},
     "output_type": "execute_result"
    }
   ],
   "source": [
    "model.wv.similar_by_vector(model.wv['chicken'] + model.wv['indian'],topn=15)\n"
   ]
  },
  {
   "cell_type": "markdown",
   "metadata": {},
   "source": [
    "<b>Recommending new ingredients from existing ingredients </b>  \n",
    "* For example, let's say I want to cook my chicken in Korean style, and I have the following ingredients: chicken, onions, sesame seeds.  \n",
    "* Can the model recommend some other ingredients that would go well?  "
   ]
  },
  {
   "cell_type": "code",
   "execution_count": 28,
   "metadata": {
    "scrolled": true
   },
   "outputs": [
    {
     "data": {
      "text/plain": [
       "[('other vegetables', 0.8722476363182068),\n",
       " ('Gochujang base', 0.8670608997344971),\n",
       " ('sesame oil', 0.854427695274353),\n",
       " ('rice wine', 0.8444992899894714),\n",
       " ('Korean chile flakes', 0.8362123966217041),\n",
       " ('bean sauce', 0.8357012271881104),\n",
       " ('ramen noodles', 0.8195841312408447),\n",
       " ('marinade', 0.8191328048706055),\n",
       " ('soybean paste', 0.8187799453735352),\n",
       " ('bean paste', 0.818573534488678),\n",
       " ('gochugaru', 0.816921055316925),\n",
       " ('kimchi', 0.814910888671875),\n",
       " ('korean', 0.811623215675354),\n",
       " ('toasted sesame seeds', 0.8076875805854797),\n",
       " ('fried eggs', 0.8049585819244385)]"
      ]
     },
     "execution_count": 28,
     "metadata": {},
     "output_type": "execute_result"
    }
   ],
   "source": [
    "model.wv.similar_by_vector(model.wv['chicken'] + model.wv['korean']\n",
    "                           + model.wv['onions'] + model.wv['sesame seeds'],topn=15)"
   ]
  },
  {
   "cell_type": "markdown",
   "metadata": {},
   "source": [
    "* 'Other vegetables' is good for our diet but really not helpful right now..  \n",
    "* The other recommendations do seem helpful and in line with Korean style cuisine\n"
   ]
  },
  {
   "cell_type": "markdown",
   "metadata": {},
   "source": [
    "## 2(b) word embeddings using GloVe  "
   ]
  },
  {
   "cell_type": "markdown",
   "metadata": {},
   "source": [
    "* Similar to word2vec, but based on a co-occurence statistics  \n",
    "* Had to use these on my mac  \n",
    "* Note: training GloVe isn't done in this notebook\n",
    "* This section simply prepares the text for training and analyzes the result \n",
    "* Does GloVe depend on how close the words are? Or is it just about co-occurrence in the same document? "
   ]
  },
  {
   "cell_type": "code",
   "execution_count": 29,
   "metadata": {},
   "outputs": [],
   "source": [
    "from gensim.scripts.glove2word2vec import glove2word2vec\n",
    "from gensim.models.keyedvectors import KeyedVectors"
   ]
  },
  {
   "cell_type": "markdown",
   "metadata": {},
   "source": [
    "<b> Prepare text for training GloVe</b> \n",
    "* According to <a href=\"https://github.com/stanfordnlp/GloVe/tree/master/src\">GloVe README file</a>, we should prepare our text file according to the following. \n",
    "    * Prepare corpus as a single text file\n",
    "    * Words should  be separated by one or more spaces or tabs\n",
    "    * Multiple documents should be separated by new line characters. Cooccurrence contexts for words do not extend past newline characters"
   ]
  },
  {
   "cell_type": "code",
   "execution_count": 5,
   "metadata": {},
   "outputs": [
    {
     "name": "stdout",
     "output_type": "stream",
     "text": [
      "[['romaine lettuce', 'black olives', 'grape tomatoes', 'garlic', 'pepper', 'purple onion', 'seasoning', 'garbanzo beans', 'feta cheese crumbles', 'greek'], ['plain flour', 'ground pepper', 'salt', 'tomatoes', 'ground black pepper', 'thyme', 'eggs', 'green tomatoes', 'yellow corn meal', 'milk', 'vegetable oil', 'southern_us'], ['eggs', 'pepper', 'salt', 'mayonaise', 'cooking oil', 'green chilies', 'grilled chicken breasts', 'garlic powder', 'yellow onion', 'soy sauce', 'butter', 'chicken livers', 'filipino'], ['water', 'vegetable oil', 'wheat', 'salt', 'indian'], ['black pepper', 'shallots', 'cornflour', 'cayenne pepper', 'onions', 'garlic paste', 'milk', 'butter', 'salt', 'lemon juice', 'water', 'chili powder', 'passata', 'oil', 'ground cumin', 'boneless chicken skinless thigh', 'garam masala', 'double cream', 'natural yogurt', 'bay leaf', 'indian'], ['plain flour', 'sugar', 'butter', 'eggs', 'fresh ginger root', 'salt', 'ground cinnamon', 'milk', 'vanilla extract', 'ground ginger', 'powdered sugar', 'baking powder', 'jamaican'], ['olive oil', 'salt', 'medium shrimp', 'pepper', 'garlic', 'chopped cilantro', 'jalapeno chilies', 'flat leaf parsley', 'skirt steak', 'white vinegar', 'sea salt', 'bay leaf', 'chorizo sausage', 'spanish'], ['sugar', 'pistachio nuts', 'white almond bark', 'flour', 'vanilla extract', 'olive oil', 'almond extract', 'eggs', 'baking powder', 'dried cranberries', 'italian'], ['olive oil', 'purple onion', 'fresh pineapple', 'pork', 'poblano peppers', 'corn tortillas', 'cheddar cheese', 'ground black pepper', 'salt', 'iceberg lettuce', 'lime', 'jalapeno chilies', 'chopped cilantro fresh', 'mexican'], ['chopped tomatoes', 'fresh basil', 'garlic', 'extra-virgin olive oil', 'kosher salt', 'flat leaf parsley', 'italian']]\n"
     ]
    }
   ],
   "source": [
    "# print current format\n",
    "print(ing_cuisine[:10])"
   ]
  },
  {
   "cell_type": "code",
   "execution_count": 21,
   "metadata": {},
   "outputs": [],
   "source": [
    "# In Glove, spaces are used to separate words.\n",
    "# Ingredients that involve spaces should be adjusted\n",
    "\n",
    "# for each recipe, replace spaces with underscore, and join all ingredients into one string\n",
    "glove_training = []\n",
    "\n",
    "for recipe in ing_cuisine:\n",
    "    # replace spaces in ingredients with underscore\n",
    "    recipe_new = [item.replace(' ','_') for item in recipe]\n",
    "    \n",
    "    # join ingredients into a string and add newline character \n",
    "    glove_training.append(' '.join(recipe_new)+'\\n')"
   ]
  },
  {
   "cell_type": "code",
   "execution_count": 23,
   "metadata": {},
   "outputs": [],
   "source": [
    "f = open(\"model/glove/glove_training.txt\", \"w\")\n",
    "f.writelines(glove_training)\n",
    "f.close()"
   ]
  },
  {
   "cell_type": "code",
   "execution_count": 28,
   "metadata": {},
   "outputs": [
    {
     "name": "stdout",
     "output_type": "stream",
     "text": [
      "romaine_lettuce black_olives grape_tomatoes garlic pepper purple_onion seasoning garbanzo_beans feta_cheese_crumbles greek\n",
      "\n",
      "plain_flour ground_pepper salt tomatoes ground_black_pepper thyme eggs green_tomatoes yellow_corn_meal milk vegetable_oil southern_us\n",
      "\n"
     ]
    }
   ],
   "source": [
    "# Double check that we have the correct file format\n",
    "# the following should give ingredients of the first two cuisine\n",
    "#f = open('data/glove/glove_training.txt','r')\n",
    "#print(f.readline())\n",
    "#print(f.readline())\n",
    "#f.close()"
   ]
  },
  {
   "cell_type": "markdown",
   "metadata": {},
   "source": [
    "<b> Training on GloVe </b>  \n",
    "* Clone <a href=\"https://github.com/stanfordnlp/GloVe\">GloVe repository</a> \n",
    "* Run \"make\" \n",
    "* Copy the \"glove_training.txt\" file to the glove directory \n",
    "* Edit the \"demo.sh\" file:\n",
    "    * Remove the 9 lines after \"make\" starting with \"if\" and ending with \"fi\"  \n",
    "    * Edit right side of \"CORPUS=\" with file name \"glove_training.txt\"  \n",
    "* Run \"./demo.sh\" \n",
    "* The word vectors will be saved in the \"vectors.txt\" file. "
   ]
  },
  {
   "cell_type": "markdown",
   "metadata": {},
   "source": [
    "<b> GloVe results </b>  \n",
    "* Vocab size: 3357\n",
    "* Vector size: 50\n",
    "* Cost: 0.0325\n",
    "\n"
   ]
  },
  {
   "cell_type": "code",
   "execution_count": null,
   "metadata": {},
   "outputs": [],
   "source": [
    "# Note: GloVe returns the statistics of co-occurrence and the word embeddings\n",
    "# it doesn't return a model like word2vec that can be used to predict surrounding words\n",
    "# Just have to do the best with the embeddings themselves"
   ]
  },
  {
   "cell_type": "code",
   "execution_count": 30,
   "metadata": {},
   "outputs": [
    {
     "name": "stderr",
     "output_type": "stream",
     "text": [
      "/usr/local/lib/python2.7/site-packages/smart_open/smart_open_lib.py:398: UserWarning: This function is deprecated, use smart_open.open instead. See the migration notes for details: https://github.com/RaRe-Technologies/smart_open/blob/master/README.rst#migrating-to-the-new-open-function\n",
      "  'See the migration notes for details: %s' % _MIGRATION_NOTES_URL\n"
     ]
    },
    {
     "data": {
      "text/plain": [
       "(3358, 50)"
      ]
     },
     "execution_count": 30,
     "metadata": {},
     "output_type": "execute_result"
    }
   ],
   "source": [
    "# convert GloVe vector text format into word2vec text format\n",
    "# This way, we can use gensim to do word comparisons and analysis\n",
    "glove2word2vec(glove_input_file=\"model/glove/glove_vectors.txt\", \n",
    "               word2vec_output_file=\"model/glove/gensim_glove_vectors.txt\")"
   ]
  },
  {
   "cell_type": "code",
   "execution_count": 32,
   "metadata": {},
   "outputs": [],
   "source": [
    "glove_model = KeyedVectors.load_word2vec_format(\"model/glove/gensim_glove_vectors.txt\", binary=False)"
   ]
  },
  {
   "cell_type": "code",
   "execution_count": 35,
   "metadata": {},
   "outputs": [
    {
     "data": {
      "text/plain": [
       "[('cod', 0.6614221930503845),\n",
       " ('panko_breadcrumbs', 0.6294422149658203),\n",
       " ('pork_chops', 0.5919418334960938),\n",
       " ('tonkatsu_sauce', 0.5722765922546387),\n",
       " ('beaten_eggs', 0.5602886080741882),\n",
       " ('flour', 0.5539854764938354),\n",
       " ('frozen_peas_and_carrots', 0.49084463715553284),\n",
       " ('min', 0.4804944396018982),\n",
       " ('panko', 0.4743003249168396),\n",
       " ('chives', 0.4698525071144104),\n",
       " ('sweet_chili_sauce', 0.4662887454032898),\n",
       " ('ramen_noodles', 0.45906150341033936),\n",
       " ('ground_chicken', 0.44420695304870605),\n",
       " ('Chinese_rice_vinegar', 0.4360998868942261),\n",
       " ('chorizo', 0.43559232354164124)]"
      ]
     },
     "execution_count": 35,
     "metadata": {},
     "output_type": "execute_result"
    }
   ],
   "source": [
    "glove_model.most_similar('steak',topn=15,restrict_vocab=None)"
   ]
  },
  {
   "cell_type": "code",
   "execution_count": 39,
   "metadata": {},
   "outputs": [
    {
     "data": {
      "text/plain": [
       "[('garlic', 0.7296680808067322),\n",
       " ('onions', 0.6966990232467651),\n",
       " ('chicken_stock', 0.6510413885116577),\n",
       " ('chicken_broth', 0.6387048363685608),\n",
       " ('chicken_breasts', 0.626524806022644),\n",
       " ('sauce', 0.6245228052139282),\n",
       " ('pepper', 0.620618462562561),\n",
       " ('yellow_onion', 0.614948570728302),\n",
       " ('spices', 0.6102616190910339),\n",
       " ('rice', 0.6061379909515381),\n",
       " ('bay_leaves', 0.6036665439605713),\n",
       " ('cilantro', 0.6028690338134766),\n",
       " ('tomatoes', 0.6022893190383911),\n",
       " ('kosher_salt', 0.5862119197845459),\n",
       " ('bay_leaf', 0.5841464400291443)]"
      ]
     },
     "execution_count": 39,
     "metadata": {},
     "output_type": "execute_result"
    }
   ],
   "source": [
    "glove_model.most_similar('chicken',topn=15,restrict_vocab=None)"
   ]
  },
  {
   "cell_type": "code",
   "execution_count": 37,
   "metadata": {},
   "outputs": [
    {
     "data": {
      "text/plain": [
       "[('couscous', 0.6679390668869019),\n",
       " ('asparagus', 0.6486406326293945),\n",
       " ('spinach_leaves', 0.6287509799003601),\n",
       " ('tahini', 0.62239009141922),\n",
       " ('garbanzo_beans', 0.5981909036636353),\n",
       " ('fresh_lemon_juice', 0.5812668800354004),\n",
       " ('chickpeas', 0.5755916833877563),\n",
       " ('pinenuts', 0.5707820653915405),\n",
       " ('lemon_zest', 0.5574780702590942),\n",
       " ('orzo', 0.5545808672904968),\n",
       " ('grated_lemon_peel', 0.5538576245307922),\n",
       " ('lamb', 0.5468550324440002),\n",
       " ('chopped_fresh_mint', 0.542788565158844),\n",
       " ('preserved_lemon', 0.5352820158004761),\n",
       " ('arborio_rice', 0.5287206768989563)]"
      ]
     },
     "execution_count": 37,
     "metadata": {},
     "output_type": "execute_result"
    }
   ],
   "source": [
    "glove_model.similar_by_vector(glove_model['lamb'] + glove_model['asparagus']- glove_model['steak'],topn=15,restrict_vocab=None)\n"
   ]
  },
  {
   "cell_type": "code",
   "execution_count": 38,
   "metadata": {
    "scrolled": false
   },
   "outputs": [
    {
     "data": {
      "text/plain": [
       "[('korean', 0.8404902219772339),\n",
       " ('toasted_sesame_seeds', 0.7193809747695923),\n",
       " ('sesame_seeds', 0.713943362236023),\n",
       " ('Gochujang_base', 0.7067477703094482),\n",
       " ('sesame_oil', 0.702775239944458),\n",
       " ('soy_sauce', 0.6895512342453003),\n",
       " ('asian_pear', 0.67808997631073),\n",
       " ('kimchi', 0.6725336313247681),\n",
       " ('beef', 0.6577582955360413),\n",
       " ('green_onions', 0.655651330947876),\n",
       " ('ginger', 0.642991304397583),\n",
       " ('rice_wine', 0.6344742774963379),\n",
       " ('sauce', 0.6225952506065369),\n",
       " ('chicken', 0.6196356415748596),\n",
       " ('noodles', 0.6129593849182129)]"
      ]
     },
     "execution_count": 38,
     "metadata": {},
     "output_type": "execute_result"
    }
   ],
   "source": [
    "glove_model.similar_by_vector(glove_model['chicken'] + glove_model['korean'],topn=15)"
   ]
  },
  {
   "cell_type": "markdown",
   "metadata": {},
   "source": [
    "# 3. Continuous-Bag-Of-Words model"
   ]
  },
  {
   "cell_type": "markdown",
   "metadata": {},
   "source": [
    "* Instead of using the embeddings, let's use the trained model to predict ingredients  \n",
    "* While you can train a vanila neural network, we'll use the Word2Vec model provided by gensim since it is extremely easy to use  \n",
    "* I was concerned about the order of the words.\n",
    "    * The model itself isn't concerned with the order of words appearing in the neighborhood. \n",
    "    * A list of ingredients ofr a recipes should be best considered as an unordered set. \n",
    "    * However, this means that not all neighbor relations (that should be represented) won't exist"
   ]
  },
  {
   "cell_type": "markdown",
   "metadata": {},
   "source": [
    "Decide on the appropriate window size"
   ]
  },
  {
   "cell_type": "code",
   "execution_count": 7,
   "metadata": {},
   "outputs": [
    {
     "data": {
      "image/png": "[encoded data removed]",
      "text/plain": [
       "<Figure size 432x288 with 1 Axes>"
      ]
     },
     "metadata": {
      "needs_background": "light"
     },
     "output_type": "display_data"
    },
    {
     "name": "stdout",
     "output_type": "stream",
     "text": [
      "maximum number of ingredients: 66\n",
      "minimum number of ingredients: 2\n"
     ]
    }
   ],
   "source": [
    "# what is the appropriate window size?\n",
    "ing_length = [len(item) for item in ing_cuisine]\n",
    "plt.hist(ing_length)\n",
    "plt.title('Histogram of number of ingredients in recipes')\n",
    "plt.xlabel('number of ingredients')\n",
    "plt.ylabel('number of recipes')\n",
    "plt.show()\n",
    "\n",
    "print('maximum number of ingredients:', max(ing_length))\n",
    "print('minimum number of ingredients:', min(ing_length))"
   ]
  },
  {
   "cell_type": "code",
   "execution_count": 8,
   "metadata": {},
   "outputs": [],
   "source": [
    "# train model\n",
    "# Note: by default, the model will learn a CBOW model\n",
    "model = Word2Vec(ing_cuisine, window = 5)"
   ]
  },
  {
   "cell_type": "code",
   "execution_count": 13,
   "metadata": {
    "scrolled": true
   },
   "outputs": [
    {
     "data": {
      "text/plain": [
       "[('scallions', 0.005289411),\n",
       " ('ginger', 0.0052532563),\n",
       " ('rice wine', 0.0051988484),\n",
       " ('cabbage', 0.004486255),\n",
       " ('oyster sauce', 0.004095106),\n",
       " ('sesame oil', 0.0040048547),\n",
       " ('mirin', 0.003963556),\n",
       " ('Gochujang base', 0.0037827776),\n",
       " ('oil', 0.0037825126),\n",
       " ('cornflour', 0.0037674608)]"
      ]
     },
     "execution_count": 13,
     "metadata": {},
     "output_type": "execute_result"
    }
   ],
   "source": [
    "model.predict_output_word(['korean','chicken'])"
   ]
  },
  {
   "cell_type": "markdown",
   "metadata": {
    "colab_type": "text",
    "id": "lD_nTsPubRfn"
   },
   "source": [
    "# 4. Association rule mining"
   ]
  },
  {
   "cell_type": "markdown",
   "metadata": {},
   "source": [
    "* Association rule mining is a tool used in market basket analysis that seeks relationships between purchases.  \n",
    "* It finds rules of the form X => Y, which represents \"X implies Y\"\n",
    "* For example, the rule {onions, potatoes} => {burger} found in the sales data would indicate that if a customer buys both onions and potatoes, then they are also likely to buy hamburger meat.  \n",
    "* In this project, I used association rule mining to learn relationships among ingredients. For example, the rule {chicken, korean} => {seasame oil} would imply that if a recipe involves chicken and korean cuisine, then it is likely to also involve seasame oil as its ingredient. \n",
    "* Used Apriori algorithm to learn the rules."
   ]
  },
  {
   "cell_type": "markdown",
   "metadata": {},
   "source": [
    "## 4.1 Implement the apriori algorithm"
   ]
  },
  {
   "cell_type": "markdown",
   "metadata": {
    "colab_type": "text",
    "id": "kstM_jCMu75H"
   },
   "source": [
    "* The apriori algorithm learns all rules of form X => Y where\n",
    "    * X, Y are collections of items, called itemset.  \n",
    "    * X and Y are itemsets with frequency (support) greater than min_support\n",
    "    * The strength of the implication X => Y (as measured by confidence) is stronger than min_confidence  \n",
    "* Apriori algorithm requires the user to specify minimum support of itemsets to consider and minimum confidence of the rules. \n",
    "* In this section, I played around with different minimum support and minimum confidence values and learned the rules among ingredients using the apriori algorithm."
   ]
  },
  {
   "cell_type": "code",
   "execution_count": 305,
   "metadata": {},
   "outputs": [],
   "source": [
    "df = pd.read_csv('data/ingredient_recommendation/data.csv')\n",
    "cuisine = np.unique(df.cuisine)\n",
    "\n",
    "# note: ing_cuisine is now a string representation of list\n",
    "# need to convert back to list\n",
    "ingredients = [ast.literal_eval(df.ing_cuisine[idx]) for idx in range(df.shape[0])]\n",
    "\n",
    "# change data format to list of tuples for apriori algorithm \n",
    "ing_list = [tuple(item) for item in ingredients]"
   ]
  },
  {
   "cell_type": "code",
   "execution_count": 306,
   "metadata": {
    "colab": {},
    "colab_type": "code",
    "id": "WFC53YRm8wDz"
   },
   "outputs": [],
   "source": [
    "# get the list of ingredients\n",
    "ingredients_total = [item for sublist in ing_list for item in sublist]\n",
    "\n",
    "# count occurrence of ingredients\n",
    "ing_count = Counter(ingredients_total)\n",
    "\n",
    "# sort ingredients in order of decreasing frequency \n",
    "ing_by_count = [k for k, v in sorted(ing_count.items(), key = lambda item:item[1])]\n",
    "ing_by_count.reverse()"
   ]
  },
  {
   "cell_type": "code",
   "execution_count": 307,
   "metadata": {
    "colab": {
     "base_uri": "https://localhost:8080/",
     "height": 352
    },
    "colab_type": "code",
    "id": "wcuV9QtsCAsC",
    "outputId": "e1567f5a-7851-4f27-9a54-372429ca3281"
   },
   "outputs": [
    {
     "data": {
      "image/png": "[encoded data removed]",
      "text/plain": [
       "<Figure size 432x288 with 1 Axes>"
      ]
     },
     "metadata": {},
     "output_type": "display_data"
    }
   ],
   "source": [
    "#plot the support of 10 most frequently occurring ingredients\n",
    "plt.bar(ing_by_count[:10], [ing_count[item]/len(ing_list) for item in ing_by_count[:10]])\n",
    "plt.xticks(list(range(10)), ing_by_count[:10], ha = 'right', rotation=45)\n",
    "plt.title('Support of 10 most frequently occuring ingredients')\n",
    "plt.show()"
   ]
  },
  {
   "cell_type": "code",
   "execution_count": 308,
   "metadata": {
    "colab": {
     "base_uri": "https://localhost:8080/",
     "height": 415
    },
    "colab_type": "code",
    "id": "MycMLorpCbON",
    "outputId": "dbb3ab7b-746f-4977-f901-2612de52f095"
   },
   "outputs": [
    {
     "data": {
      "image/png": "[encoded data removed]",
      "text/plain": [
       "<Figure size 432x288 with 1 Axes>"
      ]
     },
     "metadata": {},
     "output_type": "display_data"
    }
   ],
   "source": [
    "# plot the 10 most rarely occurring ingredients\n",
    "# use support, instead of frequency \n",
    "plt.bar(ing_by_count[-10:], [ing_count[item]/len(ing_list) for item in ing_by_count[-10:]])\n",
    "plt.xticks(list(range(10)), ing_by_count[-10:], ha = 'right', rotation=45)\n",
    "plt.title('Support of uncommon ingredients')\n",
    "plt.show()"
   ]
  },
  {
   "cell_type": "code",
   "execution_count": 309,
   "metadata": {
    "colab": {
     "base_uri": "https://localhost:8080/",
     "height": 336
    },
    "colab_type": "code",
    "id": "FjF8kZHiFZG4",
    "outputId": "1f246524-b5bb-41d5-d6d0-f37f84f9a842"
   },
   "outputs": [
    {
     "data": {
      "image/png": "[encoded data removed]",
      "text/plain": [
       "<Figure size 432x288 with 1 Axes>"
      ]
     },
     "metadata": {},
     "output_type": "display_data"
    }
   ],
   "source": [
    "# support of ingredients that I think should be included\n",
    "my_ingredients = ['chicken','tofu','kimchi', 'gochujang base', 'korean', 'scallions', 'sesame seeds']\n",
    "plt.bar(my_ingredients, [ing_count[item]/len(ing_list) for item in my_ingredients])\n",
    "plt.xticks(list(range(len(my_ingredients))), my_ingredients, ha = 'right', rotation=45)\n",
    "plt.title('Support of some ingredients')\n",
    "plt.show()"
   ]
  },
  {
   "cell_type": "code",
   "execution_count": 310,
   "metadata": {
    "colab": {
     "base_uri": "https://localhost:8080/",
     "height": 54
    },
    "colab_type": "code",
    "id": "JDpKICKWyTss",
    "outputId": "96e10563-1908-4f6c-b4fa-e96340ac4cae"
   },
   "outputs": [
    {
     "name": "stdout",
     "output_type": "stream",
     "text": [
      "['organic vegetable broth', 'salad greens', 'file powder', 'rocket leaves', 'ground round', 'cod fillets', 'colby jack cheese', 'pitted date', 'tapioca flour', 'frozen spinach', 'green bell pepper, slice', 'plain whole-milk yogurt', 'duck', 'softened butter', 'low-fat plain yogurt', 'dried tarragon leaves', 'cooked turkey', 'alfredo sauce', 'brewed coffee', 'hot italian sausages']\n"
     ]
    }
   ],
   "source": [
    "# what are some ingredients with a given support value?\n",
    "support = 0.001\n",
    "freq = support * len(ing_list)\n",
    "ingredients_support = [item for item in ing_by_count if ing_count[item] <= freq + 10 and ing_count[item] >= freq -10 ]\n",
    "print(ingredients_support[:20])"
   ]
  },
  {
   "cell_type": "code",
   "execution_count": 311,
   "metadata": {},
   "outputs": [],
   "source": [
    "# LEARNING THE RULES\n",
    "\n",
    "itemsets, rules = apriori(ing_list, min_support=0.001, min_confidence=0.3)\n",
    "with open(\"models/association_rule_mining/rules.txt\", \"wb\") as fp:\n",
    "    pickle.dump(rules, fp)"
   ]
  },
  {
   "cell_type": "markdown",
   "metadata": {
    "colab_type": "text",
    "id": "8_vbLKFV69KH"
   },
   "source": [
    "## 4.2 Query the rules "
   ]
  },
  {
   "cell_type": "code",
   "execution_count": 312,
   "metadata": {
    "colab": {},
    "colab_type": "code",
    "id": "gzcdI4-hzV4b",
    "scrolled": true
   },
   "outputs": [
    {
     "name": "stdout",
     "output_type": "stream",
     "text": [
      "number of rules learned:  74470\n"
     ]
    }
   ],
   "source": [
    "# load the learned rules\n",
    "with open(\"models/association_rule_mining/rules.txt\", \"rb\") as fp:\n",
    "    rules = pickle.load(fp)\n",
    "    \n",
    "print('number of rules learned: ', len(rules))"
   ]
  },
  {
   "cell_type": "code",
   "execution_count": 313,
   "metadata": {
    "colab": {},
    "colab_type": "code",
    "id": "eVvphmUz1_-n"
   },
   "outputs": [],
   "source": [
    "def get_rules(rules, query):\n",
    "    # Find all rules of the form \"query\" => ?\n",
    "\n",
    "    # query must have the format ('ingredient1', ) or ('ingredient1','ingredient2', ... ,)\n",
    "    # note that some rules will have multiple items in the right hand side. For simplicity, lets just\n",
    "    # use rules that return one value \n",
    "    query_rules = [item for item in rules if set(item.lhs) == set(query)]\n",
    "\n",
    "    # sorted ccording to decreasing lift values \n",
    "    query_rules = sorted(query_rules, key=lambda rule: rule.lift, reverse = True)\n",
    "    return query_rules   "
   ]
  },
  {
   "cell_type": "code",
   "execution_count": 315,
   "metadata": {
    "colab": {
     "base_uri": "https://localhost:8080/",
     "height": 235
    },
    "colab_type": "code",
    "id": "1NRoPUtR5d93",
    "outputId": "2c8ec861-fba6-41b3-9be7-25603bed41fd"
   },
   "outputs": [
    {
     "name": "stdout",
     "output_type": "stream",
     "text": [
      "{gochujang base} -> {korean, onions} (conf: 0.338, supp: 0.001, lift: 64.638, conv: 1.503)\n",
      "{gochujang base} -> {korean, soy sauce} (conf: 0.556, supp: 0.002, lift: 51.822, conv: 2.230)\n",
      "{gochujang base} -> {korean, sesame oil} (conf: 0.521, supp: 0.002, lift: 51.432, conv: 2.067)\n",
      "{gochujang base} -> {garlic, korean} (conf: 0.373, supp: 0.001, lift: 48.994, conv: 1.583)\n",
      "{gochujang base} -> {korean, sesame oil, soy sauce} (conf: 0.345, supp: 0.001, lift: 48.670, conv: 1.516)\n",
      "{gochujang base} -> {green onions, korean} (conf: 0.352, supp: 0.001, lift: 47.798, conv: 1.532)\n",
      "{gochujang base} -> {korean} (conf: 0.958, supp: 0.003, lift: 45.896, conv: 23.173)\n",
      "{gochujang base} -> {sesame oil, soy sauce} (conf: 0.366, supp: 0.001, lift: 12.981, conv: 1.533)\n",
      "{gochujang base} -> {sesame oil} (conf: 0.542, supp: 0.002, lift: 12.164, conv: 2.087)\n",
      "{gochujang base} -> {soy sauce} (conf: 0.592, supp: 0.002, lift: 7.138, conv: 2.245)\n",
      "{gochujang base} -> {green onions} (conf: 0.352, supp: 0.001, lift: 4.550, conv: 1.424)\n",
      "{gochujang base} -> {garlic} (conf: 0.380, supp: 0.001, lift: 2.050, conv: 1.314)\n",
      "{gochujang base} -> {onions} (conf: 0.345, supp: 0.001, lift: 1.722, conv: 1.221)\n"
     ]
    }
   ],
   "source": [
    "query = ('gochujang base',)\n",
    "query_rules = get_rules(rules, query)\n",
    "for item in query_rules:\n",
    "    print(item)"
   ]
  },
  {
   "cell_type": "code",
   "execution_count": 316,
   "metadata": {
    "colab": {
     "base_uri": "https://localhost:8080/",
     "height": 84
    },
    "colab_type": "code",
    "id": "3tg1G1g97Tqn",
    "outputId": "1601622d-daca-4e3b-f864-740fa28183d4"
   },
   "outputs": [
    {
     "name": "stdout",
     "output_type": "stream",
     "text": [
      "{chicken, soy sauce} -> {chinese} (conf: 0.372, supp: 0.001, lift: 5.534, conv: 1.485)\n",
      "{chicken, soy sauce} -> {garlic} (conf: 0.405, supp: 0.001, lift: 2.182, conv: 1.369)\n",
      "{chicken, soy sauce} -> {water} (conf: 0.331, supp: 0.001, lift: 1.763, conv: 1.214)\n",
      "{chicken, soy sauce} -> {salt} (conf: 0.479, supp: 0.001, lift: 1.056, conv: 1.049)\n"
     ]
    }
   ],
   "source": [
    "query = ('chicken','soy sauce')\n",
    "query_rules = get_rules(rules, query)\n",
    "for item in query_rules:\n",
    "    print(item)"
   ]
  },
  {
   "cell_type": "markdown",
   "metadata": {},
   "source": [
    "## 4.3 Build a recommendation system"
   ]
  },
  {
   "cell_type": "markdown",
   "metadata": {},
   "source": [
    "* Input a list of existing ingredients.  \n",
    "* Recommender searches the learned rules to recommend ingredients, starting with the ingredient with highest lift.  \n",
    "* If the input list of existing ingredient doesn't exist as an itemset in the learned rules (this happens if the given input does not have enough support in the training dataset), then look for the largest subset of the existing ingredients that do exist as an itemset in the rules. Recommend from this largest subset. "
   ]
  },
  {
   "cell_type": "code",
   "execution_count": 317,
   "metadata": {
    "colab": {},
    "colab_type": "code",
    "id": "P8En9bJU9qTY"
   },
   "outputs": [],
   "source": [
    "def get_rules(rules, query, lift_threshold = 1):\n",
    "    # Find all implication rules of the form \"query\" => RHS\n",
    "    # such that (i) RHS is a single ingredient and \n",
    "    #           (ii) lift value is greater than lift_threshold\n",
    "\n",
    "    # \"query\" format ('ingredient1', ) or ('ingredient1','ingredient2', ... ,)\n",
    "    query = tuple(query)    \n",
    "    \n",
    "    # get all rules \"query\" => RHS satisfying the conditions above\n",
    "    query_rules = [item for item in rules if set(item.lhs) == set(query) \n",
    "                   if item.lift > lift_threshold and len(item.rhs) == 1]\n",
    "\n",
    "    # sort rules according to decreasing lift values \n",
    "    query_rules = sorted(query_rules, key=lambda rule: rule.lift, reverse = True)\n",
    "    return query_rules   \n",
    "\n",
    "def recommend(list_ing, list_old, cuisine, rules):  \n",
    "    # Recommend ingredients to given list of ingredients.\n",
    "    # Given a list, attempt to find the largest subset of \"n\" elements such that\n",
    "    # the subset leads to a valid ingredient recommendataion. \n",
    "    # If such \"n\" is found, then try recommending ingredients \n",
    "    # for all \"n\"-element subset of list_ing\n",
    "    \n",
    "    \"\"\"\n",
    "    list_ing: current list of ingredients \n",
    "    list_old: List of ingredients (a subset of list_ing) that have previously\n",
    "            been used to ask for ingredient recommentations. \n",
    "            For first round of recommendations, list_old = []\n",
    "            We keep track of \"list_old\" so that we don't make duplicate\n",
    "            recommendations.\n",
    "    rules: rules learned from apriori algorithm\n",
    "    \"\"\"           \n",
    "\n",
    "    rules_lhs = {item.lhs for item in rules}\n",
    "    n = len(list_ing)\n",
    "    current_list = list_ing.copy()\n",
    "    new_ing = []\n",
    "\n",
    "    itemset_found = False\n",
    "    \n",
    "    while itemset_found == False and n > 0:\n",
    "        # find all itemsets of size n\n",
    "        comb = combinations(list_ing, n)\n",
    "\n",
    "        # check if any itemset of size n satifies the conditions\n",
    "        # (i) itemset isnt' a subset of list_old  \n",
    "        # (ii) itemset exists as a left hand side element in rules \n",
    "        for itemset in comb:\n",
    "            if (set(itemset).issubset(set(list_old)) == False) and (itemset in rules_lhs):\n",
    " \n",
    "                # check if the itemset leads to a new ingredient recommendation\n",
    "                query_rules = get_rules(rules, itemset)\n",
    "                recommendation = [item.rhs[0] for item in query_rules]\n",
    "                for ing in recommendation:\n",
    "                    # if there exists an ingredient that is new and is not a cuisine type\n",
    "                    # then this itemset just contributed a valid recommendation\n",
    "                    if (ing not in current_list) and (ing not in cuisine):\n",
    "                        current_list.append(ing)\n",
    "                        new_ing.append(ing)            \n",
    "                        itemset_found = True\n",
    "\n",
    "        n = n-1           \n",
    "    return new_ing\n",
    "\n",
    "def make_recommendations(list_ing, cuisine, rules):\n",
    "    # Make recommendations by calling the function \"recommend\" repeatedly.\n",
    "    # Stop making recommendations when there are a total of 15 ingredients \n",
    "    # or when the \"recommend\" function no longer suggests any recommendations\n",
    "    # whichever comes first.\n",
    "\n",
    "    list_old = []\n",
    "    while len(list_ing) <= 15:\n",
    "        new_ing = recommend(list_ing, list_old, cuisine, rules)\n",
    "        list_old = list_ing.copy()\n",
    "        list_ing += new_ing\n",
    "        if new_ing == []:\n",
    "            break\n",
    "            \n",
    "    return list_ing"
   ]
  },
  {
   "cell_type": "code",
   "execution_count": 318,
   "metadata": {},
   "outputs": [
    {
     "name": "stdout",
     "output_type": "stream",
     "text": [
      "number of rules learned:  74470\n"
     ]
    }
   ],
   "source": [
    "# load the learned rules\n",
    "with open(\"models/association_rule_mining/rules.txt\", \"rb\") as fp:\n",
    "    rules = pickle.load(fp)\n",
    "    \n",
    "print('number of rules learned: ', len(rules))"
   ]
  },
  {
   "cell_type": "code",
   "execution_count": 323,
   "metadata": {
    "colab": {
     "base_uri": "https://localhost:8080/",
     "height": 218
    },
    "colab_type": "code",
    "id": "oBmsh6i6uxJd",
    "outputId": "3a6bad67-e19b-408f-848d-f28d4d3aa171"
   },
   "outputs": [
    {
     "data": {
      "text/plain": [
       "['pork',\n",
       " 'korean',\n",
       " 'soy sauce',\n",
       " 'garlic',\n",
       " 'onions',\n",
       " 'salt',\n",
       " 'sesame oil',\n",
       " 'green onions',\n",
       " 'sugar',\n",
       " 'pepper',\n",
       " 'olive oil',\n",
       " 'water',\n",
       " 'oil']"
      ]
     },
     "execution_count": 323,
     "metadata": {},
     "output_type": "execute_result"
    }
   ],
   "source": [
    "# ask the recommender for ingredients!\n",
    "list_ing = ['pork', 'korean']\n",
    "rules_lhs = {item.lhs for item in rules}\n",
    "make_recommendations(list_ing, cuisine, rules)"
   ]
  },
  {
   "cell_type": "markdown",
   "metadata": {
    "heading_collapsed": true
   },
   "source": [
    "# 5. Future directions / To Do\n",
    "\n",
    "* Other models to consider  \n",
    "    * max entropy model  \n",
    "    \n",
    "* To do for building recommender system  \n",
    "    * Use evaluation metric to find the best model \n",
    "    * Or, combine the models using ensemble learning techniques  \n",
    "    * Create the app  \n",
    "    * Use Docker containment for production\n",
    "    "
   ]
  }
 ],
 "metadata": {
  "@webio": {
   "lastCommId": null,
   "lastKernelId": null
  },
  "accelerator": "GPU",
  "colab": {
   "collapsed_sections": [
    "8NbtLorVuwFi",
    "o3wTw-y6na8V",
    "_xJ1A1wubRsd",
    "NTJd4owFmJZ5",
    "jvYgfw6U--WS",
    "HZOxcKsk--Wg",
    "Cl0Nvd9EUYxs",
    "dio9K1a3YbJq",
    "9Uj03rp3--Xg",
    "U7KdNrk9--Xw",
    "SMFKl67x--YC",
    "xX8lM00e--Yu",
    "UbmCt1Wk--ZH",
    "VZAUNw9t4TNj",
    "TYOQ09iDqcQd",
    "FEoONi2ap1oc",
    "ra7XFlL0E_vz",
    "xM1SmBMykWcY"
   ],
   "machine_shape": "hm",
   "name": "recipes.ipynb",
   "provenance": []
  },
  "kernelspec": {
   "display_name": "Python 3",
   "language": "python",
   "name": "python3"
  },
  "language_info": {
   "codemirror_mode": {
    "name": "ipython",
    "version": 3
   },
   "file_extension": ".py",
   "mimetype": "text/x-python",
   "name": "python",
   "nbconvert_exporter": "python",
   "pygments_lexer": "ipython3",
   "version": "3.7.4"
  }
 },
 "nbformat": 4,
 "nbformat_minor": 1
}
