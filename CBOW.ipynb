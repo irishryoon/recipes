{
 "cells": [
  {
   "cell_type": "markdown",
   "metadata": {},
   "source": [
    "This notebook trains a CBOW model using keras instead of using gensim"
   ]
  },
  {
   "cell_type": "code",
   "execution_count": 10,
   "metadata": {},
   "outputs": [],
   "source": [
    "import pandas as pd\n",
    "import numpy as np\n",
    "import random\n",
    "from sklearn.model_selection import train_test_split\n",
    "import ast\n",
    "import matplotlib.pyplot as plt\n",
    "\n",
    "from keras.preprocessing.text import Tokenizer\n",
    "from keras.preprocessing.sequence import pad_sequences\n",
    "from keras import Sequential\n",
    "from keras.layers import Embedding, Lambda, Dense\n",
    "import keras.backend as K\n"
   ]
  },
  {
   "cell_type": "markdown",
   "metadata": {},
   "source": [
    "<b> Load Data </b>  \n",
    "* Data has been preprocessed in the \"ingredients_recommendation.ipynb\" notebook"
   ]
  },
  {
   "cell_type": "code",
   "execution_count": 3,
   "metadata": {},
   "outputs": [],
   "source": [
    "# load data\n",
    "df = pd.read_csv('data/ingredient_recommendation/data.csv')\n",
    "cuisine = list(np.unique(df.cuisine))\n",
    "\n",
    "# note: ing_cuisine is now a string representation of list\n",
    "# need to convert back to list\n",
    "ingredients = [ast.literal_eval(df.ing_cuisine[idx]) for idx in range(df.shape[0])]"
   ]
  },
  {
   "cell_type": "markdown",
   "metadata": {},
   "source": [
    "<b> Prepare data </b>  \n",
    "* Tokenize \n",
    "* Generate (context_words, target) pairs  \n",
    "* Prepare data in numpy array format X, y  \n",
    "* Split train and test set"
   ]
  },
  {
   "cell_type": "code",
   "execution_count": 4,
   "metadata": {},
   "outputs": [
    {
     "name": "stdout",
     "output_type": "stream",
     "text": [
      "number of words:  6713\n"
     ]
    }
   ],
   "source": [
    "# tokenize \n",
    "t=Tokenizer()  \n",
    "t.fit_on_texts(ingredients)\n",
    "encoded_recipes=t.texts_to_sequences(ingredients)\n",
    "\n",
    "# create reverse dictionary from index to words \n",
    "index_to_words=dict(map(reversed,t.word_index.items())) \n",
    "\n",
    "# number of words\n",
    "n_words = len(t.word_index)\n",
    "print('number of words: ', n_words)"
   ]
  },
  {
   "cell_type": "markdown",
   "metadata": {},
   "source": [
    "<b> Generate (context, target) pairs </b>\n",
    "* target: integer representing the target word\n",
    "* context: list of integers corresponding to the context of target word  \n",
    "* In recipe data, context words are going to be a list of randomly sampled ingredients that belong in the same recipe  \n",
    "* If a recipe involves less than \"context_size\" number of ingredients, we'll pad the context list with 0s"
   ]
  },
  {
   "cell_type": "code",
   "execution_count": 5,
   "metadata": {},
   "outputs": [],
   "source": [
    "context_size = 5\n",
    "\n",
    "n_recipes = len(encoded_recipes)\n",
    "context = []\n",
    "target = []\n",
    "\n",
    "for i in range(n_recipes):\n",
    "    recipe = encoded_recipes[i]\n",
    "    for j in range(len(recipe)):\n",
    "        # add word to target\n",
    "        target_word = recipe[j]\n",
    "        target.append(target_word)\n",
    "        \n",
    "        # add context \n",
    "        ings = recipe.copy()\n",
    "        ings.remove(target_word)\n",
    "        ings = [item-1 for item in ings]\n",
    "        \n",
    "        if len(ings) <= context_size:\n",
    "            context.append(ings)\n",
    "        else:\n",
    "            # find a random subset of size \"context_size\"\n",
    "            context_sub = random.sample(ings, context_size)\n",
    "            context.append(context_sub)\n",
    "    \n",
    "# pad 0's so that every context has lenth \"context_size\" \n",
    "X = pad_sequences(context, maxlen = context_size, padding = 'post')\n",
    "\n",
    "# create array y\n",
    "y = np.zeros((len(target), n_words))\n",
    "for idx, item in enumerate(target):\n",
    "    # convert to one-hot vector \n",
    "    y[idx, item-1] = 1\n",
    "    \n",
    "# split to training and testing \n",
    "X_train, X_test, y_train, y_test = train_test_split(X, y, test_size = 0.3)"
   ]
  },
  {
   "attachments": {},
   "cell_type": "markdown",
   "metadata": {},
   "source": [
    "<b> Create model </b>  \n",
    "* Implement the CBOW model, as described in the paper <a href=\"https://arxiv.org/pdf/1301.3781.pdf\">\"Efficient Estimation of Word Representations in Vector Space\" </a>  \n",
    "* Note: we are not implementing any negative sampling or hierarchical softmax, so training can be slow.\n",
    "![](files/images/CBOW.png)  \n"
   ]
  },
  {
   "cell_type": "code",
   "execution_count": 6,
   "metadata": {},
   "outputs": [],
   "source": [
    "embed_size = 100\n",
    "\n",
    "model = Sequential()\n",
    "\n",
    "# embedding\n",
    "model.add(Embedding(n_words, embed_size, input_length = context_size ))\n",
    "# Take the mean of vectors\n",
    "model.add(Lambda(lambda x: K.mean(x, axis=1), output_shape = (embed_size,) ))\n",
    "# last layer\n",
    "model.add(Dense(n_words, activation = 'softmax'))\n",
    "\n",
    "model.compile(loss = 'categorical_crossentropy', optimizer = 'adam', metrics = ['accuracy'])"
   ]
  },
  {
   "cell_type": "code",
   "execution_count": 7,
   "metadata": {},
   "outputs": [
    {
     "name": "stdout",
     "output_type": "stream",
     "text": [
      "Model: \"sequential_1\"\n",
      "_________________________________________________________________\n",
      "Layer (type)                 Output Shape              Param #   \n",
      "=================================================================\n",
      "embedding_1 (Embedding)      (None, 5, 100)            671300    \n",
      "_________________________________________________________________\n",
      "lambda_1 (Lambda)            (None, 100)               0         \n",
      "_________________________________________________________________\n",
      "dense_1 (Dense)              (None, 6713)              678013    \n",
      "=================================================================\n",
      "Total params: 1,349,313\n",
      "Trainable params: 1,349,313\n",
      "Non-trainable params: 0\n",
      "_________________________________________________________________\n"
     ]
    }
   ],
   "source": [
    "model.summary()"
   ]
  },
  {
   "cell_type": "code",
   "execution_count": 8,
   "metadata": {},
   "outputs": [
    {
     "name": "stderr",
     "output_type": "stream",
     "text": [
      "C:\\Users\\irish\\AppData\\Roaming\\Python\\Python37\\site-packages\\tensorflow_core\\python\\framework\\indexed_slices.py:433: UserWarning: Converting sparse IndexedSlices to a dense Tensor of unknown shape. This may consume a large amount of memory.\n",
      "  \"Converting sparse IndexedSlices to a dense Tensor of unknown shape. \"\n"
     ]
    },
    {
     "name": "stdout",
     "output_type": "stream",
     "text": [
      "Train on 262107 samples, validate on 65527 samples\n",
      "Epoch 1/5\n",
      "262107/262107 [==============================] - 226s 861us/step - loss: 6.2595 - accuracy: 0.0514 - val_loss: 5.8984 - val_accuracy: 0.0720\n",
      "Epoch 2/5\n",
      "262107/262107 [==============================] - 226s 861us/step - loss: 5.7066 - accuracy: 0.0804 - val_loss: 5.7044 - val_accuracy: 0.0835\n",
      "Epoch 3/5\n",
      "262107/262107 [==============================] - 224s 856us/step - loss: 5.5050 - accuracy: 0.0904 - val_loss: 5.6257 - val_accuracy: 0.0845\n",
      "Epoch 4/5\n",
      "262107/262107 [==============================] - 226s 863us/step - loss: 5.3673 - accuracy: 0.0974 - val_loss: 5.5838 - val_accuracy: 0.0863\n",
      "Epoch 5/5\n",
      "262107/262107 [==============================] - 226s 863us/step - loss: 5.2553 - accuracy: 0.1023 - val_loss: 5.5661 - val_accuracy: 0.0852\n"
     ]
    }
   ],
   "source": [
    "# Fit\n",
    "history = model.fit(x = X_train, y = y_train, validation_split = 0.2, epochs = 5)"
   ]
  },
  {
   "cell_type": "code",
   "execution_count": 11,
   "metadata": {},
   "outputs": [
    {
     "name": "stdout",
     "output_type": "stream",
     "text": [
      "dict_keys(['val_loss', 'val_accuracy', 'loss', 'accuracy'])\n"
     ]
    },
    {
     "data": {
      "image/png": "[encoded data removed]",
      "text/plain": [
       "<Figure size 432x288 with 1 Axes>"
      ]
     },
     "metadata": {
      "needs_background": "light"
     },
     "output_type": "display_data"
    }
   ],
   "source": [
    "# number of epochs determined by the following\n",
    "# plot the training and validation loss to determine if overfitting / underfitting \n",
    "print(history.history.keys())\n",
    "train_loss = history.history['loss']\n",
    "val_loss = history.history['val_loss']\n",
    "n_epochs = len(train_loss)\n",
    "\n",
    "plt.plot(list(range(n_epochs)), train_loss, label ='train loss')\n",
    "plt.plot(list(range(n_epochs)), val_loss, label ='val loss')\n",
    "plt.xlabel('training epochs')\n",
    "plt.ylabel('loss')\n",
    "plt.legend()\n",
    "plt.show()"
   ]
  },
  {
   "cell_type": "markdown",
   "metadata": {},
   "source": [
    "<b> Making predictions using the trained model </b>"
   ]
  },
  {
   "cell_type": "code",
   "execution_count": 13,
   "metadata": {},
   "outputs": [],
   "source": [
    "given_ing = ['korean', 'chicken']\n",
    "X_new = [[t.word_index[item] for item in given_ing]]\n",
    "\n",
    "# pad context to have length \"context_size\"\n",
    "X_new = pad_sequences(X_new, maxlen = context_size, padding = 'post')"
   ]
  },
  {
   "cell_type": "code",
   "execution_count": 17,
   "metadata": {},
   "outputs": [
    {
     "name": "stdout",
     "output_type": "stream",
     "text": [
      "sugar 0.068955615\n",
      "pepper 0.064085275\n",
      "water 0.05886516\n",
      "vegetable_oil 0.04391799\n",
      "ground_black_pepper 0.026043985\n",
      "garlic 0.02239496\n",
      "onions 0.017007584\n",
      "olive_oil 0.016360262\n",
      "garlic_cloves 0.015633933\n",
      "chopped_cilantro_fresh 0.014442924\n"
     ]
    }
   ],
   "source": [
    "# get predictions \n",
    "prob = model.predict_proba(X_new)\n",
    "\n",
    "# print top 10 predictions starting with the most probable one\n",
    "idx = prob.argsort()[0,:][::-1][:10]\n",
    "for item in idx:\n",
    "    print(index_to_words[item+1], prob[0,item])"
   ]
  },
  {
   "cell_type": "code",
   "execution_count": null,
   "metadata": {},
   "outputs": [],
   "source": []
  }
 ],
 "metadata": {
  "@webio": {
   "lastCommId": null,
   "lastKernelId": null
  },
  "kernelspec": {
   "display_name": "Python 3",
   "language": "python",
   "name": "python3"
  },
  "language_info": {
   "codemirror_mode": {
    "name": "ipython",
    "version": 3
   },
   "file_extension": ".py",
   "mimetype": "text/x-python",
   "name": "python",
   "nbconvert_exporter": "python",
   "pygments_lexer": "ipython3",
   "version": "3.7.4"
  }
 },
 "nbformat": 4,
 "nbformat_minor": 2
}
